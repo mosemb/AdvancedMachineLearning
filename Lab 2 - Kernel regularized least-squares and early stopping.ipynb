{
 "cells": [
  {
   "cell_type": "markdown",
   "id": "other-happiness",
   "metadata": {},
   "source": [
    "# Lab 2: Kernel regularized least-squares and early stopping\n",
    "\n",
    "## Exercises:"
   ]
  },
  {
   "cell_type": "code",
   "execution_count": 1,
   "id": "permanent-toner",
   "metadata": {},
   "outputs": [],
   "source": [
    "import numpy as np\n",
    "import matplotlib.pyplot as plt\n",
    "\n",
    "# import all the functions needed for this lab\n",
    "from utils import *"
   ]
  },
  {
   "cell_type": "markdown",
   "id": "correct-geography",
   "metadata": {},
   "source": [
    "### 0. Data loading and visualization\n",
    "\n",
    "1. Load the 2 moons dataset using the `two_moons` function defined in `utils.py`. Since this dataset is 2D you can plot it using matplotlib with the following sample code:"
   ]
  },
  {
   "cell_type": "code",
   "execution_count": 28,
   "id": "stopped-membership",
   "metadata": {},
   "outputs": [
    {
     "data": {
      "text/plain": [
       "<matplotlib.collections.PathCollection at 0x7fdb3824aeb0>"
      ]
     },
     "execution_count": 28,
     "metadata": {},
     "output_type": "execute_result"
    },
    {
     "data": {
      "image/png": "[encoded data removed]",
      "text/plain": [
       "<Figure size 432x288 with 1 Axes>"
      ]
     },
     "metadata": {
      "needs_background": "light"
     },
     "output_type": "display_data"
    }
   ],
   "source": [
    "Xtr, Ytr, Xte, Yte = two_moons(pflip=0)\n",
    "fig, ax = plt.subplots()\n",
    "ax.scatter(Xtr[Ytr == +1, 0], Xtr[Ytr == +1, 1], color='r')\n",
    "ax.scatter(Xtr[Ytr == -1, 0], Xtr[Ytr == -1, 1], color='b')"
   ]
  },
  {
   "cell_type": "markdown",
   "id": "intense-cover",
   "metadata": {},
   "source": [
    "2. Explore the effect of the noise on the dataset: load the data again flipping some of the labels (change the `pflip` argument of the `two_moons` function). Check whether you can see the flipped labels in the plots of the data."
   ]
  },
  {
   "cell_type": "code",
   "execution_count": 29,
   "id": "charming-welding",
   "metadata": {},
   "outputs": [
    {
     "data": {
      "text/plain": [
       "<matplotlib.collections.PathCollection at 0x7fdb381a4eb0>"
      ]
     },
     "execution_count": 29,
     "metadata": {},
     "output_type": "execute_result"
    },
    {
     "data": {
      "image/png": "[encoded data removed]",
      "text/plain": [
       "<Figure size 432x288 with 1 Axes>"
      ]
     },
     "metadata": {
      "needs_background": "light"
     },
     "output_type": "display_data"
    }
   ],
   "source": [
    "#TODO\n",
    "Xtr, Ytr, Xte, Yte = two_moons(pflip=0)\n",
    "fig, ax = plt.subplots()\n",
    "ax.scatter(Xtr[Ytr == +1, 0], Xtr[Ytr == +1, 1], color='r')\n",
    "ax.scatter(Xtr[Ytr == -1, 0], Xtr[Ytr == -1, 1], color='b')"
   ]
  },
  {
   "cell_type": "markdown",
   "id": "adequate-infrared",
   "metadata": {},
   "source": [
    "3. What kind of effect do you expect on classification performance if you increase the label noise?"
   ]
  },
  {
   "cell_type": "code",
   "execution_count": 30,
   "id": "extraordinary-third",
   "metadata": {},
   "outputs": [],
   "source": [
    "#TODO\n",
    "#1. Basically when you increase label noise the classification problem is going to become much more harder. And that\n",
    "# Mean that the classifier is going to work extra hard to pick out the hard points to classify. \n",
    "#2. Classifier performance is going to decrease in this case as well. Where you you have had say 98% the performance\n",
    "#might drop to say 70% or less due the hard points to classify in the dataset. "
   ]
  },
  {
   "cell_type": "markdown",
   "id": "excess-viewer",
   "metadata": {},
   "source": [
    "### 1. KRLS\n",
    "\n",
    "Fix the amount of label noise to 10%.\n",
    "\n",
    "1. Use the Gaussian kernel. Fix some values for the penalty, and for the length-scale. Fit a KRLS model to the training data, and calculate the classification error on the training and test data.\n",
    "\n",
    "    **Hint:** You will have to use the `train_krls` function for training, `linear_predict` function to compute test predictions and `c_err` to calculate the error. Check the doc-strings at the top of the functions defined in this notebook for help on how to use them.\n",
    "    Note that you can replace `Xte` with `Xtr` in `linear_predict` to compute predictions on the training data and then use `c_err` to compute the training error."
   ]
  },
  {
   "cell_type": "code",
   "execution_count": 60,
   "id": "touched-hunter",
   "metadata": {},
   "outputs": [
    {
     "data": {
      "text/plain": [
       "array([-0.58630061, -0.52668015, -0.29972458,  0.55033224,  0.25486903,\n",
       "        0.00816196, -0.53193328, -0.2288452 , -0.61507899,  0.05381371,\n",
       "       -0.36244324, -0.36959418, -0.53870763,  0.00493561, -0.52761112,\n",
       "        0.13317624, -0.2258079 ,  0.29017569, -0.03313087, -0.61891083,\n",
       "        0.33191497, -0.5749696 , -0.29153028, -0.36921469, -0.5996048 ,\n",
       "       -0.45177783, -0.16644008,  0.40112059, -0.49939125,  0.32394277,\n",
       "       -0.04710445, -0.36126923, -0.37839444, -0.24063591, -0.59760771,\n",
       "        0.30895541, -0.15708424, -0.29933658, -0.50759974, -0.62143251,\n",
       "        0.00414749, -0.46759302, -0.29467361, -0.59685493, -0.62896345,\n",
       "       -0.59209424, -0.49315719, -0.43312403, -0.61073175, -0.46364113,\n",
       "       -0.37097995,  0.03526619, -0.61750275, -0.61178159, -0.39255252,\n",
       "       -0.45461826, -0.54263728,  0.10947968,  0.35005897, -0.60378287,\n",
       "       -0.45629555, -0.19272237, -0.04259821, -0.4043253 , -0.32173772,\n",
       "       -0.12055214, -0.55273545, -0.2155937 , -0.05786146, -0.60202852,\n",
       "       -0.44129674, -0.58913309,  0.4099454 , -0.60201641, -0.53346506,\n",
       "       -0.60021156, -0.55227742, -0.09291792, -0.26377637, -0.31521607,\n",
       "       -0.59213928, -0.52829084, -0.16704718, -0.02084093, -0.47766037,\n",
       "       -0.05319079, -0.50050705,  0.25001039, -0.60037986, -0.5048607 ,\n",
       "       -0.09619632, -0.27358018, -0.61700467, -0.34971678, -0.62751254,\n",
       "        0.07035898,  0.04188005, -0.22287819, -0.59003137, -0.60160755,\n",
       "        0.01242155, -0.13392332,  0.63090348,  0.25036943,  0.03859616,\n",
       "        0.22708734,  0.60787057,  0.49069777,  0.66043551,  0.23683779,\n",
       "       -0.38690002,  0.55832334,  0.07960743, -0.4441715 , -0.13370555,\n",
       "        0.57709821,  0.02782513,  0.46255967, -0.47935165,  0.56120257,\n",
       "        0.47102546,  0.53914007,  0.56443333,  0.1281667 ,  0.48946437,\n",
       "        0.02634616,  0.50013124,  0.25144184,  0.2516836 ,  0.5640538 ,\n",
       "        0.38606071,  0.57329836,  0.28207744,  0.20774805,  0.58781699,\n",
       "        0.50275642,  0.29305143,  0.58812136,  0.28563894, -0.33756833,\n",
       "        0.62561996,  0.51767174,  0.04144265,  0.35813769, -0.02617237,\n",
       "        0.40177853,  0.58729635,  0.64317647, -0.39791859,  0.60516256,\n",
       "        0.36308697,  0.29074616,  0.16695351,  0.03965041, -0.00369026,\n",
       "        0.11751332,  0.23421553,  0.49493644,  0.06972898,  0.5111043 ,\n",
       "        0.05636446, -0.46716227,  0.44464361,  0.56007407,  0.57367132,\n",
       "        0.60784447,  0.6217667 ,  0.26482743,  0.62064767,  0.45112649,\n",
       "        0.49587238,  0.6554134 ,  0.49704078,  0.58514373, -0.1528653 ,\n",
       "        0.66394996,  0.60301516, -0.23374334, -0.16146728,  0.00824914,\n",
       "        0.58971144,  0.62286572,  0.5336318 ,  0.23166242, -0.47348067,\n",
       "        0.59690404,  0.39133286,  0.01620902,  0.13103444,  0.54507647,\n",
       "       -0.40728767,  0.52353903,  0.31634235,  0.04811077, -0.41932681,\n",
       "        0.61012666,  0.60726944,  0.49739174,  0.41649082,  0.54669303])"
      ]
     },
     "execution_count": 60,
     "metadata": {},
     "output_type": "execute_result"
    }
   ],
   "source": [
    "c = train_krls(Xtr, Ytr, lam=1e-1, kernel='gaussian', kernel_args=1)\n",
    "y =  linear_predict(c, Xtr, Xte, kernel='gaussian', kernel_args=1)\n",
    "#c_err(Ytr,y)"
   ]
  },
  {
   "cell_type": "markdown",
   "id": "incident-studio",
   "metadata": {},
   "source": [
    "2. Fix some value for the kernel length-scale. Explore the effect of regularization on classification performance: use the `plot_sep_func` function to visualize how the boundary between the class-labels changes as the regularization changes."
   ]
  },
  {
   "cell_type": "code",
   "execution_count": 1,
   "id": "wrapped-consultancy",
   "metadata": {},
   "outputs": [],
   "source": [
    "#TODO"
   ]
  },
  {
   "cell_type": "markdown",
   "id": "standing-yahoo",
   "metadata": {},
   "source": [
    "3. Fix some value for the regularization parameter. Explore the effect of changing the kernel length-scale: use the `plot_sep_func` function to visualize how the boundary between the class-labels changes."
   ]
  },
  {
   "cell_type": "code",
   "execution_count": 11,
   "id": "forward-threshold",
   "metadata": {},
   "outputs": [],
   "source": [
    "#TODO"
   ]
  },
  {
   "cell_type": "markdown",
   "id": "smaller-possession",
   "metadata": {},
   "source": [
    "4. **Plot how the training and test errors change versus the amount of regularization with kernel length-scale fixed to 0.5**, and comment on your findings."
   ]
  },
  {
   "cell_type": "code",
   "execution_count": 37,
   "id": "greenhouse-norman",
   "metadata": {},
   "outputs": [],
   "source": [
    "reg_pars = [10, 7, 5, 2, 1, 0.7, 0.5, 0.3, 0.2, 0.1, 0.05, 0.02,\n",
    "            0.01, 0.005 , 0.002 , 0.001 ,0.0005, 0.0002 , 0.0001 ,\n",
    "            0.00001 , 0.000001]"
   ]
  },
  {
   "cell_type": "code",
   "execution_count": 15,
   "id": "taken-absorption",
   "metadata": {},
   "outputs": [],
   "source": [
    "#TODO"
   ]
  },
  {
   "cell_type": "markdown",
   "id": "surrounded-lesson",
   "metadata": {},
   "source": [
    "5. Repeat the previous step with 5%, 20% and 50% of flipped labels. Explain the behavior of test and training errors."
   ]
  },
  {
   "cell_type": "code",
   "execution_count": 16,
   "id": "brilliant-expert",
   "metadata": {},
   "outputs": [],
   "source": [
    "#TODO"
   ]
  },
  {
   "cell_type": "markdown",
   "id": "informal-importance",
   "metadata": {},
   "source": [
    "6. Fix `fplip=10`. Using the Gaussian and the Polynomial kernel, use **cross-validation** as in the previous lab to find the best values of\n",
    " - the kernel parameter (length-scale for the Gaussian kernel, exponent for the polynomial kernel)\n",
    " - the amount of regularization\n",
    " \n",
    "     Plot the decision boundaries."
   ]
  },
  {
   "cell_type": "code",
   "execution_count": 17,
   "id": "filled-pioneer",
   "metadata": {},
   "outputs": [],
   "source": [
    "#TODO"
   ]
  },
  {
   "cell_type": "markdown",
   "id": "english-difficulty",
   "metadata": {},
   "source": [
    "### 2. Kernel Least Squares with Early Stopping.\n",
    "\n",
    "1. Use the Gaussian kernel. Fix some values for the number of iterations and the length-scale. Fit an iterative KLS model to the training data, calculating classification error on the test data."
   ]
  },
  {
   "cell_type": "markdown",
   "id": "elegant-poultry",
   "metadata": {},
   "source": [
    "2. Fix some value for the kernel length-scale (use the same value as in the previous exercise). Explore the effect of the number of iterations on classifiation performance using the `plot_sep_func`. Comment on how the boundary changes as the number of iterations changes."
   ]
  },
  {
   "cell_type": "code",
   "execution_count": 20,
   "id": "suited-safety",
   "metadata": {},
   "outputs": [],
   "source": [
    "#TODO"
   ]
  },
  {
   "cell_type": "markdown",
   "id": "excessive-nepal",
   "metadata": {},
   "source": [
    "3. **Repeat step 1.4 using the number of iterations**, and comment on differences/similarities to KRLS (previous exercise)."
   ]
  },
  {
   "cell_type": "code",
   "execution_count": 3,
   "id": "central-disaster",
   "metadata": {},
   "outputs": [],
   "source": [
    "n_iter = [1, 10, 25, 50, 75, 100, 150, 200, 500, 750, 1000, 2000, 3000]"
   ]
  },
  {
   "cell_type": "code",
   "execution_count": 22,
   "id": "cosmetic-shower",
   "metadata": {},
   "outputs": [],
   "source": [
    "#TODO"
   ]
  },
  {
   "cell_type": "markdown",
   "id": "entertaining-methodology",
   "metadata": {},
   "source": [
    "### 3. (bonus) Multi-path KRLS\n",
    "\n",
    "At the heart of the KRLS algorithm is the following problem:\n",
    "\n",
    "$$\n",
    "c = (K + \\lambda I_{n\\times n})^{-1} y\n",
    "$$\n",
    "\n",
    "Solving the problem for a single value of $\\lambda$ takes $O(n^3)$ operations if $K$ is of size $n\\times n$. In this lab we had to solve the linear system above for several values of $\\lambda$.\n",
    "\n",
    "Do we have to pay $O(n^3)$ for each $\\lambda$? Given multiple values for $\\lambda$, is there a faster way to solve the problem above once we have solved it for the first value of $\\lambda$?\n",
    "**Hint:** any symmetric matrix $S$ has an eigenvalue decomposition as $U\\Lambda U^\\top$."
   ]
  },
  {
   "cell_type": "code",
   "execution_count": 1,
   "id": "worse-operation",
   "metadata": {},
   "outputs": [],
   "source": [
    "#TODO"
   ]
  }
 ],
 "metadata": {
  "kernelspec": {
   "display_name": "Python 3",
   "language": "python",
   "name": "python3"
  },
  "language_info": {
   "codemirror_mode": {
    "name": "ipython",
    "version": 3
   },
   "file_extension": ".py",
   "mimetype": "text/x-python",
   "name": "python",
   "nbconvert_exporter": "python",
   "pygments_lexer": "ipython3",
   "version": "3.8.5"
  }
 },
 "nbformat": 4,
 "nbformat_minor": 5
}
