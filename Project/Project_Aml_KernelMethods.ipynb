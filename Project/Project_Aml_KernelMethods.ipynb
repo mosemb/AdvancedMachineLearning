{
  "nbformat": 4,
  "nbformat_minor": 5,
  "metadata": {
    "kernelspec": {
      "display_name": "Python 3",
      "language": "python",
      "name": "python3"
    },
    "language_info": {
      "codemirror_mode": {
        "name": "ipython",
        "version": 3
      },
      "file_extension": ".py",
      "mimetype": "text/x-python",
      "name": "python",
      "nbconvert_exporter": "python",
      "pygments_lexer": "ipython3",
      "version": "3.8.5"
    },
    "colab": {
      "name": "Project_Aml_KernelMethods.ipynb",
      "provenance": [],
      "collapsed_sections": []
    }
  },
  "cells": [
    {
      "cell_type": "code",
      "metadata": {
        "id": "variable-rubber"
      },
      "source": [
        "import pandas as pd\n",
        "import matplotlib.pyplot as plt\n",
        "from sklearn.model_selection import TimeSeriesSplit, GridSearchCV\n",
        "from sklearn.gaussian_process.kernels import RBF\n",
        "from sklearn.kernel_ridge import KernelRidge\n",
        "from sklearn.model_selection import GridSearchCV\n",
        "from sklearn.gaussian_process.kernels import WhiteKernel, ExpSineSquared,ConstantKernel\n",
        "from sklearn.gaussian_process import GaussianProcessRegressor\n",
        "from sklearn.metrics import accuracy_score\n",
        "from sklearn.preprocessing import MinMaxScaler\n",
        "from sklearn.metrics import mean_squared_error\n",
        "from sklearn.gaussian_process.kernels import (RBF, Matern, RationalQuadratic,\n",
        "                                              ExpSineSquared, DotProduct,\n",
        "                                              ConstantKernel)\n",
        "import math"
      ],
      "id": "variable-rubber",
      "execution_count": 1,
      "outputs": []
    },
    {
      "cell_type": "code",
      "metadata": {
        "id": "69aCwJtb-iT7",
        "colab": {
          "base_uri": "https://localhost:8080/"
        },
        "outputId": "c06a067b-b07a-44c7-d5de-7d842618ea3a"
      },
      "source": [
        "from google.colab import drive\n",
        "drive.mount('/content/drive')"
      ],
      "id": "69aCwJtb-iT7",
      "execution_count": 2,
      "outputs": [
        {
          "output_type": "stream",
          "text": [
            "Mounted at /content/drive\n"
          ],
          "name": "stdout"
        }
      ]
    },
    {
      "cell_type": "code",
      "metadata": {
        "id": "valid-irrigation"
      },
      "source": [
        "df = pd.read_csv('/content/drive/My Drive/AML_exam.txt',sep='\\t',header=(0))"
      ],
      "id": "valid-irrigation",
      "execution_count": 3,
      "outputs": []
    },
    {
      "cell_type": "code",
      "metadata": {
        "id": "alone-intervention",
        "colab": {
          "base_uri": "https://localhost:8080/",
          "height": 197
        },
        "outputId": "9b70a734-28a1-4b53-b1dc-ca59edd764d3"
      },
      "source": [
        "df.head()"
      ],
      "id": "alone-intervention",
      "execution_count": 4,
      "outputs": [
        {
          "output_type": "execute_result",
          "data": {
            "text/html": [
              "<div>\n",
              "<style scoped>\n",
              "    .dataframe tbody tr th:only-of-type {\n",
              "        vertical-align: middle;\n",
              "    }\n",
              "\n",
              "    .dataframe tbody tr th {\n",
              "        vertical-align: top;\n",
              "    }\n",
              "\n",
              "    .dataframe thead th {\n",
              "        text-align: right;\n",
              "    }\n",
              "</style>\n",
              "<table border=\"1\" class=\"dataframe\">\n",
              "  <thead>\n",
              "    <tr style=\"text-align: right;\">\n",
              "      <th></th>\n",
              "      <th>Unnamed: 0</th>\n",
              "      <th>datetime</th>\n",
              "      <th>speed</th>\n",
              "    </tr>\n",
              "  </thead>\n",
              "  <tbody>\n",
              "    <tr>\n",
              "      <th>0</th>\n",
              "      <td>0</td>\n",
              "      <td>201501010000</td>\n",
              "      <td>NaN</td>\n",
              "    </tr>\n",
              "    <tr>\n",
              "      <th>1</th>\n",
              "      <td>1</td>\n",
              "      <td>201501010100</td>\n",
              "      <td>NaN</td>\n",
              "    </tr>\n",
              "    <tr>\n",
              "      <th>2</th>\n",
              "      <td>2</td>\n",
              "      <td>201501010200</td>\n",
              "      <td>NaN</td>\n",
              "    </tr>\n",
              "    <tr>\n",
              "      <th>3</th>\n",
              "      <td>3</td>\n",
              "      <td>201501010300</td>\n",
              "      <td>NaN</td>\n",
              "    </tr>\n",
              "    <tr>\n",
              "      <th>4</th>\n",
              "      <td>4</td>\n",
              "      <td>201501010400</td>\n",
              "      <td>NaN</td>\n",
              "    </tr>\n",
              "  </tbody>\n",
              "</table>\n",
              "</div>"
            ],
            "text/plain": [
              "   Unnamed: 0      datetime  speed\n",
              "0           0  201501010000    NaN\n",
              "1           1  201501010100    NaN\n",
              "2           2  201501010200    NaN\n",
              "3           3  201501010300    NaN\n",
              "4           4  201501010400    NaN"
            ]
          },
          "metadata": {
            "tags": []
          },
          "execution_count": 4
        }
      ]
    },
    {
      "cell_type": "code",
      "metadata": {
        "id": "dense-baking",
        "colab": {
          "base_uri": "https://localhost:8080/"
        },
        "outputId": "13ca3604-a62c-4ece-89f7-d02f257444cb"
      },
      "source": [
        "df.columns"
      ],
      "id": "dense-baking",
      "execution_count": 5,
      "outputs": [
        {
          "output_type": "execute_result",
          "data": {
            "text/plain": [
              "Index(['Unnamed: 0', 'datetime', 'speed'], dtype='object')"
            ]
          },
          "metadata": {
            "tags": []
          },
          "execution_count": 5
        }
      ]
    },
    {
      "cell_type": "code",
      "metadata": {
        "id": "objective-senior"
      },
      "source": [
        "df.drop('Unnamed: 0',inplace=True,axis=1)"
      ],
      "id": "objective-senior",
      "execution_count": 6,
      "outputs": []
    },
    {
      "cell_type": "code",
      "metadata": {
        "id": "strong-yellow",
        "colab": {
          "base_uri": "https://localhost:8080/",
          "height": 197
        },
        "outputId": "f33e7dfb-a012-41f3-f512-be1789122c2b"
      },
      "source": [
        "df.head()"
      ],
      "id": "strong-yellow",
      "execution_count": 7,
      "outputs": [
        {
          "output_type": "execute_result",
          "data": {
            "text/html": [
              "<div>\n",
              "<style scoped>\n",
              "    .dataframe tbody tr th:only-of-type {\n",
              "        vertical-align: middle;\n",
              "    }\n",
              "\n",
              "    .dataframe tbody tr th {\n",
              "        vertical-align: top;\n",
              "    }\n",
              "\n",
              "    .dataframe thead th {\n",
              "        text-align: right;\n",
              "    }\n",
              "</style>\n",
              "<table border=\"1\" class=\"dataframe\">\n",
              "  <thead>\n",
              "    <tr style=\"text-align: right;\">\n",
              "      <th></th>\n",
              "      <th>datetime</th>\n",
              "      <th>speed</th>\n",
              "    </tr>\n",
              "  </thead>\n",
              "  <tbody>\n",
              "    <tr>\n",
              "      <th>0</th>\n",
              "      <td>201501010000</td>\n",
              "      <td>NaN</td>\n",
              "    </tr>\n",
              "    <tr>\n",
              "      <th>1</th>\n",
              "      <td>201501010100</td>\n",
              "      <td>NaN</td>\n",
              "    </tr>\n",
              "    <tr>\n",
              "      <th>2</th>\n",
              "      <td>201501010200</td>\n",
              "      <td>NaN</td>\n",
              "    </tr>\n",
              "    <tr>\n",
              "      <th>3</th>\n",
              "      <td>201501010300</td>\n",
              "      <td>NaN</td>\n",
              "    </tr>\n",
              "    <tr>\n",
              "      <th>4</th>\n",
              "      <td>201501010400</td>\n",
              "      <td>NaN</td>\n",
              "    </tr>\n",
              "  </tbody>\n",
              "</table>\n",
              "</div>"
            ],
            "text/plain": [
              "       datetime  speed\n",
              "0  201501010000    NaN\n",
              "1  201501010100    NaN\n",
              "2  201501010200    NaN\n",
              "3  201501010300    NaN\n",
              "4  201501010400    NaN"
            ]
          },
          "metadata": {
            "tags": []
          },
          "execution_count": 7
        }
      ]
    },
    {
      "cell_type": "code",
      "metadata": {
        "id": "regional-young",
        "colab": {
          "base_uri": "https://localhost:8080/"
        },
        "outputId": "cc6d8269-b8c1-4ed3-9352-15bc4d6e2a80"
      },
      "source": [
        "df.dtypes"
      ],
      "id": "regional-young",
      "execution_count": 8,
      "outputs": [
        {
          "output_type": "execute_result",
          "data": {
            "text/plain": [
              "datetime      int64\n",
              "speed       float64\n",
              "dtype: object"
            ]
          },
          "metadata": {
            "tags": []
          },
          "execution_count": 8
        }
      ]
    },
    {
      "cell_type": "code",
      "metadata": {
        "id": "suited-acrobat"
      },
      "source": [
        "df['datetime'] = pd.to_datetime(df['datetime'],format='%Y%m%d%H%M%S')"
      ],
      "id": "suited-acrobat",
      "execution_count": 9,
      "outputs": []
    },
    {
      "cell_type": "code",
      "metadata": {
        "id": "pleasant-disney",
        "colab": {
          "base_uri": "https://localhost:8080/",
          "height": 406
        },
        "outputId": "2f341093-b082-40b2-eb27-57b0b3ee096f"
      },
      "source": [
        "df"
      ],
      "id": "pleasant-disney",
      "execution_count": 10,
      "outputs": [
        {
          "output_type": "execute_result",
          "data": {
            "text/html": [
              "<div>\n",
              "<style scoped>\n",
              "    .dataframe tbody tr th:only-of-type {\n",
              "        vertical-align: middle;\n",
              "    }\n",
              "\n",
              "    .dataframe tbody tr th {\n",
              "        vertical-align: top;\n",
              "    }\n",
              "\n",
              "    .dataframe thead th {\n",
              "        text-align: right;\n",
              "    }\n",
              "</style>\n",
              "<table border=\"1\" class=\"dataframe\">\n",
              "  <thead>\n",
              "    <tr style=\"text-align: right;\">\n",
              "      <th></th>\n",
              "      <th>datetime</th>\n",
              "      <th>speed</th>\n",
              "    </tr>\n",
              "  </thead>\n",
              "  <tbody>\n",
              "    <tr>\n",
              "      <th>0</th>\n",
              "      <td>2015-01-01 00:00:00</td>\n",
              "      <td>NaN</td>\n",
              "    </tr>\n",
              "    <tr>\n",
              "      <th>1</th>\n",
              "      <td>2015-01-01 01:00:00</td>\n",
              "      <td>NaN</td>\n",
              "    </tr>\n",
              "    <tr>\n",
              "      <th>2</th>\n",
              "      <td>2015-01-01 02:00:00</td>\n",
              "      <td>NaN</td>\n",
              "    </tr>\n",
              "    <tr>\n",
              "      <th>3</th>\n",
              "      <td>2015-01-01 03:00:00</td>\n",
              "      <td>NaN</td>\n",
              "    </tr>\n",
              "    <tr>\n",
              "      <th>4</th>\n",
              "      <td>2015-01-01 04:00:00</td>\n",
              "      <td>NaN</td>\n",
              "    </tr>\n",
              "    <tr>\n",
              "      <th>...</th>\n",
              "      <td>...</td>\n",
              "      <td>...</td>\n",
              "    </tr>\n",
              "    <tr>\n",
              "      <th>35059</th>\n",
              "      <td>2018-12-31 19:00:00</td>\n",
              "      <td>2.148734</td>\n",
              "    </tr>\n",
              "    <tr>\n",
              "      <th>35060</th>\n",
              "      <td>2018-12-31 20:00:00</td>\n",
              "      <td>1.608662</td>\n",
              "    </tr>\n",
              "    <tr>\n",
              "      <th>35061</th>\n",
              "      <td>2018-12-31 21:00:00</td>\n",
              "      <td>0.647012</td>\n",
              "    </tr>\n",
              "    <tr>\n",
              "      <th>35062</th>\n",
              "      <td>2018-12-31 22:00:00</td>\n",
              "      <td>1.206987</td>\n",
              "    </tr>\n",
              "    <tr>\n",
              "      <th>35063</th>\n",
              "      <td>2018-12-31 23:00:00</td>\n",
              "      <td>1.846268</td>\n",
              "    </tr>\n",
              "  </tbody>\n",
              "</table>\n",
              "<p>35064 rows × 2 columns</p>\n",
              "</div>"
            ],
            "text/plain": [
              "                 datetime     speed\n",
              "0     2015-01-01 00:00:00       NaN\n",
              "1     2015-01-01 01:00:00       NaN\n",
              "2     2015-01-01 02:00:00       NaN\n",
              "3     2015-01-01 03:00:00       NaN\n",
              "4     2015-01-01 04:00:00       NaN\n",
              "...                   ...       ...\n",
              "35059 2018-12-31 19:00:00  2.148734\n",
              "35060 2018-12-31 20:00:00  1.608662\n",
              "35061 2018-12-31 21:00:00  0.647012\n",
              "35062 2018-12-31 22:00:00  1.206987\n",
              "35063 2018-12-31 23:00:00  1.846268\n",
              "\n",
              "[35064 rows x 2 columns]"
            ]
          },
          "metadata": {
            "tags": []
          },
          "execution_count": 10
        }
      ]
    },
    {
      "cell_type": "code",
      "metadata": {
        "id": "adequate-suggestion",
        "colab": {
          "base_uri": "https://localhost:8080/"
        },
        "outputId": "755dd11e-60f3-4078-d366-ff70bc96c3fb"
      },
      "source": [
        "df.isnull().sum()"
      ],
      "id": "adequate-suggestion",
      "execution_count": 11,
      "outputs": [
        {
          "output_type": "execute_result",
          "data": {
            "text/plain": [
              "datetime        0\n",
              "speed       16515\n",
              "dtype: int64"
            ]
          },
          "metadata": {
            "tags": []
          },
          "execution_count": 11
        }
      ]
    },
    {
      "cell_type": "code",
      "metadata": {
        "id": "monthly-workplace",
        "colab": {
          "base_uri": "https://localhost:8080/"
        },
        "outputId": "0601f9ca-556f-459e-d931-7a5f72e6e336"
      },
      "source": [
        "\n",
        "#Percentage of null values\n",
        "df.isnull().sum().sum()* 100 / len(df)"
      ],
      "id": "monthly-workplace",
      "execution_count": 12,
      "outputs": [
        {
          "output_type": "execute_result",
          "data": {
            "text/plain": [
              "47.09958932238193"
            ]
          },
          "metadata": {
            "tags": []
          },
          "execution_count": 12
        }
      ]
    },
    {
      "cell_type": "code",
      "metadata": {
        "id": "contrary-universe",
        "colab": {
          "base_uri": "https://localhost:8080/"
        },
        "outputId": "525bb973-d1b5-4c79-837f-c6d5ec5cccae"
      },
      "source": [
        "df.shape"
      ],
      "id": "contrary-universe",
      "execution_count": 13,
      "outputs": [
        {
          "output_type": "execute_result",
          "data": {
            "text/plain": [
              "(35064, 2)"
            ]
          },
          "metadata": {
            "tags": []
          },
          "execution_count": 13
        }
      ]
    },
    {
      "cell_type": "code",
      "metadata": {
        "id": "weighted-dancing"
      },
      "source": [
        "#So we gonna drop the null values since they do not offer us any insights\n",
        "df.dropna(inplace=True)"
      ],
      "id": "weighted-dancing",
      "execution_count": 14,
      "outputs": []
    },
    {
      "cell_type": "code",
      "metadata": {
        "id": "lesser-painting",
        "colab": {
          "base_uri": "https://localhost:8080/"
        },
        "outputId": "7b5cb89b-8723-48d4-83d0-9dd10a6e69ae"
      },
      "source": [
        "#new shape\n",
        "df.shape"
      ],
      "id": "lesser-painting",
      "execution_count": 15,
      "outputs": [
        {
          "output_type": "execute_result",
          "data": {
            "text/plain": [
              "(18549, 2)"
            ]
          },
          "metadata": {
            "tags": []
          },
          "execution_count": 15
        }
      ]
    },
    {
      "cell_type": "code",
      "metadata": {
        "id": "smooth-burden",
        "colab": {
          "base_uri": "https://localhost:8080/",
          "height": 197
        },
        "outputId": "68fadf70-6246-4bdf-9b01-feb83462baf8"
      },
      "source": [
        "df.head()"
      ],
      "id": "smooth-burden",
      "execution_count": 16,
      "outputs": [
        {
          "output_type": "execute_result",
          "data": {
            "text/html": [
              "<div>\n",
              "<style scoped>\n",
              "    .dataframe tbody tr th:only-of-type {\n",
              "        vertical-align: middle;\n",
              "    }\n",
              "\n",
              "    .dataframe tbody tr th {\n",
              "        vertical-align: top;\n",
              "    }\n",
              "\n",
              "    .dataframe thead th {\n",
              "        text-align: right;\n",
              "    }\n",
              "</style>\n",
              "<table border=\"1\" class=\"dataframe\">\n",
              "  <thead>\n",
              "    <tr style=\"text-align: right;\">\n",
              "      <th></th>\n",
              "      <th>datetime</th>\n",
              "      <th>speed</th>\n",
              "    </tr>\n",
              "  </thead>\n",
              "  <tbody>\n",
              "    <tr>\n",
              "      <th>16500</th>\n",
              "      <td>2016-11-18 12:00:00</td>\n",
              "      <td>2.098724</td>\n",
              "    </tr>\n",
              "    <tr>\n",
              "      <th>16501</th>\n",
              "      <td>2016-11-18 13:00:00</td>\n",
              "      <td>1.570473</td>\n",
              "    </tr>\n",
              "    <tr>\n",
              "      <th>16502</th>\n",
              "      <td>2016-11-18 14:00:00</td>\n",
              "      <td>2.194121</td>\n",
              "    </tr>\n",
              "    <tr>\n",
              "      <th>16503</th>\n",
              "      <td>2016-11-18 15:00:00</td>\n",
              "      <td>1.308761</td>\n",
              "    </tr>\n",
              "    <tr>\n",
              "      <th>16504</th>\n",
              "      <td>2016-11-18 16:00:00</td>\n",
              "      <td>0.522000</td>\n",
              "    </tr>\n",
              "  </tbody>\n",
              "</table>\n",
              "</div>"
            ],
            "text/plain": [
              "                 datetime     speed\n",
              "16500 2016-11-18 12:00:00  2.098724\n",
              "16501 2016-11-18 13:00:00  1.570473\n",
              "16502 2016-11-18 14:00:00  2.194121\n",
              "16503 2016-11-18 15:00:00  1.308761\n",
              "16504 2016-11-18 16:00:00  0.522000"
            ]
          },
          "metadata": {
            "tags": []
          },
          "execution_count": 16
        }
      ]
    },
    {
      "cell_type": "code",
      "metadata": {
        "id": "clinical-bicycle",
        "colab": {
          "base_uri": "https://localhost:8080/",
          "height": 300
        },
        "outputId": "f962f48d-511c-46fe-d233-76260ab49aa0"
      },
      "source": [
        "plt.plot(df['speed'])\n",
        "plt.figure(figsize=(3, 3))"
      ],
      "id": "clinical-bicycle",
      "execution_count": 17,
      "outputs": [
        {
          "output_type": "execute_result",
          "data": {
            "text/plain": [
              "<Figure size 216x216 with 0 Axes>"
            ]
          },
          "metadata": {
            "tags": []
          },
          "execution_count": 17
        },
        {
          "output_type": "display_data",
          "data": {
            "image/png": "[encoded data removed]",
            "text/plain": [
              "<Figure size 432x288 with 1 Axes>"
            ]
          },
          "metadata": {
            "tags": [],
            "needs_background": "light"
          }
        },
        {
          "output_type": "display_data",
          "data": {
            "text/plain": [
              "<Figure size 216x216 with 0 Axes>"
            ]
          },
          "metadata": {
            "tags": []
          }
        }
      ]
    },
    {
      "cell_type": "code",
      "metadata": {
        "id": "early-asthma"
      },
      "source": [
        "#Converting the problem into a time series problem./ Using shift to create X and Y values\n",
        "#df['speed-1'] = df['speed'].shift(24) # s\n",
        "#df.head()"
      ],
      "id": "early-asthma",
      "execution_count": 18,
      "outputs": []
    },
    {
      "cell_type": "code",
      "metadata": {
        "id": "understanding-brain"
      },
      "source": [
        "#df['speed-2']= df['speed'].shift(-24)"
      ],
      "id": "understanding-brain",
      "execution_count": 19,
      "outputs": []
    },
    {
      "cell_type": "code",
      "metadata": {
        "id": "mOmToUZvxAyy",
        "colab": {
          "base_uri": "https://localhost:8080/",
          "height": 197
        },
        "outputId": "acfdad17-8923-4a51-976a-b79197c7b21a"
      },
      "source": [
        "df.head()"
      ],
      "id": "mOmToUZvxAyy",
      "execution_count": 20,
      "outputs": [
        {
          "output_type": "execute_result",
          "data": {
            "text/html": [
              "<div>\n",
              "<style scoped>\n",
              "    .dataframe tbody tr th:only-of-type {\n",
              "        vertical-align: middle;\n",
              "    }\n",
              "\n",
              "    .dataframe tbody tr th {\n",
              "        vertical-align: top;\n",
              "    }\n",
              "\n",
              "    .dataframe thead th {\n",
              "        text-align: right;\n",
              "    }\n",
              "</style>\n",
              "<table border=\"1\" class=\"dataframe\">\n",
              "  <thead>\n",
              "    <tr style=\"text-align: right;\">\n",
              "      <th></th>\n",
              "      <th>datetime</th>\n",
              "      <th>speed</th>\n",
              "    </tr>\n",
              "  </thead>\n",
              "  <tbody>\n",
              "    <tr>\n",
              "      <th>16500</th>\n",
              "      <td>2016-11-18 12:00:00</td>\n",
              "      <td>2.098724</td>\n",
              "    </tr>\n",
              "    <tr>\n",
              "      <th>16501</th>\n",
              "      <td>2016-11-18 13:00:00</td>\n",
              "      <td>1.570473</td>\n",
              "    </tr>\n",
              "    <tr>\n",
              "      <th>16502</th>\n",
              "      <td>2016-11-18 14:00:00</td>\n",
              "      <td>2.194121</td>\n",
              "    </tr>\n",
              "    <tr>\n",
              "      <th>16503</th>\n",
              "      <td>2016-11-18 15:00:00</td>\n",
              "      <td>1.308761</td>\n",
              "    </tr>\n",
              "    <tr>\n",
              "      <th>16504</th>\n",
              "      <td>2016-11-18 16:00:00</td>\n",
              "      <td>0.522000</td>\n",
              "    </tr>\n",
              "  </tbody>\n",
              "</table>\n",
              "</div>"
            ],
            "text/plain": [
              "                 datetime     speed\n",
              "16500 2016-11-18 12:00:00  2.098724\n",
              "16501 2016-11-18 13:00:00  1.570473\n",
              "16502 2016-11-18 14:00:00  2.194121\n",
              "16503 2016-11-18 15:00:00  1.308761\n",
              "16504 2016-11-18 16:00:00  0.522000"
            ]
          },
          "metadata": {
            "tags": []
          },
          "execution_count": 20
        }
      ]
    },
    {
      "cell_type": "code",
      "metadata": {
        "id": "coordinated-hospital"
      },
      "source": [
        "#df['speed-3']= df['speed'].shift(-3)"
      ],
      "id": "coordinated-hospital",
      "execution_count": 21,
      "outputs": []
    },
    {
      "cell_type": "code",
      "metadata": {
        "id": "valid-astronomy"
      },
      "source": [
        "#Drop the null values\n",
        "#df.dropna(inplace=True)"
      ],
      "id": "valid-astronomy",
      "execution_count": 22,
      "outputs": []
    },
    {
      "cell_type": "code",
      "metadata": {
        "id": "therapeutic-sweet"
      },
      "source": [
        "#Verify that there are no null values\n",
        "#df.isnull().sum().sum()"
      ],
      "id": "therapeutic-sweet",
      "execution_count": 23,
      "outputs": []
    },
    {
      "cell_type": "code",
      "metadata": {
        "id": "african-ending"
      },
      "source": [
        "import numpy as np"
      ],
      "id": "african-ending",
      "execution_count": 24,
      "outputs": []
    },
    {
      "cell_type": "code",
      "metadata": {
        "id": "forward-panel"
      },
      "source": [
        "data = df['speed'].values"
      ],
      "id": "forward-panel",
      "execution_count": 26,
      "outputs": []
    },
    {
      "cell_type": "code",
      "metadata": {
        "id": "rriSHK-tboZY",
        "colab": {
          "base_uri": "https://localhost:8080/"
        },
        "outputId": "336a09e7-0218-4833-fa88-39670290fe7d"
      },
      "source": [
        "data.shape"
      ],
      "id": "rriSHK-tboZY",
      "execution_count": 27,
      "outputs": [
        {
          "output_type": "execute_result",
          "data": {
            "text/plain": [
              "(18549,)"
            ]
          },
          "metadata": {
            "tags": []
          },
          "execution_count": 27
        }
      ]
    },
    {
      "cell_type": "code",
      "metadata": {
        "id": "9p8yNuGZbn6R",
        "colab": {
          "base_uri": "https://localhost:8080/"
        },
        "outputId": "56bcde51-6ed7-4595-e105-ce4986a547e1"
      },
      "source": [
        "# Percentage of data used. ( It takes so long to train a model i have iterated over and over again. On average it takes say 2.5 hours to work with \n",
        "# 50% of the data)\n",
        "data = data[:int(data.shape[0]*0.50)]\n",
        "data.shape"
      ],
      "id": "9p8yNuGZbn6R",
      "execution_count": 28,
      "outputs": [
        {
          "output_type": "execute_result",
          "data": {
            "text/plain": [
              "(9274,)"
            ]
          },
          "metadata": {
            "tags": []
          },
          "execution_count": 28
        }
      ]
    },
    {
      "cell_type": "code",
      "metadata": {
        "id": "31CzTYVSdlbj"
      },
      "source": [
        "data = data.reshape(-1,1)"
      ],
      "id": "31CzTYVSdlbj",
      "execution_count": 29,
      "outputs": []
    },
    {
      "cell_type": "code",
      "metadata": {
        "id": "3pDBRAfeduvR",
        "colab": {
          "base_uri": "https://localhost:8080/"
        },
        "outputId": "55d50a6e-2986-465f-cd8e-27dfbb579fe9"
      },
      "source": [
        "data.shape"
      ],
      "id": "3pDBRAfeduvR",
      "execution_count": 30,
      "outputs": [
        {
          "output_type": "execute_result",
          "data": {
            "text/plain": [
              "(9274, 1)"
            ]
          },
          "metadata": {
            "tags": []
          },
          "execution_count": 30
        }
      ]
    },
    {
      "cell_type": "code",
      "metadata": {
        "id": "rural-eligibility"
      },
      "source": [
        "#Time series feature extraction \n",
        "\n",
        "train_size = int(len(data)*0.7)\n",
        "test_size = int(len(data)*0.3)\n",
        "\n",
        "X_train = data[0:train_size,:]\n",
        "X_test = data[train_size:len(data),:]\n",
        "\n",
        "def sequences(data, combination=1):\n",
        "    x = []\n",
        "    y = []\n",
        "\n",
        "    for i in range(len(data)-combination-1):\n",
        "        window = data[i:(i+combination), 0]\n",
        "        x.append(window)\n",
        "        y.append(data[i+combination, 0])\n",
        "        \n",
        "    return np.array(x),np.array(y)\n",
        "\n",
        "combination= 4  # Number of time steps to look back \n",
        "\n",
        "X_train, Y_train = sequences(X_train, combination)\n",
        "X_test, Y_test = sequences(X_test, combination)"
      ],
      "id": "rural-eligibility",
      "execution_count": 31,
      "outputs": []
    },
    {
      "cell_type": "code",
      "metadata": {
        "id": "0EFA7X_qlcgQ",
        "colab": {
          "base_uri": "https://localhost:8080/"
        },
        "outputId": "04c89784-7287-446f-e6c0-0328ac31a0eb"
      },
      "source": [
        "\n",
        "X_train.shape"
      ],
      "id": "0EFA7X_qlcgQ",
      "execution_count": 32,
      "outputs": [
        {
          "output_type": "execute_result",
          "data": {
            "text/plain": [
              "(6486, 4)"
            ]
          },
          "metadata": {
            "tags": []
          },
          "execution_count": 32
        }
      ]
    },
    {
      "cell_type": "markdown",
      "metadata": {
        "id": "WTFvmvuRB9il"
      },
      "source": [
        "## Kernel ridge regression (KRR)"
      ],
      "id": "WTFvmvuRB9il"
    },
    {
      "cell_type": "code",
      "metadata": {
        "id": "generic-hobby"
      },
      "source": [
        "# Parameters for grid search cv\n",
        "param_grid = {\"alpha\": [100, 10,1e0, 1e-1, 1e-2, 1e-3,1e-4,1e-5],\n",
        "              \"kernel\":['linear','rbf','polynomial','laplacian','chi'],\n",
        "              \"gamma\":[10,1e0, 1e-1, 1e-2, 1e-3,1e-4],\n",
        "              \"degree\":[3,4,5],\n",
        "              \"coef0\":[2,3,4] \n",
        "              }\n",
        "\n",
        "tscv = TimeSeriesSplit(n_splits=3)\n",
        "kr = GridSearchCV(KernelRidge(), param_grid=param_grid, cv=tscv,return_train_score=True)\n",
        "#[ExpSineSquared(l, p)for l in np.logspace(-2, 2, 10) for p in np.logspace(0, 2, 10)]"
      ],
      "id": "generic-hobby",
      "execution_count": 33,
      "outputs": []
    },
    {
      "cell_type": "code",
      "metadata": {
        "id": "accessory-rental",
        "colab": {
          "base_uri": "https://localhost:8080/"
        },
        "outputId": "fd305b46-19de-48cf-e543-b08a5135e391"
      },
      "source": [
        "import warnings\n",
        "warnings.simplefilter('ignore')\n",
        "\n",
        "kr.fit(X_train,Y_train)"
      ],
      "id": "accessory-rental",
      "execution_count": 34,
      "outputs": [
        {
          "output_type": "execute_result",
          "data": {
            "text/plain": [
              "GridSearchCV(cv=TimeSeriesSplit(max_train_size=None, n_splits=3),\n",
              "             error_score=nan,\n",
              "             estimator=KernelRidge(alpha=1, coef0=1, degree=3, gamma=None,\n",
              "                                   kernel='linear', kernel_params=None),\n",
              "             iid='deprecated', n_jobs=None,\n",
              "             param_grid={'alpha': [100, 10, 1.0, 0.1, 0.01, 0.001, 0.0001,\n",
              "                                   1e-05],\n",
              "                         'coef0': [2, 3, 4], 'degree': [3, 4, 5],\n",
              "                         'gamma': [10, 1.0, 0.1, 0.01, 0.001, 0.0001],\n",
              "                         'kernel': ['linear', 'rbf', 'polynomial', 'laplacian',\n",
              "                                    'chi']},\n",
              "             pre_dispatch='2*n_jobs', refit=True, return_train_score=True,\n",
              "             scoring=None, verbose=0)"
            ]
          },
          "metadata": {
            "tags": []
          },
          "execution_count": 34
        }
      ]
    },
    {
      "cell_type": "code",
      "metadata": {
        "id": "7vbxCuUZrAWY",
        "colab": {
          "base_uri": "https://localhost:8080/"
        },
        "outputId": "99c7a7ee-15d7-4b88-8e29-d852a3181c27"
      },
      "source": [
        "kr.best_estimator_"
      ],
      "id": "7vbxCuUZrAWY",
      "execution_count": 35,
      "outputs": [
        {
          "output_type": "execute_result",
          "data": {
            "text/plain": [
              "KernelRidge(alpha=0.01, coef0=2, degree=3, gamma=0.01, kernel='rbf',\n",
              "            kernel_params=None)"
            ]
          },
          "metadata": {
            "tags": []
          },
          "execution_count": 35
        }
      ]
    },
    {
      "cell_type": "code",
      "metadata": {
        "id": "OD8eMfRtrgq_",
        "colab": {
          "base_uri": "https://localhost:8080/"
        },
        "outputId": "0196ce58-f329-415c-af00-2db1e3ff83aa"
      },
      "source": [
        "kr.best_params_"
      ],
      "id": "OD8eMfRtrgq_",
      "execution_count": 36,
      "outputs": [
        {
          "output_type": "execute_result",
          "data": {
            "text/plain": [
              "{'alpha': 0.01, 'coef0': 2, 'degree': 3, 'gamma': 0.01, 'kernel': 'rbf'}"
            ]
          },
          "metadata": {
            "tags": []
          },
          "execution_count": 36
        }
      ]
    },
    {
      "cell_type": "code",
      "metadata": {
        "id": "og-DD6YLrl96",
        "colab": {
          "base_uri": "https://localhost:8080/"
        },
        "outputId": "152f2c60-45aa-4c4c-ebdc-0ed2eabd7337"
      },
      "source": [
        "kr.best_score_"
      ],
      "id": "og-DD6YLrl96",
      "execution_count": 37,
      "outputs": [
        {
          "output_type": "execute_result",
          "data": {
            "text/plain": [
              "0.6257712196969676"
            ]
          },
          "metadata": {
            "tags": []
          },
          "execution_count": 37
        }
      ]
    },
    {
      "cell_type": "code",
      "metadata": {
        "id": "UpmJshfmFswC",
        "colab": {
          "base_uri": "https://localhost:8080/"
        },
        "outputId": "4f464100-0d9f-4a8d-aa87-d58547aee602"
      },
      "source": [
        "#Train performance predict\n",
        "Y_predKR = kr.predict(X_train)\n",
        "Y_predKR"
      ],
      "id": "UpmJshfmFswC",
      "execution_count": 53,
      "outputs": [
        {
          "output_type": "execute_result",
          "data": {
            "text/plain": [
              "array([1.18419742, 0.89659486, 0.85145227, ..., 0.82226086, 0.99735944,\n",
              "       0.81393821])"
            ]
          },
          "metadata": {
            "tags": []
          },
          "execution_count": 53
        }
      ]
    },
    {
      "cell_type": "code",
      "metadata": {
        "id": "Rt89-2X3U0fg",
        "colab": {
          "base_uri": "https://localhost:8080/",
          "height": 286
        },
        "outputId": "d16338ae-a629-4098-ea1c-0b688c03e290"
      },
      "source": [
        "plt.plot(Y_train)"
      ],
      "id": "Rt89-2X3U0fg",
      "execution_count": 39,
      "outputs": [
        {
          "output_type": "execute_result",
          "data": {
            "text/plain": [
              "[<matplotlib.lines.Line2D at 0x7f53daad1d50>]"
            ]
          },
          "metadata": {
            "tags": []
          },
          "execution_count": 39
        },
        {
          "output_type": "display_data",
          "data": {
            "image/png": "[encoded data removed]",
            "text/plain": [
              "<Figure size 432x288 with 1 Axes>"
            ]
          },
          "metadata": {
            "tags": [],
            "needs_background": "light"
          }
        }
      ]
    },
    {
      "cell_type": "code",
      "metadata": {
        "id": "DQ1x4wNKUmXl",
        "colab": {
          "base_uri": "https://localhost:8080/",
          "height": 282
        },
        "outputId": "c0c315a6-7cc5-4327-a397-f2d89f27a270"
      },
      "source": [
        "plt.plot(Y_predKR)"
      ],
      "id": "DQ1x4wNKUmXl",
      "execution_count": 40,
      "outputs": [
        {
          "output_type": "execute_result",
          "data": {
            "text/plain": [
              "[<matplotlib.lines.Line2D at 0x7f53ecdfbe10>]"
            ]
          },
          "metadata": {
            "tags": []
          },
          "execution_count": 40
        },
        {
          "output_type": "display_data",
          "data": {
            "image/png": "[encoded data removed]",
            "text/plain": [
              "<Figure size 432x288 with 1 Axes>"
            ]
          },
          "metadata": {
            "tags": [],
            "needs_background": "light"
          }
        }
      ]
    },
    {
      "cell_type": "code",
      "metadata": {
        "id": "VzjSh0tSGvom",
        "colab": {
          "base_uri": "https://localhost:8080/"
        },
        "outputId": "efe55b22-5dae-4d66-84af-3fbea7ec1ce9"
      },
      "source": [
        "#Train score\n",
        "uu= ((Y_train -Y_predKR) ** 2).sum()\n",
        "v= ((Y_train - Y_train.mean()) ** 2).sum()\n",
        "scorek = 1-(uu/v)\n",
        "scorek"
      ],
      "id": "VzjSh0tSGvom",
      "execution_count": 54,
      "outputs": [
        {
          "output_type": "execute_result",
          "data": {
            "text/plain": [
              "0.6571975243401016"
            ]
          },
          "metadata": {
            "tags": []
          },
          "execution_count": 54
        }
      ]
    },
    {
      "cell_type": "code",
      "metadata": {
        "id": "kBaZTxWqoPIs",
        "colab": {
          "base_uri": "https://localhost:8080/"
        },
        "outputId": "37a69942-b56a-4cd2-ba6b-e3e7fdb843a3"
      },
      "source": [
        "#Train score\n",
        "kr.score(X_train,Y_train)"
      ],
      "id": "kBaZTxWqoPIs",
      "execution_count": 55,
      "outputs": [
        {
          "output_type": "execute_result",
          "data": {
            "text/plain": [
              "0.6571975243401017"
            ]
          },
          "metadata": {
            "tags": []
          },
          "execution_count": 55
        }
      ]
    },
    {
      "cell_type": "code",
      "metadata": {
        "id": "jMyS0OP_YBbR"
      },
      "source": [
        "#Test score \n",
        "Y_predKR_test = kr.predict(X_test)"
      ],
      "id": "jMyS0OP_YBbR",
      "execution_count": 43,
      "outputs": []
    },
    {
      "cell_type": "code",
      "metadata": {
        "id": "Izx5cGwXgk_G",
        "colab": {
          "base_uri": "https://localhost:8080/"
        },
        "outputId": "2529e7db-077a-4cc2-c57b-216c7d6dfabc"
      },
      "source": [
        "#Test score\n",
        "uu= ((Y_test -Y_predKR_test) ** 2).sum()\n",
        "v= ((Y_test - Y_test.mean()) ** 2).sum()\n",
        "scorek = 1-(uu/v)\n",
        "scorek"
      ],
      "id": "Izx5cGwXgk_G",
      "execution_count": 56,
      "outputs": [
        {
          "output_type": "execute_result",
          "data": {
            "text/plain": [
              "0.6168684351603742"
            ]
          },
          "metadata": {
            "tags": []
          },
          "execution_count": 56
        }
      ]
    },
    {
      "cell_type": "code",
      "metadata": {
        "id": "oHtMVyiwpKJI",
        "colab": {
          "base_uri": "https://localhost:8080/",
          "height": 282
        },
        "outputId": "39343996-27f8-4158-8fa0-089cc5d30f02"
      },
      "source": [
        "plt.plot(Y_predKR_test)"
      ],
      "id": "oHtMVyiwpKJI",
      "execution_count": 45,
      "outputs": [
        {
          "output_type": "execute_result",
          "data": {
            "text/plain": [
              "[<matplotlib.lines.Line2D at 0x7f53d0240ed0>]"
            ]
          },
          "metadata": {
            "tags": []
          },
          "execution_count": 45
        },
        {
          "output_type": "display_data",
          "data": {
            "image/png": "[encoded data removed]",
            "text/plain": [
              "<Figure size 432x288 with 1 Axes>"
            ]
          },
          "metadata": {
            "tags": [],
            "needs_background": "light"
          }
        }
      ]
    },
    {
      "cell_type": "code",
      "metadata": {
        "id": "mlHMWIq-o41x",
        "colab": {
          "base_uri": "https://localhost:8080/",
          "height": 282
        },
        "outputId": "99f3faff-c4cc-498c-dff9-9fd33a246534"
      },
      "source": [
        "plt.plot(Y_test)"
      ],
      "id": "mlHMWIq-o41x",
      "execution_count": 46,
      "outputs": [
        {
          "output_type": "execute_result",
          "data": {
            "text/plain": [
              "[<matplotlib.lines.Line2D at 0x7f53d0195e50>]"
            ]
          },
          "metadata": {
            "tags": []
          },
          "execution_count": 46
        },
        {
          "output_type": "display_data",
          "data": {
            "image/png": "[encoded data removed]",
            "text/plain": [
              "<Figure size 432x288 with 1 Axes>"
            ]
          },
          "metadata": {
            "tags": [],
            "needs_background": "light"
          }
        }
      ]
    },
    {
      "cell_type": "code",
      "metadata": {
        "colab": {
          "base_uri": "https://localhost:8080/",
          "height": 282
        },
        "id": "UzJUe-lgEDF_",
        "outputId": "0bb00364-c993-49ac-e527-6f47b0710e0f"
      },
      "source": [
        "plt.plot(Y_predKR_test)\n",
        "plt.plot(Y_test)"
      ],
      "id": "UzJUe-lgEDF_",
      "execution_count": 47,
      "outputs": [
        {
          "output_type": "execute_result",
          "data": {
            "text/plain": [
              "[<matplotlib.lines.Line2D at 0x7f53cfdb8f10>]"
            ]
          },
          "metadata": {
            "tags": []
          },
          "execution_count": 47
        },
        {
          "output_type": "display_data",
          "data": {
            "image/png": "[encoded data removed]",
            "text/plain": [
              "<Figure size 432x288 with 1 Axes>"
            ]
          },
          "metadata": {
            "tags": [],
            "needs_background": "light"
          }
        }
      ]
    },
    {
      "cell_type": "markdown",
      "metadata": {
        "id": "RtoxafTBHm4D"
      },
      "source": [
        ""
      ],
      "id": "RtoxafTBHm4D"
    },
    {
      "cell_type": "code",
      "metadata": {
        "id": "OVj_a9zDnyCX",
        "colab": {
          "base_uri": "https://localhost:8080/"
        },
        "outputId": "4762304e-70ad-4378-aa11-90feb376a719"
      },
      "source": [
        "#Test score\n",
        "kr.score(X_test,Y_test)\n"
      ],
      "id": "OVj_a9zDnyCX",
      "execution_count": 57,
      "outputs": [
        {
          "output_type": "execute_result",
          "data": {
            "text/plain": [
              "0.6168684351603742"
            ]
          },
          "metadata": {
            "tags": []
          },
          "execution_count": 57
        }
      ]
    },
    {
      "cell_type": "markdown",
      "metadata": {
        "id": "ihD83Id9GxkI"
      },
      "source": [
        "# The performance tends to improve the more data i give the model. But due to the long time it takes to train i have not been giving it the full range. In comparison to the lstm which took 100% of the data without any problem and performance and time were undetered. \n",
        "\n",
        "\n"
      ],
      "id": "ihD83Id9GxkI"
    },
    {
      "cell_type": "markdown",
      "metadata": {
        "id": "rmk2IdfJ-OcD"
      },
      "source": [
        "## Root mean square evaluation for the best model both for training and testing set. "
      ],
      "id": "rmk2IdfJ-OcD"
    },
    {
      "cell_type": "code",
      "metadata": {
        "colab": {
          "base_uri": "https://localhost:8080/"
        },
        "id": "HU3NngCMCivM",
        "outputId": "69ced426-34ab-4223-f4a5-aac0bfd53d46"
      },
      "source": [
        "#Root mean square error train\n",
        "trainScore = math.sqrt(mean_squared_error(Y_train,Y_predKR ))\n",
        "print('Train Score: %.2f RMSE' % (trainScore))"
      ],
      "id": "HU3NngCMCivM",
      "execution_count": 60,
      "outputs": [
        {
          "output_type": "stream",
          "text": [
            "Train Score: 0.57 RMSE\n"
          ],
          "name": "stdout"
        }
      ]
    },
    {
      "cell_type": "code",
      "metadata": {
        "colab": {
          "base_uri": "https://localhost:8080/"
        },
        "id": "_KxYiT8aDFjf",
        "outputId": "b891e07a-6783-41dd-82d7-a7e51354f7da"
      },
      "source": [
        "#Root mean square error test\n",
        "testScore = math.sqrt(mean_squared_error(Y_test, Y_predKR_test))\n",
        "print('Test Score: %.2f RMSE' % (testScore))"
      ],
      "id": "_KxYiT8aDFjf",
      "execution_count": 59,
      "outputs": [
        {
          "output_type": "stream",
          "text": [
            "Test Score: 0.54 RMSE\n"
          ],
          "name": "stdout"
        }
      ]
    },
    {
      "cell_type": "markdown",
      "metadata": {
        "id": "Vgz9tO0_93iK"
      },
      "source": [
        "# Gaussian Processes. (They they take long to train. The data used in this example is 15% of the whole data, and it took over 3hrs) So i dropped them due to that fact.Maybe i could reduce the number of kernels and parameters to train on."
      ],
      "id": "Vgz9tO0_93iK"
    },
    {
      "cell_type": "code",
      "metadata": {
        "id": "structural-share"
      },
      "source": [
        "tscv = TimeSeriesSplit(n_splits=3)\n",
        "\n",
        "k0 = WhiteKernel(noise_level=0.3**2, noise_level_bounds=(0.1**2, 0.5**2))\n",
        "\n",
        "k1 = ConstantKernel(constant_value=12) * \\\n",
        "  ExpSineSquared(length_scale=1.0, periodicity=40, periodicity_bounds=(35, 45))\n",
        "\n",
        "k2 = ConstantKernel(constant_value=10, constant_value_bounds=(1e-2, 1e3)) * \\\n",
        "  RBF(length_scale=1e2, length_scale_bounds=(1, 1e3)) \n",
        "\n",
        "kernel_2  = k0 + k1 + k2\n",
        "\n",
        "kernel_1  = kernel_2 #1.0 * RBF(1.0) #k\n",
        "\n",
        "kernels = [1.0 * RBF(length_scale=1.0, length_scale_bounds=(1e-1, 10.0)),\n",
        "           1.0 * RationalQuadratic(length_scale=1.0, alpha=0.1),\n",
        "           1.0 * ExpSineSquared(length_scale=1.0, periodicity=3.0,\n",
        "                                length_scale_bounds=(0.1, 10.0),\n",
        "                                periodicity_bounds=(1.0, 10.0)),\n",
        "           ConstantKernel(0.1, (0.01, 10.0))\n",
        "               * (DotProduct(sigma_0=1.0, sigma_0_bounds=(0.1, 10.0)) ** 2),\n",
        "           kernel_1\n",
        "           \n",
        "           ]\n",
        "\n",
        "\n",
        "param_grid = {\"alpha\": [10,1e0, 0.9,0.8,0.5],\n",
        "              \"kernel\":kernels,\n",
        "              \"normalize_y\":[True],\n",
        "              \"n_restarts_optimizer\":[8,10]\n",
        "              }           \n",
        "\n",
        "gpr = GridSearchCV(GaussianProcessRegressor(), param_grid=param_grid, cv=tscv,return_train_score=True)"
      ],
      "id": "structural-share",
      "execution_count": 37,
      "outputs": []
    },
    {
      "cell_type": "code",
      "metadata": {
        "id": "jx90OCZFT6_z",
        "colab": {
          "base_uri": "https://localhost:8080/"
        },
        "outputId": "405edbe0-24ff-4248-ce63-ff5b3ae634a2"
      },
      "source": [
        "\n",
        "gpr.fit(X_train, Y_train)"
      ],
      "id": "jx90OCZFT6_z",
      "execution_count": 38,
      "outputs": [
        {
          "output_type": "execute_result",
          "data": {
            "text/plain": [
              "GridSearchCV(cv=TimeSeriesSplit(max_train_size=None, n_splits=3),\n",
              "             error_score=nan,\n",
              "             estimator=GaussianProcessRegressor(alpha=1e-10, copy_X_train=True,\n",
              "                                                kernel=None,\n",
              "                                                n_restarts_optimizer=0,\n",
              "                                                normalize_y=False,\n",
              "                                                optimizer='fmin_l_bfgs_b',\n",
              "                                                random_state=None),\n",
              "             iid='deprecated', n_jobs=None,\n",
              "             param_grid={'alpha': [10, 1.0, 0.9, 0.8, 0.5],\n",
              "                         'kernel': [1**2 * RBF(length_scale=1),\n",
              "                                    1*..., length_scale=1),\n",
              "                                    1**2 * ExpSineSquared(length_scale=1, periodicity=3),\n",
              "                                    0.316**2 * DotProduct(sigma_0=1) ** 2,\n",
              "                                    WhiteKernel(noise_level=0.09) + 3.46**2 * ExpSineSquared(length_scale=1, periodicity=40) + 3.16**2 * RBF(length_scale=100)],\n",
              "                         'n_restarts_optimizer': [8, 10],\n",
              "                         'normalize_y': [True]},\n",
              "             pre_dispatch='2*n_jobs', refit=True, return_train_score=True,\n",
              "             scoring=None, verbose=0)"
            ]
          },
          "metadata": {
            "tags": []
          },
          "execution_count": 38
        }
      ]
    },
    {
      "cell_type": "code",
      "metadata": {
        "id": "paperback-cannon"
      },
      "source": [
        "y_pred = gpr.predict(X_test)"
      ],
      "id": "paperback-cannon",
      "execution_count": 39,
      "outputs": []
    },
    {
      "cell_type": "code",
      "metadata": {
        "id": "confused-smoke",
        "colab": {
          "base_uri": "https://localhost:8080/",
          "height": 282
        },
        "outputId": "7c364a3c-8e17-4efd-c7f5-1930edd44b32"
      },
      "source": [
        "plt.plot(y_pred)"
      ],
      "id": "confused-smoke",
      "execution_count": 40,
      "outputs": [
        {
          "output_type": "execute_result",
          "data": {
            "text/plain": [
              "[<matplotlib.lines.Line2D at 0x7fa148ebcb50>]"
            ]
          },
          "metadata": {
            "tags": []
          },
          "execution_count": 40
        },
        {
          "output_type": "display_data",
          "data": {
            "image/png": "[encoded data removed]",
            "text/plain": [
              "<Figure size 432x288 with 1 Axes>"
            ]
          },
          "metadata": {
            "tags": [],
            "needs_background": "light"
          }
        }
      ]
    },
    {
      "cell_type": "code",
      "metadata": {
        "id": "configured-crack",
        "colab": {
          "base_uri": "https://localhost:8080/",
          "height": 286
        },
        "outputId": "f8cacf16-e794-4813-eda0-cac93eda556b"
      },
      "source": [
        "plt.plot(Y_test)"
      ],
      "id": "configured-crack",
      "execution_count": 41,
      "outputs": [
        {
          "output_type": "execute_result",
          "data": {
            "text/plain": [
              "[<matplotlib.lines.Line2D at 0x7fa148e28f90>]"
            ]
          },
          "metadata": {
            "tags": []
          },
          "execution_count": 41
        },
        {
          "output_type": "display_data",
          "data": {
            "image/png": "[encoded data removed]",
            "text/plain": [
              "<Figure size 432x288 with 1 Axes>"
            ]
          },
          "metadata": {
            "tags": [],
            "needs_background": "light"
          }
        }
      ]
    },
    {
      "cell_type": "code",
      "metadata": {
        "id": "infectious-roots",
        "colab": {
          "base_uri": "https://localhost:8080/",
          "height": 282
        },
        "outputId": "8c2887cb-ff8a-48ab-fb8e-931607b9b152"
      },
      "source": [
        "plt.plot(y_pred)\n",
        "plt.plot(Y_test)"
      ],
      "id": "infectious-roots",
      "execution_count": 42,
      "outputs": [
        {
          "output_type": "execute_result",
          "data": {
            "text/plain": [
              "[<matplotlib.lines.Line2D at 0x7fa148ee53d0>]"
            ]
          },
          "metadata": {
            "tags": []
          },
          "execution_count": 42
        },
        {
          "output_type": "display_data",
          "data": {
            "image/png": "[encoded data removed]",
            "text/plain": [
              "<Figure size 432x288 with 1 Axes>"
            ]
          },
          "metadata": {
            "tags": [],
            "needs_background": "light"
          }
        }
      ]
    },
    {
      "cell_type": "code",
      "metadata": {
        "id": "center-extraction",
        "colab": {
          "base_uri": "https://localhost:8080/"
        },
        "outputId": "20e55ed9-7aca-42d1-a999-1e97250d1d04"
      },
      "source": [
        "gpr.best_estimator_"
      ],
      "id": "center-extraction",
      "execution_count": 43,
      "outputs": [
        {
          "output_type": "execute_result",
          "data": {
            "text/plain": [
              "GaussianProcessRegressor(alpha=10, copy_X_train=True,\n",
              "                         kernel=0.316**2 * DotProduct(sigma_0=1) ** 2,\n",
              "                         n_restarts_optimizer=10, normalize_y=True,\n",
              "                         optimizer='fmin_l_bfgs_b', random_state=None)"
            ]
          },
          "metadata": {
            "tags": []
          },
          "execution_count": 43
        }
      ]
    },
    {
      "cell_type": "code",
      "metadata": {
        "id": "charitable-smith",
        "colab": {
          "base_uri": "https://localhost:8080/"
        },
        "outputId": "6f36f4ba-bf23-4eb9-b46d-0045f81fff80"
      },
      "source": [
        "gpr.best_score_"
      ],
      "id": "charitable-smith",
      "execution_count": 44,
      "outputs": [
        {
          "output_type": "execute_result",
          "data": {
            "text/plain": [
              "0.40487514388827356"
            ]
          },
          "metadata": {
            "tags": []
          },
          "execution_count": 44
        }
      ]
    },
    {
      "cell_type": "code",
      "metadata": {
        "id": "figured-collapse",
        "colab": {
          "base_uri": "https://localhost:8080/"
        },
        "outputId": "60ec0c73-7575-4301-9b48-f999cc5be91a"
      },
      "source": [
        "gpr.best_params_"
      ],
      "id": "figured-collapse",
      "execution_count": 45,
      "outputs": [
        {
          "output_type": "execute_result",
          "data": {
            "text/plain": [
              "{'alpha': 10,\n",
              " 'kernel': 0.316**2 * DotProduct(sigma_0=1) ** 2,\n",
              " 'n_restarts_optimizer': 10,\n",
              " 'normalize_y': True}"
            ]
          },
          "metadata": {
            "tags": []
          },
          "execution_count": 45
        }
      ]
    },
    {
      "cell_type": "code",
      "metadata": {
        "id": "heavy-tucson",
        "colab": {
          "base_uri": "https://localhost:8080/"
        },
        "outputId": "8c0a51c8-8021-4e80-8006-cfe70869f0ec"
      },
      "source": [
        "gpr.score(X_train,Y_train)"
      ],
      "id": "heavy-tucson",
      "execution_count": 46,
      "outputs": [
        {
          "output_type": "execute_result",
          "data": {
            "text/plain": [
              "0.5726952139365772"
            ]
          },
          "metadata": {
            "tags": []
          },
          "execution_count": 46
        }
      ]
    },
    {
      "cell_type": "code",
      "metadata": {
        "id": "rTBk29G2kdPu",
        "colab": {
          "base_uri": "https://localhost:8080/"
        },
        "outputId": "1e23305d-12e6-463d-fd7c-f52a7ee758c0"
      },
      "source": [
        "gpr.score(X_test,Y_test)"
      ],
      "id": "rTBk29G2kdPu",
      "execution_count": 47,
      "outputs": [
        {
          "output_type": "execute_result",
          "data": {
            "text/plain": [
              "0.5817347174180031"
            ]
          },
          "metadata": {
            "tags": []
          },
          "execution_count": 47
        }
      ]
    },
    {
      "cell_type": "code",
      "metadata": {
        "id": "legendary-procedure",
        "colab": {
          "base_uri": "https://localhost:8080/"
        },
        "outputId": "5bbf0b09-e2c3-499b-c65f-c3ea86430199"
      },
      "source": [
        "#Score \n",
        "#score = 1-(u/v)\n",
        "u= ((Y_test - y_pred) ** 2).sum()\n",
        "v= ((Y_test - Y_test.mean()) ** 2).sum()\n",
        "score = 1-(u/v)\n",
        "score"
      ],
      "id": "legendary-procedure",
      "execution_count": 48,
      "outputs": [
        {
          "output_type": "execute_result",
          "data": {
            "text/plain": [
              "0.5817347174180031"
            ]
          },
          "metadata": {
            "tags": []
          },
          "execution_count": 48
        }
      ]
    },
    {
      "cell_type": "code",
      "metadata": {
        "id": "Fc5UTfMz6gZQ"
      },
      "source": [
        "y_pred_train = gpr.predict(X_train)"
      ],
      "id": "Fc5UTfMz6gZQ",
      "execution_count": 50,
      "outputs": []
    },
    {
      "cell_type": "code",
      "metadata": {
        "id": "2uLdI2FBFRtz",
        "colab": {
          "base_uri": "https://localhost:8080/"
        },
        "outputId": "5ea27b3f-f85f-4348-ecb7-0076c97d252c"
      },
      "source": [
        "import math\n",
        "trainScore = math.sqrt(mean_squared_error(Y_train,y_pred_train ))\n",
        "print('Train Score: %.2f RMSE' % (trainScore))"
      ],
      "id": "2uLdI2FBFRtz",
      "execution_count": 51,
      "outputs": [
        {
          "output_type": "stream",
          "text": [
            "Train Score: 0.54 RMSE\n"
          ],
          "name": "stdout"
        }
      ]
    },
    {
      "cell_type": "code",
      "metadata": {
        "colab": {
          "base_uri": "https://localhost:8080/"
        },
        "id": "hMH_5c096xCX",
        "outputId": "92808d78-1903-437a-bc34-e492ec6b8f04"
      },
      "source": [
        "testScore = math.sqrt(mean_squared_error(Y_test, y_pred))\n",
        "print('Test Score: %.2f RMSE' % (testScore))"
      ],
      "id": "hMH_5c096xCX",
      "execution_count": 52,
      "outputs": [
        {
          "output_type": "stream",
          "text": [
            "Test Score: 0.68 RMSE\n"
          ],
          "name": "stdout"
        }
      ]
    }
  ]
}