{
  "nbformat": 4,
  "nbformat_minor": 0,
  "metadata": {
    "colab": {
      "name": "Lstm.ipynb",
      "provenance": []
    },
    "kernelspec": {
      "name": "python3",
      "display_name": "Python 3"
    },
    "language_info": {
      "name": "python"
    }
  },
  "cells": [
    {
      "cell_type": "code",
      "metadata": {
        "id": "NGvOTgUeL-xk"
      },
      "source": [
        "import numpy as np\n",
        "import pandas as pd\n",
        "import matplotlib.pyplot as plt"
      ],
      "execution_count": 43,
      "outputs": []
    },
    {
      "cell_type": "code",
      "metadata": {
        "id": "SywzkZQXMXzM"
      },
      "source": [
        "import tensorflow as tf # tf.keras.Sequential()\n",
        "from tensorflow.keras import layers\n",
        "from sklearn.preprocessing import MinMaxScaler\n",
        "from sklearn.metrics import mean_squared_error"
      ],
      "execution_count": 44,
      "outputs": []
    },
    {
      "cell_type": "code",
      "metadata": {
        "colab": {
          "base_uri": "https://localhost:8080/"
        },
        "id": "PblXDIlma6Qc",
        "outputId": "25350ef3-6574-4d55-d71b-3d57ffc6c54b"
      },
      "source": [
        "from google.colab import drive\n",
        "drive.mount('/content/drive')"
      ],
      "execution_count": null,
      "outputs": [
        {
          "output_type": "stream",
          "text": [
            "Drive already mounted at /content/drive; to attempt to forcibly remount, call drive.mount(\"/content/drive\", force_remount=True).\n"
          ],
          "name": "stdout"
        }
      ]
    },
    {
      "cell_type": "code",
      "metadata": {
        "id": "x9WEupZPMgpF"
      },
      "source": [
        "df = pd.read_csv('/content/drive/My Drive/AML_exam.txt',sep='\\t',header=(0))"
      ],
      "execution_count": null,
      "outputs": []
    },
    {
      "cell_type": "code",
      "metadata": {
        "colab": {
          "base_uri": "https://localhost:8080/",
          "height": 197
        },
        "id": "vBQJb5XZMvjF",
        "outputId": "5620ad36-e67d-4012-bb87-c9ba9e4a0955"
      },
      "source": [
        "df.head()"
      ],
      "execution_count": null,
      "outputs": [
        {
          "output_type": "execute_result",
          "data": {
            "text/html": [
              "<div>\n",
              "<style scoped>\n",
              "    .dataframe tbody tr th:only-of-type {\n",
              "        vertical-align: middle;\n",
              "    }\n",
              "\n",
              "    .dataframe tbody tr th {\n",
              "        vertical-align: top;\n",
              "    }\n",
              "\n",
              "    .dataframe thead th {\n",
              "        text-align: right;\n",
              "    }\n",
              "</style>\n",
              "<table border=\"1\" class=\"dataframe\">\n",
              "  <thead>\n",
              "    <tr style=\"text-align: right;\">\n",
              "      <th></th>\n",
              "      <th>Unnamed: 0</th>\n",
              "      <th>datetime</th>\n",
              "      <th>speed</th>\n",
              "    </tr>\n",
              "  </thead>\n",
              "  <tbody>\n",
              "    <tr>\n",
              "      <th>0</th>\n",
              "      <td>0</td>\n",
              "      <td>201501010000</td>\n",
              "      <td>NaN</td>\n",
              "    </tr>\n",
              "    <tr>\n",
              "      <th>1</th>\n",
              "      <td>1</td>\n",
              "      <td>201501010100</td>\n",
              "      <td>NaN</td>\n",
              "    </tr>\n",
              "    <tr>\n",
              "      <th>2</th>\n",
              "      <td>2</td>\n",
              "      <td>201501010200</td>\n",
              "      <td>NaN</td>\n",
              "    </tr>\n",
              "    <tr>\n",
              "      <th>3</th>\n",
              "      <td>3</td>\n",
              "      <td>201501010300</td>\n",
              "      <td>NaN</td>\n",
              "    </tr>\n",
              "    <tr>\n",
              "      <th>4</th>\n",
              "      <td>4</td>\n",
              "      <td>201501010400</td>\n",
              "      <td>NaN</td>\n",
              "    </tr>\n",
              "  </tbody>\n",
              "</table>\n",
              "</div>"
            ],
            "text/plain": [
              "   Unnamed: 0      datetime  speed\n",
              "0           0  201501010000    NaN\n",
              "1           1  201501010100    NaN\n",
              "2           2  201501010200    NaN\n",
              "3           3  201501010300    NaN\n",
              "4           4  201501010400    NaN"
            ]
          },
          "metadata": {
            "tags": []
          },
          "execution_count": 7
        }
      ]
    },
    {
      "cell_type": "code",
      "metadata": {
        "colab": {
          "base_uri": "https://localhost:8080/"
        },
        "id": "MV2sGHQkMwjZ",
        "outputId": "2e2dab64-24c7-4dda-d7a4-4710dd25f4f6"
      },
      "source": [
        "df.columns"
      ],
      "execution_count": null,
      "outputs": [
        {
          "output_type": "execute_result",
          "data": {
            "text/plain": [
              "Index(['Unnamed: 0', 'datetime', 'speed'], dtype='object')"
            ]
          },
          "metadata": {
            "tags": []
          },
          "execution_count": 8
        }
      ]
    },
    {
      "cell_type": "code",
      "metadata": {
        "id": "G0IGJLtiM1fq"
      },
      "source": [
        "df.drop('Unnamed: 0',inplace=True,axis=1)"
      ],
      "execution_count": null,
      "outputs": []
    },
    {
      "cell_type": "code",
      "metadata": {
        "colab": {
          "base_uri": "https://localhost:8080/"
        },
        "id": "xJ-ACGEgM5DB",
        "outputId": "2603f13c-ab66-4e17-8106-5785221baf53"
      },
      "source": [
        "df.dtypes"
      ],
      "execution_count": null,
      "outputs": [
        {
          "output_type": "execute_result",
          "data": {
            "text/plain": [
              "datetime      int64\n",
              "speed       float64\n",
              "dtype: object"
            ]
          },
          "metadata": {
            "tags": []
          },
          "execution_count": 10
        }
      ]
    },
    {
      "cell_type": "code",
      "metadata": {
        "id": "kwuYwHzTM-Pd"
      },
      "source": [
        "df['datetime'] = pd.to_datetime(df['datetime'],format='%Y%m%d%H%M%S')"
      ],
      "execution_count": null,
      "outputs": []
    },
    {
      "cell_type": "code",
      "metadata": {
        "colab": {
          "base_uri": "https://localhost:8080/",
          "height": 197
        },
        "id": "PMJBqcgmNDu9",
        "outputId": "7da4c834-cc2b-442c-f31b-06e76ea2fd6f"
      },
      "source": [
        "df.head()"
      ],
      "execution_count": null,
      "outputs": [
        {
          "output_type": "execute_result",
          "data": {
            "text/html": [
              "<div>\n",
              "<style scoped>\n",
              "    .dataframe tbody tr th:only-of-type {\n",
              "        vertical-align: middle;\n",
              "    }\n",
              "\n",
              "    .dataframe tbody tr th {\n",
              "        vertical-align: top;\n",
              "    }\n",
              "\n",
              "    .dataframe thead th {\n",
              "        text-align: right;\n",
              "    }\n",
              "</style>\n",
              "<table border=\"1\" class=\"dataframe\">\n",
              "  <thead>\n",
              "    <tr style=\"text-align: right;\">\n",
              "      <th></th>\n",
              "      <th>datetime</th>\n",
              "      <th>speed</th>\n",
              "    </tr>\n",
              "  </thead>\n",
              "  <tbody>\n",
              "    <tr>\n",
              "      <th>0</th>\n",
              "      <td>2015-01-01 00:00:00</td>\n",
              "      <td>NaN</td>\n",
              "    </tr>\n",
              "    <tr>\n",
              "      <th>1</th>\n",
              "      <td>2015-01-01 01:00:00</td>\n",
              "      <td>NaN</td>\n",
              "    </tr>\n",
              "    <tr>\n",
              "      <th>2</th>\n",
              "      <td>2015-01-01 02:00:00</td>\n",
              "      <td>NaN</td>\n",
              "    </tr>\n",
              "    <tr>\n",
              "      <th>3</th>\n",
              "      <td>2015-01-01 03:00:00</td>\n",
              "      <td>NaN</td>\n",
              "    </tr>\n",
              "    <tr>\n",
              "      <th>4</th>\n",
              "      <td>2015-01-01 04:00:00</td>\n",
              "      <td>NaN</td>\n",
              "    </tr>\n",
              "  </tbody>\n",
              "</table>\n",
              "</div>"
            ],
            "text/plain": [
              "             datetime  speed\n",
              "0 2015-01-01 00:00:00    NaN\n",
              "1 2015-01-01 01:00:00    NaN\n",
              "2 2015-01-01 02:00:00    NaN\n",
              "3 2015-01-01 03:00:00    NaN\n",
              "4 2015-01-01 04:00:00    NaN"
            ]
          },
          "metadata": {
            "tags": []
          },
          "execution_count": 12
        }
      ]
    },
    {
      "cell_type": "code",
      "metadata": {
        "id": "6nnS1yrcNNFa"
      },
      "source": [
        "#So we gonna drop the null values since they do not offer us any insights\n",
        "df.dropna(inplace=True)"
      ],
      "execution_count": null,
      "outputs": []
    },
    {
      "cell_type": "code",
      "metadata": {
        "colab": {
          "base_uri": "https://localhost:8080/"
        },
        "id": "rzTI6PRQNVWU",
        "outputId": "80f7e67f-f170-49f8-8db0-26354cd26466"
      },
      "source": [
        "#new shape\n",
        "df.shape"
      ],
      "execution_count": null,
      "outputs": [
        {
          "output_type": "execute_result",
          "data": {
            "text/plain": [
              "(18549, 2)"
            ]
          },
          "metadata": {
            "tags": []
          },
          "execution_count": 14
        }
      ]
    },
    {
      "cell_type": "code",
      "metadata": {
        "colab": {
          "base_uri": "https://localhost:8080/",
          "height": 406
        },
        "id": "PCA1UF4INYUY",
        "outputId": "d43e8e3d-e679-4a01-b52c-8703a2a54a62"
      },
      "source": [
        "df"
      ],
      "execution_count": null,
      "outputs": [
        {
          "output_type": "execute_result",
          "data": {
            "text/html": [
              "<div>\n",
              "<style scoped>\n",
              "    .dataframe tbody tr th:only-of-type {\n",
              "        vertical-align: middle;\n",
              "    }\n",
              "\n",
              "    .dataframe tbody tr th {\n",
              "        vertical-align: top;\n",
              "    }\n",
              "\n",
              "    .dataframe thead th {\n",
              "        text-align: right;\n",
              "    }\n",
              "</style>\n",
              "<table border=\"1\" class=\"dataframe\">\n",
              "  <thead>\n",
              "    <tr style=\"text-align: right;\">\n",
              "      <th></th>\n",
              "      <th>datetime</th>\n",
              "      <th>speed</th>\n",
              "    </tr>\n",
              "  </thead>\n",
              "  <tbody>\n",
              "    <tr>\n",
              "      <th>16500</th>\n",
              "      <td>2016-11-18 12:00:00</td>\n",
              "      <td>2.098724</td>\n",
              "    </tr>\n",
              "    <tr>\n",
              "      <th>16501</th>\n",
              "      <td>2016-11-18 13:00:00</td>\n",
              "      <td>1.570473</td>\n",
              "    </tr>\n",
              "    <tr>\n",
              "      <th>16502</th>\n",
              "      <td>2016-11-18 14:00:00</td>\n",
              "      <td>2.194121</td>\n",
              "    </tr>\n",
              "    <tr>\n",
              "      <th>16503</th>\n",
              "      <td>2016-11-18 15:00:00</td>\n",
              "      <td>1.308761</td>\n",
              "    </tr>\n",
              "    <tr>\n",
              "      <th>16504</th>\n",
              "      <td>2016-11-18 16:00:00</td>\n",
              "      <td>0.522000</td>\n",
              "    </tr>\n",
              "    <tr>\n",
              "      <th>...</th>\n",
              "      <td>...</td>\n",
              "      <td>...</td>\n",
              "    </tr>\n",
              "    <tr>\n",
              "      <th>35059</th>\n",
              "      <td>2018-12-31 19:00:00</td>\n",
              "      <td>2.148734</td>\n",
              "    </tr>\n",
              "    <tr>\n",
              "      <th>35060</th>\n",
              "      <td>2018-12-31 20:00:00</td>\n",
              "      <td>1.608662</td>\n",
              "    </tr>\n",
              "    <tr>\n",
              "      <th>35061</th>\n",
              "      <td>2018-12-31 21:00:00</td>\n",
              "      <td>0.647012</td>\n",
              "    </tr>\n",
              "    <tr>\n",
              "      <th>35062</th>\n",
              "      <td>2018-12-31 22:00:00</td>\n",
              "      <td>1.206987</td>\n",
              "    </tr>\n",
              "    <tr>\n",
              "      <th>35063</th>\n",
              "      <td>2018-12-31 23:00:00</td>\n",
              "      <td>1.846268</td>\n",
              "    </tr>\n",
              "  </tbody>\n",
              "</table>\n",
              "<p>18549 rows × 2 columns</p>\n",
              "</div>"
            ],
            "text/plain": [
              "                 datetime     speed\n",
              "16500 2016-11-18 12:00:00  2.098724\n",
              "16501 2016-11-18 13:00:00  1.570473\n",
              "16502 2016-11-18 14:00:00  2.194121\n",
              "16503 2016-11-18 15:00:00  1.308761\n",
              "16504 2016-11-18 16:00:00  0.522000\n",
              "...                   ...       ...\n",
              "35059 2018-12-31 19:00:00  2.148734\n",
              "35060 2018-12-31 20:00:00  1.608662\n",
              "35061 2018-12-31 21:00:00  0.647012\n",
              "35062 2018-12-31 22:00:00  1.206987\n",
              "35063 2018-12-31 23:00:00  1.846268\n",
              "\n",
              "[18549 rows x 2 columns]"
            ]
          },
          "metadata": {
            "tags": []
          },
          "execution_count": 15
        }
      ]
    },
    {
      "cell_type": "code",
      "metadata": {
        "id": "B9PSULHPNeVa"
      },
      "source": [
        "data = df['speed'].values"
      ],
      "execution_count": null,
      "outputs": []
    },
    {
      "cell_type": "code",
      "metadata": {
        "colab": {
          "base_uri": "https://localhost:8080/"
        },
        "id": "Hbgsb1KyviBq",
        "outputId": "193e4ff4-97f9-4807-eb25-df72c816baef"
      },
      "source": [
        "scaler = MinMaxScaler(feature_range=(0,1))\n",
        "scaler.fit_transform(data.reshape(-1,1))"
      ],
      "execution_count": null,
      "outputs": [
        {
          "output_type": "execute_result",
          "data": {
            "text/plain": [
              "array([[0.26413294],\n",
              "       [0.19765048],\n",
              "       [0.27613909],\n",
              "       ...,\n",
              "       [0.08142909],\n",
              "       [0.1519043 ],\n",
              "       [0.23236036]])"
            ]
          },
          "metadata": {
            "tags": []
          },
          "execution_count": 17
        }
      ]
    },
    {
      "cell_type": "code",
      "metadata": {
        "id": "7jquqr7Zwo_n"
      },
      "source": [
        "data = scaler.fit_transform(data.reshape(-1,1))"
      ],
      "execution_count": null,
      "outputs": []
    },
    {
      "cell_type": "code",
      "metadata": {
        "id": "g-IaKIzyxYKz"
      },
      "source": [
        "train_size = int(len(data)*0.7)\n",
        "test_size = int(len(data)*0.3)"
      ],
      "execution_count": null,
      "outputs": []
    },
    {
      "cell_type": "code",
      "metadata": {
        "id": "nhoTKBHG5be9"
      },
      "source": [
        "train_ = data[0:train_size]"
      ],
      "execution_count": null,
      "outputs": []
    },
    {
      "cell_type": "code",
      "metadata": {
        "id": "pxYZ0w_kyR6v"
      },
      "source": [
        "X_train = data[0:int(train_size*0.7)]\n",
        "#X_train_val = train_[int(train_size*0.7):len(train_)]\n",
        "X_test = data[train_size:len(data):]\n",
        "X_test2 = data[train_size:len(data):]"
      ],
      "execution_count": null,
      "outputs": []
    },
    {
      "cell_type": "code",
      "metadata": {
        "id": "N6VKnL-a1NNQ"
      },
      "source": [
        "def sequences(data, step=1):\n",
        "    x = []\n",
        "    y = []\n",
        "    for i in range(len(data)-step-1):\n",
        "        window = data[i:(i+step), 0]\n",
        "        x.append(window)\n",
        "        y.append(data[i+step, 0])\n",
        "        \n",
        "    return np.array(x),np.array(y)"
      ],
      "execution_count": null,
      "outputs": []
    },
    {
      "cell_type": "code",
      "metadata": {
        "id": "hTOpkxAY27uD"
      },
      "source": [
        "steps = 3 # Feature extraction, we are looking 3 steps back\n",
        "X_train, Y_train = sequences(X_train, steps)\n",
        "X_test, Y_test = sequences(X_test, steps)\n",
        "X_test1, Y_test1 = sequences(X_test2, steps)"
      ],
      "execution_count": null,
      "outputs": []
    },
    {
      "cell_type": "code",
      "metadata": {
        "colab": {
          "base_uri": "https://localhost:8080/"
        },
        "id": "NCsepJkE9aV1",
        "outputId": "fa115cdf-c7a6-442e-bed3-d98463e53746"
      },
      "source": [
        "X_train.shape"
      ],
      "execution_count": null,
      "outputs": [
        {
          "output_type": "execute_result",
          "data": {
            "text/plain": [
              "(9084, 3)"
            ]
          },
          "metadata": {
            "tags": []
          },
          "execution_count": 24
        }
      ]
    },
    {
      "cell_type": "code",
      "metadata": {
        "id": "Vk1w5z1B9cip"
      },
      "source": [
        "X_train = np.reshape(X_train, (X_train.shape[0], 1, X_train.shape[1]))\n",
        "X_test = np.reshape(X_test, (X_test.shape[0], 1, X_test.shape[1]))"
      ],
      "execution_count": null,
      "outputs": []
    },
    {
      "cell_type": "code",
      "metadata": {
        "colab": {
          "base_uri": "https://localhost:8080/"
        },
        "id": "plxufa2LtLVH",
        "outputId": "129e4562-c0f8-43d2-af1b-0307e4be739c"
      },
      "source": [
        "X_train.shape"
      ],
      "execution_count": null,
      "outputs": [
        {
          "output_type": "execute_result",
          "data": {
            "text/plain": [
              "(9084, 1, 3)"
            ]
          },
          "metadata": {
            "tags": []
          },
          "execution_count": 26
        }
      ]
    },
    {
      "cell_type": "code",
      "metadata": {
        "colab": {
          "base_uri": "https://localhost:8080/"
        },
        "id": "kREuYoG6SPxj",
        "outputId": "f91f5101-6c34-45e5-965f-230b9f753970"
      },
      "source": [
        "X_test.shape"
      ],
      "execution_count": null,
      "outputs": [
        {
          "output_type": "execute_result",
          "data": {
            "text/plain": [
              "(5561, 1, 3)"
            ]
          },
          "metadata": {
            "tags": []
          },
          "execution_count": 27
        }
      ]
    },
    {
      "cell_type": "code",
      "metadata": {
        "colab": {
          "base_uri": "https://localhost:8080/"
        },
        "id": "5ASkKBCgtNU1",
        "outputId": "d928b6df-c990-4c58-e69d-c7dd1d6d4aef"
      },
      "source": [
        "model = tf.keras.Sequential()\n",
        "model.add(tf.keras.layers.LSTM(256, activation='relu', return_sequences=True, input_shape=(None, steps)))\n",
        "model.add(tf.keras.layers.LSTM(128, activation='relu'))\n",
        "model.add(tf.keras.layers.Dense(128))\n",
        "model.add(tf.keras.layers.Dense(64))\n",
        "model.add(tf.keras.layers.Dense(32))\n",
        "model.add(tf.keras.layers.Dense(1))\n",
        "\n",
        "\n",
        "#model = tf.keras.Sequential()\n",
        "#model.add(tf.keras.layers.Bidirectional(tf.keras.layers.LSTM(256), input_shape=(None, steps)))\n",
        "#model.add(tf.keras.layers.Dense(128))\n",
        "#model.add(tf.keras.layers.Dense(64))\n",
        "#model.add(tf.keras.layers.Dense(32))\n",
        "#model.add(tf.keras.layers.Dense(1,activation='relu'))\n",
        "\n",
        "#sgd = optimizers.SGD(lr=0.01, decay=1e-6, momentum=0.9, nesterov=True)\n",
        "#RMSprop\n",
        "\n",
        "model.compile(optimizer='adam', loss='mean_squared_error',metrics=['mse'])\n",
        "model.summary()"
      ],
      "execution_count": 62,
      "outputs": [
        {
          "output_type": "stream",
          "text": [
            "Model: \"sequential_1\"\n",
            "_________________________________________________________________\n",
            "Layer (type)                 Output Shape              Param #   \n",
            "=================================================================\n",
            "lstm_1 (LSTM)                (None, None, 256)         266240    \n",
            "_________________________________________________________________\n",
            "lstm_2 (LSTM)                (None, 128)               197120    \n",
            "_________________________________________________________________\n",
            "dense_4 (Dense)              (None, 128)               16512     \n",
            "_________________________________________________________________\n",
            "dense_5 (Dense)              (None, 64)                8256      \n",
            "_________________________________________________________________\n",
            "dense_6 (Dense)              (None, 32)                2080      \n",
            "_________________________________________________________________\n",
            "dense_7 (Dense)              (None, 1)                 33        \n",
            "=================================================================\n",
            "Total params: 490,241\n",
            "Trainable params: 490,241\n",
            "Non-trainable params: 0\n",
            "_________________________________________________________________\n"
          ],
          "name": "stdout"
        }
      ]
    },
    {
      "cell_type": "code",
      "metadata": {
        "colab": {
          "base_uri": "https://localhost:8080/"
        },
        "id": "hfGiQ8ZRx4PV",
        "outputId": "81d7da96-480a-4aad-acbc-3871dacb0d50"
      },
      "source": [
        "history = model.fit(X_train, Y_train, verbose=2, epochs=40, validation_split=0.31, batch_size=100)"
      ],
      "execution_count": 63,
      "outputs": [
        {
          "output_type": "stream",
          "text": [
            "Epoch 1/40\n",
            "63/63 - 4s - loss: 0.0135 - mse: 0.0135 - val_loss: 0.0058 - val_mse: 0.0058\n",
            "Epoch 2/40\n",
            "63/63 - 1s - loss: 0.0057 - mse: 0.0057 - val_loss: 0.0048 - val_mse: 0.0048\n",
            "Epoch 3/40\n",
            "63/63 - 1s - loss: 0.0056 - mse: 0.0056 - val_loss: 0.0048 - val_mse: 0.0048\n",
            "Epoch 4/40\n",
            "63/63 - 1s - loss: 0.0055 - mse: 0.0055 - val_loss: 0.0047 - val_mse: 0.0047\n",
            "Epoch 5/40\n",
            "63/63 - 1s - loss: 0.0056 - mse: 0.0056 - val_loss: 0.0060 - val_mse: 0.0060\n",
            "Epoch 6/40\n",
            "63/63 - 1s - loss: 0.0057 - mse: 0.0057 - val_loss: 0.0057 - val_mse: 0.0057\n",
            "Epoch 7/40\n",
            "63/63 - 1s - loss: 0.0054 - mse: 0.0054 - val_loss: 0.0046 - val_mse: 0.0046\n",
            "Epoch 8/40\n",
            "63/63 - 1s - loss: 0.0056 - mse: 0.0056 - val_loss: 0.0046 - val_mse: 0.0046\n",
            "Epoch 9/40\n",
            "63/63 - 1s - loss: 0.0054 - mse: 0.0054 - val_loss: 0.0048 - val_mse: 0.0048\n",
            "Epoch 10/40\n",
            "63/63 - 1s - loss: 0.0054 - mse: 0.0054 - val_loss: 0.0048 - val_mse: 0.0048\n",
            "Epoch 11/40\n",
            "63/63 - 1s - loss: 0.0054 - mse: 0.0054 - val_loss: 0.0048 - val_mse: 0.0048\n",
            "Epoch 12/40\n",
            "63/63 - 1s - loss: 0.0055 - mse: 0.0055 - val_loss: 0.0049 - val_mse: 0.0049\n",
            "Epoch 13/40\n",
            "63/63 - 1s - loss: 0.0055 - mse: 0.0055 - val_loss: 0.0046 - val_mse: 0.0046\n",
            "Epoch 14/40\n",
            "63/63 - 1s - loss: 0.0054 - mse: 0.0054 - val_loss: 0.0046 - val_mse: 0.0046\n",
            "Epoch 15/40\n",
            "63/63 - 1s - loss: 0.0053 - mse: 0.0053 - val_loss: 0.0046 - val_mse: 0.0046\n",
            "Epoch 16/40\n",
            "63/63 - 1s - loss: 0.0054 - mse: 0.0054 - val_loss: 0.0051 - val_mse: 0.0051\n",
            "Epoch 17/40\n",
            "63/63 - 1s - loss: 0.0055 - mse: 0.0055 - val_loss: 0.0052 - val_mse: 0.0052\n",
            "Epoch 18/40\n",
            "63/63 - 1s - loss: 0.0054 - mse: 0.0054 - val_loss: 0.0047 - val_mse: 0.0047\n",
            "Epoch 19/40\n",
            "63/63 - 1s - loss: 0.0055 - mse: 0.0055 - val_loss: 0.0051 - val_mse: 0.0051\n",
            "Epoch 20/40\n",
            "63/63 - 1s - loss: 0.0055 - mse: 0.0055 - val_loss: 0.0046 - val_mse: 0.0046\n",
            "Epoch 21/40\n",
            "63/63 - 1s - loss: 0.0055 - mse: 0.0055 - val_loss: 0.0048 - val_mse: 0.0048\n",
            "Epoch 22/40\n",
            "63/63 - 1s - loss: 0.0053 - mse: 0.0053 - val_loss: 0.0047 - val_mse: 0.0047\n",
            "Epoch 23/40\n",
            "63/63 - 1s - loss: 0.0054 - mse: 0.0054 - val_loss: 0.0046 - val_mse: 0.0046\n",
            "Epoch 24/40\n",
            "63/63 - 1s - loss: 0.0054 - mse: 0.0054 - val_loss: 0.0046 - val_mse: 0.0046\n",
            "Epoch 25/40\n",
            "63/63 - 1s - loss: 0.0054 - mse: 0.0054 - val_loss: 0.0046 - val_mse: 0.0046\n",
            "Epoch 26/40\n",
            "63/63 - 1s - loss: 0.0054 - mse: 0.0054 - val_loss: 0.0048 - val_mse: 0.0048\n",
            "Epoch 27/40\n",
            "63/63 - 1s - loss: 0.0055 - mse: 0.0055 - val_loss: 0.0050 - val_mse: 0.0050\n",
            "Epoch 28/40\n",
            "63/63 - 1s - loss: 0.0054 - mse: 0.0054 - val_loss: 0.0047 - val_mse: 0.0047\n",
            "Epoch 29/40\n",
            "63/63 - 1s - loss: 0.0054 - mse: 0.0054 - val_loss: 0.0046 - val_mse: 0.0046\n",
            "Epoch 30/40\n",
            "63/63 - 1s - loss: 0.0054 - mse: 0.0054 - val_loss: 0.0048 - val_mse: 0.0048\n",
            "Epoch 31/40\n",
            "63/63 - 1s - loss: 0.0054 - mse: 0.0054 - val_loss: 0.0048 - val_mse: 0.0048\n",
            "Epoch 32/40\n",
            "63/63 - 1s - loss: 0.0053 - mse: 0.0053 - val_loss: 0.0050 - val_mse: 0.0050\n",
            "Epoch 33/40\n",
            "63/63 - 1s - loss: 0.0053 - mse: 0.0053 - val_loss: 0.0046 - val_mse: 0.0046\n",
            "Epoch 34/40\n",
            "63/63 - 1s - loss: 0.0054 - mse: 0.0054 - val_loss: 0.0048 - val_mse: 0.0048\n",
            "Epoch 35/40\n",
            "63/63 - 1s - loss: 0.0053 - mse: 0.0053 - val_loss: 0.0047 - val_mse: 0.0047\n",
            "Epoch 36/40\n",
            "63/63 - 1s - loss: 0.0054 - mse: 0.0054 - val_loss: 0.0051 - val_mse: 0.0051\n",
            "Epoch 37/40\n",
            "63/63 - 1s - loss: 0.0053 - mse: 0.0053 - val_loss: 0.0047 - val_mse: 0.0047\n",
            "Epoch 38/40\n",
            "63/63 - 1s - loss: 0.0053 - mse: 0.0053 - val_loss: 0.0048 - val_mse: 0.0048\n",
            "Epoch 39/40\n",
            "63/63 - 1s - loss: 0.0055 - mse: 0.0055 - val_loss: 0.0046 - val_mse: 0.0046\n",
            "Epoch 40/40\n",
            "63/63 - 1s - loss: 0.0054 - mse: 0.0054 - val_loss: 0.0048 - val_mse: 0.0048\n"
          ],
          "name": "stdout"
        }
      ]
    },
    {
      "cell_type": "code",
      "metadata": {
        "colab": {
          "base_uri": "https://localhost:8080/"
        },
        "id": "xTbMyhrYaDGW",
        "outputId": "0a31b29d-42e2-4eaf-93e0-2a9f9eb5b983"
      },
      "source": [
        "X_train.shape"
      ],
      "execution_count": 64,
      "outputs": [
        {
          "output_type": "execute_result",
          "data": {
            "text/plain": [
              "(9084, 1, 3)"
            ]
          },
          "metadata": {
            "tags": []
          },
          "execution_count": 64
        }
      ]
    },
    {
      "cell_type": "code",
      "metadata": {
        "id": "3EMrCJUV05Ur"
      },
      "source": [
        "def plot_history(history):\n",
        "    # Plot training & validation accuracy values\n",
        "    plt.plot(history.history['mse'])\n",
        "    plt.plot(history.history['val_mse'])\n",
        "    plt.title('MSE accuracy')\n",
        "    plt.ylabel('Mean Square Error')\n",
        "    plt.xlabel('Epoch')\n",
        "    plt.legend(['Train', 'Val'], loc='upper left')\n",
        "    plt.show()\n",
        "\n",
        "    # Plot training & validation loss values\n",
        "    plt.plot(history.history['loss'])\n",
        "    plt.plot(history.history['val_loss'])\n",
        "    plt.title('Model loss')\n",
        "    plt.ylabel('Loss')\n",
        "    plt.xlabel('Epoch')\n",
        "    plt.legend(['Train', 'Val'], loc='upper left')\n",
        "    plt.show()"
      ],
      "execution_count": 65,
      "outputs": []
    },
    {
      "cell_type": "code",
      "metadata": {
        "colab": {
          "base_uri": "https://localhost:8080/",
          "height": 573
        },
        "id": "CtK6BpDQ4gO-",
        "outputId": "efaecc23-2e14-4c9d-cefe-8cc0fd7679d6"
      },
      "source": [
        "plot_history(history)"
      ],
      "execution_count": 66,
      "outputs": [
        {
          "output_type": "display_data",
          "data": {
            "image/png": "[encoded data removed]",
            "text/plain": [
              "<Figure size 432x288 with 1 Axes>"
            ]
          },
          "metadata": {
            "tags": [],
            "needs_background": "light"
          }
        },
        {
          "output_type": "display_data",
          "data": {
            "image/png": "[encoded data removed]",
            "text/plain": [
              "<Figure size 432x288 with 1 Axes>"
            ]
          },
          "metadata": {
            "tags": [],
            "needs_background": "light"
          }
        }
      ]
    },
    {
      "cell_type": "code",
      "metadata": {
        "colab": {
          "base_uri": "https://localhost:8080/"
        },
        "id": "aPqykghb4jNl",
        "outputId": "eca45bf0-2a50-423d-bf6a-6cbf01a765d2"
      },
      "source": [
        "train_loss = model.evaluate(X_train, Y_train, verbose=1)"
      ],
      "execution_count": 67,
      "outputs": [
        {
          "output_type": "stream",
          "text": [
            "284/284 [==============================] - 1s 4ms/step - loss: 0.0052 - mse: 0.0052\n"
          ],
          "name": "stdout"
        }
      ]
    },
    {
      "cell_type": "code",
      "metadata": {
        "id": "p5eJiNv0AfU1"
      },
      "source": [
        "# make predictions\n",
        "trainPredict = model.predict(X_train)\n",
        "testPredict = model.predict(X_test)"
      ],
      "execution_count": 68,
      "outputs": []
    },
    {
      "cell_type": "code",
      "metadata": {
        "id": "mtJsvEaeuTPu"
      },
      "source": [
        "trainPredict = scaler.inverse_transform(trainPredict)\n",
        "trainY = scaler.inverse_transform([Y_train])\n",
        "testPredict = scaler.inverse_transform(testPredict)\n",
        "testY = scaler.inverse_transform([Y_test])"
      ],
      "execution_count": 73,
      "outputs": []
    },
    {
      "cell_type": "code",
      "metadata": {
        "colab": {
          "base_uri": "https://localhost:8080/",
          "height": 286
        },
        "id": "w3ghLIZLvH1s",
        "outputId": "00ee4fb0-15af-47f5-cf2c-f656e106de9e"
      },
      "source": [
        "plt.plot(trainY[0])\n",
        "plt.plot(trainPredict)"
      ],
      "execution_count": 102,
      "outputs": [
        {
          "output_type": "execute_result",
          "data": {
            "text/plain": [
              "[<matplotlib.lines.Line2D at 0x7f8edc5e1750>]"
            ]
          },
          "metadata": {
            "tags": []
          },
          "execution_count": 102
        },
        {
          "output_type": "display_data",
          "data": {
            "image/png": "[encoded data removed]",
            "text/plain": [
              "<Figure size 432x288 with 1 Axes>"
            ]
          },
          "metadata": {
            "tags": [],
            "needs_background": "light"
          }
        }
      ]
    },
    {
      "cell_type": "code",
      "metadata": {
        "colab": {
          "base_uri": "https://localhost:8080/",
          "height": 355
        },
        "id": "_9nRgcR3M8ey",
        "outputId": "da17bc2d-1e87-40ab-d757-49c157e3082f"
      },
      "source": [
        "fig, (ax1, ax2) = plt.subplots(1,2)\n",
        "fig.suptitle('True Train and Predicted Train')\n",
        "ax1.plot(trainY[0])\n",
        "ax1.set_title('True Train Y')\n",
        "ax2.plot(trainPredict)\n",
        "ax2.set_title('Predicted Train Y')\n",
        "fig.set_figheight(5)\n",
        "fig.set_figwidth(15)"
      ],
      "execution_count": 106,
      "outputs": [
        {
          "output_type": "display_data",
          "data": {
            "image/png": "[encoded data removed]",
            "text/plain": [
              "<Figure size 1080x360 with 2 Axes>"
            ]
          },
          "metadata": {
            "tags": [],
            "needs_background": "light"
          }
        }
      ]
    },
    {
      "cell_type": "code",
      "metadata": {
        "colab": {
          "base_uri": "https://localhost:8080/",
          "height": 282
        },
        "id": "JKebZ6YAU_by",
        "outputId": "a10cecf4-d69d-481e-d671-744768e0d049"
      },
      "source": [
        "plt.plot(testY[0])\n",
        "plt.plot(testPredict)"
      ],
      "execution_count": 107,
      "outputs": [
        {
          "output_type": "execute_result",
          "data": {
            "text/plain": [
              "[<matplotlib.lines.Line2D at 0x7f8ed689d450>]"
            ]
          },
          "metadata": {
            "tags": []
          },
          "execution_count": 107
        },
        {
          "output_type": "display_data",
          "data": {
            "image/png": "[encoded data removed]",
            "text/plain": [
              "<Figure size 432x288 with 1 Axes>"
            ]
          },
          "metadata": {
            "tags": [],
            "needs_background": "light"
          }
        }
      ]
    },
    {
      "cell_type": "code",
      "metadata": {
        "colab": {
          "base_uri": "https://localhost:8080/",
          "height": 355
        },
        "id": "_Ie6_2lYwcdS",
        "outputId": "206e0db4-7a17-4526-a0a8-8724d3e2e0d6"
      },
      "source": [
        "fig, (ax1, ax2) = plt.subplots(1,2)\n",
        "fig.suptitle('True Test and Predicted Test')\n",
        "ax1.plot(testY[0])\n",
        "ax1.set_title('True Test Y')\n",
        "ax2.plot(testPredict)\n",
        "ax2.set_title('Predicted Test Y')\n",
        "fig.set_figheight(5)\n",
        "fig.set_figwidth(15)"
      ],
      "execution_count": 105,
      "outputs": [
        {
          "output_type": "display_data",
          "data": {
            "image/png": "[encoded data removed]",
            "text/plain": [
              "<Figure size 1080x360 with 2 Axes>"
            ]
          },
          "metadata": {
            "tags": [],
            "needs_background": "light"
          }
        }
      ]
    },
    {
      "cell_type": "code",
      "metadata": {
        "colab": {
          "base_uri": "https://localhost:8080/"
        },
        "id": "vggJ_wWnwgMx",
        "outputId": "b9b9d8b9-4064-4b5e-fc66-964d61c89376"
      },
      "source": [
        "# Root mean square error between the predicted and the true values of Y\n",
        "import math\n",
        "trainScore = math.sqrt(mean_squared_error(trainY[0], trainPredict[:,0]))\n",
        "print('Train Score: %.2f RMSE' % (trainScore))"
      ],
      "execution_count": 108,
      "outputs": [
        {
          "output_type": "stream",
          "text": [
            "Train Score: 0.57 RMSE\n"
          ],
          "name": "stdout"
        }
      ]
    },
    {
      "cell_type": "code",
      "metadata": {
        "colab": {
          "base_uri": "https://localhost:8080/"
        },
        "id": "PteMXrza8mO2",
        "outputId": "6e0f7076-7ce4-435a-a6fd-88904277374e"
      },
      "source": [
        "testScore = math.sqrt(mean_squared_error(testY[0], testPredict[:,0]))\n",
        "print('Test Score: %.2f RMSE' % (testScore))"
      ],
      "execution_count": 109,
      "outputs": [
        {
          "output_type": "stream",
          "text": [
            "Test Score: 0.54 RMSE\n"
          ],
          "name": "stdout"
        }
      ]
    },
    {
      "cell_type": "code",
      "metadata": {
        "id": "o_dmMoCzJgqn"
      },
      "source": [
        ""
      ],
      "execution_count": null,
      "outputs": []
    }
  ]
}