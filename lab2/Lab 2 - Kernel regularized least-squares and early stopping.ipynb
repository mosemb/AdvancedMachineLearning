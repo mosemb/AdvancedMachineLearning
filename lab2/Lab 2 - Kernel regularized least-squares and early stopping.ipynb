{
 "cells": [
  {
   "cell_type": "markdown",
   "id": "other-happiness",
   "metadata": {},
   "source": [
    "# Lab 2: Kernel regularized least-squares and early stopping\n",
    "\n",
    "## Exercises:"
   ]
  },
  {
   "cell_type": "code",
   "execution_count": 1,
   "id": "permanent-toner",
   "metadata": {},
   "outputs": [],
   "source": [
    "import numpy as np\n",
    "import matplotlib.pyplot as plt\n",
    "\n",
    "# import all the functions needed for this lab\n",
    "from utils import *"
   ]
  },
  {
   "cell_type": "markdown",
   "id": "correct-geography",
   "metadata": {},
   "source": [
    "### 0. Data loading and visualization\n",
    "\n",
    "1. Load the 2 moons dataset using the `two_moons` function defined in `utils.py`. Since this dataset is 2D you can plot it using matplotlib with the following sample code:"
   ]
  },
  {
   "cell_type": "code",
   "execution_count": null,
   "id": "stopped-membership",
   "metadata": {},
   "outputs": [],
   "source": [
    "Xtr, Ytr, Xte, Yte = two_moons(pflip=10)\n",
    "fig, ax = plt.subplots()\n",
    "ax.scatter(Xtr[Ytr == +1, 0], Xtr[Ytr == +1, 1], color='r')\n",
    "ax.scatter(Xtr[Ytr == -1, 0], Xtr[Ytr == -1, 1], color='b')"
   ]
  },
  {
   "cell_type": "markdown",
   "id": "intense-cover",
   "metadata": {},
   "source": [
    "2. Explore the effect of the noise on the dataset: load the data again flipping some of the labels (change the `pflip` argument of the `two_moons` function). Check whether you can see the flipped labels in the plots of the data."
   ]
  },
  {
   "cell_type": "code",
   "execution_count": 3,
   "id": "charming-welding",
   "metadata": {},
   "outputs": [],
   "source": [
    "#TODO"
   ]
  },
  {
   "cell_type": "markdown",
   "id": "adequate-infrared",
   "metadata": {},
   "source": [
    "3. What kind of effect do you expect on classification performance if you increase the label noise?"
   ]
  },
  {
   "cell_type": "code",
   "execution_count": 4,
   "id": "extraordinary-third",
   "metadata": {},
   "outputs": [],
   "source": [
    "#TODO"
   ]
  },
  {
   "cell_type": "markdown",
   "id": "excess-viewer",
   "metadata": {},
   "source": [
    "### 1. KRLS\n",
    "\n",
    "Fix the amount of label noise to 10%.\n",
    "\n",
    "1. Use the Gaussian kernel. Fix some values for the penalty, and for the length-scale. Fit a KRLS model to the training data, and calculate the classification error on the training and test data.\n",
    "\n",
    "    **Hint:** You will have to use the `train_krls` function for training, `linear_predict` function to compute test predictions and `c_err` to calculate the error. Check the doc-strings at the top of the functions defined in this notebook for help on how to use them.\n",
    "    Note that you can replace `Xte` with `Xtr` in `linear_predict` to compute predictions on the training data and then use `c_err` to compute the training error."
   ]
  },
  {
   "cell_type": "code",
   "execution_count": 5,
   "id": "touched-hunter",
   "metadata": {},
   "outputs": [],
   "source": [
    "#TODO"
   ]
  },
  {
   "cell_type": "markdown",
   "id": "incident-studio",
   "metadata": {},
   "source": [
    "2. Fix some value for the kernel length-scale. Explore the effect of regularization on classification performance: use the `plot_sep_func` function to visualize how the boundary between the class-labels changes as the regularization changes."
   ]
  },
  {
   "cell_type": "code",
   "execution_count": 1,
   "id": "wrapped-consultancy",
   "metadata": {},
   "outputs": [],
   "source": [
    "#TODO"
   ]
  },
  {
   "cell_type": "markdown",
   "id": "standing-yahoo",
   "metadata": {},
   "source": [
    "3. Fix some value for the regularization parameter. Explore the effect of changing the kernel length-scale: use the `plot_sep_func` function to visualize how the boundary between the class-labels changes."
   ]
  },
  {
   "cell_type": "code",
   "execution_count": 11,
   "id": "forward-threshold",
   "metadata": {},
   "outputs": [],
   "source": [
    "#TODO"
   ]
  },
  {
   "cell_type": "markdown",
   "id": "smaller-possession",
   "metadata": {},
   "source": [
    "4. **Plot how the training and test errors change versus the amount of regularization with kernel length-scale fixed to 0.5**, and comment on your findings."
   ]
  },
  {
   "cell_type": "code",
   "execution_count": 2,
   "id": "greenhouse-norman",
   "metadata": {},
   "outputs": [],
   "source": [
    "reg_pars = [10, 7, 5, 2, 1, 0.7, 0.5, 0.3, 0.2, 0.1, 0.05, 0.02,\n",
    "            0.01, 0.005 , 0.002 , 0.001 ,0.0005, 0.0002 , 0.0001 ,\n",
    "            0.00001 , 0.000001]"
   ]
  },
  {
   "cell_type": "code",
   "execution_count": 15,
   "id": "taken-absorption",
   "metadata": {},
   "outputs": [],
   "source": [
    "#TODO"
   ]
  },
  {
   "cell_type": "markdown",
   "id": "surrounded-lesson",
   "metadata": {},
   "source": [
    "5. Repeat the previous step with 5%, 20% and 50% of flipped labels. Explain the behavior of test and training errors."
   ]
  },
  {
   "cell_type": "code",
   "execution_count": 16,
   "id": "brilliant-expert",
   "metadata": {},
   "outputs": [],
   "source": [
    "#TODO"
   ]
  },
  {
   "cell_type": "markdown",
   "id": "informal-importance",
   "metadata": {},
   "source": [
    "6. Fix `fplip=10`. Using the Gaussian and the Polynomial kernel, use **cross-validation** as in the previous lab to find the best values of\n",
    " - the kernel parameter (length-scale for the Gaussian kernel, exponent for the polynomial kernel)\n",
    " - the amount of regularization\n",
    " \n",
    "     Plot the decision boundaries."
   ]
  },
  {
   "cell_type": "code",
   "execution_count": 17,
   "id": "filled-pioneer",
   "metadata": {},
   "outputs": [],
   "source": [
    "#TODO"
   ]
  },
  {
   "cell_type": "markdown",
   "id": "english-difficulty",
   "metadata": {},
   "source": [
    "### 2. Kernel Least Squares with Early Stopping.\n",
    "\n",
    "1. Use the Gaussian kernel. Fix some values for the number of iterations and the length-scale. Fit an iterative KLS model to the training data, calculating classification error on the test data."
   ]
  },
  {
   "cell_type": "markdown",
   "id": "elegant-poultry",
   "metadata": {},
   "source": [
    "2. Fix some value for the kernel length-scale (use the same value as in the previous exercise). Explore the effect of the number of iterations on classifiation performance using the `plot_sep_func`. Comment on how the boundary changes as the number of iterations changes."
   ]
  },
  {
   "cell_type": "code",
   "execution_count": 20,
   "id": "suited-safety",
   "metadata": {},
   "outputs": [],
   "source": [
    "#TODO"
   ]
  },
  {
   "cell_type": "markdown",
   "id": "excessive-nepal",
   "metadata": {},
   "source": [
    "3. **Repeat step 1.4 using the number of iterations**, and comment on differences/similarities to KRLS (previous exercise)."
   ]
  },
  {
   "cell_type": "code",
   "execution_count": 3,
   "id": "central-disaster",
   "metadata": {},
   "outputs": [],
   "source": [
    "n_iter = [1, 10, 25, 50, 75, 100, 150, 200, 500, 750, 1000, 2000, 3000]"
   ]
  },
  {
   "cell_type": "code",
   "execution_count": 22,
   "id": "cosmetic-shower",
   "metadata": {},
   "outputs": [],
   "source": [
    "#TODO"
   ]
  },
  {
   "cell_type": "markdown",
   "id": "entertaining-methodology",
   "metadata": {},
   "source": [
    "### 3. (bonus) Multi-path KRLS\n",
    "\n",
    "At the heart of the KRLS algorithm is the following problem:\n",
    "\n",
    "$$\n",
    "c = (K + \\lambda I_{n\\times n})^{-1} y\n",
    "$$\n",
    "\n",
    "Solving the problem for a single value of $\\lambda$ takes $O(n^3)$ operations if $K$ is of size $n\\times n$. In this lab we had to solve the linear system above for several values of $\\lambda$.\n",
    "\n",
    "Do we have to pay $O(n^3)$ for each $\\lambda$? Given multiple values for $\\lambda$, is there a faster way to solve the problem above once we have solved it for the first value of $\\lambda$?\n",
    "**Hint:** any symmetric matrix $S$ has an eigenvalue decomposition as $U\\Lambda U^\\top$."
   ]
  },
  {
   "cell_type": "code",
   "execution_count": 1,
   "metadata": {},
   "outputs": [],
   "source": [
    "#TODO"
   ]
  }
 ],
 "metadata": {
  "kernelspec": {
   "display_name": "Python 3",
   "language": "python",
   "name": "python3"
  },
  "language_info": {
   "codemirror_mode": {
    "name": "ipython",
    "version": 3
   },
   "file_extension": ".py",
   "mimetype": "text/x-python",
   "name": "python",
   "nbconvert_exporter": "python",
   "pygments_lexer": "ipython3",
   "version": "3.8.5-final"
  }
 },
 "nbformat": 4,
 "nbformat_minor": 5
}