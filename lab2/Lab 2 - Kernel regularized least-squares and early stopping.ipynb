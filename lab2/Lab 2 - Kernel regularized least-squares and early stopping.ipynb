{
 "cells": [
  {
   "cell_type": "markdown",
   "id": "other-happiness",
   "metadata": {},
   "source": [
    "# Lab 2: Kernel regularized least-squares and early stopping\n",
    "\n",
    "## Exercises:"
   ]
  },
  {
   "cell_type": "code",
   "execution_count": 1,
   "id": "permanent-toner",
   "metadata": {},
   "outputs": [],
   "source": [
    "import numpy as np\n",
    "import matplotlib.pyplot as plt\n",
    "\n",
    "# import all the functions needed for this lab\n",
    "from utils import *"
   ]
  },
  {
   "cell_type": "markdown",
   "id": "correct-geography",
   "metadata": {},
   "source": [
    "### 0. Data loading and visualization\n",
    "\n",
    "1. Load the 2 moons dataset using the `two_moons` function defined in `utils.py`. Since this dataset is 2D you can plot it using matplotlib with the following sample code:"
   ]
  },
  {
   "cell_type": "code",
   "execution_count": 28,
   "id": "stopped-membership",
   "metadata": {},
   "outputs": [
    {
     "data": {
      "text/plain": [
       "<matplotlib.collections.PathCollection at 0x7fdb3824aeb0>"
      ]
     },
     "execution_count": 28,
     "metadata": {},
     "output_type": "execute_result"
    },
    {
     "data": {
      "image/png": "[encoded data removed]",
      "text/plain": [
       "<Figure size 432x288 with 1 Axes>"
      ]
     },
     "metadata": {
      "needs_background": "light"
     },
     "output_type": "display_data"
    }
   ],
   "source": [
    "Xtr, Ytr, Xte, Yte = two_moons(pflip=0)\n",
    "fig, ax = plt.subplots()\n",
    "ax.scatter(Xtr[Ytr == +1, 0], Xtr[Ytr == +1, 1], color='r')\n",
    "ax.scatter(Xtr[Ytr == -1, 0], Xtr[Ytr == -1, 1], color='b')"
   ]
  },
  {
   "cell_type": "markdown",
   "id": "intense-cover",
   "metadata": {},
   "source": [
    "2. Explore the effect of the noise on the dataset: load the data again flipping some of the labels (change the `pflip` argument of the `two_moons` function). Check whether you can see the flipped labels in the plots of the data."
   ]
  },
  {
   "cell_type": "code",
   "execution_count": 29,
   "id": "charming-welding",
   "metadata": {},
   "outputs": [
    {
     "data": {
      "text/plain": [
       "<matplotlib.collections.PathCollection at 0x7fdb381a4eb0>"
      ]
     },
     "execution_count": 29,
     "metadata": {},
     "output_type": "execute_result"
    },
    {
     "data": {
      "image/png": "[encoded data removed]",
      "text/plain": [
       "<Figure size 432x288 with 1 Axes>"
      ]
     },
     "metadata": {
      "needs_background": "light"
     },
     "output_type": "display_data"
    }
   ],
   "source": [
    "#TODO\n",
    "Xtr, Ytr, Xte, Yte = two_moons(pflip=0)\n",
    "fig, ax = plt.subplots()\n",
    "ax.scatter(Xtr[Ytr == +1, 0], Xtr[Ytr == +1, 1], color='r')\n",
    "ax.scatter(Xtr[Ytr == -1, 0], Xtr[Ytr == -1, 1], color='b')"
   ]
  },
  {
   "cell_type": "markdown",
   "id": "adequate-infrared",
   "metadata": {},
   "source": [
    "3. What kind of effect do you expect on classification performance if you increase the label noise?"
   ]
  },
  {
   "cell_type": "code",
   "execution_count": 30,
   "id": "extraordinary-third",
   "metadata": {},
   "outputs": [],
   "source": [
    "#TODO\n",
    "#1. Basically when you increase label noise the classification problem is going to become much more harder. And that\n",
    "# Mean that the classifier is going to work extra hard to pick out the hard points to classify. \n",
    "#2. Classifier performance is going to decrease in this case as well. Where you you have had say 98% the performance\n",
    "#might drop to say 70% or less due the hard points to classify in the dataset. "
   ]
  },
  {
   "cell_type": "markdown",
   "id": "excess-viewer",
   "metadata": {},
   "source": [
    "### 1. KRLS\n",
    "\n",
    "Fix the amount of label noise to 10%.\n",
    "\n",
    "1. Use the Gaussian kernel. Fix some values for the penalty, and for the length-scale. Fit a KRLS model to the training data, and calculate the classification error on the training and test data.\n",
    "\n",
    "    **Hint:** You will have to use the `train_krls` function for training, `linear_predict` function to compute test predictions and `c_err` to calculate the error. Check the doc-strings at the top of the functions defined in this notebook for help on how to use them.\n",
    "    Note that you can replace `Xte` with `Xtr` in `linear_predict` to compute predictions on the training data and then use `c_err` to compute the training error."
   ]
  },
  {
   "cell_type": "code",
   "execution_count": 46,
   "id": "touched-hunter",
   "metadata": {},
   "outputs": [
    {
     "data": {
      "text/plain": [
       "array([-0.14246515, -0.26439922, -0.1753018 ,  0.20285727,  0.1306169 ,\n",
       "       -0.05515743, -0.25950264, -0.00798148, -0.16917356,  0.0788075 ,\n",
       "       -0.06182302, -0.05024768, -0.12242145,  0.07032929, -0.11217879,\n",
       "        0.09716212, -0.14853194,  0.14717182, -0.07969315, -0.18505203,\n",
       "        0.15481164, -0.15366713, -0.17203358, -0.20509579, -0.24571644,\n",
       "       -0.22738038, -0.11802535,  0.16999287, -0.10001743,  0.14661497,\n",
       "        0.05601036, -0.19104567, -0.20682226, -0.14823941, -0.26521563,\n",
       "        0.14152066, -0.11671438, -0.17661603, -0.10176843, -0.23985872,\n",
       "       -0.05795721, -0.23809123, -0.17460922, -0.15676694, -0.24016191,\n",
       "       -0.25839046, -0.09682959, -0.23484458, -0.22842181, -0.22416109,\n",
       "       -0.04514107,  0.07534605, -0.21778341, -0.16418018, -0.20985659,\n",
       "       -0.24161483, -0.26542972,  0.09714778,  0.14656155, -0.25887873,\n",
       "       -0.07785567, -0.12815634, -0.07472912, -0.05948038, -0.18533879,\n",
       "       -0.09556989, -0.25242992, -0.14110094, -0.0856106 , -0.23660396,\n",
       "       -0.2332704 , -0.28839834,  0.16934071, -0.17746196, -0.2537975 ,\n",
       "       -0.22660578, -0.13200717, -0.08690724, -0.16196655, -0.182692  ,\n",
       "       -0.14617952, -0.22475579, -0.12600182, -0.07310609, -0.23568199,\n",
       "        0.05122965, -0.23907544,  0.13181526, -0.15483982, -0.2493213 ,\n",
       "       -0.08986005, -0.16738502, -0.23688036, -0.19305565, -0.17999652,\n",
       "       -0.03800773, -0.04200895, -0.14950953, -0.14955746, -0.18593063,\n",
       "       -0.06840199, -0.10574478,  0.26553   ,  0.11168146,  0.05341877,\n",
       "        0.00145426,  0.20621728,  0.10872661,  0.24922759,  0.01228529,\n",
       "       -0.17601049,  0.15720656, -0.04115475, -0.19235304,  0.00653402,\n",
       "        0.18680316,  0.05169103,  0.20651565, -0.18587899,  0.24341331,\n",
       "        0.20827118,  0.21040585,  0.22354781, -0.03002837,  0.21692768,\n",
       "       -0.06300522,  0.11594586,  0.12889907,  0.13087258,  0.15350192,\n",
       "        0.06114565,  0.23449002,  0.13657799,  0.11818054,  0.21845263,\n",
       "        0.11840251,  0.14009151,  0.16782269,  0.12750305, -0.16993383,\n",
       "        0.21927275,  0.22498419, -0.04912379,  0.07069686, -0.0698439 ,\n",
       "        0.06793222,  0.16456837,  0.24392518, -0.19315266,  0.2284993 ,\n",
       "        0.0557229 ,  0.02486427, -0.01671378, -0.06127966,  0.03784257,\n",
       "        0.08046701,  0.13396029,  0.21951179, -0.04658089,  0.12121539,\n",
       "       -0.05089388, -0.21131251,  0.08554705,  0.24062784,  0.23570659,\n",
       "        0.21737935,  0.1960261 ,  0.02372682,  0.23115984,  0.20227488,\n",
       "        0.21973696,  0.26289535,  0.218273  ,  0.25108783, -0.10114659,\n",
       "        0.25290452,  0.17751922, -0.13282196, -0.1187625 , -0.05671716,\n",
       "        0.25008755,  0.19704539,  0.22138591,  0.01194243, -0.2110673 ,\n",
       "        0.21447027,  0.06268184,  0.05089427,  0.0922885 ,  0.14440866,\n",
       "       -0.19379702,  0.21476473,  0.15039246,  0.05254301, -0.18461417,\n",
       "        0.18547393,  0.22949121,  0.21842919,  0.19028985,  0.22398722])"
      ]
     },
     "execution_count": 46,
     "metadata": {},
     "output_type": "execute_result"
    }
   ],
   "source": [
    "c = train_krls(Xtr, Ytr, lam=0.3, kernel='gaussian', kernel_args=2)\n",
    "y =  linear_predict(c, Xtr, Xte, kernel='gaussian', kernel_args=2)\n",
    "y\n"
   ]
  },
  {
   "cell_type": "markdown",
   "id": "incident-studio",
   "metadata": {},
   "source": [
    "2. Fix some value for the kernel length-scale. Explore the effect of regularization on classification performance: use the `plot_sep_func` function to visualize how the boundary between the class-labels changes as the regularization changes."
   ]
  },
  {
   "cell_type": "code",
   "execution_count": 1,
   "id": "wrapped-consultancy",
   "metadata": {},
   "outputs": [],
   "source": [
    "#TODO"
   ]
  },
  {
   "cell_type": "markdown",
   "id": "standing-yahoo",
   "metadata": {},
   "source": [
    "3. Fix some value for the regularization parameter. Explore the effect of changing the kernel length-scale: use the `plot_sep_func` function to visualize how the boundary between the class-labels changes."
   ]
  },
  {
   "cell_type": "code",
   "execution_count": 11,
   "id": "forward-threshold",
   "metadata": {},
   "outputs": [],
   "source": [
    "#TODO"
   ]
  },
  {
   "cell_type": "markdown",
   "id": "smaller-possession",
   "metadata": {},
   "source": [
    "4. **Plot how the training and test errors change versus the amount of regularization with kernel length-scale fixed to 0.5**, and comment on your findings."
   ]
  },
  {
   "cell_type": "code",
   "execution_count": 37,
   "id": "greenhouse-norman",
   "metadata": {},
   "outputs": [],
   "source": [
    "reg_pars = [10, 7, 5, 2, 1, 0.7, 0.5, 0.3, 0.2, 0.1, 0.05, 0.02,\n",
    "            0.01, 0.005 , 0.002 , 0.001 ,0.0005, 0.0002 , 0.0001 ,\n",
    "            0.00001 , 0.000001]"
   ]
  },
  {
   "cell_type": "code",
   "execution_count": 15,
   "id": "taken-absorption",
   "metadata": {},
   "outputs": [],
   "source": [
    "#TODO"
   ]
  },
  {
   "cell_type": "markdown",
   "id": "surrounded-lesson",
   "metadata": {},
   "source": [
    "5. Repeat the previous step with 5%, 20% and 50% of flipped labels. Explain the behavior of test and training errors."
   ]
  },
  {
   "cell_type": "code",
   "execution_count": 16,
   "id": "brilliant-expert",
   "metadata": {},
   "outputs": [],
   "source": [
    "#TODO"
   ]
  },
  {
   "cell_type": "markdown",
   "id": "informal-importance",
   "metadata": {},
   "source": [
    "6. Fix `fplip=10`. Using the Gaussian and the Polynomial kernel, use **cross-validation** as in the previous lab to find the best values of\n",
    " - the kernel parameter (length-scale for the Gaussian kernel, exponent for the polynomial kernel)\n",
    " - the amount of regularization\n",
    " \n",
    "     Plot the decision boundaries."
   ]
  },
  {
   "cell_type": "code",
   "execution_count": 17,
   "id": "filled-pioneer",
   "metadata": {},
   "outputs": [],
   "source": [
    "#TODO"
   ]
  },
  {
   "cell_type": "markdown",
   "id": "english-difficulty",
   "metadata": {},
   "source": [
    "### 2. Kernel Least Squares with Early Stopping.\n",
    "\n",
    "1. Use the Gaussian kernel. Fix some values for the number of iterations and the length-scale. Fit an iterative KLS model to the training data, calculating classification error on the test data."
   ]
  },
  {
   "cell_type": "markdown",
   "id": "elegant-poultry",
   "metadata": {},
   "source": [
    "2. Fix some value for the kernel length-scale (use the same value as in the previous exercise). Explore the effect of the number of iterations on classifiation performance using the `plot_sep_func`. Comment on how the boundary changes as the number of iterations changes."
   ]
  },
  {
   "cell_type": "code",
   "execution_count": 20,
   "id": "suited-safety",
   "metadata": {},
   "outputs": [],
   "source": [
    "#TODO"
   ]
  },
  {
   "cell_type": "markdown",
   "id": "excessive-nepal",
   "metadata": {},
   "source": [
    "3. **Repeat step 1.4 using the number of iterations**, and comment on differences/similarities to KRLS (previous exercise)."
   ]
  },
  {
   "cell_type": "code",
   "execution_count": 3,
   "id": "central-disaster",
   "metadata": {},
   "outputs": [],
   "source": [
    "n_iter = [1, 10, 25, 50, 75, 100, 150, 200, 500, 750, 1000, 2000, 3000]"
   ]
  },
  {
   "cell_type": "code",
   "execution_count": 22,
   "id": "cosmetic-shower",
   "metadata": {},
   "outputs": [],
   "source": [
    "#TODO"
   ]
  },
  {
   "cell_type": "markdown",
   "id": "entertaining-methodology",
   "metadata": {},
   "source": [
    "### 3. (bonus) Multi-path KRLS\n",
    "\n",
    "At the heart of the KRLS algorithm is the following problem:\n",
    "\n",
    "$$\n",
    "c = (K + \\lambda I_{n\\times n})^{-1} y\n",
    "$$\n",
    "\n",
    "Solving the problem for a single value of $\\lambda$ takes $O(n^3)$ operations if $K$ is of size $n\\times n$. In this lab we had to solve the linear system above for several values of $\\lambda$.\n",
    "\n",
    "Do we have to pay $O(n^3)$ for each $\\lambda$? Given multiple values for $\\lambda$, is there a faster way to solve the problem above once we have solved it for the first value of $\\lambda$?\n",
    "**Hint:** any symmetric matrix $S$ has an eigenvalue decomposition as $U\\Lambda U^\\top$."
   ]
  },
  {
   "cell_type": "code",
   "execution_count": 1,
   "id": "worse-operation",
   "metadata": {},
   "outputs": [],
   "source": [
    "#TODO"
   ]
  }
 ],
 "metadata": {
  "kernelspec": {
   "display_name": "Python 3",
   "language": "python",
   "name": "python3"
  },
  "language_info": {
   "codemirror_mode": {
    "name": "ipython",
    "version": 3
   },
   "file_extension": ".py",
   "mimetype": "text/x-python",
   "name": "python",
   "nbconvert_exporter": "python",
   "pygments_lexer": "ipython3",
   "version": "3.8.5"
  }
 },
 "nbformat": 4,
 "nbformat_minor": 5
}
