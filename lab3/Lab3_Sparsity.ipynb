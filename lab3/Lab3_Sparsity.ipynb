{
  "nbformat": 4,
  "nbformat_minor": 0,
  "metadata": {
    "kernelspec": {
      "display_name": "Python 3",
      "language": "python",
      "name": "python3"
    },
    "language_info": {
      "codemirror_mode": {
        "name": "ipython",
        "version": 3
      },
      "file_extension": ".py",
      "mimetype": "text/x-python",
      "name": "python",
      "nbconvert_exporter": "python",
      "pygments_lexer": "ipython3",
      "version": "3.8.5"
    },
    "colab": {
      "name": "Lab3-Sparsity.ipynb",
      "provenance": [],
      "collapsed_sections": []
    }
  },
  "cells": [
    {
      "cell_type": "markdown",
      "metadata": {
        "id": "kf1rKrzAoNr3"
      },
      "source": [
        "# Lasso & Elastic Net\n",
        "\n",
        "Name: Moses Mbabaali    ,     Matricola: 4846019"
      ]
    },
    {
      "cell_type": "markdown",
      "metadata": {
        "id": "snFPtpzKoNsD"
      },
      "source": [
        "# Sparse models for variable selection\n",
        "\n",
        "The goal of this lab is to familiarize with the concept of *sparsity* and to see its connection with the selection of variables in high dimensional contexts.\n",
        "\n",
        "A machine learning model is said to be **sparse** when it only contains a small number of non-zero parameters, with respect to the number of features that can be measured on the objects this model represents.\n",
        "\n",
        "Let's see how sparsity works in practice.\n",
        "\n",
        "## 1. *Sparse* variable selection on toy problems\n",
        "\n",
        "Using `scikit-learn` let's make a toy regression problem with `n=100` samples and `d=30` variables of which only `d_rel=5` are informative. Use the flag `coef=True` to get $w^*$, *ie* the **real** weights of the toy problem."
      ]
    },
    {
      "cell_type": "code",
      "metadata": {
        "id": "QzDSf_h6oNsF"
      },
      "source": [
        "%matplotlib inline\n",
        "\n",
        "import numpy as np\n",
        "import matplotlib.pyplot as plt\n",
        "\n",
        "from sklearn.datasets import make_regression\n",
        "from sklearn.linear_model import Lasso, Ridge, ElasticNet,lars_path,enet_path"
      ],
      "execution_count": 149,
      "outputs": []
    },
    {
      "cell_type": "code",
      "metadata": {
        "colab": {
          "base_uri": "https://localhost:8080/"
        },
        "id": "uuu9c7DHoNsG",
        "outputId": "caab5f64-96b7-4c11-d67f-b1c7b2ad0796"
      },
      "source": [
        "n = 100\n",
        "d = 30\n",
        "d_rel = 7\n",
        "\n",
        "X_1, y_1, coef = make_regression(n_samples=n, n_features=d, n_informative=d_rel, noise=20, coef=True, random_state=0)\n",
        "print(\"Data shape: {}\".format(X_1.shape))"
      ],
      "execution_count": 150,
      "outputs": [
        {
          "output_type": "stream",
          "text": [
            "Data shape: (100, 30)\n"
          ],
          "name": "stdout"
        }
      ]
    },
    {
      "cell_type": "markdown",
      "metadata": {
        "id": "4b-wBMmQoNsJ"
      },
      "source": [
        "Let's now perform sparse linear regression fitting a [`Lasso`](http://scikit-learn.org/stable/modules/generated/sklearn.linear_model.Lasso.html) model\n",
        "\n",
        "$$\\min_w \\frac{1}{2 n} ||y - Xw||^2_2 + \\alpha~||w||_1$$\n",
        "\n",
        "for a fixed value of $\\alpha=40$."
      ]
    },
    {
      "cell_type": "code",
      "metadata": {
        "colab": {
          "base_uri": "https://localhost:8080/"
        },
        "id": "86nNxuYPoNsK",
        "outputId": "d3b82cb0-a805-4fc7-d3f8-813fa6bae8c7"
      },
      "source": [
        "mdl = Lasso(alpha=40)\n",
        "mdl.fit(X_1, y_1)"
      ],
      "execution_count": 151,
      "outputs": [
        {
          "output_type": "execute_result",
          "data": {
            "text/plain": [
              "Lasso(alpha=40, copy_X=True, fit_intercept=True, max_iter=1000, normalize=False,\n",
              "      positive=False, precompute=False, random_state=None, selection='cyclic',\n",
              "      tol=0.0001, warm_start=False)"
            ]
          },
          "metadata": {
            "tags": []
          },
          "execution_count": 151
        }
      ]
    },
    {
      "cell_type": "markdown",
      "metadata": {
        "id": "-fGAboQQoNsL"
      },
      "source": [
        "We can inspect the value of the weights $w$ by checking `mdl.coef_`, let's plot their value on a 2D space and let's compare them with $w^*$. \n",
        "\n",
        "**Comment the results.**"
      ]
    },
    {
      "cell_type": "code",
      "metadata": {
        "colab": {
          "base_uri": "https://localhost:8080/"
        },
        "id": "cYWbrzLYoNsL",
        "outputId": "96a83e7c-4b7f-4d40-e8d6-7be4c858e362"
      },
      "source": [
        "mdl.coef_"
      ],
      "execution_count": 152,
      "outputs": [
        {
          "output_type": "execute_result",
          "data": {
            "text/plain": [
              "array([-0.        , -0.        ,  0.        , -0.        , -0.        ,\n",
              "        0.        ,  0.        ,  0.        , -0.        , -0.        ,\n",
              "       49.03513239, -0.        , 35.88621526,  0.        ,  0.        ,\n",
              "        0.        ,  0.        ,  0.        , -0.        , -0.        ,\n",
              "       -0.        ,  8.52212722, -0.        , 46.67496486,  0.        ,\n",
              "        0.        ,  0.        ,  0.        , -0.        , -0.        ])"
            ]
          },
          "metadata": {
            "tags": []
          },
          "execution_count": 152
        }
      ]
    },
    {
      "cell_type": "code",
      "metadata": {
        "id": "FY2pZor-oNsM"
      },
      "source": [
        "# The model coefficients are mostly zero. There are only 4 values that are not zero. So basically what alpha does is \n",
        "# that its elimininating some features. Theoeretically as you increase alpha then you will drop more features.\n",
        "# Setting the value of alpha to 40 as in the previous example means that we are looking for a much more sparse\n",
        "# solution. "
      ],
      "execution_count": 153,
      "outputs": []
    },
    {
      "cell_type": "markdown",
      "metadata": {
        "id": "7Iejqi1boNsN"
      },
      "source": [
        "### Try to play a bit with the value of $\\alpha$.\n",
        "\n",
        "**What do you expect?**\n",
        "\n",
        "**What happens?**\n",
        "\n",
        "**What can you say about the choice of setting $\\alpha=40$ in the previous example?**\n",
        "\n",
        "## 2. Recap on the regularization path\n",
        "\n",
        "We sensed that the role played by the regularization parameter $\\alpha$ is crucial. When performing variable selection in high-dimensional contexts it may be helpful to observe the weight assigned to each variable for increasing values of $\\alpha$.\n",
        "\n",
        "An intuitive representation of such phenomenon is called **`regularization path`**\n",
        "\n",
        "### 2.1 Hands on the Lasso path\n",
        "\n",
        "**With the toy regression problem above, implement a function that estimates the `lasso path` and visualize it.**"
      ]
    },
    {
      "cell_type": "code",
      "metadata": {
        "colab": {
          "base_uri": "https://localhost:8080/",
          "height": 313
        },
        "id": "bRkE9IztoNsO",
        "outputId": "ca597fed-6378-4760-ae1d-180f4835d57f"
      },
      "source": [
        "# There are several ways to do this task am going ot use lars_path as below. \n",
        "\n",
        "def lassopath(X,y):\n",
        "    alphas, _ , coefs=lars_path(X, y, method='lasso', verbose=True)\n",
        "    xvals = np.sum(np.abs(coefs.T), axis=1)\n",
        "    xvals /= xvals[-1]\n",
        "    \n",
        "    plt.plot(xvals, coefs.T)\n",
        "    plt.xlabel('|coef| / max|coef|')\n",
        "    plt.ylabel('Coefficients')\n",
        "    plt.title('LASSO Path')\n",
        "    plt.axis('tight')\n",
        "    plt.show()\n",
        "    \n",
        "lassopath(X_1,y_1)"
      ],
      "execution_count": 192,
      "outputs": [
        {
          "output_type": "stream",
          "text": [
            "."
          ],
          "name": "stdout"
        },
        {
          "output_type": "display_data",
          "data": {
            "image/png": "[encoded data removed]",
            "text/plain": [
              "<Figure size 432x288 with 1 Axes>"
            ]
          },
          "metadata": {
            "tags": [],
            "needs_background": "light"
          }
        }
      ]
    },
    {
      "cell_type": "markdown",
      "metadata": {
        "id": "vSF0zQW-oNsQ"
      },
      "source": [
        "**Implement a function that estimates the `ridge path`.Compare your results and comment differences**"
      ]
    },
    {
      "cell_type": "code",
      "metadata": {
        "colab": {
          "base_uri": "https://localhost:8080/",
          "height": 299
        },
        "id": "FBu7DDGHoNsQ",
        "outputId": "65b6707f-34db-4317-b974-2e1cb600513e"
      },
      "source": [
        "def rigdgecoefs(X,y):\n",
        "    n_alphas = 300\n",
        "    alphas = np.logspace(-2,5, n_alphas)\n",
        "    coefs = []\n",
        "    for i in alphas:\n",
        "        ridge = Ridge(alpha=i, fit_intercept=False)\n",
        "        ridge.fit(X, y)\n",
        "        coefs.append(ridge.coef_)\n",
        "        \n",
        "    ax = plt.gca()\n",
        "    ax.plot(alphas, coefs)\n",
        "    ax.set_xscale('log') \n",
        "    plt.xlabel('alpha')\n",
        "    plt.ylabel('weights')\n",
        "    plt.title('Ridge Weights Vs Alpha')\n",
        "    plt.axis('tight')\n",
        "    plt.show()\n",
        "        \n",
        "rigdgecoefs(X_1,y_1)\n",
        "#As alphas tend to become bigger the weights on the other hand tend to become small and get to zero for Ridge.\n",
        "#So in otherwards the features are shrunk though not kicked out. "
      ],
      "execution_count": 155,
      "outputs": [
        {
          "output_type": "display_data",
          "data": {
            "image/png": "[encoded data removed]",
            "text/plain": [
              "<Figure size 432x288 with 1 Axes>"
            ]
          },
          "metadata": {
            "tags": [],
            "needs_background": "light"
          }
        }
      ]
    },
    {
      "cell_type": "markdown",
      "metadata": {
        "id": "Yda3yqmaoNsR"
      },
      "source": [
        "### 2.2 Lasso and correlations among features\n",
        "\n",
        "In presence of correlation between variables, the lasso penalty may not be very informative. Let's try to evaluate it on a toy dataset in which each informative variable is repeated twice.\n",
        "\n",
        "Use `n=100` samples, `half_d_rel=5`, `d_dummy = 25`."
      ]
    },
    {
      "cell_type": "code",
      "metadata": {
        "colab": {
          "base_uri": "https://localhost:8080/"
        },
        "id": "-wKScrT5oNsS",
        "outputId": "de3df3f4-2557-4bed-b920-1c30e3a8a4d0"
      },
      "source": [
        "n = 100\n",
        "half_d_rel = 5\n",
        "d = 30\n",
        "d_dummy = d - half_d_rel\n",
        "\n",
        "X_2, y_2, coef = make_regression(n_samples=n, n_features=d-half_d_rel, n_informative=half_d_rel, coef=True)\n",
        "relevant = np.nonzero(coef)[0]\n",
        "X_2 = np.hstack((X_2, -2*X_2[:,relevant]))\n",
        "\n",
        "print(\"Data shape: {}\".format(X_2.shape))"
      ],
      "execution_count": 156,
      "outputs": [
        {
          "output_type": "stream",
          "text": [
            "Data shape: (100, 30)\n"
          ],
          "name": "stdout"
        }
      ]
    },
    {
      "cell_type": "markdown",
      "metadata": {
        "id": "O_rV2mgroNsT"
      },
      "source": [
        "**The total number of relevant variables here is `2*half_d_rel = 10`.**"
      ]
    },
    {
      "cell_type": "markdown",
      "metadata": {
        "id": "Vk2keEU5oNsT"
      },
      "source": [
        "**Use the function implemented in Exercise #2.1 and visualize the lasso path for this dataset.**"
      ]
    },
    {
      "cell_type": "code",
      "metadata": {
        "colab": {
          "base_uri": "https://localhost:8080/",
          "height": 313
        },
        "id": "Or06NaWDoNsU",
        "outputId": "cc825317-ddc6-44d4-a58e-159fe54ccd43"
      },
      "source": [
        "lassopath(X_2,y_2)"
      ],
      "execution_count": 157,
      "outputs": [
        {
          "output_type": "stream",
          "text": [
            "."
          ],
          "name": "stdout"
        },
        {
          "output_type": "display_data",
          "data": {
            "image/png": "[encoded data removed]",
            "text/plain": [
              "<Figure size 432x288 with 1 Axes>"
            ]
          },
          "metadata": {
            "tags": [],
            "needs_background": "light"
          }
        }
      ]
    },
    {
      "cell_type": "markdown",
      "metadata": {
        "id": "WVKvQSeooNsV"
      },
      "source": [
        "**How many selected variable do you see? Why?**"
      ]
    },
    {
      "cell_type": "code",
      "metadata": {
        "id": "Q97e-StCoNsV"
      },
      "source": [
        "#From the the second dataset the chosen features are 5. The others have been dropped. This is because for lasso \n",
        "# alpha is zero or then all the least squares are not going to be regularized but as it increases then some \n",
        "# features are going to be dropped. The most relevant features are going to be returned. "
      ],
      "execution_count": 158,
      "outputs": []
    },
    {
      "cell_type": "markdown",
      "metadata": {
        "id": "bIE5IAuGoNsW"
      },
      "source": [
        "## `Elastic-Net` model :\n",
        "\n",
        "$$\\min_w \\frac{1}{2n} ||y - Xw||^2_2 + \\alpha \\cdot l_{1_{ratio}} \\cdot ||w||_1 + \\frac{1}{2}~\\alpha \\cdot (1 - l_{1_{ratio}}) \\cdot ||w||^2_2$$\n",
        "\n",
        "or equivalently as:\n",
        "\n",
        "$$\\min_w \\frac{1}{2n} ||y - Xw||^2_2 + \\tau~||w||_1 + \\mu~||w||^2_2$$\n",
        "\n",
        "with appropriate parameters formulation.\n",
        "The Elastic-Net, thanks to the combined influence of the $\\ell_1$ and the $\\ell_2$-norm, achieves a sparse and stable solution in which joint selection of collinear variables is promoted.\n",
        "\n",
        "**Fix the `l_1ratio=0.5` and evaluate the Elastic-Net path on the datasets of Exercise 2.2**"
      ]
    },
    {
      "cell_type": "code",
      "metadata": {
        "colab": {
          "base_uri": "https://localhost:8080/",
          "height": 295
        },
        "id": "RZR_Lu89oNsX",
        "outputId": "7415d3cb-e255-48ab-9a13-6611b60dc831"
      },
      "source": [
        "def elasticnet_path(X,y):\n",
        "    eps = 5e-3\n",
        "    alphas_enet, coefs_enet, _ = enet_path(X, y, eps=eps, l1_ratio=0.5, fit_intercept=False)\n",
        "    count = 0\n",
        "    for i in coefs_enet:\n",
        "        \n",
        "        l1 = plt.plot(np.log10(alphas_enet),i)\n",
        "        count = count+1\n",
        "        \n",
        "    plt.xlabel('Log(alpha)')\n",
        "    plt.ylabel('coefficients')\n",
        "    plt.title('Elastic-Net path')\n",
        "    plt.axis('tight')\n",
        "    plt.show()\n",
        "    \n",
        "elasticnet_path(X_2,y_2)"
      ],
      "execution_count": 160,
      "outputs": [
        {
          "output_type": "display_data",
          "data": {
            "image/png": "[encoded data removed]",
            "text/plain": [
              "<Figure size 432x288 with 1 Axes>"
            ]
          },
          "metadata": {
            "tags": [],
            "needs_background": "light"
          }
        }
      ]
    },
    {
      "cell_type": "markdown",
      "metadata": {
        "id": "mUWptAP5oNsZ"
      },
      "source": [
        "**How many selected variable do you see? Why?**\n",
        "\n",
        "**Which is the asymptotic behavior of the weights corresponding to correlated features?**"
      ]
    },
    {
      "cell_type": "code",
      "metadata": {
        "id": "CsFRQdIzoNsZ"
      },
      "source": [
        "# The selected variables depend on the choice of alpha, between 0.5 and 2.5 alpha there are different variables \n",
        "# higlighted. At 0.5 a good amount of the features are selected but the more we move further and get alpha to increase\n",
        "# that number decreases. Some features go to zero and others are dropped. "
      ],
      "execution_count": 161,
      "outputs": []
    },
    {
      "cell_type": "code",
      "metadata": {
        "id": "knKrgW6JoNsa"
      },
      "source": [
        "\"\"\"Feature selection and classification by linear two steps model.\"\"\"\n",
        "\n",
        "from sklearn.linear_model import ElasticNet\n",
        "from sklearn.linear_model.base import LinearClassifierMixin\n",
        "#sklearn.base.ClassifierMixin[source]\n",
        "from sklearn.preprocessing import LabelBinarizer\n",
        "# from sklearn.utils import column_or_1d\n",
        "\n",
        "\n",
        "class ElasticNetClassifier(LinearClassifierMixin, ElasticNet):\n",
        "    \"\"\"Class to extend elastic-net in case of classification.\"\"\"\n",
        "\n",
        "    def fit(self, X, y, check_input=True):\n",
        "        self._label_binarizer = LabelBinarizer(pos_label=1, neg_label=-1)\n",
        "        Y = self._label_binarizer.fit_transform(y)\n",
        "        if self._label_binarizer.y_type_.startswith('multilabel'):\n",
        "            # we don't (yet) support multi-label classification in ENet\n",
        "            raise ValueError(\n",
        "                \"%s doesn't support multi-label classification\" % (\n",
        "                    self.__class__.__name__))\n",
        "\n",
        "        # Y = column_or_1d(Y, warn=True)\n",
        "        super(ElasticNetClassifier, self).fit(X, Y)\n",
        "        if self.classes_.shape[0] > 2:\n",
        "            ndim = self.classes_.shape[0]\n",
        "        else:\n",
        "            ndim = 1\n",
        "        self.coef_ = self.coef_.reshape(ndim, -1)\n",
        "\n",
        "        return self\n",
        "\n",
        "    @property\n",
        "    def classes_(self):\n",
        "        return self._label_binarizer.classes_"
      ],
      "execution_count": 162,
      "outputs": []
    },
    {
      "cell_type": "markdown",
      "metadata": {
        "id": "Go-zxeQ1oNsb"
      },
      "source": [
        "# 3 Elastic-net for variable selection in Microarray study\n",
        "\n",
        "**We will train an ElasticNetClassifier (take a look at the file `enet_classifier.py`) on the [Golub dataset](http://portals.broadinstitute.org/cgi-bin/cancer/publications/pub_paper.cgi?paper_id=43) which contains microarray data measured from two classes of leukemia: acute myeloid leukemia (AML) and acute lymphoblastic leukemia (ALL).**"
      ]
    },
    {
      "cell_type": "code",
      "metadata": {
        "id": "h7jhOo3xoNsc"
      },
      "source": [
        "%matplotlib inline\n",
        "\n",
        "import numpy as np\n",
        "import matplotlib.pyplot as plt\n",
        "import os\n",
        "import pandas as pd\n",
        "import warnings\n",
        "warnings.filterwarnings('ignore')\n",
        "\n",
        "from collections import Counter\n",
        "from sklearn.decomposition import PCA\n",
        "from sklearn.model_selection import StratifiedKFold\n",
        "from sklearn.model_selection import GridSearchCV\n",
        "from sklearn.metrics import accuracy_score\n"
      ],
      "execution_count": 163,
      "outputs": []
    },
    {
      "cell_type": "markdown",
      "metadata": {
        "id": "of9mYGcsoNsd"
      },
      "source": [
        "### 3.1. Load data\n",
        "\n",
        "Let's load the dataset with `pandas` in the usual way (`pandas.read_csv`). Read both data and labels."
      ]
    },
    {
      "cell_type": "code",
      "metadata": {
        "colab": {
          "resources": {
            "http://localhost:8080/nbextensions/google.colab/files.js": {
              "data": "Ly8gQ29weXJpZ2h0IDIwMTcgR29vZ2xlIExMQwovLwovLyBMaWNlbnNlZCB1bmRlciB0aGUgQXBhY2hlIExpY2Vuc2UsIFZlcnNpb24gMi4wICh0aGUgIkxpY2Vuc2UiKTsKLy8geW91IG1heSBub3QgdXNlIHRoaXMgZmlsZSBleGNlcHQgaW4gY29tcGxpYW5jZSB3aXRoIHRoZSBMaWNlbnNlLgovLyBZb3UgbWF5IG9idGFpbiBhIGNvcHkgb2YgdGhlIExpY2Vuc2UgYXQKLy8KLy8gICAgICBodHRwOi8vd3d3LmFwYWNoZS5vcmcvbGljZW5zZXMvTElDRU5TRS0yLjAKLy8KLy8gVW5sZXNzIHJlcXVpcmVkIGJ5IGFwcGxpY2FibGUgbGF3IG9yIGFncmVlZCB0byBpbiB3cml0aW5nLCBzb2Z0d2FyZQovLyBkaXN0cmlidXRlZCB1bmRlciB0aGUgTGljZW5zZSBpcyBkaXN0cmlidXRlZCBvbiBhbiAiQVMgSVMiIEJBU0lTLAovLyBXSVRIT1VUIFdBUlJBTlRJRVMgT1IgQ09ORElUSU9OUyBPRiBBTlkgS0lORCwgZWl0aGVyIGV4cHJlc3Mgb3IgaW1wbGllZC4KLy8gU2VlIHRoZSBMaWNlbnNlIGZvciB0aGUgc3BlY2lmaWMgbGFuZ3VhZ2UgZ292ZXJuaW5nIHBlcm1pc3Npb25zIGFuZAovLyBsaW1pdGF0aW9ucyB1bmRlciB0aGUgTGljZW5zZS4KCi8qKgogKiBAZmlsZW92ZXJ2aWV3IEhlbHBlcnMgZm9yIGdvb2dsZS5jb2xhYiBQeXRob24gbW9kdWxlLgogKi8KKGZ1bmN0aW9uKHNjb3BlKSB7CmZ1bmN0aW9uIHNwYW4odGV4dCwgc3R5bGVBdHRyaWJ1dGVzID0ge30pIHsKICBjb25zdCBlbGVtZW50ID0gZG9jdW1lbnQuY3JlYXRlRWxlbWVudCgnc3BhbicpOwogIGVsZW1lbnQudGV4dENvbnRlbnQgPSB0ZXh0OwogIGZvciAoY29uc3Qga2V5IG9mIE9iamVjdC5rZXlzKHN0eWxlQXR0cmlidXRlcykpIHsKICAgIGVsZW1lbnQuc3R5bGVba2V5XSA9IHN0eWxlQXR0cmlidXRlc1trZXldOwogIH0KICByZXR1cm4gZWxlbWVudDsKfQoKLy8gTWF4IG51bWJlciBvZiBieXRlcyB3aGljaCB3aWxsIGJlIHVwbG9hZGVkIGF0IGEgdGltZS4KY29uc3QgTUFYX1BBWUxPQURfU0laRSA9IDEwMCAqIDEwMjQ7CgpmdW5jdGlvbiBfdXBsb2FkRmlsZXMoaW5wdXRJZCwgb3V0cHV0SWQpIHsKICBjb25zdCBzdGVwcyA9IHVwbG9hZEZpbGVzU3RlcChpbnB1dElkLCBvdXRwdXRJZCk7CiAgY29uc3Qgb3V0cHV0RWxlbWVudCA9IGRvY3VtZW50LmdldEVsZW1lbnRCeUlkKG91dHB1dElkKTsKICAvLyBDYWNoZSBzdGVwcyBvbiB0aGUgb3V0cHV0RWxlbWVudCB0byBtYWtlIGl0IGF2YWlsYWJsZSBmb3IgdGhlIG5leHQgY2FsbAogIC8vIHRvIHVwbG9hZEZpbGVzQ29udGludWUgZnJvbSBQeXRob24uCiAgb3V0cHV0RWxlbWVudC5zdGVwcyA9IHN0ZXBzOwoKICByZXR1cm4gX3VwbG9hZEZpbGVzQ29udGludWUob3V0cHV0SWQpOwp9CgovLyBUaGlzIGlzIHJvdWdobHkgYW4gYXN5bmMgZ2VuZXJhdG9yIChub3Qgc3VwcG9ydGVkIGluIHRoZSBicm93c2VyIHlldCksCi8vIHdoZXJlIHRoZXJlIGFyZSBtdWx0aXBsZSBhc3luY2hyb25vdXMgc3RlcHMgYW5kIHRoZSBQeXRob24gc2lkZSBpcyBnb2luZwovLyB0byBwb2xsIGZvciBjb21wbGV0aW9uIG9mIGVhY2ggc3RlcC4KLy8gVGhpcyB1c2VzIGEgUHJvbWlzZSB0byBibG9jayB0aGUgcHl0aG9uIHNpZGUgb24gY29tcGxldGlvbiBvZiBlYWNoIHN0ZXAsCi8vIHRoZW4gcGFzc2VzIHRoZSByZXN1bHQgb2YgdGhlIHByZXZpb3VzIHN0ZXAgYXMgdGhlIGlucHV0IHRvIHRoZSBuZXh0IHN0ZXAuCmZ1bmN0aW9uIF91cGxvYWRGaWxlc0NvbnRpbnVlKG91dHB1dElkKSB7CiAgY29uc3Qgb3V0cHV0RWxlbWVudCA9IGRvY3VtZW50LmdldEVsZW1lbnRCeUlkKG91dHB1dElkKTsKICBjb25zdCBzdGVwcyA9IG91dHB1dEVsZW1lbnQuc3RlcHM7CgogIGNvbnN0IG5leHQgPSBzdGVwcy5uZXh0KG91dHB1dEVsZW1lbnQubGFzdFByb21pc2VWYWx1ZSk7CiAgcmV0dXJuIFByb21pc2UucmVzb2x2ZShuZXh0LnZhbHVlLnByb21pc2UpLnRoZW4oKHZhbHVlKSA9PiB7CiAgICAvLyBDYWNoZSB0aGUgbGFzdCBwcm9taXNlIHZhbHVlIHRvIG1ha2UgaXQgYXZhaWxhYmxlIHRvIHRoZSBuZXh0CiAgICAvLyBzdGVwIG9mIHRoZSBnZW5lcmF0b3IuCiAgICBvdXRwdXRFbGVtZW50Lmxhc3RQcm9taXNlVmFsdWUgPSB2YWx1ZTsKICAgIHJldHVybiBuZXh0LnZhbHVlLnJlc3BvbnNlOwogIH0pOwp9CgovKioKICogR2VuZXJhdG9yIGZ1bmN0aW9uIHdoaWNoIGlzIGNhbGxlZCBiZXR3ZWVuIGVhY2ggYXN5bmMgc3RlcCBvZiB0aGUgdXBsb2FkCiAqIHByb2Nlc3MuCiAqIEBwYXJhbSB7c3RyaW5nfSBpbnB1dElkIEVsZW1lbnQgSUQgb2YgdGhlIGlucHV0IGZpbGUgcGlja2VyIGVsZW1lbnQuCiAqIEBwYXJhbSB7c3RyaW5nfSBvdXRwdXRJZCBFbGVtZW50IElEIG9mIHRoZSBvdXRwdXQgZGlzcGxheS4KICogQHJldHVybiB7IUl0ZXJhYmxlPCFPYmplY3Q+fSBJdGVyYWJsZSBvZiBuZXh0IHN0ZXBzLgogKi8KZnVuY3Rpb24qIHVwbG9hZEZpbGVzU3RlcChpbnB1dElkLCBvdXRwdXRJZCkgewogIGNvbnN0IGlucHV0RWxlbWVudCA9IGRvY3VtZW50LmdldEVsZW1lbnRCeUlkKGlucHV0SWQpOwogIGlucHV0RWxlbWVudC5kaXNhYmxlZCA9IGZhbHNlOwoKICBjb25zdCBvdXRwdXRFbGVtZW50ID0gZG9jdW1lbnQuZ2V0RWxlbWVudEJ5SWQob3V0cHV0SWQpOwogIG91dHB1dEVsZW1lbnQuaW5uZXJIVE1MID0gJyc7CgogIGNvbnN0IHBpY2tlZFByb21pc2UgPSBuZXcgUHJvbWlzZSgocmVzb2x2ZSkgPT4gewogICAgaW5wdXRFbGVtZW50LmFkZEV2ZW50TGlzdGVuZXIoJ2NoYW5nZScsIChlKSA9PiB7CiAgICAgIHJlc29sdmUoZS50YXJnZXQuZmlsZXMpOwogICAgfSk7CiAgfSk7CgogIGNvbnN0IGNhbmNlbCA9IGRvY3VtZW50LmNyZWF0ZUVsZW1lbnQoJ2J1dHRvbicpOwogIGlucHV0RWxlbWVudC5wYXJlbnRFbGVtZW50LmFwcGVuZENoaWxkKGNhbmNlbCk7CiAgY2FuY2VsLnRleHRDb250ZW50ID0gJ0NhbmNlbCB1cGxvYWQnOwogIGNvbnN0IGNhbmNlbFByb21pc2UgPSBuZXcgUHJvbWlzZSgocmVzb2x2ZSkgPT4gewogICAgY2FuY2VsLm9uY2xpY2sgPSAoKSA9PiB7CiAgICAgIHJlc29sdmUobnVsbCk7CiAgICB9OwogIH0pOwoKICAvLyBXYWl0IGZvciB0aGUgdXNlciB0byBwaWNrIHRoZSBmaWxlcy4KICBjb25zdCBmaWxlcyA9IHlpZWxkIHsKICAgIHByb21pc2U6IFByb21pc2UucmFjZShbcGlja2VkUHJvbWlzZSwgY2FuY2VsUHJvbWlzZV0pLAogICAgcmVzcG9uc2U6IHsKICAgICAgYWN0aW9uOiAnc3RhcnRpbmcnLAogICAgfQogIH07CgogIGNhbmNlbC5yZW1vdmUoKTsKCiAgLy8gRGlzYWJsZSB0aGUgaW5wdXQgZWxlbWVudCBzaW5jZSBmdXJ0aGVyIHBpY2tzIGFyZSBub3QgYWxsb3dlZC4KICBpbnB1dEVsZW1lbnQuZGlzYWJsZWQgPSB0cnVlOwoKICBpZiAoIWZpbGVzKSB7CiAgICByZXR1cm4gewogICAgICByZXNwb25zZTogewogICAgICAgIGFjdGlvbjogJ2NvbXBsZXRlJywKICAgICAgfQogICAgfTsKICB9CgogIGZvciAoY29uc3QgZmlsZSBvZiBmaWxlcykgewogICAgY29uc3QgbGkgPSBkb2N1bWVudC5jcmVhdGVFbGVtZW50KCdsaScpOwogICAgbGkuYXBwZW5kKHNwYW4oZmlsZS5uYW1lLCB7Zm9udFdlaWdodDogJ2JvbGQnfSkpOwogICAgbGkuYXBwZW5kKHNwYW4oCiAgICAgICAgYCgke2ZpbGUudHlwZSB8fCAnbi9hJ30pIC0gJHtmaWxlLnNpemV9IGJ5dGVzLCBgICsKICAgICAgICBgbGFzdCBtb2RpZmllZDogJHsKICAgICAgICAgICAgZmlsZS5sYXN0TW9kaWZpZWREYXRlID8gZmlsZS5sYXN0TW9kaWZpZWREYXRlLnRvTG9jYWxlRGF0ZVN0cmluZygpIDoKICAgICAgICAgICAgICAgICAgICAgICAgICAgICAgICAgICAgJ24vYSd9IC0gYCkpOwogICAgY29uc3QgcGVyY2VudCA9IHNwYW4oJzAlIGRvbmUnKTsKICAgIGxpLmFwcGVuZENoaWxkKHBlcmNlbnQpOwoKICAgIG91dHB1dEVsZW1lbnQuYXBwZW5kQ2hpbGQobGkpOwoKICAgIGNvbnN0IGZpbGVEYXRhUHJvbWlzZSA9IG5ldyBQcm9taXNlKChyZXNvbHZlKSA9PiB7CiAgICAgIGNvbnN0IHJlYWRlciA9IG5ldyBGaWxlUmVhZGVyKCk7CiAgICAgIHJlYWRlci5vbmxvYWQgPSAoZSkgPT4gewogICAgICAgIHJlc29sdmUoZS50YXJnZXQucmVzdWx0KTsKICAgICAgfTsKICAgICAgcmVhZGVyLnJlYWRBc0FycmF5QnVmZmVyKGZpbGUpOwogICAgfSk7CiAgICAvLyBXYWl0IGZvciB0aGUgZGF0YSB0byBiZSByZWFkeS4KICAgIGxldCBmaWxlRGF0YSA9IHlpZWxkIHsKICAgICAgcHJvbWlzZTogZmlsZURhdGFQcm9taXNlLAogICAgICByZXNwb25zZTogewogICAgICAgIGFjdGlvbjogJ2NvbnRpbnVlJywKICAgICAgfQogICAgfTsKCiAgICAvLyBVc2UgYSBjaHVua2VkIHNlbmRpbmcgdG8gYXZvaWQgbWVzc2FnZSBzaXplIGxpbWl0cy4gU2VlIGIvNjIxMTU2NjAuCiAgICBsZXQgcG9zaXRpb24gPSAwOwogICAgd2hpbGUgKHBvc2l0aW9uIDwgZmlsZURhdGEuYnl0ZUxlbmd0aCkgewogICAgICBjb25zdCBsZW5ndGggPSBNYXRoLm1pbihmaWxlRGF0YS5ieXRlTGVuZ3RoIC0gcG9zaXRpb24sIE1BWF9QQVlMT0FEX1NJWkUpOwogICAgICBjb25zdCBjaHVuayA9IG5ldyBVaW50OEFycmF5KGZpbGVEYXRhLCBwb3NpdGlvbiwgbGVuZ3RoKTsKICAgICAgcG9zaXRpb24gKz0gbGVuZ3RoOwoKICAgICAgY29uc3QgYmFzZTY0ID0gYnRvYShTdHJpbmcuZnJvbUNoYXJDb2RlLmFwcGx5KG51bGwsIGNodW5rKSk7CiAgICAgIHlpZWxkIHsKICAgICAgICByZXNwb25zZTogewogICAgICAgICAgYWN0aW9uOiAnYXBwZW5kJywKICAgICAgICAgIGZpbGU6IGZpbGUubmFtZSwKICAgICAgICAgIGRhdGE6IGJhc2U2NCwKICAgICAgICB9LAogICAgICB9OwogICAgICBwZXJjZW50LnRleHRDb250ZW50ID0KICAgICAgICAgIGAke01hdGgucm91bmQoKHBvc2l0aW9uIC8gZmlsZURhdGEuYnl0ZUxlbmd0aCkgKiAxMDApfSUgZG9uZWA7CiAgICB9CiAgfQoKICAvLyBBbGwgZG9uZS4KICB5aWVsZCB7CiAgICByZXNwb25zZTogewogICAgICBhY3Rpb246ICdjb21wbGV0ZScsCiAgICB9CiAgfTsKfQoKc2NvcGUuZ29vZ2xlID0gc2NvcGUuZ29vZ2xlIHx8IHt9OwpzY29wZS5nb29nbGUuY29sYWIgPSBzY29wZS5nb29nbGUuY29sYWIgfHwge307CnNjb3BlLmdvb2dsZS5jb2xhYi5fZmlsZXMgPSB7CiAgX3VwbG9hZEZpbGVzLAogIF91cGxvYWRGaWxlc0NvbnRpbnVlLAp9Owp9KShzZWxmKTsK",
              "ok": true,
              "headers": [
                [
                  "content-type",
                  "application/javascript"
                ]
              ],
              "status": 200,
              "status_text": ""
            }
          },
          "base_uri": "https://localhost:8080/",
          "height": 106
        },
        "id": "UjNVJtQBqkRM",
        "outputId": "defa9625-8582-4ce7-eeec-ee65958de08b"
      },
      "source": [
        "from google.colab import files\n",
        "uploaded = files.upload()"
      ],
      "execution_count": 95,
      "outputs": [
        {
          "output_type": "display_data",
          "data": {
            "text/html": [
              "\n",
              "     <input type=\"file\" id=\"files-e30c275c-9569-4be6-9936-427cb7441d5d\" name=\"files[]\" multiple disabled\n",
              "        style=\"border:none\" />\n",
              "     <output id=\"result-e30c275c-9569-4be6-9936-427cb7441d5d\">\n",
              "      Upload widget is only available when the cell has been executed in the\n",
              "      current browser session. Please rerun this cell to enable.\n",
              "      </output>\n",
              "      <script src=\"/nbextensions/google.colab/files.js\"></script> "
            ],
            "text/plain": [
              "<IPython.core.display.HTML object>"
            ]
          },
          "metadata": {
            "tags": []
          }
        },
        {
          "output_type": "stream",
          "text": [
            "Saving labels.csv to labels (1).csv\n",
            "Saving gedm.csv to gedm (1).csv\n"
          ],
          "name": "stdout"
        }
      ]
    },
    {
      "cell_type": "code",
      "metadata": {
        "colab": {
          "base_uri": "https://localhost:8080/",
          "height": 304
        },
        "id": "uy1qgebusAAj",
        "outputId": "c41f8628-5e4b-464a-9587-0ff801324b2c"
      },
      "source": [
        "import io\n",
        "data = pd.read_csv(io.BytesIO(uploaded['gedm.csv']),header=0,index_col=0).T\n",
        "print(\"n_samples = {} | n_variables = {}\".format(*data.shape))\n",
        "\n",
        "n_samples, n_variables = data.shape\n",
        "data.head()"
      ],
      "execution_count": 164,
      "outputs": [
        {
          "output_type": "stream",
          "text": [
            "n_samples = 38 | n_variables = 7129\n"
          ],
          "name": "stdout"
        },
        {
          "output_type": "execute_result",
          "data": {
            "text/html": [
              "<div>\n",
              "<style scoped>\n",
              "    .dataframe tbody tr th:only-of-type {\n",
              "        vertical-align: middle;\n",
              "    }\n",
              "\n",
              "    .dataframe tbody tr th {\n",
              "        vertical-align: top;\n",
              "    }\n",
              "\n",
              "    .dataframe thead th {\n",
              "        text-align: right;\n",
              "    }\n",
              "</style>\n",
              "<table border=\"1\" class=\"dataframe\">\n",
              "  <thead>\n",
              "    <tr style=\"text-align: right;\">\n",
              "      <th>Gene Accession Number</th>\n",
              "      <th>AFFX-BioB-5_at</th>\n",
              "      <th>AFFX-BioB-M_at</th>\n",
              "      <th>AFFX-BioB-3_at</th>\n",
              "      <th>AFFX-BioC-5_at</th>\n",
              "      <th>AFFX-BioC-3_at</th>\n",
              "      <th>AFFX-BioDn-5_at</th>\n",
              "      <th>AFFX-BioDn-3_at</th>\n",
              "      <th>AFFX-CreX-5_at</th>\n",
              "      <th>AFFX-CreX-3_at</th>\n",
              "      <th>AFFX-BioB-5_st</th>\n",
              "      <th>AFFX-BioB-M_st</th>\n",
              "      <th>AFFX-BioB-3_st</th>\n",
              "      <th>AFFX-BioC-5_st</th>\n",
              "      <th>AFFX-BioC-3_st</th>\n",
              "      <th>AFFX-BioDn-5_st</th>\n",
              "      <th>AFFX-BioDn-3_st</th>\n",
              "      <th>AFFX-CreX-5_st</th>\n",
              "      <th>AFFX-CreX-3_st</th>\n",
              "      <th>hum_alu_at</th>\n",
              "      <th>AFFX-DapX-5_at</th>\n",
              "      <th>AFFX-DapX-M_at</th>\n",
              "      <th>AFFX-DapX-3_at</th>\n",
              "      <th>AFFX-LysX-5_at</th>\n",
              "      <th>AFFX-LysX-M_at</th>\n",
              "      <th>AFFX-LysX-3_at</th>\n",
              "      <th>AFFX-PheX-5_at</th>\n",
              "      <th>AFFX-PheX-M_at</th>\n",
              "      <th>AFFX-PheX-3_at</th>\n",
              "      <th>AFFX-ThrX-5_at</th>\n",
              "      <th>AFFX-ThrX-M_at</th>\n",
              "      <th>AFFX-ThrX-3_at</th>\n",
              "      <th>AFFX-TrpnX-5_at</th>\n",
              "      <th>AFFX-TrpnX-M_at</th>\n",
              "      <th>AFFX-TrpnX-3_at</th>\n",
              "      <th>AFFX-HUMISGF3A/M97935_5_at</th>\n",
              "      <th>AFFX-HUMISGF3A/M97935_MA_at</th>\n",
              "      <th>AFFX-HUMISGF3A/M97935_MB_at</th>\n",
              "      <th>AFFX-HUMISGF3A/M97935_3_at</th>\n",
              "      <th>AFFX-HUMRGE/M10098_5_at</th>\n",
              "      <th>AFFX-HUMRGE/M10098_M_at</th>\n",
              "      <th>...</th>\n",
              "      <th>X53065_f_at</th>\n",
              "      <th>X64177_f_at</th>\n",
              "      <th>X67491_f_at</th>\n",
              "      <th>X71345_f_at</th>\n",
              "      <th>X97444_f_at</th>\n",
              "      <th>Z80780_f_at</th>\n",
              "      <th>X00351_f_at</th>\n",
              "      <th>X01677_f_at</th>\n",
              "      <th>M31667_f_at</th>\n",
              "      <th>L41268_f_at</th>\n",
              "      <th>X99479_f_at</th>\n",
              "      <th>HG658-HT658_f_at</th>\n",
              "      <th>M94880_f_at</th>\n",
              "      <th>S80905_f_at</th>\n",
              "      <th>X03068_f_at</th>\n",
              "      <th>Z34822_f_at</th>\n",
              "      <th>U87593_f_at</th>\n",
              "      <th>U88902_cds1_f_at</th>\n",
              "      <th>AC002076_cds2_at</th>\n",
              "      <th>D64015_at</th>\n",
              "      <th>HG2510-HT2606_at</th>\n",
              "      <th>L10717_at</th>\n",
              "      <th>L34355_at</th>\n",
              "      <th>L78833_cds4_at</th>\n",
              "      <th>M13981_at</th>\n",
              "      <th>M21064_at</th>\n",
              "      <th>M93143_at</th>\n",
              "      <th>S78825_at</th>\n",
              "      <th>U11863_at</th>\n",
              "      <th>U29175_at</th>\n",
              "      <th>U48730_at</th>\n",
              "      <th>U58516_at</th>\n",
              "      <th>U73738_at</th>\n",
              "      <th>X06956_at</th>\n",
              "      <th>X16699_at</th>\n",
              "      <th>X83863_at</th>\n",
              "      <th>Z17240_at</th>\n",
              "      <th>L49218_f_at</th>\n",
              "      <th>M71243_f_at</th>\n",
              "      <th>Z78285_f_at</th>\n",
              "    </tr>\n",
              "  </thead>\n",
              "  <tbody>\n",
              "    <tr>\n",
              "      <th>1</th>\n",
              "      <td>-214</td>\n",
              "      <td>-153</td>\n",
              "      <td>-58</td>\n",
              "      <td>88</td>\n",
              "      <td>-295</td>\n",
              "      <td>-558</td>\n",
              "      <td>199</td>\n",
              "      <td>-176</td>\n",
              "      <td>252</td>\n",
              "      <td>206</td>\n",
              "      <td>-41</td>\n",
              "      <td>-831</td>\n",
              "      <td>-653</td>\n",
              "      <td>-462</td>\n",
              "      <td>75</td>\n",
              "      <td>381</td>\n",
              "      <td>-118</td>\n",
              "      <td>-565</td>\n",
              "      <td>15091</td>\n",
              "      <td>7</td>\n",
              "      <td>311</td>\n",
              "      <td>-231</td>\n",
              "      <td>21</td>\n",
              "      <td>-107</td>\n",
              "      <td>165</td>\n",
              "      <td>-78</td>\n",
              "      <td>-204</td>\n",
              "      <td>29</td>\n",
              "      <td>-61</td>\n",
              "      <td>-105</td>\n",
              "      <td>-366</td>\n",
              "      <td>-41</td>\n",
              "      <td>-346</td>\n",
              "      <td>-297</td>\n",
              "      <td>-109</td>\n",
              "      <td>-13</td>\n",
              "      <td>215</td>\n",
              "      <td>797</td>\n",
              "      <td>14538</td>\n",
              "      <td>9738</td>\n",
              "      <td>...</td>\n",
              "      <td>391</td>\n",
              "      <td>-763</td>\n",
              "      <td>172</td>\n",
              "      <td>149</td>\n",
              "      <td>341</td>\n",
              "      <td>788</td>\n",
              "      <td>21210</td>\n",
              "      <td>13771</td>\n",
              "      <td>598</td>\n",
              "      <td>396</td>\n",
              "      <td>245</td>\n",
              "      <td>14476</td>\n",
              "      <td>10882</td>\n",
              "      <td>701</td>\n",
              "      <td>2762</td>\n",
              "      <td>-325</td>\n",
              "      <td>-67</td>\n",
              "      <td>346</td>\n",
              "      <td>-68</td>\n",
              "      <td>229</td>\n",
              "      <td>-14</td>\n",
              "      <td>108</td>\n",
              "      <td>28</td>\n",
              "      <td>349</td>\n",
              "      <td>61</td>\n",
              "      <td>273</td>\n",
              "      <td>384</td>\n",
              "      <td>-306</td>\n",
              "      <td>-1827</td>\n",
              "      <td>1582</td>\n",
              "      <td>185</td>\n",
              "      <td>511</td>\n",
              "      <td>-125</td>\n",
              "      <td>389</td>\n",
              "      <td>-37</td>\n",
              "      <td>793</td>\n",
              "      <td>329</td>\n",
              "      <td>36</td>\n",
              "      <td>191</td>\n",
              "      <td>-37</td>\n",
              "    </tr>\n",
              "    <tr>\n",
              "      <th>2</th>\n",
              "      <td>-139</td>\n",
              "      <td>-73</td>\n",
              "      <td>-1</td>\n",
              "      <td>283</td>\n",
              "      <td>-264</td>\n",
              "      <td>-400</td>\n",
              "      <td>-330</td>\n",
              "      <td>-168</td>\n",
              "      <td>101</td>\n",
              "      <td>74</td>\n",
              "      <td>19</td>\n",
              "      <td>-743</td>\n",
              "      <td>-239</td>\n",
              "      <td>-83</td>\n",
              "      <td>182</td>\n",
              "      <td>164</td>\n",
              "      <td>-141</td>\n",
              "      <td>-423</td>\n",
              "      <td>11038</td>\n",
              "      <td>37</td>\n",
              "      <td>134</td>\n",
              "      <td>-161</td>\n",
              "      <td>-21</td>\n",
              "      <td>-180</td>\n",
              "      <td>18</td>\n",
              "      <td>-120</td>\n",
              "      <td>-65</td>\n",
              "      <td>97</td>\n",
              "      <td>15</td>\n",
              "      <td>-49</td>\n",
              "      <td>-330</td>\n",
              "      <td>-41</td>\n",
              "      <td>-772</td>\n",
              "      <td>-259</td>\n",
              "      <td>-192</td>\n",
              "      <td>-219</td>\n",
              "      <td>116</td>\n",
              "      <td>433</td>\n",
              "      <td>615</td>\n",
              "      <td>115</td>\n",
              "      <td>...</td>\n",
              "      <td>200</td>\n",
              "      <td>51</td>\n",
              "      <td>154</td>\n",
              "      <td>418</td>\n",
              "      <td>433</td>\n",
              "      <td>736</td>\n",
              "      <td>21059</td>\n",
              "      <td>15097</td>\n",
              "      <td>563</td>\n",
              "      <td>171</td>\n",
              "      <td>-149</td>\n",
              "      <td>13686</td>\n",
              "      <td>11789</td>\n",
              "      <td>76</td>\n",
              "      <td>1567</td>\n",
              "      <td>-191</td>\n",
              "      <td>-88</td>\n",
              "      <td>290</td>\n",
              "      <td>14</td>\n",
              "      <td>194</td>\n",
              "      <td>56</td>\n",
              "      <td>303</td>\n",
              "      <td>-242</td>\n",
              "      <td>214</td>\n",
              "      <td>-28</td>\n",
              "      <td>143</td>\n",
              "      <td>231</td>\n",
              "      <td>-336</td>\n",
              "      <td>-2380</td>\n",
              "      <td>624</td>\n",
              "      <td>169</td>\n",
              "      <td>837</td>\n",
              "      <td>-36</td>\n",
              "      <td>442</td>\n",
              "      <td>-17</td>\n",
              "      <td>782</td>\n",
              "      <td>295</td>\n",
              "      <td>11</td>\n",
              "      <td>76</td>\n",
              "      <td>-14</td>\n",
              "    </tr>\n",
              "    <tr>\n",
              "      <th>3</th>\n",
              "      <td>-76</td>\n",
              "      <td>-49</td>\n",
              "      <td>-307</td>\n",
              "      <td>309</td>\n",
              "      <td>-376</td>\n",
              "      <td>-650</td>\n",
              "      <td>33</td>\n",
              "      <td>-367</td>\n",
              "      <td>206</td>\n",
              "      <td>-215</td>\n",
              "      <td>19</td>\n",
              "      <td>-1135</td>\n",
              "      <td>-962</td>\n",
              "      <td>-232</td>\n",
              "      <td>208</td>\n",
              "      <td>432</td>\n",
              "      <td>84</td>\n",
              "      <td>-501</td>\n",
              "      <td>16692</td>\n",
              "      <td>183</td>\n",
              "      <td>378</td>\n",
              "      <td>-221</td>\n",
              "      <td>67</td>\n",
              "      <td>-203</td>\n",
              "      <td>238</td>\n",
              "      <td>-124</td>\n",
              "      <td>-161</td>\n",
              "      <td>36</td>\n",
              "      <td>-23</td>\n",
              "      <td>-80</td>\n",
              "      <td>-481</td>\n",
              "      <td>-65</td>\n",
              "      <td>-620</td>\n",
              "      <td>-269</td>\n",
              "      <td>-136</td>\n",
              "      <td>104</td>\n",
              "      <td>476</td>\n",
              "      <td>1474</td>\n",
              "      <td>5669</td>\n",
              "      <td>3272</td>\n",
              "      <td>...</td>\n",
              "      <td>387</td>\n",
              "      <td>-474</td>\n",
              "      <td>180</td>\n",
              "      <td>272</td>\n",
              "      <td>591</td>\n",
              "      <td>959</td>\n",
              "      <td>24292</td>\n",
              "      <td>17378</td>\n",
              "      <td>1808</td>\n",
              "      <td>363</td>\n",
              "      <td>325</td>\n",
              "      <td>6560</td>\n",
              "      <td>5023</td>\n",
              "      <td>804</td>\n",
              "      <td>1090</td>\n",
              "      <td>-258</td>\n",
              "      <td>9</td>\n",
              "      <td>220</td>\n",
              "      <td>-58</td>\n",
              "      <td>294</td>\n",
              "      <td>95</td>\n",
              "      <td>143</td>\n",
              "      <td>-25</td>\n",
              "      <td>464</td>\n",
              "      <td>513</td>\n",
              "      <td>238</td>\n",
              "      <td>720</td>\n",
              "      <td>-204</td>\n",
              "      <td>-1772</td>\n",
              "      <td>753</td>\n",
              "      <td>315</td>\n",
              "      <td>1199</td>\n",
              "      <td>33</td>\n",
              "      <td>168</td>\n",
              "      <td>52</td>\n",
              "      <td>1138</td>\n",
              "      <td>777</td>\n",
              "      <td>41</td>\n",
              "      <td>228</td>\n",
              "      <td>-41</td>\n",
              "    </tr>\n",
              "    <tr>\n",
              "      <th>4</th>\n",
              "      <td>-135</td>\n",
              "      <td>-114</td>\n",
              "      <td>265</td>\n",
              "      <td>12</td>\n",
              "      <td>-419</td>\n",
              "      <td>-585</td>\n",
              "      <td>158</td>\n",
              "      <td>-253</td>\n",
              "      <td>49</td>\n",
              "      <td>31</td>\n",
              "      <td>363</td>\n",
              "      <td>-934</td>\n",
              "      <td>-577</td>\n",
              "      <td>-214</td>\n",
              "      <td>142</td>\n",
              "      <td>271</td>\n",
              "      <td>-107</td>\n",
              "      <td>-101</td>\n",
              "      <td>15763</td>\n",
              "      <td>45</td>\n",
              "      <td>268</td>\n",
              "      <td>-27</td>\n",
              "      <td>43</td>\n",
              "      <td>-52</td>\n",
              "      <td>247</td>\n",
              "      <td>-116</td>\n",
              "      <td>-208</td>\n",
              "      <td>22</td>\n",
              "      <td>-10</td>\n",
              "      <td>-74</td>\n",
              "      <td>-240</td>\n",
              "      <td>-33</td>\n",
              "      <td>-560</td>\n",
              "      <td>-261</td>\n",
              "      <td>-366</td>\n",
              "      <td>-148</td>\n",
              "      <td>155</td>\n",
              "      <td>415</td>\n",
              "      <td>4850</td>\n",
              "      <td>2293</td>\n",
              "      <td>...</td>\n",
              "      <td>317</td>\n",
              "      <td>-336</td>\n",
              "      <td>325</td>\n",
              "      <td>149</td>\n",
              "      <td>173</td>\n",
              "      <td>431</td>\n",
              "      <td>17558</td>\n",
              "      <td>13818</td>\n",
              "      <td>576</td>\n",
              "      <td>455</td>\n",
              "      <td>594</td>\n",
              "      <td>8955</td>\n",
              "      <td>9567</td>\n",
              "      <td>367</td>\n",
              "      <td>1708</td>\n",
              "      <td>-357</td>\n",
              "      <td>45</td>\n",
              "      <td>430</td>\n",
              "      <td>-35</td>\n",
              "      <td>128</td>\n",
              "      <td>42</td>\n",
              "      <td>22</td>\n",
              "      <td>-131</td>\n",
              "      <td>342</td>\n",
              "      <td>142</td>\n",
              "      <td>277</td>\n",
              "      <td>307</td>\n",
              "      <td>-320</td>\n",
              "      <td>-2022</td>\n",
              "      <td>743</td>\n",
              "      <td>240</td>\n",
              "      <td>835</td>\n",
              "      <td>218</td>\n",
              "      <td>174</td>\n",
              "      <td>-110</td>\n",
              "      <td>627</td>\n",
              "      <td>170</td>\n",
              "      <td>-50</td>\n",
              "      <td>126</td>\n",
              "      <td>-91</td>\n",
              "    </tr>\n",
              "    <tr>\n",
              "      <th>5</th>\n",
              "      <td>-106</td>\n",
              "      <td>-125</td>\n",
              "      <td>-76</td>\n",
              "      <td>168</td>\n",
              "      <td>-230</td>\n",
              "      <td>-284</td>\n",
              "      <td>4</td>\n",
              "      <td>-122</td>\n",
              "      <td>70</td>\n",
              "      <td>252</td>\n",
              "      <td>155</td>\n",
              "      <td>-471</td>\n",
              "      <td>-490</td>\n",
              "      <td>-184</td>\n",
              "      <td>32</td>\n",
              "      <td>213</td>\n",
              "      <td>1</td>\n",
              "      <td>-260</td>\n",
              "      <td>18128</td>\n",
              "      <td>-28</td>\n",
              "      <td>118</td>\n",
              "      <td>-153</td>\n",
              "      <td>-8</td>\n",
              "      <td>-111</td>\n",
              "      <td>44</td>\n",
              "      <td>-88</td>\n",
              "      <td>-102</td>\n",
              "      <td>32</td>\n",
              "      <td>5</td>\n",
              "      <td>-18</td>\n",
              "      <td>-228</td>\n",
              "      <td>53</td>\n",
              "      <td>-348</td>\n",
              "      <td>-169</td>\n",
              "      <td>-156</td>\n",
              "      <td>-55</td>\n",
              "      <td>122</td>\n",
              "      <td>483</td>\n",
              "      <td>1284</td>\n",
              "      <td>2731</td>\n",
              "      <td>...</td>\n",
              "      <td>162</td>\n",
              "      <td>-56</td>\n",
              "      <td>279</td>\n",
              "      <td>183</td>\n",
              "      <td>259</td>\n",
              "      <td>605</td>\n",
              "      <td>18530</td>\n",
              "      <td>15619</td>\n",
              "      <td>65</td>\n",
              "      <td>122</td>\n",
              "      <td>126</td>\n",
              "      <td>8443</td>\n",
              "      <td>8512</td>\n",
              "      <td>182</td>\n",
              "      <td>1503</td>\n",
              "      <td>-78</td>\n",
              "      <td>29</td>\n",
              "      <td>159</td>\n",
              "      <td>18</td>\n",
              "      <td>71</td>\n",
              "      <td>42</td>\n",
              "      <td>44</td>\n",
              "      <td>-33</td>\n",
              "      <td>159</td>\n",
              "      <td>71</td>\n",
              "      <td>134</td>\n",
              "      <td>178</td>\n",
              "      <td>-182</td>\n",
              "      <td>-179</td>\n",
              "      <td>626</td>\n",
              "      <td>156</td>\n",
              "      <td>649</td>\n",
              "      <td>57</td>\n",
              "      <td>504</td>\n",
              "      <td>-26</td>\n",
              "      <td>250</td>\n",
              "      <td>314</td>\n",
              "      <td>14</td>\n",
              "      <td>56</td>\n",
              "      <td>-25</td>\n",
              "    </tr>\n",
              "  </tbody>\n",
              "</table>\n",
              "<p>5 rows × 7129 columns</p>\n",
              "</div>"
            ],
            "text/plain": [
              "Gene Accession Number  AFFX-BioB-5_at  AFFX-BioB-M_at  ...  M71243_f_at  Z78285_f_at\n",
              "1                                -214            -153  ...          191          -37\n",
              "2                                -139             -73  ...           76          -14\n",
              "3                                 -76             -49  ...          228          -41\n",
              "4                                -135            -114  ...          126          -91\n",
              "5                                -106            -125  ...           56          -25\n",
              "\n",
              "[5 rows x 7129 columns]"
            ]
          },
          "metadata": {
            "tags": []
          },
          "execution_count": 164
        }
      ]
    },
    {
      "cell_type": "code",
      "metadata": {
        "colab": {
          "base_uri": "https://localhost:8080/",
          "height": 252
        },
        "id": "WABBI0zToNse",
        "outputId": "790d9016-e03d-41d1-8903-fde4d3d84da4"
      },
      "source": [
        "labels = pd.read_csv(io.BytesIO(uploaded['labels.csv']),header=0,index_col=0)\n",
        "print(\"n_samples (AML) = {} | n_samples (ALL) = {}\".format(\n",
        "    np.sum(labels.values == 'AML'), np.sum(labels.values == 'ALL')))\n",
        "\n",
        "labels.head()"
      ],
      "execution_count": 165,
      "outputs": [
        {
          "output_type": "stream",
          "text": [
            "n_samples (AML) = 11 | n_samples (ALL) = 27\n"
          ],
          "name": "stdout"
        },
        {
          "output_type": "execute_result",
          "data": {
            "text/html": [
              "<div>\n",
              "<style scoped>\n",
              "    .dataframe tbody tr th:only-of-type {\n",
              "        vertical-align: middle;\n",
              "    }\n",
              "\n",
              "    .dataframe tbody tr th {\n",
              "        vertical-align: top;\n",
              "    }\n",
              "\n",
              "    .dataframe thead th {\n",
              "        text-align: right;\n",
              "    }\n",
              "</style>\n",
              "<table border=\"1\" class=\"dataframe\">\n",
              "  <thead>\n",
              "    <tr style=\"text-align: right;\">\n",
              "      <th></th>\n",
              "      <th>status</th>\n",
              "    </tr>\n",
              "    <tr>\n",
              "      <th>sample</th>\n",
              "      <th></th>\n",
              "    </tr>\n",
              "  </thead>\n",
              "  <tbody>\n",
              "    <tr>\n",
              "      <th>1</th>\n",
              "      <td>ALL</td>\n",
              "    </tr>\n",
              "    <tr>\n",
              "      <th>2</th>\n",
              "      <td>ALL</td>\n",
              "    </tr>\n",
              "    <tr>\n",
              "      <th>3</th>\n",
              "      <td>ALL</td>\n",
              "    </tr>\n",
              "    <tr>\n",
              "      <th>4</th>\n",
              "      <td>ALL</td>\n",
              "    </tr>\n",
              "    <tr>\n",
              "      <th>5</th>\n",
              "      <td>ALL</td>\n",
              "    </tr>\n",
              "  </tbody>\n",
              "</table>\n",
              "</div>"
            ],
            "text/plain": [
              "       status\n",
              "sample       \n",
              "1         ALL\n",
              "2         ALL\n",
              "3         ALL\n",
              "4         ALL\n",
              "5         ALL"
            ]
          },
          "metadata": {
            "tags": []
          },
          "execution_count": 165
        }
      ]
    },
    {
      "cell_type": "markdown",
      "metadata": {
        "id": "bNEoraMloNsf"
      },
      "source": [
        "**Encode the labels into the standard binary classification problem: associate ALL with class `1` and AML with class `-1`.**"
      ]
    },
    {
      "cell_type": "code",
      "metadata": {
        "id": "jrKqiiRXoNsf"
      },
      "source": [
        "binary_labels = np.where(labels.values == 'ALL', 1, -1)"
      ],
      "execution_count": 166,
      "outputs": []
    },
    {
      "cell_type": "markdown",
      "metadata": {
        "id": "Bt2YAplzoNsg"
      },
      "source": [
        "**What is the accuracy score of a random classifier?**"
      ]
    },
    {
      "cell_type": "code",
      "metadata": {
        "colab": {
          "base_uri": "https://localhost:8080/"
        },
        "id": "-S3Pf9hioNsg",
        "outputId": "2b280755-6e6a-44c2-e435-1aa7ae8fc91c"
      },
      "source": [
        "#Random classifier\n",
        "from sklearn.model_selection import train_test_split\n",
        "from sklearn.ensemble import RandomForestClassifier\n",
        "from sklearn import metrics\n",
        "X_trainr, X_testr, y_trainr, y_testr = train_test_split( data, binary_labels, test_size=0.30, random_state=4)\n",
        "\n",
        "clf = RandomForestClassifier(n_estimators=30)\n",
        "clf.fit(X_trainr,y_trainr)\n",
        "y_pred= clf.predict(X_testr)\n",
        "print(\"Accuracy :\",metrics.accuracy_score(y_testr,y_pred))"
      ],
      "execution_count": 186,
      "outputs": [
        {
          "output_type": "stream",
          "text": [
            "Accuracy : 1.0\n"
          ],
          "name": "stdout"
        }
      ]
    },
    {
      "cell_type": "markdown",
      "metadata": {
        "id": "hIUq1OhxoNsg"
      },
      "source": [
        "**Note that some columns of `data` start with `AFFX`. These are not real features. Instead, they are some control probes related to the microarray structure. For this reason, we can remove them before the actual analysis.**"
      ]
    },
    {
      "cell_type": "code",
      "metadata": {
        "id": "B3JDWp-VoNsh"
      },
      "source": [
        "relevant_features = data.columns[~data.columns.str.startswith(\"AFFX\")]\n",
        "data = data.loc[:, relevant_features]"
      ],
      "execution_count": 187,
      "outputs": []
    },
    {
      "cell_type": "markdown",
      "metadata": {
        "id": "WfXamZdxoNsh"
      },
      "source": [
        "### 3.2. Data visualization\n",
        "\n",
        "**We can visualize the data by projecting them on a 2-dimensional space with `PCA`.**"
      ]
    },
    {
      "cell_type": "code",
      "metadata": {
        "colab": {
          "base_uri": "https://localhost:8080/",
          "height": 312
        },
        "id": "V2Dwn9t5oNsi",
        "outputId": "106268d9-08e8-48be-baac-2eba3877283b"
      },
      "source": [
        "from sklearn.decomposition import PCA\n",
        "data_principal = PCA(n_components=2)\n",
        "pca_data = data_principal.fit_transform(data)\n",
        "\n",
        "princ_data = pd.DataFrame(data = pca_data, columns = ['pca1', 'pca2'])\n",
        "princ_data[['pca1']]\n",
        "plt.scatter(princ_data[['pca1']],princ_data[['pca2']],c=binary_labels,cmap='viridis')\n",
        "plt.xlabel('pca1')\n",
        "plt.ylabel('pca2')\n",
        "plt.title('Cancer pca1 vs pca2 ')"
      ],
      "execution_count": 169,
      "outputs": [
        {
          "output_type": "execute_result",
          "data": {
            "text/plain": [
              "Text(0.5, 1.0, 'Cancer pca1 vs pca2 ')"
            ]
          },
          "metadata": {
            "tags": []
          },
          "execution_count": 169
        },
        {
          "output_type": "display_data",
          "data": {
            "image/png": "[encoded data removed]",
            "text/plain": [
              "<Figure size 432x288 with 1 Axes>"
            ]
          },
          "metadata": {
            "tags": [],
            "needs_background": "light"
          }
        }
      ]
    },
    {
      "cell_type": "markdown",
      "metadata": {
        "id": "RgueQ56AoNsi"
      },
      "source": [
        "### 3.3 Fitting the model\n",
        "\n",
        "To control separately $\\mu$ and $\\tau$ in the ElasticNet model, you need to solve the appropriate linear system of equationa.\n",
        "\n",
        "$ \\alpha l_{1_{ratio}} = \\tau$\n",
        "\n",
        "$ \\frac{\\alpha}{2} (1 - l_{1_{ratio}}) = \\mu$\n",
        "\n",
        "$\\dots$\n",
        "\n",
        "$ l_{1_{ratio}} = \\frac{\\tau}{2 \\mu + \\tau}$\n",
        "\n",
        "$ \\alpha = 2 \\mu + \\tau$\n",
        "\n"
      ]
    },
    {
      "cell_type": "markdown",
      "metadata": {
        "id": "KpjFEASBoNsi"
      },
      "source": [
        "**Write a Python function which performs the conversion from `tau` and `mu` to `alpha` and `l1_ratio`.**"
      ]
    },
    {
      "cell_type": "code",
      "metadata": {
        "colab": {
          "base_uri": "https://localhost:8080/"
        },
        "id": "nzTL3mrioNsj",
        "outputId": "5067a559-0f6e-4072-fe59-46992275e0e5"
      },
      "source": [
        "def mu_toalpha(mu,T):\n",
        "  l1_ratio = T/((2*mu) + T)\n",
        "  alpha = ((2*mu) + T)\n",
        "  return l1_ratio,alpha \n",
        "\n",
        "mu_toalpha(1e4,1e-1)"
      ],
      "execution_count": 170,
      "outputs": [
        {
          "output_type": "execute_result",
          "data": {
            "text/plain": [
              "(4.999975000125e-06, 20000.1)"
            ]
          },
          "metadata": {
            "tags": []
          },
          "execution_count": 170
        }
      ]
    },
    {
      "cell_type": "markdown",
      "metadata": {
        "id": "C8A-ZMZ2oNsj"
      },
      "source": [
        "### 3.4 Nested variable selection\n",
        "\n",
        "We will observe the effect of increasing the value of `mu`, which controls the amount of variable correlation tolerated in the solution. For example, with fixed `tau`, increasing `mu` should result in selecting nested list of variables, as in [DeMol09](http://online.liebertpub.com/doi/abs/10.1089/cmb.2008.0171).\n",
        "\n",
        "**Implement a data analysis pipeline following the next steps:**\n",
        "\n",
        "1. Fix a value for `mu_0`, *e.g.* `mu_0 = 1`.\n",
        "\n",
        "2. Split the dataset into `K` folds (non-overlapping groups).\n",
        "\n",
        "    a. For each iteration keep $\\frac{1}{K}$ samples aside and use it as test set.\n",
        "    \n",
        "    b. Use the remaining $\\frac{K-1}{K}$ samples and use them as training set to optimize the regularization parameter `tau` via an inner `GridSearch` cross-validation.\n",
        "    \n",
        "    c. The best model is achieved with the optimal `tau` fitted on the training set.\n",
        "\n",
        "    d. Evaluate the best model on the test set and keep track of the accuracy score and the list of selected variables.\n",
        "    \n",
        "This would allow us to obtain a ranking of variables."
      ]
    },
    {
      "cell_type": "code",
      "metadata": {
        "id": "E_Uawtd9oNsk"
      },
      "source": [
        "X, y = data, binary_labels\n",
        "\n",
        "#Find an appropriate number of folds in which split the dataset\n",
        "K = 10\n",
        "\n",
        "kf = StratifiedKFold(n_splits=K, shuffle=True) "
      ],
      "execution_count": 183,
      "outputs": []
    },
    {
      "cell_type": "markdown",
      "metadata": {
        "id": "Z1hqEOt8oNsk"
      },
      "source": [
        "Use the following ranges for the parameters:\n",
        "- `tau_range` in logarithmic scale from `1e-1` to `1e5`\n",
        "- `mu_range` as [`1e4`, `1e5`, `1e7`, `1e8`]"
      ]
    },
    {
      "cell_type": "code",
      "metadata": {
        "id": "W63p0-quoNsk"
      },
      "source": [
        "X_trainf, X_testf, y_trainf, y_testf = train_test_split( data, binary_labels, test_size=0.30, random_state=4)\n",
        "def pipline(X,y):\n",
        "  \"\"\" This function finds the best alpha and ratio based on the function that was implimented above. \n",
        "      It further more takes the trainingset of the data as the X and the labels as y. \n",
        "   \"\"\"\n",
        "  tau = []\n",
        "  for i in range(-1,6):\n",
        "    tau.append(np.log(10**i))\n",
        "  \n",
        "  mu = []\n",
        "  for j in range(2,9):\n",
        "    mu.append(10**j)\n",
        "  \n",
        "  ratios_all = []\n",
        "  alphas_all = []\n",
        "  ratios = []\n",
        "  alphas = []\n",
        "  count = 0\n",
        "  for id , ta in enumerate(tau):\n",
        "    for idx , m in enumerate(mu):\n",
        "      results = mu_toalpha(m,ta)\n",
        "      ratios_all.append(m)\n",
        "      alphas_all.append(results[1])\n",
        "      if id == idx:\n",
        "        result = mu_toalpha(m,ta)\n",
        "        ratios.append(result[0])\n",
        "        alphas.append(result[1])\n",
        "  enet = ElasticNet()\n",
        "  parameters = {'alpha':alphas,'l1_ratio':ratios}\n",
        "  clf = GridSearchCV(enet, parameters, refit=True, cv=kf)\n",
        "  resulstcv = clf.fit(X,y)\n",
        "  print(\"Best parameters are :\",resulstcv.best_params_)\n",
        "  return resulstcv.best_params_ "
      ],
      "execution_count": 184,
      "outputs": []
    },
    {
      "cell_type": "code",
      "metadata": {
        "colab": {
          "base_uri": "https://localhost:8080/"
        },
        "id": "RUq4Jp1Smw_F",
        "outputId": "6dee1e2a-e254-409a-b494-5af8438319c8"
      },
      "source": [
        "best_param = pipline(X_trainf,y_trainf)"
      ],
      "execution_count": 185,
      "outputs": [
        {
          "output_type": "stream",
          "text": [
            "Best parameters are : {'alpha': 200004.605170186, 'l1_ratio': 5.756462401116501e-08}\n"
          ],
          "name": "stdout"
        }
      ]
    },
    {
      "cell_type": "code",
      "metadata": {
        "colab": {
          "base_uri": "https://localhost:8080/"
        },
        "id": "VAhGG0lmSxVV",
        "outputId": "ec1cfdd5-9abc-488f-df38-417b7c1b4c19"
      },
      "source": [
        "#Score of Elastic net\n",
        "from sklearn.metrics import r2_score\n",
        "enet = ElasticNet(alpha= best_param.get('alpha'), l1_ratio=best_param.get('l1_ratio'))\n",
        "y_pred_enet = enet.fit(X_trainf,y_trainf ).predict(X_testf)\n",
        "r2_score_enet = r2_score(y_testf, y_pred_enet)\n",
        "r2_score_enet"
      ],
      "execution_count": 190,
      "outputs": [
        {
          "output_type": "execute_result",
          "data": {
            "text/plain": [
              "0.7863266738461456"
            ]
          },
          "metadata": {
            "tags": []
          },
          "execution_count": 190
        }
      ]
    },
    {
      "cell_type": "markdown",
      "metadata": {
        "id": "250wXhjToNsl"
      },
      "source": [
        "### 3.5 Build a `pandas` DataFrame whose values correspond to the number of times each variable is selected for different values of $\\mu$"
      ]
    },
    {
      "cell_type": "code",
      "metadata": {
        "id": "C4gc4-HmoNsl"
      },
      "source": [
        "# I had issues understading this part of the question, so am leaving the last 2 blanck "
      ],
      "execution_count": null,
      "outputs": []
    },
    {
      "cell_type": "code",
      "metadata": {
        "id": "AXrAwT-SoNsm"
      },
      "source": [
        ""
      ],
      "execution_count": null,
      "outputs": []
    },
    {
      "cell_type": "markdown",
      "metadata": {
        "id": "l2JaJJJWoNsm"
      },
      "source": [
        "### 3.6 Build an explanatory visualization of the selection frequency for each variable, at different choices of $\\mu$"
      ]
    },
    {
      "cell_type": "code",
      "metadata": {
        "id": "YQZeXXOmoNsm"
      },
      "source": [
        ""
      ],
      "execution_count": null,
      "outputs": []
    },
    {
      "cell_type": "markdown",
      "metadata": {
        "id": "Vd24IPUuoNsn"
      },
      "source": [
        "**What do you observe?**"
      ]
    },
    {
      "cell_type": "code",
      "metadata": {
        "id": "nLAgwB9UoNsn"
      },
      "source": [
        ""
      ],
      "execution_count": null,
      "outputs": []
    }
  ]
}