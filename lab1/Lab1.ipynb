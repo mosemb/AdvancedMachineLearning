{
 "cells": [
  {
   "cell_type": "markdown",
   "id": "documented-thumb",
   "metadata": {},
   "source": [
    "# Model selection and  assessment\n",
    "\n",
    "We discussed during class why it is appropriate to hold-out part of the data as a test dataset\n",
    "\n",
    "$$ \\hat{L} = \\frac{1}{n_T} \\sum_{(x,y)\\in T} \\ell(y, \\hat{f}(x)), \\quad \\textit{TRAINING ERROR} $$\n",
    "\n",
    "$$ \\hat{L}_{HO} = \\frac{1}{n_{HO}} \\sum_{(x,y)\\in HO} \\ell(y, \\hat{f}(x)), \\quad \\textit{HOLD-OUT ERROR} $$\n",
    "\n",
    "with $\\hat{f}$ being the solution of the training set $T$.\n",
    "\n",
    "In actual applications, there are often two steps to solving a prediction problem: model selection and model assessment. In model selection we estimate the performance of various competing models with the hope of choosing the best one. Having chosen the final model, we assess the model by estimating the prediction error on new unseen data.\n",
    "\n",
    "Class of models $\\hat{f}_{\\alpha}$: one should not use the test dataset for selecting $\\alpha$. \n",
    "\n",
    "One could divide the data in three parts: \n",
    "- train;\n",
    "- validation;\n",
    "- (hold-out) test.\n",
    "\n",
    "We use the training and validation data to select the best model and the test data to assess the chosen model.\n",
    "The recipe is the following:\n",
    "\n",
    "1.  We train all competing model on the train data and define the best model as the one that predicts best in the validation set.  We could re-split the train/validation data, do this many times, and select the method that, on average, performs the best.\n",
    "\n",
    "2.  We chose the best model among many competitors, hence the observed performance will be a bit biased. Therefore, to appropriately assess performance on independent data we look at the score on the test set.\n",
    "\n",
    "\n",
    "A common problem: when the amout of data is limited, the results from fitting a model to splitted data can be substantially different to fitting to the complete dataset. Indeed, when the number of samples is small (smaller than the number of variables) we do not have enough examples to approach the problem as described above. Thus, we need to perform a cross-validation procedure that returns a mean error score on the data."
   ]
  },
  {
   "cell_type": "markdown",
   "id": "integral-privilege",
   "metadata": {},
   "source": [
    "## Exercise #1: Splitting Techniques\n",
    "\n",
    "Given the California-housing dataset, use the following splitting methods:\n",
    "- **K-fold** : split dataset into k consecutive folds. Each fold is then used once as a validation while the k - 1 remaining folds form the training set.\n",
    "- **Monte Carlo** : randomly split the dataset into training and test sets(we need to specify the percentage of the test data points and an initial random state for reshuffling the data. We set `test_size = 0.2` and `random_state = 1`).\n",
    "- **Leave One Out** : provides train/test indices to split data in train/test sets. Each sample is used once as a test set (singleton) while the remaining samples form the training set.\n",
    "\n",
    "**Compute the mean and standard deviation at different splits for each feature and plot them. Use 5 splits for K-fold and MC. Comment on the results**\n",
    "\n",
    "When performing data-splitting, you can refer to the classes in [sklearn.model_selection](https://scikit-learn.org/stable/modules/classes.html#module-sklearn.model_selection)."
   ]
  },
  {
   "cell_type": "code",
   "execution_count": 25,
   "id": "instant-comparative",
   "metadata": {},
   "outputs": [],
   "source": [
    "import matplotlib.pyplot as plt\n",
    "%matplotlib inline\n",
    "import numpy as np\n",
    "import pandas as pd\n",
    "from sklearn.datasets import fetch_california_housing\n",
    "\n",
    "cal_housing = fetch_california_housing()\n",
    "df = pd.DataFrame(cal_housing.data, columns=cal_housing.feature_names)\n",
    "target = cal_housing.target"
   ]
  },
  {
   "cell_type": "code",
   "execution_count": 26,
   "id": "normal-winter",
   "metadata": {},
   "outputs": [
    {
     "data": {
      "text/html": [
       "<div>\n",
       "<style scoped>\n",
       "    .dataframe tbody tr th:only-of-type {\n",
       "        vertical-align: middle;\n",
       "    }\n",
       "\n",
       "    .dataframe tbody tr th {\n",
       "        vertical-align: top;\n",
       "    }\n",
       "\n",
       "    .dataframe thead th {\n",
       "        text-align: right;\n",
       "    }\n",
       "</style>\n",
       "<table border=\"1\" class=\"dataframe\">\n",
       "  <thead>\n",
       "    <tr style=\"text-align: right;\">\n",
       "      <th></th>\n",
       "      <th>MedInc</th>\n",
       "      <th>HouseAge</th>\n",
       "      <th>AveRooms</th>\n",
       "      <th>AveBedrms</th>\n",
       "      <th>Population</th>\n",
       "      <th>AveOccup</th>\n",
       "      <th>Latitude</th>\n",
       "      <th>Longitude</th>\n",
       "    </tr>\n",
       "  </thead>\n",
       "  <tbody>\n",
       "    <tr>\n",
       "      <th>0</th>\n",
       "      <td>8.3252</td>\n",
       "      <td>41.0</td>\n",
       "      <td>6.984127</td>\n",
       "      <td>1.023810</td>\n",
       "      <td>322.0</td>\n",
       "      <td>2.555556</td>\n",
       "      <td>37.88</td>\n",
       "      <td>-122.23</td>\n",
       "    </tr>\n",
       "    <tr>\n",
       "      <th>1</th>\n",
       "      <td>8.3014</td>\n",
       "      <td>21.0</td>\n",
       "      <td>6.238137</td>\n",
       "      <td>0.971880</td>\n",
       "      <td>2401.0</td>\n",
       "      <td>2.109842</td>\n",
       "      <td>37.86</td>\n",
       "      <td>-122.22</td>\n",
       "    </tr>\n",
       "    <tr>\n",
       "      <th>2</th>\n",
       "      <td>7.2574</td>\n",
       "      <td>52.0</td>\n",
       "      <td>8.288136</td>\n",
       "      <td>1.073446</td>\n",
       "      <td>496.0</td>\n",
       "      <td>2.802260</td>\n",
       "      <td>37.85</td>\n",
       "      <td>-122.24</td>\n",
       "    </tr>\n",
       "    <tr>\n",
       "      <th>3</th>\n",
       "      <td>5.6431</td>\n",
       "      <td>52.0</td>\n",
       "      <td>5.817352</td>\n",
       "      <td>1.073059</td>\n",
       "      <td>558.0</td>\n",
       "      <td>2.547945</td>\n",
       "      <td>37.85</td>\n",
       "      <td>-122.25</td>\n",
       "    </tr>\n",
       "    <tr>\n",
       "      <th>4</th>\n",
       "      <td>3.8462</td>\n",
       "      <td>52.0</td>\n",
       "      <td>6.281853</td>\n",
       "      <td>1.081081</td>\n",
       "      <td>565.0</td>\n",
       "      <td>2.181467</td>\n",
       "      <td>37.85</td>\n",
       "      <td>-122.25</td>\n",
       "    </tr>\n",
       "  </tbody>\n",
       "</table>\n",
       "</div>"
      ],
      "text/plain": [
       "   MedInc  HouseAge  AveRooms  AveBedrms  Population  AveOccup  Latitude  \\\n",
       "0  8.3252      41.0  6.984127   1.023810       322.0  2.555556     37.88   \n",
       "1  8.3014      21.0  6.238137   0.971880      2401.0  2.109842     37.86   \n",
       "2  7.2574      52.0  8.288136   1.073446       496.0  2.802260     37.85   \n",
       "3  5.6431      52.0  5.817352   1.073059       558.0  2.547945     37.85   \n",
       "4  3.8462      52.0  6.281853   1.081081       565.0  2.181467     37.85   \n",
       "\n",
       "   Longitude  \n",
       "0    -122.23  \n",
       "1    -122.22  \n",
       "2    -122.24  \n",
       "3    -122.25  \n",
       "4    -122.25  "
      ]
     },
     "execution_count": 26,
     "metadata": {},
     "output_type": "execute_result"
    }
   ],
   "source": [
    "df.head()"
   ]
  },
  {
   "cell_type": "code",
   "execution_count": 55,
   "id": "smoking-frederick",
   "metadata": {},
   "outputs": [
    {
     "name": "stdout",
     "output_type": "stream",
     "text": [
      "KFold(n_splits=5, random_state=None, shuffle=False)\n"
     ]
    }
   ],
   "source": [
    "#TODO\n",
    "# (K-Fold)\n",
    "from sklearn.model_selection import KFold\n",
    "kf = KFold(n_splits=5)\n",
    "kf.get_n_splits(df)\n",
    "print(kf)"
   ]
  },
  {
   "cell_type": "code",
   "execution_count": 86,
   "id": "boxed-triumph",
   "metadata": {},
   "outputs": [
    {
     "data": {
      "text/plain": [
       "1.8998217179452688"
      ]
     },
     "execution_count": 86,
     "metadata": {},
     "output_type": "execute_result"
    }
   ],
   "source": [
    "df['MedInc'].std()"
   ]
  },
  {
   "cell_type": "code",
   "execution_count": 109,
   "id": "relative-shaft",
   "metadata": {},
   "outputs": [
    {
     "name": "stdout",
     "output_type": "stream",
     "text": [
      "Iteration Mean: 1 TRAIN Mean: 3.9323571826550388 TEST Mean: 3.6239262839147286\n",
      "Iteration Std: 1 TRAIN Std: 1.9140820313961735 TEST Std: 1.8211220717613654\n",
      "Iteration Mean: 2 TRAIN Mean: 3.9404850472383717 TEST Mean: 3.591414825581395\n",
      "Iteration Std: 2 TRAIN Std: 1.8904013287671548 TEST Std: 1.911946899654332\n",
      "Iteration Mean: 3 TRAIN Mean: 3.7387253936531004 TEST Mean: 4.39845343992248\n",
      "Iteration Std: 3 TRAIN Std: 1.8484660898925231 TEST Std: 2.0079946475783874\n",
      "Iteration Mean: 4 TRAIN Mean: 3.9413360646802325 TEST Mean: 3.5880107558139533\n",
      "Iteration Std: 4 TRAIN Std: 1.963072751414841 TEST Std: 1.5914760523749263\n",
      "Iteration Mean: 5 TRAIN Mean: 3.8004513263081394 TEST Mean: 4.1515497093023255\n",
      "Iteration Std: 5 TRAIN Std: 1.8716322600774675 TEST Std: 1.9841611383715547\n"
     ]
    }
   ],
   "source": [
    "it =1\n",
    "Test_MedInc_Mean = []\n",
    "Train_MedInc_Mean = []\n",
    "Train_MedInc_Std = []\n",
    "Test_MedInc_Std= []\n",
    "for train_index, test_index in kf.split(df):\n",
    "    print(\"Iteration Mean:\", str(it), \"TRAIN Mean:\", df.iloc[train_index]['MedInc'].mean(), \"TEST Mean:\", df.iloc[test_index]['MedInc'].mean())\n",
    "    print(\"Iteration Std:\", str(it), \"TRAIN Std:\", df.iloc[train_index]['MedInc'].std(), \"TEST Std:\", df.iloc[test_index]['MedInc'].std())\n",
    "    Train_MedInc_Mean.append(df.iloc[train_index]['MedInc'].mean())\n",
    "    Test_MedInc_Mean.append(df.iloc[test_index]['MedInc'].mean())\n",
    "    Train_MedInc_Std.append(df.iloc[train_index]['MedInc'].std())\n",
    "    Test_MedInc_Std.append(df.iloc[test_index]['MedInc'].std())\n",
    "    it = it+1"
   ]
  },
  {
   "cell_type": "code",
   "execution_count": 142,
   "id": "sufficient-morrison",
   "metadata": {},
   "outputs": [],
   "source": [
    "def utility_func(df,column,fold):\n",
    "    from sklearn.model_selection import KFold\n",
    "    kf = KFold(n_splits=fold)\n",
    "    \n",
    "\n",
    "    it =1\n",
    "    Test_Mean = []\n",
    "    Train_Mean = []\n",
    "    Train_Std = []\n",
    "    Test_Std= []\n",
    "    print(column)\n",
    "    for train_index, test_index in kf.split(df):\n",
    "        print(\"Iteration Mean:\", str(it), \"TRAIN Mean:\", df.iloc[train_index][column].mean(), \"TEST Mean:\", df.iloc[test_index][column].mean())\n",
    "        print(\"Iteration Std:\", str(it), \"TRAIN Std:\", df.iloc[train_index][column].std(), \"TEST Std:\", df.iloc[test_index][column].std()) \n",
    "        Train_Mean.append(df.iloc[train_index][column].mean())\n",
    "        Test_Mean.append(df.iloc[test_index][column].mean())\n",
    "        Train_Std.append(df.iloc[train_index][column].std())\n",
    "        Test_Std.append(df.iloc[test_index][column].std())\n",
    "        it = it+1\n",
    "    return  Train_Mean,Test_Mean,Train_Std,Test_Std\n",
    "\n",
    "def plot_d(list_a,title,xlabel,ylabel):\n",
    "    plt.plot(list_a)\n",
    "    plt.title(title)\n",
    "    plt.xlabel(xlabel)\n",
    "    plt.ylabel(ylabel)\n",
    "    "
   ]
  },
  {
   "cell_type": "code",
   "execution_count": 143,
   "id": "fewer-garden",
   "metadata": {},
   "outputs": [
    {
     "name": "stdout",
     "output_type": "stream",
     "text": [
      "MedInc\n",
      "Iteration Mean: 1 TRAIN Mean: 3.9323571826550388 TEST Mean: 3.6239262839147286\n",
      "Iteration Std: 1 TRAIN Std: 1.9140820313961735 TEST Std: 1.8211220717613654\n",
      "Iteration Mean: 2 TRAIN Mean: 3.9404850472383717 TEST Mean: 3.591414825581395\n",
      "Iteration Std: 2 TRAIN Std: 1.8904013287671548 TEST Std: 1.911946899654332\n",
      "Iteration Mean: 3 TRAIN Mean: 3.7387253936531004 TEST Mean: 4.39845343992248\n",
      "Iteration Std: 3 TRAIN Std: 1.8484660898925231 TEST Std: 2.0079946475783874\n",
      "Iteration Mean: 4 TRAIN Mean: 3.9413360646802325 TEST Mean: 3.5880107558139533\n",
      "Iteration Std: 4 TRAIN Std: 1.963072751414841 TEST Std: 1.5914760523749263\n",
      "Iteration Mean: 5 TRAIN Mean: 3.8004513263081394 TEST Mean: 4.1515497093023255\n",
      "Iteration Std: 5 TRAIN Std: 1.8716322600774675 TEST Std: 1.9841611383715547\n"
     ]
    }
   ],
   "source": [
    "a = utility_func(df,\"MedInc\",5)"
   ]
  },
  {
   "cell_type": "code",
   "execution_count": 144,
   "id": "judicial-thong",
   "metadata": {},
   "outputs": [
    {
     "data": {
      "image/png": "[encoded data removed]",
      "text/plain": [
       "<Figure size 432x288 with 1 Axes>"
      ]
     },
     "metadata": {
      "needs_background": "light"
     },
     "output_type": "display_data"
    }
   ],
   "source": [
    "plot_d(a[0],\"Mean Values MedInc K-FOLD Train\",\"x\",\"y\")"
   ]
  },
  {
   "cell_type": "code",
   "execution_count": 141,
   "id": "interracial-sculpture",
   "metadata": {},
   "outputs": [
    {
     "data": {
      "text/plain": [
       "[3.9323571826550388,\n",
       " 3.9404850472383717,\n",
       " 3.7387253936531004,\n",
       " 3.9413360646802325,\n",
       " 3.8004513263081394]"
      ]
     },
     "execution_count": 141,
     "metadata": {},
     "output_type": "execute_result"
    }
   ],
   "source": [
    "a[0]"
   ]
  },
  {
   "cell_type": "code",
   "execution_count": 104,
   "id": "educational-toolbox",
   "metadata": {},
   "outputs": [
    {
     "data": {
      "text/plain": [
       "Text(0, 0.5, 'Mean Values')"
      ]
     },
     "execution_count": 104,
     "metadata": {},
     "output_type": "execute_result"
    },
    {
     "data": {
      "image/png": "[encoded data removed]",
      "text/plain": [
       "<Figure size 432x288 with 1 Axes>"
      ]
     },
     "metadata": {
      "needs_background": "light"
     },
     "output_type": "display_data"
    }
   ],
   "source": [
    "#Iteration 1 Mean Plots KFOLD\n",
    "plt.plot(Test_MedInc_Mean)\n",
    "plt.title(\" Mean Values MedInc K-FOLD Train\")\n",
    "plt.xlabel(\"Iterations\")\n",
    "plt.ylabel(\"Mean Values\")"
   ]
  },
  {
   "cell_type": "code",
   "execution_count": 106,
   "id": "beneficial-specification",
   "metadata": {},
   "outputs": [
    {
     "data": {
      "text/plain": [
       "Text(0, 0.5, 'Mean Values')"
      ]
     },
     "execution_count": 106,
     "metadata": {},
     "output_type": "execute_result"
    },
    {
     "data": {
      "image/png": "[encoded data removed]",
      "text/plain": [
       "<Figure size 432x288 with 1 Axes>"
      ]
     },
     "metadata": {
      "needs_background": "light"
     },
     "output_type": "display_data"
    }
   ],
   "source": [
    "#Iteration 1 Mean Plots KFOLD\n",
    "plt.plot(Train_MedInc_Mean)\n",
    "plt.title(\" Mean Values MedInc K-FOLD Train\")\n",
    "plt.xlabel(\"Iterations\")\n",
    "plt.ylabel(\"Mean Values\")"
   ]
  },
  {
   "cell_type": "code",
   "execution_count": 131,
   "id": "paperback-corpus",
   "metadata": {},
   "outputs": [
    {
     "data": {
      "image/png": "[encoded data removed]",
      "text/plain": [
       "<Figure size 432x288 with 1 Axes>"
      ]
     },
     "metadata": {
      "needs_background": "light"
     },
     "output_type": "display_data"
    }
   ],
   "source": [
    "#Iteration Plots KFOLD\n",
    "plt.plot(Train_MedInc_Std)\n",
    "plt.title(\"Std Values MedInc K-FOLD Train\")\n",
    "plt.xlabel(\"Iterations\")\n",
    "plt.ylabel(\"Std Values\")\n",
    "\n",
    "def plot_d(list_a,title,xlabel,ylabel):\n",
    "    plt.plot(Train_MedInc_Std)\n",
    "    plt.title(title)\n",
    "    plt.xlabel(xlabel)\n",
    "    plt.ylable(ylabel)\n",
    "    "
   ]
  },
  {
   "cell_type": "code",
   "execution_count": 108,
   "id": "likely-finger",
   "metadata": {},
   "outputs": [
    {
     "data": {
      "text/plain": [
       "Text(0, 0.5, 'Std Values')"
      ]
     },
     "execution_count": 108,
     "metadata": {},
     "output_type": "execute_result"
    },
    {
     "data": {
      "image/png": "[encoded data removed]",
      "text/plain": [
       "<Figure size 432x288 with 1 Axes>"
      ]
     },
     "metadata": {
      "needs_background": "light"
     },
     "output_type": "display_data"
    }
   ],
   "source": [
    "#Iteration Plots KFOLD Std\n",
    "plt.plot(Test_MedInc_Std)\n",
    "plt.title(\"Std Values MedInc K-FOLD Test\")\n",
    "plt.xlabel(\"Iterations\")\n",
    "plt.ylabel(\"Std Values\")"
   ]
  },
  {
   "cell_type": "code",
   "execution_count": 34,
   "id": "compatible-imperial",
   "metadata": {},
   "outputs": [
    {
     "name": "stdout",
     "output_type": "stream",
     "text": [
      "TRAIN: [ 4128  4129  4130 ... 20637 20638 20639] TEST: [   0    1    2 ... 4125 4126 4127]\n",
      "TRAIN: [    0     1     2 ... 20637 20638 20639] TEST: [4128 4129 4130 ... 8253 8254 8255]\n",
      "TRAIN: [    0     1     2 ... 20637 20638 20639] TEST: [ 8256  8257  8258 ... 12381 12382 12383]\n",
      "TRAIN: [    0     1     2 ... 20637 20638 20639] TEST: [12384 12385 12386 ... 16509 16510 16511]\n",
      "TRAIN: [    0     1     2 ... 16509 16510 16511] TEST: [16512 16513 16514 ... 20637 20638 20639]\n"
     ]
    }
   ],
   "source": [
    "for train_index, test_index in kf.split(target):\n",
    "    print(\"TRAIN:\", train_index, \"TEST:\", test_index)"
   ]
  },
  {
   "cell_type": "code",
   "execution_count": 35,
   "id": "latest-raleigh",
   "metadata": {},
   "outputs": [
    {
     "name": "stdout",
     "output_type": "stream",
     "text": [
      "TRAIN: [ 4128  4129  4130 ... 20637 20638 20639] TEST: [   0    1    2 ... 4125 4126 4127]\n",
      "TRAIN: [    0     1     2 ... 20637 20638 20639] TEST: [4128 4129 4130 ... 8253 8254 8255]\n",
      "TRAIN: [    0     1     2 ... 20637 20638 20639] TEST: [ 8256  8257  8258 ... 12381 12382 12383]\n",
      "TRAIN: [    0     1     2 ... 20637 20638 20639] TEST: [12384 12385 12386 ... 16509 16510 16511]\n",
      "TRAIN: [    0     1     2 ... 16509 16510 16511] TEST: [16512 16513 16514 ... 20637 20638 20639]\n"
     ]
    }
   ],
   "source": [
    "for train_index, test_index in kf.split(df):\n",
    "    print(\"TRAIN:\", train_index, \"TEST:\", test_index)"
   ]
  },
  {
   "cell_type": "code",
   "execution_count": 36,
   "id": "artistic-distinction",
   "metadata": {},
   "outputs": [
    {
     "data": {
      "text/plain": [
       "5"
      ]
     },
     "execution_count": 36,
     "metadata": {},
     "output_type": "execute_result"
    }
   ],
   "source": [
    "#Monte Carlo split\n",
    "from sklearn.model_selection import ShuffleSplit\n",
    "MonteCarloSplit = ShuffleSplit(n_splits=5, test_size=.2, random_state=1)\n",
    "MonteCarloSplit.get_n_splits(df,target)"
   ]
  },
  {
   "cell_type": "code",
   "execution_count": 38,
   "id": "aggregate-colon",
   "metadata": {},
   "outputs": [
    {
     "data": {
      "text/plain": [
       "20640"
      ]
     },
     "execution_count": 38,
     "metadata": {},
     "output_type": "execute_result"
    }
   ],
   "source": [
    "# Leave one Out \n",
    "from sklearn.model_selection import LeaveOneOut\n",
    "loo = LeaveOneOut()\n",
    "loo.get_n_splits(df)"
   ]
  },
  {
   "cell_type": "markdown",
   "id": "verbal-knowing",
   "metadata": {},
   "source": [
    "### Imputation Using (Mean/Median) Values:\n",
    "Many real-world datasets may contain missing values for various reasons.\n",
    "Training a model with a dataset that has a lot of missing values can drastically impact the model’s quality.\n",
    "One way to handle this problem is to get rid of the observations that have missing data. However, you will risk losing data points with valuable information. A better strategy would be to impute the missing values.\n",
    "\n",
    "\n",
    "One strategy of imputing is to compute the mean/median of the non-missing values in a column and then replacing the missing values within each column separately and independently from the others.\n",
    "\n",
    "**Among the previous strategies of splitting, which one would you suggest to use for imputing missing data? Motivate your answer.**"
   ]
  },
  {
   "cell_type": "code",
   "execution_count": 17,
   "id": "ambient-tradition",
   "metadata": {},
   "outputs": [
    {
     "data": {
      "text/plain": [
       "MedInc        0\n",
       "HouseAge      0\n",
       "AveRooms      0\n",
       "AveBedrms     0\n",
       "Population    0\n",
       "AveOccup      0\n",
       "Latitude      0\n",
       "Longitude     0\n",
       "dtype: int64"
      ]
     },
     "execution_count": 17,
     "metadata": {},
     "output_type": "execute_result"
    }
   ],
   "source": [
    "# TODO\n",
    "df.isnull().sum()"
   ]
  },
  {
   "cell_type": "markdown",
   "id": "urban-stereo",
   "metadata": {},
   "source": [
    "## Excercise #2: Cross-validation\n",
    "\n",
    "\n",
    "Learning the parameters of a prediction function and testing it on the same data is a methodological mistake: a model that would just repeat the labels of the samples that it has just seen would have a perfect score but would fail to predict anything useful on yet-unseen data. This situation is called **overfitting**. To avoid it, it is common practice when performing a (supervised) machine learning experiment to hold out part of the available data as a test set `X_test`, `y_test`.\n",
    "\n",
    "When evaluating different settings for estimators, there is still a risk of overfitting on the test set because the parameters can be tweaked until the estimator performs optimally. This way, knowledge about the test set can “leak” into the model and evaluation metrics no longer report on generalization performance. To solve this problem, yet another part of the dataset can be held out as a validation set: training proceeds on the training set, after which evaluation is done on the validation set, and when the experiment seems to be successful, final evaluation can be done on the test set.\n",
    "\n",
    "However, by partitioning the available data into three sets, we drastically reduce the number of samples which can be used for learning the model, and the results can depend on a particular random choice for the pair of (train, validation) sets.\n",
    "\n",
    "A solution to this problem is a procedure called **cross-validation**. A test set should still be held out for final evaluation, but a fixed validation set is no longer needed when doing CV and the model sees all the data (minus the test set). Cross-validation can be iteratively performed adopting different splitting techniques. For example, in `K-Fold CV`, the training set is split into K smaller sets. This procedure is followed for each of the K “folds”:\n",
    "- A model is trained using K-1 folds as training data;\n",
    "- the resulting model is validated on the remaining part of the data (using some performance measure, such as accuracy).\n",
    "\n",
    "The performance measure reported by K-Fold cross-validation is then the average of the values computed in the loop.\n",
    "\n",
    "Below a schamatic representation of 5-Fold cross-validation.\n",
    "\n",
    "\n",
    "<img src=\"https://scikit-learn.org/stable/_images/grid_search_cross_validation.png\" width=\"550\" height=\"400\" />\n",
    "\n",
    "\n",
    "\n",
    "**Generate a labelled dataset for binary calssification using [sklearn.datasets.make_classification](https://scikit-learn.org/stable/modules/generated/sklearn.datasets.make_classification.html#sklearn.datasets.make_classification) with 600 samples, 2 classes and 200 features, use as classificator [sklearn.linear_model.RidgeClassifier](https://scikit-learn.org/stable/modules/generated/sklearn.linear_model.RidgeClassifier.html#sklearn.linear_model.RidgeClassifier) and look for the regularization parameters in the interval $[10^{-5}, 10^{15}]$ using different splitting schemes. Hold out a test set and compare performances of different models.**"
   ]
  },
  {
   "cell_type": "code",
   "execution_count": 18,
   "id": "asian-placement",
   "metadata": {},
   "outputs": [],
   "source": [
    "from sklearn.linear_model import RidgeClassifier\n",
    "from sklearn.datasets import make_classification"
   ]
  },
  {
   "cell_type": "code",
   "execution_count": 19,
   "id": "stylish-complement",
   "metadata": {},
   "outputs": [],
   "source": [
    "X, y = make_classification(n_samples=600, n_features=200, flip_y=0.05, class_sep=0.6)"
   ]
  },
  {
   "cell_type": "code",
   "execution_count": null,
   "id": "expired-aerospace",
   "metadata": {},
   "outputs": [],
   "source": [
    "# TODO"
   ]
  },
  {
   "cell_type": "markdown",
   "id": "infrared-district",
   "metadata": {},
   "source": [
    "**Repeat the previous procedure using [GridSearchCV](https://scikit-learn.org/stable/modules/generated/sklearn.model_selection.GridSearchCV.html) and compare the selected parameters**"
   ]
  },
  {
   "cell_type": "code",
   "execution_count": null,
   "id": "consistent-grade",
   "metadata": {},
   "outputs": [],
   "source": [
    "# TODO"
   ]
  },
  {
   "cell_type": "markdown",
   "id": "thousand-portal",
   "metadata": {},
   "source": [
    "## Exercise #3: Unbalanced classes"
   ]
  },
  {
   "cell_type": "markdown",
   "id": "alert-fight",
   "metadata": {},
   "source": [
    "When dealing with unbalanced classes, caution must be used when splitting data into train/validation/test.\n",
    "\n",
    "**Can you guess why?**"
   ]
  },
  {
   "cell_type": "code",
   "execution_count": null,
   "id": "absolute-forward",
   "metadata": {},
   "outputs": [],
   "source": [
    "# TODO"
   ]
  },
  {
   "cell_type": "markdown",
   "id": "valid-puzzle",
   "metadata": {},
   "source": [
    "**Use both Ridge Classifier and Logistic Regression for classification on the dataset** [Credit Card Fraud Detection](https://www.kaggle.com/mlg-ulb/creditcardfraud). \n",
    "\n",
    "The dataset contains transactions made by credit cards in September 2013 by european cardholders.This dataset presents transactions that occurred in two days, where we have 492 frauds out of 284,807 transactions. The dataset is highly unbalanced, the positive class (frauds) account for 0.172% of all transactions. We further select the number of non-fraudulent transations so that the imbalance is less severe and the ratio is 5%.\n",
    "\n",
    "**Make use of KFold and StratifiedKFold techniques for splitting data and two different scores during training/validation : `accuracy` and `balanced accuracy`.**\n",
    "\n",
    "The `accuracy` in binary classification is defined as \n",
    "\n",
    "$$\\dfrac{TN+TP}{TN+TP+FP+FN}$$ \n",
    "\n",
    "it quantifies the proportion of true results among the total number of cases examined. While the `balanced accuracy` is defined as:\n",
    "\n",
    "$$\\frac{1}{2}\\,\\bigg{[}\\dfrac{TP}{TP+FN}+\\dfrac{TN}{TN+FP}\\bigg{]}$$\n",
    "\n",
    "which is the average of recall obtained on each class.\n",
    "\n",
    "**What can you conclude by the comparison of the trained models performances? Motivate your answer**"
   ]
  },
  {
   "cell_type": "code",
   "execution_count": null,
   "id": "photographic-approval",
   "metadata": {},
   "outputs": [],
   "source": [
    "credit = pd.read_csv('creditcard.csv')\n",
    "credit.head()"
   ]
  },
  {
   "cell_type": "code",
   "execution_count": null,
   "id": "moving-intervention",
   "metadata": {},
   "outputs": [],
   "source": [
    "credit.Class.value_counts()"
   ]
  },
  {
   "cell_type": "code",
   "execution_count": null,
   "id": "automated-forest",
   "metadata": {},
   "outputs": [],
   "source": [
    "X = credit.drop(['Time','Class'],axis = 1).values\n",
    "y = credit['Class'].values"
   ]
  },
  {
   "cell_type": "code",
   "execution_count": null,
   "id": "spoken-japan",
   "metadata": {},
   "outputs": [],
   "source": [
    "np.random.seed(42)\n",
    "pos_ind = np.where(y==1)[0]\n",
    "neg_ind = np.random.choice(np.where(y==0)[0],9840,replace = False)\n",
    "ind = np.sort(np.hstack((pos_ind,neg_ind)))"
   ]
  },
  {
   "cell_type": "code",
   "execution_count": null,
   "id": "modern-blocking",
   "metadata": {},
   "outputs": [],
   "source": [
    "X = X[ind,:]\n",
    "y = y[ind]"
   ]
  },
  {
   "cell_type": "code",
   "execution_count": null,
   "id": "appointed-phase",
   "metadata": {},
   "outputs": [],
   "source": [
    "X.shape,y.shape"
   ]
  },
  {
   "cell_type": "code",
   "execution_count": null,
   "id": "alternative-worcester",
   "metadata": {},
   "outputs": [],
   "source": [
    "# TODO"
   ]
  },
  {
   "cell_type": "markdown",
   "id": "monthly-municipality",
   "metadata": {},
   "source": [
    "**Extra: can you think about other strategies to deal with unbalanced datasets?**"
   ]
  },
  {
   "cell_type": "code",
   "execution_count": null,
   "id": "appropriate-number",
   "metadata": {},
   "outputs": [],
   "source": [
    "# TODO"
   ]
  }
 ],
 "metadata": {
  "kernelspec": {
   "display_name": "Python 3",
   "language": "python",
   "name": "python3"
  },
  "language_info": {
   "codemirror_mode": {
    "name": "ipython",
    "version": 3
   },
   "file_extension": ".py",
   "mimetype": "text/x-python",
   "name": "python",
   "nbconvert_exporter": "python",
   "pygments_lexer": "ipython3",
   "version": "3.8.5"
  }
 },
 "nbformat": 4,
 "nbformat_minor": 5
}
