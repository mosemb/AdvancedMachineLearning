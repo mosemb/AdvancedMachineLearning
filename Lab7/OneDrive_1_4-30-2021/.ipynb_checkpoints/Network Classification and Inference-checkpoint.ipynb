{
 "cells": [
  {
   "cell_type": "markdown",
   "metadata": {},
   "source": [
    "# In this lab activity you are going to classify a set of networks based on features extracted by hand"
   ]
  },
  {
   "cell_type": "code",
   "execution_count": 199,
   "metadata": {},
   "outputs": [],
   "source": [
    "import numpy as np\n",
    "import networkx as nx\n",
    "import matplotlib.pyplot as plt\n",
    "from statistics import mean \n",
    "%matplotlib inline"
   ]
  },
  {
   "cell_type": "markdown",
   "metadata": {},
   "source": [
    "## Load the data\n",
    "\n",
    "\n",
    "**Train networks are in the folder `Train networks` in the form of `networkx.edgelist` together with class labels (`train_labels.npy`)**\n",
    "\n",
    "**Test networks are in the folder `Test networks` in the form of `networkx.edgelist` together with class labels (`test_labels.npy`)**"
   ]
  },
  {
   "cell_type": "code",
   "execution_count": 200,
   "metadata": {},
   "outputs": [],
   "source": [
    "##Load the edge lists\n",
    "import networkx as nx\n",
    "y_test = np.load('Test Networks/test_labels.npy')\n",
    "y_train = np.load('Train networks/train_labels.npy')"
   ]
  },
  {
   "cell_type": "code",
   "execution_count": 201,
   "metadata": {},
   "outputs": [
    {
     "name": "stderr",
     "output_type": "stream",
     "text": [
      "<ipython-input-201-07f260022f40>:28: VisibleDeprecationWarning: Creating an ndarray from ragged nested sequences (which is a list-or-tuple of lists-or-tuples-or ndarrays with different lengths or shapes) is deprecated. If you meant to do this, you must specify 'dtype=object' when creating the ndarray\n",
      "  x_test = np.array(x_test_g)\n",
      "<ipython-input-201-07f260022f40>:29: VisibleDeprecationWarning: Creating an ndarray from ragged nested sequences (which is a list-or-tuple of lists-or-tuples-or ndarrays with different lengths or shapes) is deprecated. If you meant to do this, you must specify 'dtype=object' when creating the ndarray\n",
      "  x_train = np.array(x_train_g)\n"
     ]
    }
   ],
   "source": [
    "import os\n",
    "\n",
    "x_test_g = []\n",
    "x_train_g = []\n",
    "\n",
    "x_test = []\n",
    "x_train = []\n",
    "\n",
    "for filename in os.listdir('Test Networks'):\n",
    "    if filename.endswith(\".edgelist\"): \n",
    "        G = nx.read_edgelist(os.path.join('Test Networks', filename), nodetype=int)\n",
    "        x_test_g.append(G)\n",
    "        x_test.append(np.array(G))\n",
    "    \n",
    "        continue\n",
    "    else:\n",
    "        continue\n",
    "        \n",
    "for filename in os.listdir('Train networks'):\n",
    "    if filename.endswith(\".edgelist\"): \n",
    "        G = nx.read_edgelist(os.path.join('Train networks', filename), nodetype=int)\n",
    "        x_train_g.append(G)\n",
    "        x_train.append(np.array(G))\n",
    "        \n",
    "        continue\n",
    "    else:\n",
    "        continue        \n",
    "x_test = np.array(x_test_g)\n",
    "x_train = np.array(x_train_g)"
   ]
  },
  {
   "cell_type": "code",
   "execution_count": 6,
   "metadata": {},
   "outputs": [
    {
     "data": {
      "text/plain": [
       "(300,)"
      ]
     },
     "execution_count": 6,
     "metadata": {},
     "output_type": "execute_result"
    }
   ],
   "source": [
    "y_train.shape"
   ]
  },
  {
   "cell_type": "code",
   "execution_count": 7,
   "metadata": {},
   "outputs": [
    {
     "data": {
      "text/plain": [
       "(48,)"
      ]
     },
     "execution_count": 7,
     "metadata": {},
     "output_type": "execute_result"
    }
   ],
   "source": [
    "y_test.shape"
   ]
  },
  {
   "cell_type": "markdown",
   "metadata": {},
   "source": [
    "## Feature extraction\n",
    "Extract some structural features from the networks. You decide which one to consider (*e.g.* transitivity, average path length and so on and so forth).\n",
    "Represent each network as a vector whose components correspond to the extracted features.\n",
    "\n",
    "<span style=\"color:red\"> **Justify all of your decisions.** </span>\n",
    "\n",
    "**Reminder: If the network is very large, the computation of some quantities could be very time consuming. In that case you could fall back on sampling techniques**"
   ]
  },
  {
   "cell_type": "markdown",
   "metadata": {},
   "source": [
    "## Feature extraction\n",
    "\n",
    "Extract some structural features from the networks. You decide which one to consider (*e.g.* transitivity, average path length and so on and so forth).\n",
    "Represent each network as a vector whose components correspond to the extracted features.\n",
    "\n",
    "<span style=\"color:red\"> **Justify all of your decisions.** </span>\n",
    "\n",
    "**Reminder: If the network is very large, the computation of some quantities could be very time consuming. In that case you could fall back on sampling techniques**"
   ]
  },
  {
   "cell_type": "code",
   "execution_count": 249,
   "metadata": {},
   "outputs": [],
   "source": [
    "## Feature extraction\n",
    "def feature_extraction(data):\n",
    "    degree_centrality = []\n",
    "    degree_associvity = []\n",
    "    transivity = []\n",
    "    closeness_centrality = []\n",
    "    betweenness_cetrality = []\n",
    "    degree_pearson = []\n",
    "    average_neighbor = []\n",
    "    degree_asocivity =[]\n",
    "    density = []\n",
    "    avearge_clustering = []\n",
    "    for i in data:\n",
    "        degree_centrality.append (mean(nx.degree_centrality(i).values()))\n",
    "        transivity.append(nx.transitivity(i))\n",
    "        closeness_centrality.append(mean(list (nx.closeness_centrality(i).values())))\n",
    "        betweenness_cetrality.append (mean(nx.betweenness_centrality(i).values()))\n",
    "        density.append(nx.density(i))\n",
    "        degree_associvity.append(nx.degree_assortativity_coefficient(i))\n",
    "        degree_pearson.append(nx.degree_pearson_correlation_coefficient(i))\n",
    "        average_neighbor.append(mean(nx.average_neighbor_degree(i).values()))\n",
    "        degree_asocivity.append(nx.degree_assortativity_coefficient(i))\n",
    "        avearge_clustering.append(nx.average_clustering(i))\n",
    "        \n",
    "    avgpath = []\n",
    "    for i in data:\n",
    "        for C in (i.subgraph(c).copy() for c in nx.connected_components(i)):\n",
    "            avgpath.append(nx.average_shortest_path_length(C))   \n",
    "        \n",
    "    return degree_centrality,transivity, closeness_centrality, betweenness_cetrality,density,degree_pearson,average_neighbor,degree_asocivity,avearge_clustering, avgpath"
   ]
  },
  {
   "cell_type": "code",
   "execution_count": 250,
   "metadata": {},
   "outputs": [],
   "source": [
    "training_set = feature_extraction(x_train_g)"
   ]
  },
  {
   "cell_type": "code",
   "execution_count": 133,
   "metadata": {},
   "outputs": [
    {
     "ename": "NetworkXError",
     "evalue": "Graph is not connected.",
     "output_type": "error",
     "traceback": [
      "\u001b[0;31m---------------------------------------------------------------------------\u001b[0m",
      "\u001b[0;31mNetworkXError\u001b[0m                             Traceback (most recent call last)",
      "\u001b[0;32m<ipython-input-133-e937450b4db7>\u001b[0m in \u001b[0;36m<module>\u001b[0;34m\u001b[0m\n\u001b[1;32m      5\u001b[0m \u001b[0;32mfor\u001b[0m \u001b[0mi\u001b[0m \u001b[0;32min\u001b[0m \u001b[0mx_train_g\u001b[0m\u001b[0;34m:\u001b[0m\u001b[0;34m\u001b[0m\u001b[0;34m\u001b[0m\u001b[0m\n\u001b[1;32m      6\u001b[0m \u001b[0;34m\u001b[0m\u001b[0m\n\u001b[0;32m----> 7\u001b[0;31m      \u001b[0mdegree_asocivity\u001b[0m\u001b[0;34m.\u001b[0m\u001b[0mappend\u001b[0m\u001b[0;34m(\u001b[0m\u001b[0mnx\u001b[0m\u001b[0;34m.\u001b[0m\u001b[0maverage_shortest_path_length\u001b[0m\u001b[0;34m(\u001b[0m\u001b[0mi\u001b[0m\u001b[0;34m)\u001b[0m\u001b[0;34m)\u001b[0m\u001b[0;34m\u001b[0m\u001b[0;34m\u001b[0m\u001b[0m\n\u001b[0m",
      "\u001b[0;32m~/.local/lib/python3.8/site-packages/networkx/algorithms/shortest_paths/generic.py\u001b[0m in \u001b[0;36maverage_shortest_path_length\u001b[0;34m(G, weight, method)\u001b[0m\n\u001b[1;32m    387\u001b[0m         \u001b[0;32mraise\u001b[0m \u001b[0mnx\u001b[0m\u001b[0;34m.\u001b[0m\u001b[0mNetworkXError\u001b[0m\u001b[0;34m(\u001b[0m\u001b[0;34m\"Graph is not weakly connected.\"\u001b[0m\u001b[0;34m)\u001b[0m\u001b[0;34m\u001b[0m\u001b[0;34m\u001b[0m\u001b[0m\n\u001b[1;32m    388\u001b[0m     \u001b[0;32mif\u001b[0m \u001b[0;32mnot\u001b[0m \u001b[0mG\u001b[0m\u001b[0;34m.\u001b[0m\u001b[0mis_directed\u001b[0m\u001b[0;34m(\u001b[0m\u001b[0;34m)\u001b[0m \u001b[0;32mand\u001b[0m \u001b[0;32mnot\u001b[0m \u001b[0mnx\u001b[0m\u001b[0;34m.\u001b[0m\u001b[0mis_connected\u001b[0m\u001b[0;34m(\u001b[0m\u001b[0mG\u001b[0m\u001b[0;34m)\u001b[0m\u001b[0;34m:\u001b[0m\u001b[0;34m\u001b[0m\u001b[0;34m\u001b[0m\u001b[0m\n\u001b[0;32m--> 389\u001b[0;31m         \u001b[0;32mraise\u001b[0m \u001b[0mnx\u001b[0m\u001b[0;34m.\u001b[0m\u001b[0mNetworkXError\u001b[0m\u001b[0;34m(\u001b[0m\u001b[0;34m\"Graph is not connected.\"\u001b[0m\u001b[0;34m)\u001b[0m\u001b[0;34m\u001b[0m\u001b[0;34m\u001b[0m\u001b[0m\n\u001b[0m\u001b[1;32m    390\u001b[0m \u001b[0;34m\u001b[0m\u001b[0m\n\u001b[1;32m    391\u001b[0m     \u001b[0;31m# Compute all-pairs shortest paths.\u001b[0m\u001b[0;34m\u001b[0m\u001b[0;34m\u001b[0m\u001b[0;34m\u001b[0m\u001b[0m\n",
      "\u001b[0;31mNetworkXError\u001b[0m: Graph is not connected."
     ]
    }
   ],
   "source": [
    "# Testing the shortestest path (It brings an error)\n",
    "degree_asocivity = []\n",
    "for i in x_train_g:\n",
    "   \n",
    "     degree_asocivity.append(nx."
   ]
  },
  {
   "cell_type": "code",
   "execution_count": 247,
   "metadata": {},
   "outputs": [],
   "source": [
    "#G = x_train_g[0]\n",
    "avgpath = []\n",
    "for i in x_train_g:\n",
    "    for C in (i.subgraph(c).copy() for c in nx.connected_components(i)):\n",
    "        avgpath.append(nx.average_shortest_path_length(C))"
   ]
  },
  {
   "cell_type": "code",
   "execution_count": 261,
   "metadata": {},
   "outputs": [
    {
     "data": {
      "text/plain": [
       "300"
      ]
     },
     "execution_count": 261,
     "metadata": {},
     "output_type": "execute_result"
    }
   ],
   "source": [
    "len(x_train_g)\n"
   ]
  },
  {
   "cell_type": "code",
   "execution_count": 252,
   "metadata": {},
   "outputs": [],
   "source": [
    "testing_set = feature_extraction(x_test_g)"
   ]
  },
  {
   "cell_type": "code",
   "execution_count": 281,
   "metadata": {},
   "outputs": [],
   "source": [
    "#Conversion of features to numpy array for training and testingsets \n",
    "degree_centrality = np.array(training_set[0])\n",
    "transivity = np.array(training_set[1])\n",
    "closeness_centrality = np.array(training_set[2])\n",
    "betweenness_cetrality = np.array(training_set[3])\n",
    "density = np.array(training_set[4])\n",
    "degree_pearson = np.array(training_set[5])\n",
    "average_neighbor= np.array(training_set[6])\n",
    "degree_asocivity= np.array(training_set[7]) \n",
    "avearge_clustering = np.array(training_set[8]) \n",
    "avpath = np.array(training_set[9][0:300])\n",
    "\n",
    "degree_centrality_te = np.array(testing_set[0])\n",
    "transivity_te = np.array(testing_set[1])\n",
    "closeness_centrality_te = np.array(testing_set[2])\n",
    "betweenness_cetrality_te = np.array(testing_set[3])\n",
    "density_te = np.array(testing_set[4])\n",
    "degree_pearson_te = np.array(testing_set[5])\n",
    "average_neighbor_te= np.array(testing_set[6])\n",
    "degree_asocivity_te= np.array(testing_set[7])\n",
    "avearge_clustering_te = np.array(testing_set[8]) \n",
    "avgpath_te = np.array(testing_set[9][0:48]) "
   ]
  },
  {
   "cell_type": "code",
   "execution_count": 282,
   "metadata": {},
   "outputs": [
    {
     "data": {
      "text/plain": [
       "(300,)"
      ]
     },
     "execution_count": 282,
     "metadata": {},
     "output_type": "execute_result"
    }
   ],
   "source": [
    "avpath.shape"
   ]
  },
  {
   "cell_type": "code",
   "execution_count": 273,
   "metadata": {},
   "outputs": [],
   "source": [
    "#avpath[0:300].shape"
   ]
  },
  {
   "cell_type": "code",
   "execution_count": 313,
   "metadata": {},
   "outputs": [],
   "source": [
    "# Training and testing arrays\n",
    "#density,degree_centrality,transivity, closeness_centrality, betweenness_cetrality,degree_pearson,average_neighbor,degree_asocivity,avearge_clustering, avpath\n",
    "#density_te,degree_centrality_te,transivity_te, closeness_centrality_te, betweenness_cetrality_te,degree_pearson_te,average_neighbor_te,degree_asocivity_te,avearge_clustering_te, avgpath_te\n",
    "taining_arr = np.vstack((density,degree_centrality, closeness_centrality,avpath)).T #degree_centrality,transivity, closeness_centrality, betweenness_cetrality,degree_pearson,average_neighbor,degree_asocivity,)).T\n",
    "testing_arr = np.vstack((density_te, degree_centrality_te, closeness_centrality_te,avgpath_te)).T#degree_centrality_te,transivity_te, closeness_centrality_te, betweenness_cetrality_te,degree_pearson_te,average_neighbor_te,degree_asocivity_te,)).T"
   ]
  },
  {
   "cell_type": "code",
   "execution_count": 314,
   "metadata": {},
   "outputs": [
    {
     "data": {
      "text/plain": [
       "(48, 4)"
      ]
     },
     "execution_count": 314,
     "metadata": {},
     "output_type": "execute_result"
    }
   ],
   "source": [
    "testing_arr.shape"
   ]
  },
  {
   "cell_type": "code",
   "execution_count": 315,
   "metadata": {},
   "outputs": [
    {
     "data": {
      "text/plain": [
       "(300, 4)"
      ]
     },
     "execution_count": 315,
     "metadata": {},
     "output_type": "execute_result"
    }
   ],
   "source": [
    "taining_arr.shape"
   ]
  },
  {
   "cell_type": "code",
   "execution_count": 316,
   "metadata": {},
   "outputs": [
    {
     "data": {
      "text/plain": [
       "(300,)"
      ]
     },
     "execution_count": 316,
     "metadata": {},
     "output_type": "execute_result"
    }
   ],
   "source": [
    "y_train.shape"
   ]
  },
  {
   "cell_type": "code",
   "execution_count": 317,
   "metadata": {},
   "outputs": [
    {
     "data": {
      "text/plain": [
       "(48,)"
      ]
     },
     "execution_count": 317,
     "metadata": {},
     "output_type": "execute_result"
    }
   ],
   "source": [
    "y_test.shape"
   ]
  },
  {
   "cell_type": "markdown",
   "metadata": {},
   "source": [
    "## Mutlti-label Classification\n",
    "\n",
    "**Consider a classification model that you assume to be appropriate for this exercise and evaluate its performance** \n",
    "\n",
    "\n",
    "<span style=\"color:red\"> **Justify all of your decisions and remember to cross-validate if hyperparameters are present in the model.** </span>"
   ]
  },
  {
   "cell_type": "code",
   "execution_count": 320,
   "metadata": {},
   "outputs": [],
   "source": [
    "##Multi-label classification\n",
    "#Split the training dataset into k-folds using K-fold\n",
    "from sklearn.tree import DecisionTreeClassifier\n",
    "from sklearn.model_selection import KFold\n",
    "from sklearn.model_selection import GridSearchCV\n",
    "from sklearn.ensemble import RandomForestClassifier\n",
    "from sklearn.neighbors import KNeighborsClassifier\n",
    "from sklearn.svm import SVC\n",
    "\n",
    "from sklearn.metrics import accuracy_score\n",
    "from sklearn.metrics import precision_score\n",
    "from sklearn.metrics import recall_score\n",
    "from sklearn.metrics import make_scorer\n",
    "from sklearn.ensemble import GradientBoostingClassifier\n",
    "\n",
    "\n",
    "\n",
    "KfRidge = KFold(n_splits=20)\n",
    "\n",
    "def GridSearch(cv,X_train,y_train,X_test,y_test):\n",
    "    \n",
    "    if cv == KfRidge:\n",
    "        print (\"Split mechannism KFOLD\")\n",
    "        \n",
    "        \n",
    "    #k_range = list(range(1,31))\n",
    "    #weight_options = [\"uniform\", \"distance\"]\n",
    "\n",
    "    #param_grid = dict(n_neighbors = k_range, weights = weight_options)\n",
    "    #knn = KNeighborsClassifier()\n",
    "    rfc = RandomForestClassifier(n_jobs=-1,max_features= 'sqrt' ,n_estimators=60, oob_score = True, max_depth=2,) \n",
    "\n",
    "    param_grid ={ 'n_estimators': [200, 400]} #{ 'n_estimators': [200, 400],'max_features': ['auto', 'sqrt', 'log2'] }\n",
    "    \n",
    "    parameters = param_grid  #{\"base_estimator__criterion\" : [\"gini\", \"entropy\"],\"n_estimators\": [1, 2]}\n",
    "    \n",
    "    DTC = DecisionTreeClassifier(random_state = 11, max_features = \"auto\", class_weight = \"balanced\",max_depth = None)\n",
    "      \n",
    "    model = AdaBoostClassifier(base_estimator = rfc)\n",
    "    #parameters = dict(n_neighbors = k_range, weights = weight_options)\n",
    "    \n",
    "    Grid_Search_Ridge = GridSearchCV(model,parameters,refit=True,cv = cv, scoring='accuracy')\n",
    "    Grid_Search_Ridge.fit(X_train,y_train)\n",
    "    grid_results = Grid_Search_Ridge.cv_results_['mean_test_score']\n",
    "    print()\n",
    "    print(\"Mean_test_Score :\")\n",
    "    print(grid_results)\n",
    "    print()\n",
    "    print(\"Best model :\")\n",
    "    best_model = Grid_Search_Ridge.best_estimator_\n",
    "    print (best_model)\n",
    "    best_model.fit(X_train,y_train)\n",
    "    print()\n",
    "    print(\"Score best model :\")\n",
    "    scores_best_model = best_model.score(X_train, y_train)\n",
    "    test = best_model.score(X_test, y_test)\n",
    "    print(\"Train score :\",scores_best_model)\n",
    "    print(\"Test score :\",test)\n",
    "    return \"Overall Mean score :\"+ str(grid_results.mean())"
   ]
  },
  {
   "cell_type": "code",
   "execution_count": 321,
   "metadata": {},
   "outputs": [
    {
     "name": "stdout",
     "output_type": "stream",
     "text": [
      "Split mechannism KFOLD\n",
      "\n",
      "Mean_test_Score :\n",
      "[0.37       0.36333333]\n",
      "\n",
      "Best model :\n",
      "AdaBoostClassifier(base_estimator=RandomForestClassifier(max_depth=2,\n",
      "                                                         max_features='sqrt',\n",
      "                                                         n_estimators=60,\n",
      "                                                         n_jobs=-1,\n",
      "                                                         oob_score=True),\n",
      "                   n_estimators=200)\n",
      "\n",
      "Score best model :\n",
      "Train score : 0.81\n",
      "Test score : 0.3125\n"
     ]
    },
    {
     "data": {
      "text/plain": [
       "'Overall Mean score :0.3666666666666667'"
      ]
     },
     "execution_count": 321,
     "metadata": {},
     "output_type": "execute_result"
    }
   ],
   "source": [
    "#X_train, X_test, y_train, y_test \n",
    "GridSearch(KfRidge,taining_arr,y_train,testing_arr,y_test)"
   ]
  },
  {
   "cell_type": "markdown",
   "metadata": {},
   "source": [
    "# Network inference"
   ]
  },
  {
   "cell_type": "markdown",
   "metadata": {},
   "source": [
    "**You will try one of the assigned algorithms (`ARaCNe`,`MRNet` or `WGCNA`) on the [Golub dataset](http://portals.broadinstitute.org/cgi-bin/cancer/publications/pub_paper.cgi?paper_id=43) which contains microarray data measured from two classes of leukemia: acute myeloid leukemia (AML) and acute lymphoblastic leukemia (ALL).**"
   ]
  },
  {
   "cell_type": "code",
   "execution_count": 322,
   "metadata": {},
   "outputs": [
    {
     "name": "stdout",
     "output_type": "stream",
     "text": [
      "n_samples = 7129 | n_variables = 38\n"
     ]
    },
    {
     "data": {
      "text/html": [
       "<div>\n",
       "<style scoped>\n",
       "    .dataframe tbody tr th:only-of-type {\n",
       "        vertical-align: middle;\n",
       "    }\n",
       "\n",
       "    .dataframe tbody tr th {\n",
       "        vertical-align: top;\n",
       "    }\n",
       "\n",
       "    .dataframe thead th {\n",
       "        text-align: right;\n",
       "    }\n",
       "</style>\n",
       "<table border=\"1\" class=\"dataframe\">\n",
       "  <thead>\n",
       "    <tr style=\"text-align: right;\">\n",
       "      <th></th>\n",
       "      <th>1</th>\n",
       "      <th>2</th>\n",
       "      <th>3</th>\n",
       "      <th>4</th>\n",
       "      <th>5</th>\n",
       "      <th>6</th>\n",
       "      <th>7</th>\n",
       "      <th>8</th>\n",
       "      <th>9</th>\n",
       "      <th>10</th>\n",
       "      <th>...</th>\n",
       "      <th>35</th>\n",
       "      <th>36</th>\n",
       "      <th>37</th>\n",
       "      <th>38</th>\n",
       "      <th>28</th>\n",
       "      <th>29</th>\n",
       "      <th>30</th>\n",
       "      <th>31</th>\n",
       "      <th>32</th>\n",
       "      <th>33</th>\n",
       "    </tr>\n",
       "    <tr>\n",
       "      <th>Gene Accession Number</th>\n",
       "      <th></th>\n",
       "      <th></th>\n",
       "      <th></th>\n",
       "      <th></th>\n",
       "      <th></th>\n",
       "      <th></th>\n",
       "      <th></th>\n",
       "      <th></th>\n",
       "      <th></th>\n",
       "      <th></th>\n",
       "      <th></th>\n",
       "      <th></th>\n",
       "      <th></th>\n",
       "      <th></th>\n",
       "      <th></th>\n",
       "      <th></th>\n",
       "      <th></th>\n",
       "      <th></th>\n",
       "      <th></th>\n",
       "      <th></th>\n",
       "      <th></th>\n",
       "    </tr>\n",
       "  </thead>\n",
       "  <tbody>\n",
       "    <tr>\n",
       "      <th>AFFX-BioB-5_at</th>\n",
       "      <td>-214</td>\n",
       "      <td>-139</td>\n",
       "      <td>-76</td>\n",
       "      <td>-135</td>\n",
       "      <td>-106</td>\n",
       "      <td>-138</td>\n",
       "      <td>-72</td>\n",
       "      <td>-413</td>\n",
       "      <td>5</td>\n",
       "      <td>-88</td>\n",
       "      <td>...</td>\n",
       "      <td>7</td>\n",
       "      <td>-213</td>\n",
       "      <td>-25</td>\n",
       "      <td>-72</td>\n",
       "      <td>-4</td>\n",
       "      <td>15</td>\n",
       "      <td>-318</td>\n",
       "      <td>-32</td>\n",
       "      <td>-124</td>\n",
       "      <td>-135</td>\n",
       "    </tr>\n",
       "    <tr>\n",
       "      <th>AFFX-BioB-M_at</th>\n",
       "      <td>-153</td>\n",
       "      <td>-73</td>\n",
       "      <td>-49</td>\n",
       "      <td>-114</td>\n",
       "      <td>-125</td>\n",
       "      <td>-85</td>\n",
       "      <td>-144</td>\n",
       "      <td>-260</td>\n",
       "      <td>-127</td>\n",
       "      <td>-105</td>\n",
       "      <td>...</td>\n",
       "      <td>-100</td>\n",
       "      <td>-252</td>\n",
       "      <td>-20</td>\n",
       "      <td>-139</td>\n",
       "      <td>-116</td>\n",
       "      <td>-114</td>\n",
       "      <td>-192</td>\n",
       "      <td>-49</td>\n",
       "      <td>-79</td>\n",
       "      <td>-186</td>\n",
       "    </tr>\n",
       "    <tr>\n",
       "      <th>AFFX-BioB-3_at</th>\n",
       "      <td>-58</td>\n",
       "      <td>-1</td>\n",
       "      <td>-307</td>\n",
       "      <td>265</td>\n",
       "      <td>-76</td>\n",
       "      <td>215</td>\n",
       "      <td>238</td>\n",
       "      <td>7</td>\n",
       "      <td>106</td>\n",
       "      <td>42</td>\n",
       "      <td>...</td>\n",
       "      <td>-57</td>\n",
       "      <td>136</td>\n",
       "      <td>124</td>\n",
       "      <td>-1</td>\n",
       "      <td>-125</td>\n",
       "      <td>2</td>\n",
       "      <td>-95</td>\n",
       "      <td>49</td>\n",
       "      <td>-37</td>\n",
       "      <td>-70</td>\n",
       "    </tr>\n",
       "    <tr>\n",
       "      <th>AFFX-BioC-5_at</th>\n",
       "      <td>88</td>\n",
       "      <td>283</td>\n",
       "      <td>309</td>\n",
       "      <td>12</td>\n",
       "      <td>168</td>\n",
       "      <td>71</td>\n",
       "      <td>55</td>\n",
       "      <td>-2</td>\n",
       "      <td>268</td>\n",
       "      <td>219</td>\n",
       "      <td>...</td>\n",
       "      <td>132</td>\n",
       "      <td>318</td>\n",
       "      <td>325</td>\n",
       "      <td>392</td>\n",
       "      <td>241</td>\n",
       "      <td>193</td>\n",
       "      <td>312</td>\n",
       "      <td>230</td>\n",
       "      <td>330</td>\n",
       "      <td>337</td>\n",
       "    </tr>\n",
       "    <tr>\n",
       "      <th>AFFX-BioC-3_at</th>\n",
       "      <td>-295</td>\n",
       "      <td>-264</td>\n",
       "      <td>-376</td>\n",
       "      <td>-419</td>\n",
       "      <td>-230</td>\n",
       "      <td>-272</td>\n",
       "      <td>-399</td>\n",
       "      <td>-541</td>\n",
       "      <td>-210</td>\n",
       "      <td>-178</td>\n",
       "      <td>...</td>\n",
       "      <td>-377</td>\n",
       "      <td>-209</td>\n",
       "      <td>-396</td>\n",
       "      <td>-324</td>\n",
       "      <td>-191</td>\n",
       "      <td>-51</td>\n",
       "      <td>-139</td>\n",
       "      <td>-367</td>\n",
       "      <td>-188</td>\n",
       "      <td>-407</td>\n",
       "    </tr>\n",
       "  </tbody>\n",
       "</table>\n",
       "<p>5 rows × 38 columns</p>\n",
       "</div>"
      ],
      "text/plain": [
       "                         1    2    3    4    5    6    7    8    9   10  ...  \\\n",
       "Gene Accession Number                                                    ...   \n",
       "AFFX-BioB-5_at        -214 -139  -76 -135 -106 -138  -72 -413    5  -88  ...   \n",
       "AFFX-BioB-M_at        -153  -73  -49 -114 -125  -85 -144 -260 -127 -105  ...   \n",
       "AFFX-BioB-3_at         -58   -1 -307  265  -76  215  238    7  106   42  ...   \n",
       "AFFX-BioC-5_at          88  283  309   12  168   71   55   -2  268  219  ...   \n",
       "AFFX-BioC-3_at        -295 -264 -376 -419 -230 -272 -399 -541 -210 -178  ...   \n",
       "\n",
       "                        35   36   37   38   28   29   30   31   32   33  \n",
       "Gene Accession Number                                                    \n",
       "AFFX-BioB-5_at           7 -213  -25  -72   -4   15 -318  -32 -124 -135  \n",
       "AFFX-BioB-M_at        -100 -252  -20 -139 -116 -114 -192  -49  -79 -186  \n",
       "AFFX-BioB-3_at         -57  136  124   -1 -125    2  -95   49  -37  -70  \n",
       "AFFX-BioC-5_at         132  318  325  392  241  193  312  230  330  337  \n",
       "AFFX-BioC-3_at        -377 -209 -396 -324 -191  -51 -139 -367 -188 -407  \n",
       "\n",
       "[5 rows x 38 columns]"
      ]
     },
     "execution_count": 322,
     "metadata": {},
     "output_type": "execute_result"
    }
   ],
   "source": [
    "## Load the data\n",
    "%matplotlib inline\n",
    "\n",
    "import numpy as np\n",
    "import matplotlib.pyplot as plt\n",
    "import os\n",
    "import pandas as pd\n",
    "import warnings\n",
    "warnings.filterwarnings('ignore')\n",
    "\n",
    "data = pd.read_csv(\"gedm.csv\", header=0, index_col=0)\n",
    "print(\"n_samples = {} | n_variables = {}\".format(*data.shape))\n",
    "\n",
    "n_samples, n_variables = data.shape\n",
    "data.head()"
   ]
  },
  {
   "cell_type": "markdown",
   "metadata": {},
   "source": [
    "#### Remove rows that start with AFFX and select a sub-matrix"
   ]
  },
  {
   "cell_type": "code",
   "execution_count": 323,
   "metadata": {},
   "outputs": [
    {
     "name": "stdout",
     "output_type": "stream",
     "text": [
      "(38, 30)\n"
     ]
    }
   ],
   "source": [
    "data.drop(data.index[data.index.str.startswith('AFFX')], inplace=True)\n",
    "X = data.iloc[np.random.randint(0, data.shape[0], 30), :].values.T\n",
    "print(X.shape)"
   ]
  },
  {
   "cell_type": "code",
   "execution_count": 325,
   "metadata": {},
   "outputs": [
    {
     "name": "stdout",
     "output_type": "stream",
     "text": [
      "<class 'pandas.core.frame.DataFrame'>\n",
      "Index: 7071 entries, hum_alu_at to Z78285_f_at\n",
      "Data columns (total 38 columns):\n",
      " #   Column  Non-Null Count  Dtype\n",
      "---  ------  --------------  -----\n",
      " 0   1       7071 non-null   int64\n",
      " 1   2       7071 non-null   int64\n",
      " 2   3       7071 non-null   int64\n",
      " 3   4       7071 non-null   int64\n",
      " 4   5       7071 non-null   int64\n",
      " 5   6       7071 non-null   int64\n",
      " 6   7       7071 non-null   int64\n",
      " 7   8       7071 non-null   int64\n",
      " 8   9       7071 non-null   int64\n",
      " 9   10      7071 non-null   int64\n",
      " 10  11      7071 non-null   int64\n",
      " 11  12      7071 non-null   int64\n",
      " 12  13      7071 non-null   int64\n",
      " 13  14      7071 non-null   int64\n",
      " 14  15      7071 non-null   int64\n",
      " 15  16      7071 non-null   int64\n",
      " 16  17      7071 non-null   int64\n",
      " 17  18      7071 non-null   int64\n",
      " 18  19      7071 non-null   int64\n",
      " 19  20      7071 non-null   int64\n",
      " 20  21      7071 non-null   int64\n",
      " 21  22      7071 non-null   int64\n",
      " 22  23      7071 non-null   int64\n",
      " 23  24      7071 non-null   int64\n",
      " 24  25      7071 non-null   int64\n",
      " 25  26      7071 non-null   int64\n",
      " 26  27      7071 non-null   int64\n",
      " 27  34      7071 non-null   int64\n",
      " 28  35      7071 non-null   int64\n",
      " 29  36      7071 non-null   int64\n",
      " 30  37      7071 non-null   int64\n",
      " 31  38      7071 non-null   int64\n",
      " 32  28      7071 non-null   int64\n",
      " 33  29      7071 non-null   int64\n",
      " 34  30      7071 non-null   int64\n",
      " 35  31      7071 non-null   int64\n",
      " 36  32      7071 non-null   int64\n",
      " 37  33      7071 non-null   int64\n",
      "dtypes: int64(38)\n",
      "memory usage: 2.1+ MB\n"
     ]
    }
   ],
   "source": [
    "data.info()"
   ]
  },
  {
   "cell_type": "code",
   "execution_count": 324,
   "metadata": {},
   "outputs": [
    {
     "data": {
      "text/html": [
       "<div>\n",
       "<style scoped>\n",
       "    .dataframe tbody tr th:only-of-type {\n",
       "        vertical-align: middle;\n",
       "    }\n",
       "\n",
       "    .dataframe tbody tr th {\n",
       "        vertical-align: top;\n",
       "    }\n",
       "\n",
       "    .dataframe thead th {\n",
       "        text-align: right;\n",
       "    }\n",
       "</style>\n",
       "<table border=\"1\" class=\"dataframe\">\n",
       "  <thead>\n",
       "    <tr style=\"text-align: right;\">\n",
       "      <th></th>\n",
       "      <th>1</th>\n",
       "      <th>2</th>\n",
       "      <th>3</th>\n",
       "      <th>4</th>\n",
       "      <th>5</th>\n",
       "      <th>6</th>\n",
       "      <th>7</th>\n",
       "      <th>8</th>\n",
       "      <th>9</th>\n",
       "      <th>10</th>\n",
       "      <th>...</th>\n",
       "      <th>35</th>\n",
       "      <th>36</th>\n",
       "      <th>37</th>\n",
       "      <th>38</th>\n",
       "      <th>28</th>\n",
       "      <th>29</th>\n",
       "      <th>30</th>\n",
       "      <th>31</th>\n",
       "      <th>32</th>\n",
       "      <th>33</th>\n",
       "    </tr>\n",
       "    <tr>\n",
       "      <th>Gene Accession Number</th>\n",
       "      <th></th>\n",
       "      <th></th>\n",
       "      <th></th>\n",
       "      <th></th>\n",
       "      <th></th>\n",
       "      <th></th>\n",
       "      <th></th>\n",
       "      <th></th>\n",
       "      <th></th>\n",
       "      <th></th>\n",
       "      <th></th>\n",
       "      <th></th>\n",
       "      <th></th>\n",
       "      <th></th>\n",
       "      <th></th>\n",
       "      <th></th>\n",
       "      <th></th>\n",
       "      <th></th>\n",
       "      <th></th>\n",
       "      <th></th>\n",
       "      <th></th>\n",
       "    </tr>\n",
       "  </thead>\n",
       "  <tbody>\n",
       "    <tr>\n",
       "      <th>hum_alu_at</th>\n",
       "      <td>15091</td>\n",
       "      <td>11038</td>\n",
       "      <td>16692</td>\n",
       "      <td>15763</td>\n",
       "      <td>18128</td>\n",
       "      <td>34207</td>\n",
       "      <td>30801</td>\n",
       "      <td>25147</td>\n",
       "      <td>15272</td>\n",
       "      <td>21801</td>\n",
       "      <td>...</td>\n",
       "      <td>45492</td>\n",
       "      <td>23865</td>\n",
       "      <td>17359</td>\n",
       "      <td>19406</td>\n",
       "      <td>17878</td>\n",
       "      <td>26052</td>\n",
       "      <td>11983</td>\n",
       "      <td>23508</td>\n",
       "      <td>17996</td>\n",
       "      <td>19679</td>\n",
       "    </tr>\n",
       "    <tr>\n",
       "      <th>A28102_at</th>\n",
       "      <td>151</td>\n",
       "      <td>263</td>\n",
       "      <td>88</td>\n",
       "      <td>484</td>\n",
       "      <td>118</td>\n",
       "      <td>270</td>\n",
       "      <td>458</td>\n",
       "      <td>872</td>\n",
       "      <td>62</td>\n",
       "      <td>194</td>\n",
       "      <td>...</td>\n",
       "      <td>473</td>\n",
       "      <td>50</td>\n",
       "      <td>249</td>\n",
       "      <td>357</td>\n",
       "      <td>190</td>\n",
       "      <td>318</td>\n",
       "      <td>382</td>\n",
       "      <td>486</td>\n",
       "      <td>388</td>\n",
       "      <td>260</td>\n",
       "    </tr>\n",
       "    <tr>\n",
       "      <th>AB000114_at</th>\n",
       "      <td>72</td>\n",
       "      <td>21</td>\n",
       "      <td>-27</td>\n",
       "      <td>61</td>\n",
       "      <td>16</td>\n",
       "      <td>85</td>\n",
       "      <td>-10</td>\n",
       "      <td>25</td>\n",
       "      <td>-38</td>\n",
       "      <td>65</td>\n",
       "      <td>...</td>\n",
       "      <td>0</td>\n",
       "      <td>-35</td>\n",
       "      <td>36</td>\n",
       "      <td>-17</td>\n",
       "      <td>39</td>\n",
       "      <td>1</td>\n",
       "      <td>1</td>\n",
       "      <td>-23</td>\n",
       "      <td>56</td>\n",
       "      <td>-27</td>\n",
       "    </tr>\n",
       "    <tr>\n",
       "      <th>AB000115_at</th>\n",
       "      <td>281</td>\n",
       "      <td>250</td>\n",
       "      <td>358</td>\n",
       "      <td>118</td>\n",
       "      <td>197</td>\n",
       "      <td>71</td>\n",
       "      <td>168</td>\n",
       "      <td>296</td>\n",
       "      <td>198</td>\n",
       "      <td>113</td>\n",
       "      <td>...</td>\n",
       "      <td>341</td>\n",
       "      <td>74</td>\n",
       "      <td>328</td>\n",
       "      <td>74</td>\n",
       "      <td>214</td>\n",
       "      <td>103</td>\n",
       "      <td>239</td>\n",
       "      <td>221</td>\n",
       "      <td>405</td>\n",
       "      <td>1306</td>\n",
       "    </tr>\n",
       "    <tr>\n",
       "      <th>AB000220_at</th>\n",
       "      <td>36</td>\n",
       "      <td>43</td>\n",
       "      <td>42</td>\n",
       "      <td>39</td>\n",
       "      <td>39</td>\n",
       "      <td>32</td>\n",
       "      <td>10</td>\n",
       "      <td>59</td>\n",
       "      <td>27</td>\n",
       "      <td>39</td>\n",
       "      <td>...</td>\n",
       "      <td>-7</td>\n",
       "      <td>39</td>\n",
       "      <td>12</td>\n",
       "      <td>51</td>\n",
       "      <td>71</td>\n",
       "      <td>-61</td>\n",
       "      <td>72</td>\n",
       "      <td>39</td>\n",
       "      <td>192</td>\n",
       "      <td>32</td>\n",
       "    </tr>\n",
       "  </tbody>\n",
       "</table>\n",
       "<p>5 rows × 38 columns</p>\n",
       "</div>"
      ],
      "text/plain": [
       "                           1      2      3      4      5      6      7      8  \\\n",
       "Gene Accession Number                                                           \n",
       "hum_alu_at             15091  11038  16692  15763  18128  34207  30801  25147   \n",
       "A28102_at                151    263     88    484    118    270    458    872   \n",
       "AB000114_at               72     21    -27     61     16     85    -10     25   \n",
       "AB000115_at              281    250    358    118    197     71    168    296   \n",
       "AB000220_at               36     43     42     39     39     32     10     59   \n",
       "\n",
       "                           9     10  ...     35     36     37     38     28  \\\n",
       "Gene Accession Number                ...                                      \n",
       "hum_alu_at             15272  21801  ...  45492  23865  17359  19406  17878   \n",
       "A28102_at                 62    194  ...    473     50    249    357    190   \n",
       "AB000114_at              -38     65  ...      0    -35     36    -17     39   \n",
       "AB000115_at              198    113  ...    341     74    328     74    214   \n",
       "AB000220_at               27     39  ...     -7     39     12     51     71   \n",
       "\n",
       "                          29     30     31     32     33  \n",
       "Gene Accession Number                                     \n",
       "hum_alu_at             26052  11983  23508  17996  19679  \n",
       "A28102_at                318    382    486    388    260  \n",
       "AB000114_at                1      1    -23     56    -27  \n",
       "AB000115_at              103    239    221    405   1306  \n",
       "AB000220_at              -61     72     39    192     32  \n",
       "\n",
       "[5 rows x 38 columns]"
      ]
     },
     "execution_count": 324,
     "metadata": {},
     "output_type": "execute_result"
    }
   ],
   "source": [
    "data.head()"
   ]
  },
  {
   "cell_type": "markdown",
   "metadata": {},
   "source": [
    "## Data is ready, implement the assigned method!"
   ]
  },
  {
   "cell_type": "code",
   "execution_count": 338,
   "metadata": {},
   "outputs": [
    {
     "data": {
      "text/plain": [
       "Text(0.5, 1.0, 'Gene expression')"
      ]
     },
     "execution_count": 338,
     "metadata": {},
     "output_type": "execute_result"
    },
    {
     "data": {
      "image/png": "[encoded data removed]",
      "text/plain": [
       "<Figure size 432x432 with 2 Axes>"
      ]
     },
     "metadata": {
      "needs_background": "light"
     },
     "output_type": "display_data"
    }
   ],
   "source": [
    "X = data.iloc[np.random.randint(0, data.shape[0], 30), :].values.T\n",
    "plt.figure(figsize=(6, 6))\n",
    "\n",
    "#plt.subplot(121)\n",
    "plt.imshow(X,interpolation='None')\n",
    "plt.colorbar(fraction=0.046, pad=0.08)\n",
    "plt.title('Gene expression')\n",
    "\n",
    "#plt.subplot(122)\n",
    "#plt.imshow(X,interpolation='None')\n",
    "#plt.colorbar(fraction=0.046, pad=0.04)\n",
    "#plt.title('Mutual Information between gene pairs');\n"
   ]
  },
  {
   "cell_type": "code",
   "execution_count": 339,
   "metadata": {},
   "outputs": [],
   "source": [
    "labels = pd.read_csv(\"labels.csv\", index_col=0)"
   ]
  },
  {
   "cell_type": "code",
   "execution_count": 1,
   "metadata": {},
   "outputs": [
    {
     "ename": "SyntaxError",
     "evalue": "invalid syntax (<ipython-input-1-ae47ae0e9dc6>, line 1)",
     "output_type": "error",
     "traceback": [
      "\u001b[0;36m  File \u001b[0;32m\"<ipython-input-1-ae47ae0e9dc6>\"\u001b[0;36m, line \u001b[0;32m1\u001b[0m\n\u001b[0;31m    https://towardsdatascience.com/mrmr-explained-exactly-how-you-wished-someone-explained-to-you-9cf4ed27458b\u001b[0m\n\u001b[0m          ^\u001b[0m\n\u001b[0;31mSyntaxError\u001b[0m\u001b[0;31m:\u001b[0m invalid syntax\n"
     ]
    }
   ],
   "source": [
    "https://towardsdatascience.com/mrmr-explained-exactly-how-you-wished-someone-explained-to-you-9cf4ed27458b"
   ]
  },
  {
   "cell_type": "code",
   "execution_count": null,
   "metadata": {},
   "outputs": [],
   "source": []
  }
 ],
 "metadata": {
  "kernelspec": {
   "display_name": "Python 3",
   "language": "python",
   "name": "python3"
  },
  "language_info": {
   "codemirror_mode": {
    "name": "ipython",
    "version": 3
   },
   "file_extension": ".py",
   "mimetype": "text/x-python",
   "name": "python",
   "nbconvert_exporter": "python",
   "pygments_lexer": "ipython3",
   "version": "3.8.5"
  }
 },
 "nbformat": 4,
 "nbformat_minor": 4
}
