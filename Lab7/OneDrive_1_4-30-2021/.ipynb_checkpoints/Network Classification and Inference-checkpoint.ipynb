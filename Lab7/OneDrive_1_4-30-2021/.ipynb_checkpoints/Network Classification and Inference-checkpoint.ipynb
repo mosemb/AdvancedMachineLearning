{
 "cells": [
  {
   "cell_type": "markdown",
   "metadata": {},
   "source": [
    "# In this lab activity you are going to classify a set of networks based on features extracted by hand"
   ]
  },
  {
   "cell_type": "markdown",
   "metadata": {},
   "source": [
    "## Moses Mbabaali 4846019"
   ]
  },
  {
   "cell_type": "code",
   "execution_count": 1,
   "metadata": {},
   "outputs": [],
   "source": [
    "import numpy as np\n",
    "import networkx as nx\n",
    "import matplotlib.pyplot as plt\n",
    "from statistics import mean \n",
    "%matplotlib inline"
   ]
  },
  {
   "cell_type": "markdown",
   "metadata": {},
   "source": [
    "## Load the data\n",
    "\n",
    "\n",
    "**Train networks are in the folder `Train networks` in the form of `networkx.edgelist` together with class labels (`train_labels.npy`)**\n",
    "\n",
    "**Test networks are in the folder `Test networks` in the form of `networkx.edgelist` together with class labels (`test_labels.npy`)**"
   ]
  },
  {
   "cell_type": "code",
   "execution_count": 235,
   "metadata": {},
   "outputs": [],
   "source": [
    "##Load the edge lists\n",
    "import networkx as nx\n",
    "y_test = np.load('Test Networks/test_labels.npy')\n",
    "y_train = np.load('Train networks/train_labels.npy')"
   ]
  },
  {
   "cell_type": "code",
   "execution_count": 4,
   "metadata": {},
   "outputs": [],
   "source": [
    "import os\n",
    "\n",
    "# Combined train and test will split the data with train test split later on. \n",
    "x_train_g = []\n",
    "for filename in os.listdir('Train networks'):\n",
    "    if filename.endswith(\".edgelist\"): \n",
    "        G = nx.read_edgelist(os.path.join('Train networks', filename), nodetype=int)\n",
    "        x_train_g.append(G)\n",
    "        x_train.append(np.array(G))\n",
    "        \n",
    "        continue\n",
    "    else:\n",
    "        continue        "
   ]
  },
  {
   "cell_type": "code",
   "execution_count": 236,
   "metadata": {},
   "outputs": [
    {
     "data": {
      "text/plain": [
       "(300,)"
      ]
     },
     "execution_count": 236,
     "metadata": {},
     "output_type": "execute_result"
    }
   ],
   "source": [
    "y_train.shape"
   ]
  },
  {
   "cell_type": "code",
   "execution_count": 237,
   "metadata": {},
   "outputs": [
    {
     "data": {
      "text/plain": [
       "(48,)"
      ]
     },
     "execution_count": 237,
     "metadata": {},
     "output_type": "execute_result"
    }
   ],
   "source": [
    "y_test.shape"
   ]
  },
  {
   "cell_type": "code",
   "execution_count": 238,
   "metadata": {},
   "outputs": [],
   "source": [
    "#Combine y_train and test then divide it later with traintest split\n",
    "y_train = np.hstack((y_train,y_test))"
   ]
  },
  {
   "cell_type": "code",
   "execution_count": 239,
   "metadata": {},
   "outputs": [
    {
     "data": {
      "text/plain": [
       "(348,)"
      ]
     },
     "execution_count": 239,
     "metadata": {},
     "output_type": "execute_result"
    }
   ],
   "source": [
    "y_train.shape"
   ]
  },
  {
   "cell_type": "code",
   "execution_count": 241,
   "metadata": {},
   "outputs": [
    {
     "data": {
      "text/plain": [
       "348"
      ]
     },
     "execution_count": 241,
     "metadata": {},
     "output_type": "execute_result"
    }
   ],
   "source": [
    "# Check the number of graphs, I combined the train and test will split the data later. with train test split. \n",
    "len(x_train_g)"
   ]
  },
  {
   "cell_type": "markdown",
   "metadata": {},
   "source": [
    "## Feature extraction\n",
    "\n",
    "Extract some structural features from the networks. You decide which one to consider (*e.g.* transitivity, average path length and so on and so forth).\n",
    "Represent each network as a vector whose components correspond to the extracted features.\n",
    "\n",
    "<span style=\"color:red\"> **Justify all of your decisions.** </span>\n",
    "\n",
    "**Reminder: If the network is very large, the computation of some quantities could be very time consuming. In that case you could fall back on sampling techniques**"
   ]
  },
  {
   "cell_type": "markdown",
   "metadata": {},
   "source": [
    "In this task i selected the features based on features that share the overal properties of the network. For features that were having individual representation of each individual node i took the average of the returned values.Features like degree centrality, closeness_cetrality, betweenness_cetrality, average_neighbor i took the mean to represent the overall picture of the graph. Then features like transivity, density, degree_assortativity_coefficient, degree_pearson_correlation_coefficient, degree_assortativity_coefficient and average_clustering and avgpath i took the individual values since they represent the overall picture of the graph, no mean taken because the values represent the overall picture of the graph and are returned individually."
   ]
  },
  {
   "cell_type": "code",
   "execution_count": 7,
   "metadata": {},
   "outputs": [],
   "source": [
    "## Feature extraction\n",
    "def feature_extraction(data):\n",
    "    \"\"\" Takes in the graph data list and extracts features for the classification task. \"\"\"\n",
    "    degree_centrality = []\n",
    "    degree_associvity = []\n",
    "    transivity = []\n",
    "    closeness_centrality = []\n",
    "    betweenness_cetrality = []\n",
    "    degree_pearson = []\n",
    "    average_neighbor = []\n",
    "    degree_asocivity =[]\n",
    "    density = []\n",
    "    avearge_clustering = []\n",
    "    for i in data:\n",
    "        degree_centrality.append (mean(nx.degree_centrality(i).values()))\n",
    "        transivity.append(nx.transitivity(i))\n",
    "        closeness_centrality.append(mean(list (nx.closeness_centrality(i).values())))\n",
    "        betweenness_cetrality.append (mean(nx.betweenness_centrality(i).values()))\n",
    "        density.append(nx.density(i))\n",
    "        degree_associvity.append(nx.degree_assortativity_coefficient(i))\n",
    "        degree_pearson.append(nx.degree_pearson_correlation_coefficient(i))\n",
    "        average_neighbor.append(mean(nx.average_neighbor_degree(i).values()))\n",
    "        degree_asocivity.append(nx.degree_assortativity_coefficient(i))\n",
    "        avearge_clustering.append(nx.average_clustering(i))\n",
    "        \n",
    "    avgpath = []\n",
    "    for i in data:\n",
    "        for C in (i.subgraph(c).copy() for c in nx.connected_components(i)):\n",
    "            avgpath.append(nx.average_shortest_path_length(C))   \n",
    "        \n",
    "    return degree_centrality,transivity, closeness_centrality, betweenness_cetrality,density,degree_pearson,average_neighbor,degree_asocivity,avearge_clustering, avgpath"
   ]
  },
  {
   "cell_type": "code",
   "execution_count": 8,
   "metadata": {},
   "outputs": [],
   "source": [
    "# Get features\n",
    "training_set = feature_extraction(x_train_g)"
   ]
  },
  {
   "cell_type": "code",
   "execution_count": 10,
   "metadata": {},
   "outputs": [],
   "source": [
    "#Conversion of features to numpy array for training\n",
    "degree_centrality = np.array(training_set[0])\n",
    "transivity = np.array(training_set[1])\n",
    "closeness_centrality = np.array(training_set[2])\n",
    "betweenness_cetrality = np.array(training_set[3])\n",
    "density = np.array(training_set[4])\n",
    "degree_pearson = np.array(training_set[5])\n",
    "average_neighbor= np.array(training_set[6])\n",
    "degree_asocivity= np.array(training_set[7]) \n",
    "avearge_clustering = np.array(training_set[8]) \n",
    "avpath = np.array(training_set[9][0:348])"
   ]
  },
  {
   "cell_type": "code",
   "execution_count": 263,
   "metadata": {},
   "outputs": [],
   "source": [
    "# All data\n",
    "taining_arr = np.vstack((density,degree_centrality,transivity, closeness_centrality, betweenness_cetrality,degree_pearson,average_neighbor,degree_asocivity,avearge_clustering, avpath)).T #degree_centrality,transivity, closeness_centrality, betweenness_cetrality,degree_pearson,average_neighbor,degree_asocivity,)).T"
   ]
  },
  {
   "cell_type": "code",
   "execution_count": 264,
   "metadata": {},
   "outputs": [
    {
     "data": {
      "text/plain": [
       "(348, 10)"
      ]
     },
     "execution_count": 264,
     "metadata": {},
     "output_type": "execute_result"
    }
   ],
   "source": [
    "taining_arr.shape"
   ]
  },
  {
   "cell_type": "code",
   "execution_count": 265,
   "metadata": {},
   "outputs": [
    {
     "data": {
      "text/plain": [
       "(348, 10)"
      ]
     },
     "execution_count": 265,
     "metadata": {},
     "output_type": "execute_result"
    }
   ],
   "source": [
    "taining_arr.shape"
   ]
  },
  {
   "cell_type": "code",
   "execution_count": 266,
   "metadata": {},
   "outputs": [
    {
     "data": {
      "text/plain": [
       "(348,)"
      ]
     },
     "execution_count": 266,
     "metadata": {},
     "output_type": "execute_result"
    }
   ],
   "source": [
    "y_train.shape"
   ]
  },
  {
   "cell_type": "code",
   "execution_count": 267,
   "metadata": {},
   "outputs": [],
   "source": [
    "#Data split\n",
    "from sklearn.model_selection import train_test_split\n",
    "X_train,X_test,y_trains,y_tests=train_test_split(taining_arr,y_train,test_size=0.2)"
   ]
  },
  {
   "cell_type": "code",
   "execution_count": 260,
   "metadata": {},
   "outputs": [
    {
     "data": {
      "text/plain": [
       "(348, 10)"
      ]
     },
     "execution_count": 260,
     "metadata": {},
     "output_type": "execute_result"
    }
   ],
   "source": [
    "taining_arr.shape"
   ]
  },
  {
   "cell_type": "markdown",
   "metadata": {},
   "source": [
    "Since i am using RandomForestClassiffier do determine feature importance i did fit the model to check which features are most important and then use the accordingly. I kept dropping features depending on the score. It appeared the less features i had with a higher score the better the results were. So i decided to keep 3 features. In comparison if i run the model with all features the performance for the test set goes down. "
   ]
  },
  {
   "cell_type": "code",
   "execution_count": 268,
   "metadata": {},
   "outputs": [
    {
     "name": "stdout",
     "output_type": "stream",
     "text": [
      "Feature: 0, Score: 0.05030\n",
      "Feature: 1, Score: 0.05072\n",
      "Feature: 2, Score: 0.09847\n",
      "Feature: 3, Score: 0.10247\n",
      "Feature: 4, Score: 0.11492\n",
      "Feature: 5, Score: 0.11850\n",
      "Feature: 6, Score: 0.10849\n",
      "Feature: 7, Score: 0.11717\n",
      "Feature: 8, Score: 0.09673\n",
      "Feature: 9, Score: 0.14225\n"
     ]
    }
   ],
   "source": [
    "from sklearn.ensemble import RandomForestClassifier\n",
    "model = RandomForestClassifier()\n",
    "model.fit(X_train, y_trains)\n",
    "importance = model.feature_importances_\n",
    "for i,v in enumerate(importance):\n",
    "    print('Feature: %0d, Score: %.5f' % (i,v))"
   ]
  },
  {
   "cell_type": "code",
   "execution_count": 269,
   "metadata": {},
   "outputs": [],
   "source": [
    "taining_arr = np.vstack((average_neighbor,degree_asocivity, avpath)).T\n",
    "#Data split\n",
    "from sklearn.model_selection import train_test_split\n",
    "X_train,X_test,y_trains,y_tests=train_test_split(taining_arr,y_train,test_size=0.2)"
   ]
  },
  {
   "cell_type": "code",
   "execution_count": 275,
   "metadata": {},
   "outputs": [
    {
     "name": "stdout",
     "output_type": "stream",
     "text": [
      "Feature: 0, Score: 0.33265\n",
      "Feature: 1, Score: 0.32640\n",
      "Feature: 2, Score: 0.34095\n"
     ]
    }
   ],
   "source": [
    "#Several steps were taken to get the best results in terms of features. I remained with 3 features that is, \n",
    "# average_neighbor,degree_asocivity, avpath. i am using these with gridsearchcv and adaboost with rfc as the base\n",
    "# classifer\n",
    "model = RandomForestClassifier()\n",
    "model.fit(X_train, y_trains)\n",
    "importance = model.feature_importances_\n",
    "for i,v in enumerate(importance):\n",
    "    print('Feature: %0d, Score: %.5f' % (i,v))"
   ]
  },
  {
   "cell_type": "code",
   "execution_count": 276,
   "metadata": {},
   "outputs": [],
   "source": [
    "from sklearn.model_selection import train_test_split\n",
    "X_train,X_test,y_trains,y_tests=train_test_split(taining_arr,y_train,test_size=0.2)"
   ]
  },
  {
   "cell_type": "markdown",
   "metadata": {},
   "source": [
    "## Mutlti-label Classification\n",
    "\n",
    "**Consider a classification model that you assume to be appropriate for this exercise and evaluate its performance** \n",
    "\n",
    "\n",
    "<span style=\"color:red\"> **Justify all of your decisions and remember to cross-validate if hyperparameters are present in the model.** </span>"
   ]
  },
  {
   "cell_type": "code",
   "execution_count": 107,
   "metadata": {},
   "outputs": [],
   "source": [
    "##Multi-label classification\n",
    "from sklearn.model_selection import KFold\n",
    "from sklearn.model_selection import GridSearchCV\n",
    "from sklearn.ensemble import RandomForestClassifier\n",
    "from sklearn.ensemble import AdaBoostClassifier\n",
    "from sklearn.model_selection import LeaveOneOut\n",
    "from sklearn.preprocessing import StandardScaler\n",
    "from sklearn.model_selection import StratifiedShuffleSplit\n",
    "\n",
    "\n",
    "#Possible label data splits\n",
    "#KFold data classification\n",
    "KfRidge = KFold(n_splits=10)\n",
    "#Leave one out\n",
    "LooRidge = LeaveOneOut()\n",
    "#Stratified Shufflesplit\n",
    "ssplit = StratifiedShuffleSplit(n_splits=10, test_size=0.2, random_state=42)\n",
    "\n",
    "def GridSearch(cv,X_train,y_train,X_test,y_test):\n",
    "    \"\"\" \n",
    "        Takes in the crossvalidation strategy, training data, \n",
    "        For X and Y and testing data for X and Y\n",
    "    \"\"\"\n",
    "    \n",
    "    if cv == KfRidge:\n",
    "        print (\"Split mechannism KFOLD\")\n",
    "    if cv == LooRidge:\n",
    "        print (\"Leave One out\")\n",
    "     \n",
    "    # Random Forest classifier\n",
    "    rfc = RandomForestClassifier(n_jobs=-1,max_features= 'sqrt', max_depth=9,) \n",
    "    \n",
    "    # Prameters \n",
    "    parameters= param_grid ={ 'learning_rate':[0.0001, 0.001, 0.01], 'n_estimators' : [10, 50]}\n",
    "    \n",
    "    \n",
    "    model = AdaBoostClassifier(base_estimator = rfc)\n",
    "    Grid_Search_Ridge = GridSearchCV(model,parameters,refit=True,cv =cv, scoring='accuracy')\n",
    "    Grid_Search_Ridge.fit(X_train,y_train)\n",
    "    grid_results = Grid_Search_Ridge.cv_results_['mean_test_score']\n",
    "    print()\n",
    "    print(\"Best model :\")\n",
    "    best_model = Grid_Search_Ridge.best_estimator_\n",
    "    print (best_model)\n",
    "    best_model.fit(X_train,y_train)\n",
    "    print()\n",
    "    print(\"Score best model :\")\n",
    "    scores_best_model = best_model.score(X_train, y_train)\n",
    "    test = best_model.score(X_test, y_test)\n",
    "    print(\"Train score :\",scores_best_model)\n",
    "    print(\"Test score :\",test)"
   ]
  },
  {
   "cell_type": "code",
   "execution_count": 108,
   "metadata": {},
   "outputs": [
    {
     "name": "stdout",
     "output_type": "stream",
     "text": [
      "Split mechannism KFOLD\n",
      "\n",
      "Best model :\n",
      "AdaBoostClassifier(base_estimator=RandomForestClassifier(max_depth=9,\n",
      "                                                         max_features='sqrt',\n",
      "                                                         n_jobs=-1),\n",
      "                   learning_rate=0.001, n_estimators=10)\n",
      "\n",
      "Score best model :\n",
      "Train score : 0.841726618705036\n",
      "Test score : 0.5285714285714286\n"
     ]
    }
   ],
   "source": [
    "GridSearch(KfRidge,X_train,y_trains,X_test,y_tests)"
   ]
  },
  {
   "cell_type": "markdown",
   "metadata": {},
   "source": [
    "# Network inference"
   ]
  },
  {
   "cell_type": "markdown",
   "metadata": {},
   "source": [
    "**You will try one of the assigned algorithms (`ARaCNe`,`MRNet` or `WGCNA`) on the [Golub dataset](http://portals.broadinstitute.org/cgi-bin/cancer/publications/pub_paper.cgi?paper_id=43) which contains microarray data measured from two classes of leukemia: acute myeloid leukemia (AML) and acute lymphoblastic leukemia (ALL).**"
   ]
  },
  {
   "cell_type": "code",
   "execution_count": 119,
   "metadata": {},
   "outputs": [
    {
     "name": "stdout",
     "output_type": "stream",
     "text": [
      "n_samples = 7129 | n_variables = 38\n"
     ]
    },
    {
     "data": {
      "text/html": [
       "<div>\n",
       "<style scoped>\n",
       "    .dataframe tbody tr th:only-of-type {\n",
       "        vertical-align: middle;\n",
       "    }\n",
       "\n",
       "    .dataframe tbody tr th {\n",
       "        vertical-align: top;\n",
       "    }\n",
       "\n",
       "    .dataframe thead th {\n",
       "        text-align: right;\n",
       "    }\n",
       "</style>\n",
       "<table border=\"1\" class=\"dataframe\">\n",
       "  <thead>\n",
       "    <tr style=\"text-align: right;\">\n",
       "      <th></th>\n",
       "      <th>1</th>\n",
       "      <th>2</th>\n",
       "      <th>3</th>\n",
       "      <th>4</th>\n",
       "      <th>5</th>\n",
       "      <th>6</th>\n",
       "      <th>7</th>\n",
       "      <th>8</th>\n",
       "      <th>9</th>\n",
       "      <th>10</th>\n",
       "      <th>...</th>\n",
       "      <th>35</th>\n",
       "      <th>36</th>\n",
       "      <th>37</th>\n",
       "      <th>38</th>\n",
       "      <th>28</th>\n",
       "      <th>29</th>\n",
       "      <th>30</th>\n",
       "      <th>31</th>\n",
       "      <th>32</th>\n",
       "      <th>33</th>\n",
       "    </tr>\n",
       "    <tr>\n",
       "      <th>Gene Accession Number</th>\n",
       "      <th></th>\n",
       "      <th></th>\n",
       "      <th></th>\n",
       "      <th></th>\n",
       "      <th></th>\n",
       "      <th></th>\n",
       "      <th></th>\n",
       "      <th></th>\n",
       "      <th></th>\n",
       "      <th></th>\n",
       "      <th></th>\n",
       "      <th></th>\n",
       "      <th></th>\n",
       "      <th></th>\n",
       "      <th></th>\n",
       "      <th></th>\n",
       "      <th></th>\n",
       "      <th></th>\n",
       "      <th></th>\n",
       "      <th></th>\n",
       "      <th></th>\n",
       "    </tr>\n",
       "  </thead>\n",
       "  <tbody>\n",
       "    <tr>\n",
       "      <th>AFFX-BioB-5_at</th>\n",
       "      <td>-214</td>\n",
       "      <td>-139</td>\n",
       "      <td>-76</td>\n",
       "      <td>-135</td>\n",
       "      <td>-106</td>\n",
       "      <td>-138</td>\n",
       "      <td>-72</td>\n",
       "      <td>-413</td>\n",
       "      <td>5</td>\n",
       "      <td>-88</td>\n",
       "      <td>...</td>\n",
       "      <td>7</td>\n",
       "      <td>-213</td>\n",
       "      <td>-25</td>\n",
       "      <td>-72</td>\n",
       "      <td>-4</td>\n",
       "      <td>15</td>\n",
       "      <td>-318</td>\n",
       "      <td>-32</td>\n",
       "      <td>-124</td>\n",
       "      <td>-135</td>\n",
       "    </tr>\n",
       "    <tr>\n",
       "      <th>AFFX-BioB-M_at</th>\n",
       "      <td>-153</td>\n",
       "      <td>-73</td>\n",
       "      <td>-49</td>\n",
       "      <td>-114</td>\n",
       "      <td>-125</td>\n",
       "      <td>-85</td>\n",
       "      <td>-144</td>\n",
       "      <td>-260</td>\n",
       "      <td>-127</td>\n",
       "      <td>-105</td>\n",
       "      <td>...</td>\n",
       "      <td>-100</td>\n",
       "      <td>-252</td>\n",
       "      <td>-20</td>\n",
       "      <td>-139</td>\n",
       "      <td>-116</td>\n",
       "      <td>-114</td>\n",
       "      <td>-192</td>\n",
       "      <td>-49</td>\n",
       "      <td>-79</td>\n",
       "      <td>-186</td>\n",
       "    </tr>\n",
       "    <tr>\n",
       "      <th>AFFX-BioB-3_at</th>\n",
       "      <td>-58</td>\n",
       "      <td>-1</td>\n",
       "      <td>-307</td>\n",
       "      <td>265</td>\n",
       "      <td>-76</td>\n",
       "      <td>215</td>\n",
       "      <td>238</td>\n",
       "      <td>7</td>\n",
       "      <td>106</td>\n",
       "      <td>42</td>\n",
       "      <td>...</td>\n",
       "      <td>-57</td>\n",
       "      <td>136</td>\n",
       "      <td>124</td>\n",
       "      <td>-1</td>\n",
       "      <td>-125</td>\n",
       "      <td>2</td>\n",
       "      <td>-95</td>\n",
       "      <td>49</td>\n",
       "      <td>-37</td>\n",
       "      <td>-70</td>\n",
       "    </tr>\n",
       "    <tr>\n",
       "      <th>AFFX-BioC-5_at</th>\n",
       "      <td>88</td>\n",
       "      <td>283</td>\n",
       "      <td>309</td>\n",
       "      <td>12</td>\n",
       "      <td>168</td>\n",
       "      <td>71</td>\n",
       "      <td>55</td>\n",
       "      <td>-2</td>\n",
       "      <td>268</td>\n",
       "      <td>219</td>\n",
       "      <td>...</td>\n",
       "      <td>132</td>\n",
       "      <td>318</td>\n",
       "      <td>325</td>\n",
       "      <td>392</td>\n",
       "      <td>241</td>\n",
       "      <td>193</td>\n",
       "      <td>312</td>\n",
       "      <td>230</td>\n",
       "      <td>330</td>\n",
       "      <td>337</td>\n",
       "    </tr>\n",
       "    <tr>\n",
       "      <th>AFFX-BioC-3_at</th>\n",
       "      <td>-295</td>\n",
       "      <td>-264</td>\n",
       "      <td>-376</td>\n",
       "      <td>-419</td>\n",
       "      <td>-230</td>\n",
       "      <td>-272</td>\n",
       "      <td>-399</td>\n",
       "      <td>-541</td>\n",
       "      <td>-210</td>\n",
       "      <td>-178</td>\n",
       "      <td>...</td>\n",
       "      <td>-377</td>\n",
       "      <td>-209</td>\n",
       "      <td>-396</td>\n",
       "      <td>-324</td>\n",
       "      <td>-191</td>\n",
       "      <td>-51</td>\n",
       "      <td>-139</td>\n",
       "      <td>-367</td>\n",
       "      <td>-188</td>\n",
       "      <td>-407</td>\n",
       "    </tr>\n",
       "  </tbody>\n",
       "</table>\n",
       "<p>5 rows × 38 columns</p>\n",
       "</div>"
      ],
      "text/plain": [
       "                         1    2    3    4    5    6    7    8    9   10  ...  \\\n",
       "Gene Accession Number                                                    ...   \n",
       "AFFX-BioB-5_at        -214 -139  -76 -135 -106 -138  -72 -413    5  -88  ...   \n",
       "AFFX-BioB-M_at        -153  -73  -49 -114 -125  -85 -144 -260 -127 -105  ...   \n",
       "AFFX-BioB-3_at         -58   -1 -307  265  -76  215  238    7  106   42  ...   \n",
       "AFFX-BioC-5_at          88  283  309   12  168   71   55   -2  268  219  ...   \n",
       "AFFX-BioC-3_at        -295 -264 -376 -419 -230 -272 -399 -541 -210 -178  ...   \n",
       "\n",
       "                        35   36   37   38   28   29   30   31   32   33  \n",
       "Gene Accession Number                                                    \n",
       "AFFX-BioB-5_at           7 -213  -25  -72   -4   15 -318  -32 -124 -135  \n",
       "AFFX-BioB-M_at        -100 -252  -20 -139 -116 -114 -192  -49  -79 -186  \n",
       "AFFX-BioB-3_at         -57  136  124   -1 -125    2  -95   49  -37  -70  \n",
       "AFFX-BioC-5_at         132  318  325  392  241  193  312  230  330  337  \n",
       "AFFX-BioC-3_at        -377 -209 -396 -324 -191  -51 -139 -367 -188 -407  \n",
       "\n",
       "[5 rows x 38 columns]"
      ]
     },
     "execution_count": 119,
     "metadata": {},
     "output_type": "execute_result"
    }
   ],
   "source": [
    "## Load the data\n",
    "%matplotlib inline\n",
    "\n",
    "import numpy as np\n",
    "import matplotlib.pyplot as plt\n",
    "import os\n",
    "import pandas as pd\n",
    "import warnings\n",
    "warnings.filterwarnings('ignore')\n",
    "\n",
    "data = pd.read_csv(\"gedm.csv\", header=0, index_col=0)\n",
    "print(\"n_samples = {} | n_variables = {}\".format(*data.shape))\n",
    "\n",
    "n_samples, n_variables = data.shape\n",
    "data.head()"
   ]
  },
  {
   "cell_type": "markdown",
   "metadata": {},
   "source": [
    "#### Remove rows that start with AFFX and select a sub-matrix"
   ]
  },
  {
   "cell_type": "code",
   "execution_count": 120,
   "metadata": {},
   "outputs": [
    {
     "name": "stdout",
     "output_type": "stream",
     "text": [
      "(38, 30)\n"
     ]
    }
   ],
   "source": [
    "data.drop(data.index[data.index.str.startswith('AFFX')], inplace=True)\n",
    "X = data.iloc[np.random.randint(0, data.shape[0], 30), :].values.T\n",
    "print(X.shape)"
   ]
  },
  {
   "cell_type": "code",
   "execution_count": 121,
   "metadata": {},
   "outputs": [
    {
     "data": {
      "text/html": [
       "<div>\n",
       "<style scoped>\n",
       "    .dataframe tbody tr th:only-of-type {\n",
       "        vertical-align: middle;\n",
       "    }\n",
       "\n",
       "    .dataframe tbody tr th {\n",
       "        vertical-align: top;\n",
       "    }\n",
       "\n",
       "    .dataframe thead th {\n",
       "        text-align: right;\n",
       "    }\n",
       "</style>\n",
       "<table border=\"1\" class=\"dataframe\">\n",
       "  <thead>\n",
       "    <tr style=\"text-align: right;\">\n",
       "      <th></th>\n",
       "      <th>1</th>\n",
       "      <th>2</th>\n",
       "      <th>3</th>\n",
       "      <th>4</th>\n",
       "      <th>5</th>\n",
       "      <th>6</th>\n",
       "      <th>7</th>\n",
       "      <th>8</th>\n",
       "      <th>9</th>\n",
       "      <th>10</th>\n",
       "      <th>...</th>\n",
       "      <th>35</th>\n",
       "      <th>36</th>\n",
       "      <th>37</th>\n",
       "      <th>38</th>\n",
       "      <th>28</th>\n",
       "      <th>29</th>\n",
       "      <th>30</th>\n",
       "      <th>31</th>\n",
       "      <th>32</th>\n",
       "      <th>33</th>\n",
       "    </tr>\n",
       "    <tr>\n",
       "      <th>Gene Accession Number</th>\n",
       "      <th></th>\n",
       "      <th></th>\n",
       "      <th></th>\n",
       "      <th></th>\n",
       "      <th></th>\n",
       "      <th></th>\n",
       "      <th></th>\n",
       "      <th></th>\n",
       "      <th></th>\n",
       "      <th></th>\n",
       "      <th></th>\n",
       "      <th></th>\n",
       "      <th></th>\n",
       "      <th></th>\n",
       "      <th></th>\n",
       "      <th></th>\n",
       "      <th></th>\n",
       "      <th></th>\n",
       "      <th></th>\n",
       "      <th></th>\n",
       "      <th></th>\n",
       "    </tr>\n",
       "  </thead>\n",
       "  <tbody>\n",
       "    <tr>\n",
       "      <th>hum_alu_at</th>\n",
       "      <td>15091</td>\n",
       "      <td>11038</td>\n",
       "      <td>16692</td>\n",
       "      <td>15763</td>\n",
       "      <td>18128</td>\n",
       "      <td>34207</td>\n",
       "      <td>30801</td>\n",
       "      <td>25147</td>\n",
       "      <td>15272</td>\n",
       "      <td>21801</td>\n",
       "      <td>...</td>\n",
       "      <td>45492</td>\n",
       "      <td>23865</td>\n",
       "      <td>17359</td>\n",
       "      <td>19406</td>\n",
       "      <td>17878</td>\n",
       "      <td>26052</td>\n",
       "      <td>11983</td>\n",
       "      <td>23508</td>\n",
       "      <td>17996</td>\n",
       "      <td>19679</td>\n",
       "    </tr>\n",
       "    <tr>\n",
       "      <th>A28102_at</th>\n",
       "      <td>151</td>\n",
       "      <td>263</td>\n",
       "      <td>88</td>\n",
       "      <td>484</td>\n",
       "      <td>118</td>\n",
       "      <td>270</td>\n",
       "      <td>458</td>\n",
       "      <td>872</td>\n",
       "      <td>62</td>\n",
       "      <td>194</td>\n",
       "      <td>...</td>\n",
       "      <td>473</td>\n",
       "      <td>50</td>\n",
       "      <td>249</td>\n",
       "      <td>357</td>\n",
       "      <td>190</td>\n",
       "      <td>318</td>\n",
       "      <td>382</td>\n",
       "      <td>486</td>\n",
       "      <td>388</td>\n",
       "      <td>260</td>\n",
       "    </tr>\n",
       "    <tr>\n",
       "      <th>AB000114_at</th>\n",
       "      <td>72</td>\n",
       "      <td>21</td>\n",
       "      <td>-27</td>\n",
       "      <td>61</td>\n",
       "      <td>16</td>\n",
       "      <td>85</td>\n",
       "      <td>-10</td>\n",
       "      <td>25</td>\n",
       "      <td>-38</td>\n",
       "      <td>65</td>\n",
       "      <td>...</td>\n",
       "      <td>0</td>\n",
       "      <td>-35</td>\n",
       "      <td>36</td>\n",
       "      <td>-17</td>\n",
       "      <td>39</td>\n",
       "      <td>1</td>\n",
       "      <td>1</td>\n",
       "      <td>-23</td>\n",
       "      <td>56</td>\n",
       "      <td>-27</td>\n",
       "    </tr>\n",
       "    <tr>\n",
       "      <th>AB000115_at</th>\n",
       "      <td>281</td>\n",
       "      <td>250</td>\n",
       "      <td>358</td>\n",
       "      <td>118</td>\n",
       "      <td>197</td>\n",
       "      <td>71</td>\n",
       "      <td>168</td>\n",
       "      <td>296</td>\n",
       "      <td>198</td>\n",
       "      <td>113</td>\n",
       "      <td>...</td>\n",
       "      <td>341</td>\n",
       "      <td>74</td>\n",
       "      <td>328</td>\n",
       "      <td>74</td>\n",
       "      <td>214</td>\n",
       "      <td>103</td>\n",
       "      <td>239</td>\n",
       "      <td>221</td>\n",
       "      <td>405</td>\n",
       "      <td>1306</td>\n",
       "    </tr>\n",
       "    <tr>\n",
       "      <th>AB000220_at</th>\n",
       "      <td>36</td>\n",
       "      <td>43</td>\n",
       "      <td>42</td>\n",
       "      <td>39</td>\n",
       "      <td>39</td>\n",
       "      <td>32</td>\n",
       "      <td>10</td>\n",
       "      <td>59</td>\n",
       "      <td>27</td>\n",
       "      <td>39</td>\n",
       "      <td>...</td>\n",
       "      <td>-7</td>\n",
       "      <td>39</td>\n",
       "      <td>12</td>\n",
       "      <td>51</td>\n",
       "      <td>71</td>\n",
       "      <td>-61</td>\n",
       "      <td>72</td>\n",
       "      <td>39</td>\n",
       "      <td>192</td>\n",
       "      <td>32</td>\n",
       "    </tr>\n",
       "  </tbody>\n",
       "</table>\n",
       "<p>5 rows × 38 columns</p>\n",
       "</div>"
      ],
      "text/plain": [
       "                           1      2      3      4      5      6      7      8  \\\n",
       "Gene Accession Number                                                           \n",
       "hum_alu_at             15091  11038  16692  15763  18128  34207  30801  25147   \n",
       "A28102_at                151    263     88    484    118    270    458    872   \n",
       "AB000114_at               72     21    -27     61     16     85    -10     25   \n",
       "AB000115_at              281    250    358    118    197     71    168    296   \n",
       "AB000220_at               36     43     42     39     39     32     10     59   \n",
       "\n",
       "                           9     10  ...     35     36     37     38     28  \\\n",
       "Gene Accession Number                ...                                      \n",
       "hum_alu_at             15272  21801  ...  45492  23865  17359  19406  17878   \n",
       "A28102_at                 62    194  ...    473     50    249    357    190   \n",
       "AB000114_at              -38     65  ...      0    -35     36    -17     39   \n",
       "AB000115_at              198    113  ...    341     74    328     74    214   \n",
       "AB000220_at               27     39  ...     -7     39     12     51     71   \n",
       "\n",
       "                          29     30     31     32     33  \n",
       "Gene Accession Number                                     \n",
       "hum_alu_at             26052  11983  23508  17996  19679  \n",
       "A28102_at                318    382    486    388    260  \n",
       "AB000114_at                1      1    -23     56    -27  \n",
       "AB000115_at              103    239    221    405   1306  \n",
       "AB000220_at              -61     72     39    192     32  \n",
       "\n",
       "[5 rows x 38 columns]"
      ]
     },
     "execution_count": 121,
     "metadata": {},
     "output_type": "execute_result"
    }
   ],
   "source": [
    "data.head()"
   ]
  },
  {
   "cell_type": "markdown",
   "metadata": {},
   "source": [
    "## Data is ready, implement the assigned method!"
   ]
  },
  {
   "cell_type": "code",
   "execution_count": 220,
   "metadata": {},
   "outputs": [
    {
     "data": {
      "text/plain": [
       "Text(0.5, 1.0, 'Oginal Data Matrix')"
      ]
     },
     "execution_count": 220,
     "metadata": {},
     "output_type": "execute_result"
    },
    {
     "data": {
      "image/png": "[encoded data removed]",
      "text/plain": [
       "<Figure size 432x288 with 2 Axes>"
      ]
     },
     "metadata": {
      "needs_background": "light"
     },
     "output_type": "display_data"
    }
   ],
   "source": [
    "X = data.iloc[np.random.randint(0, data.shape[0], 30), :].values.T\n",
    "plt.imshow(X,interpolation='None')\n",
    "plt.colorbar(fraction=0.046, pad=0.08)\n",
    "plt.title('Oginal Data Matrix')"
   ]
  },
  {
   "cell_type": "markdown",
   "metadata": {},
   "source": [
    "To impliment the MRNet several functions are needed. First we need to calculate the mutual information for between genes. The matrix that is aquired will be used in the MRNet algorithm. The MRNet algorithm is derived from the traditional MRMR algorithm. The MRMR algorithm given data it ranks the features based on Minimum redundancy Maximum relevancy. "
   ]
  },
  {
   "cell_type": "code",
   "execution_count": 148,
   "metadata": {},
   "outputs": [],
   "source": [
    "#Compute Mutual Information.There are several ways we can compute mutual information. In this case i will consider 2. \n",
    "#First i will use the mutual information score adapted from sklearn, then the same but adjusted\n",
    "from sklearn import metrics\n",
    "\n",
    "def mutual_information(X,Y):\n",
    "    \"\"\" Takes in 2 cols and computes there mutual information \"\"\"\n",
    "    return metrics.mutual_info_score(X,Y)\n",
    "\n",
    "\n",
    "def mutual_information_ajusted (X,Y):\n",
    "    \"\"\" Takes in 2 cols and computes there mutual information \"\"\"\n",
    "    return metrics.adjusted_mutual_info_score(X, Y)"
   ]
  },
  {
   "cell_type": "code",
   "execution_count": 149,
   "metadata": {},
   "outputs": [],
   "source": [
    "#Function to iterate over the dataframe to compute mutual information between pairs. \n",
    "def mutual_calculations(func,X):\n",
    "    \"\"\" Takes in a function that computes mutual infor between 2 cols \n",
    "        and a numpy array of data. \"\"\"\n",
    "    M_info_Matrix = np.zeros((X.shape[1],X.shape[1]))\n",
    "    \n",
    "    #Iterate over columns \n",
    "    for i in range(X.shape[1]): # First column\n",
    "        for j in range (i+1,X.shape[1]): #Second column\n",
    "            M_info_Matrix[i,j] = 0 if i == j else func(X[:,i],X[:,j]) #function to compute Mutual Infor\n",
    "            M_info_Matrix[j,i] = M_info_Matrix[i,j]\n",
    "            \n",
    "    return  M_info_Matrix"
   ]
  },
  {
   "cell_type": "code",
   "execution_count": 177,
   "metadata": {},
   "outputs": [],
   "source": [
    "M_infor = mutual_calculations(mutual_information,X)"
   ]
  },
  {
   "cell_type": "code",
   "execution_count": 178,
   "metadata": {},
   "outputs": [],
   "source": [
    "M_info_Matrix = np.zeros((X.shape[1],X.shape[1]))"
   ]
  },
  {
   "cell_type": "code",
   "execution_count": 206,
   "metadata": {},
   "outputs": [
    {
     "data": {
      "image/png": "[encoded data removed]",
      "text/plain": [
       "<Figure size 432x288 with 2 Axes>"
      ]
     },
     "metadata": {
      "needs_background": "light"
     },
     "output_type": "display_data"
    }
   ],
   "source": [
    "plt.imshow(M_infor,interpolation='None')\n",
    "plt.colorbar(fraction=0.046, pad=0.08)\n",
    "plt.title('Gene Mutual info between pairs');"
   ]
  },
  {
   "cell_type": "code",
   "execution_count": 182,
   "metadata": {},
   "outputs": [],
   "source": [
    "M_infor2 = mutual_calculations(mutual_information_ajusted,X)"
   ]
  },
  {
   "cell_type": "code",
   "execution_count": 213,
   "metadata": {},
   "outputs": [
    {
     "data": {
      "image/png": "[encoded data removed]",
      "text/plain": [
       "<Figure size 432x288 with 2 Axes>"
      ]
     },
     "metadata": {
      "needs_background": "light"
     },
     "output_type": "display_data"
    }
   ],
   "source": [
    "plt.imshow(M_infor2,interpolation='None')\n",
    "plt.colorbar(fraction=0.046, pad=0.08)\n",
    "plt.title('Gene Mutual info between pairs (Adjusted)');"
   ]
  },
  {
   "cell_type": "code",
   "execution_count": 214,
   "metadata": {},
   "outputs": [],
   "source": [
    "def MrNet(M_infor,sel):  \n",
    "    \"\"\" Takes in the mutual information and sel a selection value and returns a\n",
    "        Matrix for MRNET inference \"\"\"\n",
    "    genes = M_infor.shape[0]\n",
    "    ranking = np.zeros(M_infor.shape)\n",
    "\n",
    "    for x in range(genes):\n",
    "        selection = [] \n",
    "        for i in range(sel):\n",
    "            obs = []\n",
    "            for j in range(genes):\n",
    "                if j == x or j in [i[0] for i in selection]:\n",
    "                    continue\n",
    "                jj = np.sum([M_infor[j, k] for k,_ in selection]) / len(selection) if len(selection) != 0 else 0\n",
    "                kj = M_infor[j, x] \n",
    "                lj = kj - jj\n",
    "                obs.append((j, lj))\n",
    "            best_choice = max(obs, key=lambda x:x[1]) \n",
    "            selection.append(best_choice)\n",
    "            ranking[x, best_choice[0]] = best_choice[1]\n",
    "    \n",
    "    for i in range(genes-1):\n",
    "        for j in range(i+1, genes):\n",
    "            ranking[i, j] = max(ranking[i, j], ranking[j, i])\n",
    "            ranking[j, i] = ranking[i, j]\n",
    "            \n",
    "    return ranking"
   ]
  },
  {
   "cell_type": "code",
   "execution_count": 215,
   "metadata": {},
   "outputs": [],
   "source": [
    "MRnetArray = MrNet(M_infor, M_infor.shape[0]-1)"
   ]
  },
  {
   "cell_type": "code",
   "execution_count": 216,
   "metadata": {},
   "outputs": [
    {
     "data": {
      "image/png": "[encoded data removed]",
      "text/plain": [
       "<Figure size 432x288 with 2 Axes>"
      ]
     },
     "metadata": {
      "needs_background": "light"
     },
     "output_type": "display_data"
    }
   ],
   "source": [
    "plt.imshow(MRnetArray,interpolation='None')\n",
    "plt.colorbar(fraction=0.046, pad=0.08)\n",
    "plt.title('Gene Mutual info between pairs (MRNET)');"
   ]
  },
  {
   "cell_type": "code",
   "execution_count": 217,
   "metadata": {},
   "outputs": [],
   "source": [
    "MrNet2=MrNet(M_infor2, M_infor2.shape[0]-1)"
   ]
  },
  {
   "cell_type": "code",
   "execution_count": 277,
   "metadata": {},
   "outputs": [
    {
     "data": {
      "image/png": "[encoded data removed]",
      "text/plain": [
       "<Figure size 432x288 with 2 Axes>"
      ]
     },
     "metadata": {
      "needs_background": "light"
     },
     "output_type": "display_data"
    }
   ],
   "source": [
    "plt.imshow(MrNet2,interpolation='None')\n",
    "plt.colorbar(fraction=0.046, pad=0.04)\n",
    "plt.title('Gene Mutual info between pairs (Adjusted) (MRNET)');"
   ]
  },
  {
   "cell_type": "code",
   "execution_count": null,
   "metadata": {},
   "outputs": [],
   "source": []
  }
 ],
 "metadata": {
  "kernelspec": {
   "display_name": "Python 3",
   "language": "python",
   "name": "python3"
  },
  "language_info": {
   "codemirror_mode": {
    "name": "ipython",
    "version": 3
   },
   "file_extension": ".py",
   "mimetype": "text/x-python",
   "name": "python",
   "nbconvert_exporter": "python",
   "pygments_lexer": "ipython3",
   "version": "3.8.5"
  }
 },
 "nbformat": 4,
 "nbformat_minor": 4
}
