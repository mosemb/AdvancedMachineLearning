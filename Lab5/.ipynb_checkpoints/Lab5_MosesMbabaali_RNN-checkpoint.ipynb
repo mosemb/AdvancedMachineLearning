{
 "cells": [
  {
   "cell_type": "markdown",
   "metadata": {
    "id": "9h-pNS_KaIbZ"
   },
   "source": [
    "# Lab 3: Deep Sequence Modeling\n",
    "# Name: Moses Mbabaali\n",
    "# Matricola: 4846019"
   ]
  },
  {
   "cell_type": "markdown",
   "metadata": {
    "id": "uUhXzbFAE3BM"
   },
   "source": [
    "The third lab session is about data that have a sequential structure that must be taken into account."
   ]
  },
  {
   "cell_type": "code",
   "execution_count": 1,
   "metadata": {
    "id": "4TNAZGt4aIbe"
   },
   "outputs": [],
   "source": [
    "from __future__ import print_function\n",
    "import tensorflow as tf\n",
    "import os, json, re\n",
    "import matplotlib.pyplot as plt\n",
    "import numpy as np\n",
    "from sklearn.model_selection import train_test_split\n",
    "from keras.preprocessing.text import Tokenizer\n",
    "from keras.preprocessing.sequence import pad_sequences\n",
    "import pandas as pd\n",
    "%matplotlib inline"
   ]
  },
  {
   "cell_type": "markdown",
   "metadata": {
    "id": "KnmA6CbEaIbv"
   },
   "source": [
    "# 3.1 Deal with sequential data\n",
    "<img src=\"https://drive.google.com/uc?id=1k6HwtWlMTkVJFuyBpeBGF2sApqxR-KRc\" width=\"600px\" align=\"right\"><br>\n",
    "In this lab we see Deep Learning models that can process sequential data (text, timeseries,..).<br>\n",
    "These models don’t take as input raw text: they only work with numeric tensors; **vectorizing** text is the process of transforming text into numeric tensors.<br><br><br>\n",
    "The different units into which you can break down text (words, characters) are called tokens; then if you apply a tokenization scheme, you associate numeric vectors with the generated tokens.<br>\n",
    "These vectors, packed into sequence tensors, are fed into Deep Neural Network.<br>\n",
    "There are multiple ways to associate a vector with a token: we will see One-Hot Encoding and Token Embedding.<br>\n",
    "In this section we are going to deal with:\n",
    "* 3.1.1 One-Hot Encoding\n",
    "* 3.1.2 Word embedding"
   ]
  },
  {
   "cell_type": "markdown",
   "metadata": {
    "id": "qhRTCGvGaIbz"
   },
   "source": [
    "## 3.1.1 One-Hot Encoding\n",
    "One-Hot Encoding consists of associating a unique integer index with every word and then turning this integer index $i$ into a binary vector of size $N$ (the size of the vocabulary); the vector is all zeros except for the $i$-th entry, which is 1.\n",
    "<img src=\"https://drive.google.com/uc?id=1OzK9t_WXQsaDuZoOTQSksLuNMubXm0gc\" width=\"400px\">"
   ]
  },
  {
   "cell_type": "markdown",
   "metadata": {
    "id": "u8hfjPNJaIb1"
   },
   "source": [
    "#### Try to perform an Encoding using Tokenizer\n",
    "Keras provides the Tokenizer class for preparing text documents for DL.<br>\n",
    "The Tokenizer must be constructed and then fit on either raw text documents or integer encoded text documents"
   ]
  },
  {
   "cell_type": "code",
   "execution_count": 2,
   "metadata": {
    "colab": {
     "base_uri": "https://localhost:8080/"
    },
    "id": "0EPyke25aIb3",
    "outputId": "f0e59de4-f5d2-4ad0-cf0a-6428a3b320f6"
   },
   "outputs": [
    {
     "name": "stdout",
     "output_type": "stream",
     "text": [
      "[[0. 0. 1. 1. 0. 0. 0. 0.]\n",
      " [0. 1. 0. 0. 1. 0. 0. 0.]\n",
      " [0. 0. 0. 0. 0. 1. 1. 0.]\n",
      " [0. 1. 0. 0. 0. 0. 0. 1.]]\n"
     ]
    }
   ],
   "source": [
    "# define 4 documents\n",
    "docs = ['Well done!','Good work','Great effort','nice work']\n",
    "\n",
    "# create the tokenizer\n",
    "tokenizer = Tokenizer()\n",
    "\n",
    "# fit the tokenizer on the documents\n",
    "tokenizer.fit_on_texts(docs)\n",
    "\n",
    "\n",
    "encoded_docs = tokenizer.texts_to_matrix(docs, mode='count')\n",
    "print(encoded_docs)"
   ]
  },
  {
   "cell_type": "markdown",
   "metadata": {
    "id": "eDycrywyaIb-"
   },
   "source": [
    "Some problems related to this kind of encoding are sparsity of the solution and the high dimensionality of the vector encoding of the tokens."
   ]
  },
  {
   "cell_type": "markdown",
   "metadata": {
    "id": "YHeXmpPfaIcB"
   },
   "source": [
    "## 3.1.2 Word embedding\n",
    "<img src=\"https://drive.google.com/uc?id=1YRcQ1_5n8Qay0GFoSLVrNcEKWeik5G3S\" width=\"400px\" align=\"right\"><br>\n",
    "The vector obtained from word embedding is dense and has lower dimensionality w.r.t One-Hot Encoding vector; the dimensionality of embedding space vector is an hyperparameter.<br>\n",
    "There are two ways to obtain word embeddings:<br>\n",
    "* May be learned jointly with the network\n",
    "* May use pre-trained word vectors (Word2Vec, GloVe,..)\n",
    "\n",
    "\n",
    "Word embeddings maps human language into a geometric space; in a reasonable embedding space synonyms are embedded into similar word vectors and the geometric distance between any two word vectors reflects the semantic distance between the associated words (words meaning different things are embedded at points far away from each other, whereas related words are closer).<br>\n",
    "How good is a word-embedding space depends on the specific task.<br>\n",
    "It is reasonable to learn a new embedding space with every new task: with backpropagation and Keras it reduces to learn the weights of the Embedding layer."
   ]
  },
  {
   "cell_type": "markdown",
   "metadata": {
    "id": "GFHFL8wSaIcF"
   },
   "source": [
    "### Learning Word Embeddings with the embedding layer\n",
    "#### Load imdb dataset\n",
    "This dataset contains movies reviews from IMDB, labeled by sentiment(positive/negative); reviews have been preprocessed, and each review is encoded as a sequence of word indexes(integers).<br>\n",
    "https://keras.io/datasets/#imdb-movie-reviews-sentiment-classification"
   ]
  },
  {
   "cell_type": "code",
   "execution_count": 3,
   "metadata": {
    "colab": {
     "base_uri": "https://localhost:8080/"
    },
    "id": "KvElh7GME3BQ",
    "outputId": "664957bb-fb60-46a5-c162-8d51872a24ce"
   },
   "outputs": [
    {
     "name": "stderr",
     "output_type": "stream",
     "text": [
      "<string>:6: VisibleDeprecationWarning: Creating an ndarray from ragged nested sequences (which is a list-or-tuple of lists-or-tuples-or ndarrays with different lengths or shapes) is deprecated. If you meant to do this, you must specify 'dtype=object' when creating the ndarray\n",
      "/usr/local/lib/python3.7/dist-packages/tensorflow/python/keras/datasets/imdb.py:159: VisibleDeprecationWarning: Creating an ndarray from ragged nested sequences (which is a list-or-tuple of lists-or-tuples-or ndarrays with different lengths or shapes) is deprecated. If you meant to do this, you must specify 'dtype=object' when creating the ndarray\n",
      "  x_train, y_train = np.array(xs[:idx]), np.array(labels[:idx])\n",
      "/usr/local/lib/python3.7/dist-packages/tensorflow/python/keras/datasets/imdb.py:160: VisibleDeprecationWarning: Creating an ndarray from ragged nested sequences (which is a list-or-tuple of lists-or-tuples-or ndarrays with different lengths or shapes) is deprecated. If you meant to do this, you must specify 'dtype=object' when creating the ndarray\n",
      "  x_test, y_test = np.array(xs[idx:]), np.array(labels[idx:])\n"
     ]
    }
   ],
   "source": [
    "max_features = 10000\n",
    "maxlen = 50\n",
    "\n",
    "imdb = tf.keras.datasets.imdb\n",
    "(x_train, y_train), (x_test, y_test) = imdb.load_data(num_words=max_features)\n",
    "\n",
    "x_train = tf.keras.preprocessing.sequence.pad_sequences(x_train, maxlen=maxlen)\n",
    "x_test = tf.keras.preprocessing.sequence.pad_sequences(x_test, maxlen=maxlen)"
   ]
  },
  {
   "cell_type": "markdown",
   "metadata": {
    "id": "a5muY3QYaIcK"
   },
   "source": [
    "#### Show the size of vocabulary and the most frequent words"
   ]
  },
  {
   "cell_type": "code",
   "execution_count": 4,
   "metadata": {
    "colab": {
     "base_uri": "https://localhost:8080/"
    },
    "id": "JXB3wghhaIcL",
    "outputId": "bb5eca8e-08d0-4357-83ba-d3edea3e9782"
   },
   "outputs": [
    {
     "name": "stdout",
     "output_type": "stream",
     "text": [
      "Vocab size :  88584\n",
      "50 most common words: \n",
      "\n",
      "[('the', 1), ('and', 2), ('a', 3), ('of', 4), ('to', 5), ('is', 6), ('br', 7), ('in', 8), ('it', 9), ('i', 10), ('this', 11), ('that', 12), ('was', 13), ('as', 14), ('for', 15), ('with', 16), ('movie', 17), ('but', 18), ('film', 19), ('on', 20), ('not', 21), ('you', 22), ('are', 23), ('his', 24), ('have', 25), ('he', 26), ('be', 27), ('one', 28), ('all', 29), ('at', 30), ('by', 31), ('an', 32), ('they', 33), ('who', 34), ('so', 35), ('from', 36), ('like', 37), ('her', 38), ('or', 39), ('just', 40), ('about', 41), (\"it's\", 42), ('out', 43), ('has', 44), ('if', 45), ('some', 46), ('there', 47), ('what', 48), ('good', 49), ('more', 50)]\n"
     ]
    }
   ],
   "source": [
    "word_to_index = imdb.get_word_index()\n",
    "\n",
    "vocab_size = len(word_to_index)\n",
    "print('Vocab size : ', vocab_size)\n",
    "\n",
    "\n",
    "words_freq_list = words_freq_list = []\n",
    "[]\n",
    "\n",
    "for (k,v) in imdb.get_word_index().items():\n",
    "    words_freq_list.append((k,v))\n",
    "\n",
    "sorted_list = sorted(words_freq_list, key=lambda x: x[1])\n",
    "\n",
    "print(\"50 most common words: \\n\")\n",
    "print(sorted_list[0:50])"
   ]
  },
  {
   "cell_type": "code",
   "execution_count": 4,
   "metadata": {
    "id": "dzEvNk7mL1g7"
   },
   "outputs": [],
   "source": []
  },
  {
   "cell_type": "markdown",
   "metadata": {
    "id": "jXjwll2WaIda"
   },
   "source": [
    "# 3.2 Recurrent Neural Network\n",
    "Here https://colah.github.io/posts/2015-08-Understanding-LSTMs/ you can find a clear explanation about RNNs and LSTMs; the following is a summary of the main concepts.\n",
    "\n",
    "\n",
    "A major characteristic of some neural networks, as ConvNet, is that they have no memory: each input is processed independently, with no state kept in between inputs. Biological intelligence processes information incrementally while maintaining an internal model of what it’s processing, built from past information and constantly updated as new information comes in.<br>\n",
    "A recurrent neural network (RNN) adopts the same principle but in an extremely simplified version: it processes sequences by iterating through the sequence elements and maintaining a state containing information relative to what it has seen so far.\n",
    "\n",
    "<img src=\"https://drive.google.com/uc?id=1RaDXXygc0HJv6YyIAjU4_Nbw1bXzAhAJ\" width=\"650px\"><br>\n",
    "\n",
    "\n",
    "\n",
    "\n",
    "Each input $x_{i=t-1, t, t+1, ..}$ is combined with the internal state and then is applied an activation function (e.g. $tanh$); then the output is computed $h_{i=t-1, t, t+1, ..}$ and the internal state is updated.<br>\n",
    "In many cases, you just need the last output ($h_{i=last t}$ at the end of the loop), because it already contains information\n",
    "about the entire sequence.\n",
    "<img src=\"https://drive.google.com/uc?id=1RtulDLKQnzZTSbBsD2n7TIlRVEaESB8o\" width=\"550px\">\n"
   ]
  },
  {
   "cell_type": "markdown",
   "metadata": {
    "id": "vL10YVWTaIdi"
   },
   "source": [
    "#### Create the model\n",
    "In the following sections we will develop different models. Be careful to the fact that we are dealing with a binary classification problem!"
   ]
  },
  {
   "cell_type": "code",
   "execution_count": 5,
   "metadata": {
    "colab": {
     "base_uri": "https://localhost:8080/"
    },
    "id": "3PCby93EaIdi",
    "outputId": "c0ce784a-b69a-4813-f5c4-f6b92ce975c8"
   },
   "outputs": [
    {
     "name": "stdout",
     "output_type": "stream",
     "text": [
      "Model: \"sequential\"\n",
      "_________________________________________________________________\n",
      "Layer (type)                 Output Shape              Param #   \n",
      "=================================================================\n",
      "layer1 (Embedding)           (None, None, 16)          160000    \n",
      "_________________________________________________________________\n",
      "layer2 (SimpleRNN)           (None, 16)                528       \n",
      "_________________________________________________________________\n",
      "layer3 (Dense)               (None, 1)                 17        \n",
      "=================================================================\n",
      "Total params: 160,545\n",
      "Trainable params: 160,545\n",
      "Non-trainable params: 0\n",
      "_________________________________________________________________\n"
     ]
    }
   ],
   "source": [
    "from tensorflow.keras import layers\n",
    "model = tf.keras.Sequential()\n",
    "model.add(tf.keras.layers.Embedding(max_features, 16, name = 'layer1')) \n",
    "\n",
    "# Complete the model, it should be made by at least:\n",
    "# 1 SimpleRNN layer\n",
    "model.add(layers.SimpleRNN(16, name='layer2'))  \n",
    "# 1 Dense layer\n",
    "model.add(layers.Dense(1, activation='sigmoid', name = 'layer3'))\n",
    "\n",
    "model.compile(optimizer='rmsprop', loss='binary_crossentropy',metrics=['acc'])\n",
    "\n",
    "model.summary()"
   ]
  },
  {
   "cell_type": "markdown",
   "metadata": {
    "id": "4JTBSi5TaIdp"
   },
   "source": [
    "#### Train the model"
   ]
  },
  {
   "cell_type": "code",
   "execution_count": 6,
   "metadata": {
    "colab": {
     "base_uri": "https://localhost:8080/"
    },
    "id": "DamvGVOpaIdq",
    "outputId": "3509bc7b-fd78-4a6c-f7aa-0abe2fdb63bc"
   },
   "outputs": [
    {
     "name": "stdout",
     "output_type": "stream",
     "text": [
      "Epoch 1/20\n",
      "183/183 [==============================] - 4s 17ms/step - loss: 0.6863 - acc: 0.5457 - val_loss: 0.6611 - val_acc: 0.6195\n",
      "Epoch 2/20\n",
      "183/183 [==============================] - 3s 14ms/step - loss: 0.4793 - acc: 0.7790 - val_loss: 0.4637 - val_acc: 0.7869\n",
      "Epoch 3/20\n",
      "183/183 [==============================] - 3s 14ms/step - loss: 0.3549 - acc: 0.8502 - val_loss: 0.4741 - val_acc: 0.7729\n",
      "Epoch 4/20\n",
      "183/183 [==============================] - 3s 14ms/step - loss: 0.2890 - acc: 0.8856 - val_loss: 0.4440 - val_acc: 0.8055\n",
      "Epoch 5/20\n",
      "183/183 [==============================] - 3s 14ms/step - loss: 0.2294 - acc: 0.9141 - val_loss: 0.4815 - val_acc: 0.7928\n",
      "Epoch 6/20\n",
      "183/183 [==============================] - 3s 14ms/step - loss: 0.1790 - acc: 0.9377 - val_loss: 0.5273 - val_acc: 0.7952\n",
      "Epoch 7/20\n",
      "183/183 [==============================] - 3s 14ms/step - loss: 0.1423 - acc: 0.9526 - val_loss: 0.5750 - val_acc: 0.7821\n",
      "Epoch 8/20\n",
      "183/183 [==============================] - 3s 14ms/step - loss: 0.1070 - acc: 0.9663 - val_loss: 0.6652 - val_acc: 0.7339\n",
      "Epoch 9/20\n",
      "183/183 [==============================] - 3s 14ms/step - loss: 0.0783 - acc: 0.9778 - val_loss: 0.6348 - val_acc: 0.7801\n",
      "Epoch 10/20\n",
      "183/183 [==============================] - 3s 14ms/step - loss: 0.0584 - acc: 0.9843 - val_loss: 0.7024 - val_acc: 0.7716\n",
      "Epoch 11/20\n",
      "183/183 [==============================] - 3s 14ms/step - loss: 0.0425 - acc: 0.9886 - val_loss: 0.7664 - val_acc: 0.7760\n",
      "Epoch 12/20\n",
      "183/183 [==============================] - 3s 14ms/step - loss: 0.0281 - acc: 0.9933 - val_loss: 0.8470 - val_acc: 0.7463\n",
      "Epoch 13/20\n",
      "183/183 [==============================] - 3s 14ms/step - loss: 0.0210 - acc: 0.9952 - val_loss: 0.8752 - val_acc: 0.7589\n",
      "Epoch 14/20\n",
      "183/183 [==============================] - 3s 14ms/step - loss: 0.0141 - acc: 0.9963 - val_loss: 0.9343 - val_acc: 0.7569\n",
      "Epoch 15/20\n",
      "183/183 [==============================] - 3s 14ms/step - loss: 0.0099 - acc: 0.9978 - val_loss: 0.9861 - val_acc: 0.7579\n",
      "Epoch 16/20\n",
      "183/183 [==============================] - 3s 14ms/step - loss: 0.0076 - acc: 0.9982 - val_loss: 1.0357 - val_acc: 0.7541\n",
      "Epoch 17/20\n",
      "183/183 [==============================] - 3s 14ms/step - loss: 0.0048 - acc: 0.9991 - val_loss: 1.0779 - val_acc: 0.7648\n",
      "Epoch 18/20\n",
      "183/183 [==============================] - 3s 14ms/step - loss: 0.0036 - acc: 0.9993 - val_loss: 1.1277 - val_acc: 0.7632\n",
      "Epoch 19/20\n",
      "183/183 [==============================] - 3s 14ms/step - loss: 0.0026 - acc: 0.9995 - val_loss: 1.1968 - val_acc: 0.7591\n",
      "Epoch 20/20\n",
      "183/183 [==============================] - 3s 14ms/step - loss: 0.0028 - acc: 0.9995 - val_loss: 1.2037 - val_acc: 0.7389\n"
     ]
    }
   ],
   "source": [
    "# Train your model here\n",
    "x_train, x_val, y_train, y_val = train_test_split(x_train, y_train, test_size=0.3, random_state=42)\n",
    "history = model.fit(x_train, y_train, epochs=20, batch_size=96, validation_data=(x_val,y_val))"
   ]
  },
  {
   "cell_type": "code",
   "execution_count": 7,
   "metadata": {
    "id": "H5vtqdoL8gQl"
   },
   "outputs": [],
   "source": [
    "def plot_history(history):\n",
    "    # Plot training & validation accuracy values\n",
    "    plt.plot(history.history['acc'])\n",
    "    plt.plot(history.history['val_acc'])\n",
    "    plt.title('Model accuracy')\n",
    "    plt.ylabel('Accuracy')\n",
    "    plt.xlabel('Epoch')\n",
    "    plt.legend(['Train', 'Val'], loc='upper left')\n",
    "    plt.show()\n",
    "\n",
    "    # Plot training & validation loss values\n",
    "    plt.plot(history.history['loss'])\n",
    "    plt.plot(history.history['val_loss'])\n",
    "    plt.title('Model loss')\n",
    "    plt.ylabel('Loss')\n",
    "    plt.xlabel('Epoch')\n",
    "    plt.legend(['Train', 'Val'], loc='upper left')\n",
    "    plt.show()"
   ]
  },
  {
   "cell_type": "code",
   "execution_count": 8,
   "metadata": {
    "colab": {
     "base_uri": "https://localhost:8080/",
     "height": 573
    },
    "id": "pt-M_A7OaIds",
    "outputId": "1e00bdc9-e5a4-4cb6-e0f4-f31e0a4d3554"
   },
   "outputs": [
    {
     "data": {
      "image/png": "[encoded data removed]",
      "text/plain": [
       "<Figure size 432x288 with 1 Axes>"
      ]
     },
     "metadata": {
      "needs_background": "light",
      "tags": []
     },
     "output_type": "display_data"
    },
    {
     "data": {
      "image/png": "[encoded data removed]",
      "text/plain": [
       "<Figure size 432x288 with 1 Axes>"
      ]
     },
     "metadata": {
      "needs_background": "light",
      "tags": []
     },
     "output_type": "display_data"
    }
   ],
   "source": [
    "plot_history(history)"
   ]
  },
  {
   "cell_type": "markdown",
   "metadata": {
    "id": "7pZ5tcAjaIdx"
   },
   "source": [
    "#### Evaluate the model"
   ]
  },
  {
   "cell_type": "code",
   "execution_count": 9,
   "metadata": {
    "colab": {
     "base_uri": "https://localhost:8080/"
    },
    "id": "aDbsgw_5aIdy",
    "outputId": "759e6492-dfc3-4320-8bd1-767d81c7e847"
   },
   "outputs": [
    {
     "name": "stdout",
     "output_type": "stream",
     "text": [
      "782/782 [==============================] - 2s 3ms/step - loss: 1.2275 - acc: 0.7312\n",
      "Test accuracy: 0.731, Test loss: 1.227\n"
     ]
    }
   ],
   "source": [
    "test_loss, test_acc = model.evaluate(x_test, y_test, verbose=1)\n",
    "print('Test accuracy: %.3f, Test loss: %.3f' % (test_acc,test_loss))"
   ]
  },
  {
   "cell_type": "code",
   "execution_count": 10,
   "metadata": {
    "colab": {
     "base_uri": "https://localhost:8080/"
    },
    "id": "nvl-c3zT-4Iz",
    "outputId": "06ada321-aa40-4255-e32a-566681574466"
   },
   "outputs": [
    {
     "name": "stdout",
     "output_type": "stream",
     "text": [
      "547/547 [==============================] - 2s 3ms/step - loss: 0.0011 - acc: 0.9998\n",
      "Train accuracy: 1.000, Train loss: 0.001\n"
     ]
    }
   ],
   "source": [
    "train_loss, train_acc = model.evaluate(x_train, y_train, verbose=1)\n",
    "print('Train accuracy: %.3f, Train loss: %.3f' % (train_acc,train_loss))\n",
    "# I suspect overfitting in the model because it does so well on the training set and yet it is struggling on the testing set. "
   ]
  },
  {
   "cell_type": "code",
   "execution_count": 10,
   "metadata": {
    "id": "Y5UDJs7HiXcL"
   },
   "outputs": [],
   "source": []
  },
  {
   "cell_type": "markdown",
   "metadata": {
    "id": "is6FCRVRaId0"
   },
   "source": [
    "#### Try to build a new model where you stack several recurrent layers.\n",
    "In such a setup, you have to get all of the intermediate layers to return full sequence of outputs. This is needed to return batch size, timesteps, hidden state. By doing this the output should contain all historical generated outputs along with time stamps (3D). This way the next layer can work further on the data."
   ]
  },
  {
   "cell_type": "code",
   "execution_count": 11,
   "metadata": {
    "colab": {
     "base_uri": "https://localhost:8080/"
    },
    "id": "eExHNhMraId1",
    "outputId": "aa481615-01c0-4ae3-f77a-f21b2f5701b7"
   },
   "outputs": [
    {
     "name": "stdout",
     "output_type": "stream",
     "text": [
      "Model: \"sequential_1\"\n",
      "_________________________________________________________________\n",
      "Layer (type)                 Output Shape              Param #   \n",
      "=================================================================\n",
      "layer1 (Embedding)           (None, None, 32)          320000    \n",
      "_________________________________________________________________\n",
      "layer2 (SimpleRNN)           (None, None, 32)          2080      \n",
      "_________________________________________________________________\n",
      "layer3 (SimpleRNN)           (None, 16)                784       \n",
      "_________________________________________________________________\n",
      "layer4 (Dense)               (None, 1)                 17        \n",
      "=================================================================\n",
      "Total params: 322,881\n",
      "Trainable params: 322,881\n",
      "Non-trainable params: 0\n",
      "_________________________________________________________________\n"
     ]
    }
   ],
   "source": [
    "# Build the model. It should be made by at least:\n",
    "model = tf.keras.Sequential()\n",
    "# 1 Embedding layer\n",
    "model.add(tf.keras.layers.Embedding(max_features, 32, name= 'layer1'))\n",
    "# More than 1 SimpleRNN layer, do not forget to put the return_sequences parameter to True \n",
    "model.add(layers.SimpleRNN(32, return_sequences=True, name = 'layer2'))\n",
    "model.add(layers.SimpleRNN(16, name = 'layer3')) \n",
    "# 1 Dense layer\n",
    "model.add(layers.Dense(1, activation='sigmoid', name = 'layer4'))\n",
    "\n",
    "\n",
    "model.summary()\n",
    "\n",
    "model.compile(optimizer='adam', loss='binary_crossentropy', metrics=['acc'])"
   ]
  },
  {
   "cell_type": "markdown",
   "metadata": {
    "id": "xJlV5HynaId_"
   },
   "source": [
    "#### Train the model"
   ]
  },
  {
   "cell_type": "code",
   "execution_count": 12,
   "metadata": {
    "colab": {
     "base_uri": "https://localhost:8080/"
    },
    "id": "rWm__m8RaIeC",
    "outputId": "b6f5e87e-ef5f-4657-aebc-327c122ddeec"
   },
   "outputs": [
    {
     "name": "stdout",
     "output_type": "stream",
     "text": [
      "Epoch 1/20\n",
      "128/128 [==============================] - 6s 34ms/step - loss: 0.6829 - acc: 0.5394 - val_loss: 0.4812 - val_acc: 0.7741\n",
      "Epoch 2/20\n",
      "128/128 [==============================] - 4s 30ms/step - loss: 0.3588 - acc: 0.8495 - val_loss: 0.4568 - val_acc: 0.7909\n",
      "Epoch 3/20\n",
      "128/128 [==============================] - 4s 30ms/step - loss: 0.1559 - acc: 0.9470 - val_loss: 0.5923 - val_acc: 0.7817\n",
      "Epoch 4/20\n",
      "128/128 [==============================] - 4s 31ms/step - loss: 0.0462 - acc: 0.9909 - val_loss: 0.6933 - val_acc: 0.7537\n",
      "Epoch 5/20\n",
      "128/128 [==============================] - 4s 31ms/step - loss: 0.0168 - acc: 0.9970 - val_loss: 0.8405 - val_acc: 0.7611\n",
      "Epoch 6/20\n",
      "128/128 [==============================] - 4s 30ms/step - loss: 0.0051 - acc: 0.9994 - val_loss: 0.9038 - val_acc: 0.7655\n",
      "Epoch 7/20\n",
      "128/128 [==============================] - 4s 30ms/step - loss: 0.0026 - acc: 0.9999 - val_loss: 0.9857 - val_acc: 0.7669\n",
      "Epoch 8/20\n",
      "128/128 [==============================] - 4s 31ms/step - loss: 0.0019 - acc: 0.9998 - val_loss: 1.0859 - val_acc: 0.7735\n",
      "Epoch 9/20\n",
      "128/128 [==============================] - 4s 30ms/step - loss: 0.0047 - acc: 0.9990 - val_loss: 1.0468 - val_acc: 0.7749\n",
      "Epoch 10/20\n",
      "128/128 [==============================] - 4s 30ms/step - loss: 0.0014 - acc: 1.0000 - val_loss: 1.0894 - val_acc: 0.7737\n",
      "Epoch 11/20\n",
      "128/128 [==============================] - 4s 30ms/step - loss: 8.4115e-04 - acc: 1.0000 - val_loss: 1.1303 - val_acc: 0.7709\n",
      "Epoch 12/20\n",
      "128/128 [==============================] - 4s 31ms/step - loss: 5.0543e-04 - acc: 1.0000 - val_loss: 1.1672 - val_acc: 0.7716\n",
      "Epoch 13/20\n",
      "128/128 [==============================] - 4s 30ms/step - loss: 4.1313e-04 - acc: 1.0000 - val_loss: 1.2021 - val_acc: 0.7730\n",
      "Epoch 14/20\n",
      "128/128 [==============================] - 4s 31ms/step - loss: 3.5546e-04 - acc: 1.0000 - val_loss: 1.2281 - val_acc: 0.7733\n",
      "Epoch 15/20\n",
      "128/128 [==============================] - 4s 31ms/step - loss: 3.0510e-04 - acc: 1.0000 - val_loss: 1.2536 - val_acc: 0.7731\n",
      "Epoch 16/20\n",
      "128/128 [==============================] - 4s 31ms/step - loss: 2.7282e-04 - acc: 1.0000 - val_loss: 1.2743 - val_acc: 0.7726\n",
      "Epoch 17/20\n",
      "128/128 [==============================] - 4s 31ms/step - loss: 2.4018e-04 - acc: 1.0000 - val_loss: 1.3006 - val_acc: 0.7724\n",
      "Epoch 18/20\n",
      "128/128 [==============================] - 4s 31ms/step - loss: 2.1499e-04 - acc: 1.0000 - val_loss: 1.3233 - val_acc: 0.7716\n",
      "Epoch 19/20\n",
      "128/128 [==============================] - 4s 30ms/step - loss: 1.9096e-04 - acc: 1.0000 - val_loss: 1.3417 - val_acc: 0.7712\n",
      "Epoch 20/20\n",
      "128/128 [==============================] - 4s 30ms/step - loss: 1.7358e-04 - acc: 1.0000 - val_loss: 1.3639 - val_acc: 0.7718\n"
     ]
    }
   ],
   "source": [
    "# Train your model here\n",
    "x_train, x_val, y_train, y_val = train_test_split(x_train, y_train, test_size=0.3, random_state=42)\n",
    "history = model.fit(x_train, y_train, epochs=20, batch_size=96, validation_data=(x_val,y_val))"
   ]
  },
  {
   "cell_type": "code",
   "execution_count": 13,
   "metadata": {
    "colab": {
     "base_uri": "https://localhost:8080/",
     "height": 573
    },
    "id": "SNdh2-0haIeI",
    "outputId": "a25040b3-5841-4daa-b169-7ef8ae17b7a6"
   },
   "outputs": [
    {
     "data": {
      "image/png": "[encoded data removed]",
      "text/plain": [
       "<Figure size 432x288 with 1 Axes>"
      ]
     },
     "metadata": {
      "needs_background": "light",
      "tags": []
     },
     "output_type": "display_data"
    },
    {
     "data": {
      "image/png": "[encoded data removed]",
      "text/plain": [
       "<Figure size 432x288 with 1 Axes>"
      ]
     },
     "metadata": {
      "needs_background": "light",
      "tags": []
     },
     "output_type": "display_data"
    }
   ],
   "source": [
    "plot_history(history)"
   ]
  },
  {
   "cell_type": "markdown",
   "metadata": {
    "id": "AEdVU-XYaIeL"
   },
   "source": [
    "#### Evaluate the model"
   ]
  },
  {
   "cell_type": "code",
   "execution_count": 14,
   "metadata": {
    "colab": {
     "base_uri": "https://localhost:8080/"
    },
    "id": "RNerI-XraIeM",
    "outputId": "2fc1aac4-3aa6-44be-ceb8-c13bc3a2dae9"
   },
   "outputs": [
    {
     "name": "stdout",
     "output_type": "stream",
     "text": [
      "782/782 [==============================] - 4s 6ms/step - loss: 1.4004 - acc: 0.7669\n",
      "Test accuracy: 0.767, Test loss: 1.400\n"
     ]
    }
   ],
   "source": [
    "test_loss, test_acc = model.evaluate(x_test, y_test, verbose=1)\n",
    "print('Test accuracy: %.3f, Test loss: %.3f' % (test_acc,test_loss))"
   ]
  },
  {
   "cell_type": "markdown",
   "metadata": {
    "id": "r8rKKlLhE3BU"
   },
   "source": [
    "**What can you say about the obtained results? What about the comparison between these results and the ones obtained in the single layer RNN?**\n",
    "\n",
    "- The training accuracy is very high compared to the validation accuracy. Which is expected due to the fact that the model has seen the data and memorised it hence it will have high training accuracy.\n",
    "- On the other hand the validation loss for the models is pretty high and as it increases the training loss decreases, for both training and validation. \n",
    "- The results obtained from the single layer appear to be overfitting the data because the training error is so low and the yet the validation error is so high. As the training error decreases the validation error increases. \n",
    "- Both models seem to have the accuracy of 73% and 76% repectively for single layer and multiple layer respectively. "
   ]
  },
  {
   "cell_type": "markdown",
   "metadata": {
    "id": "XdJA3ttvaIeP"
   },
   "source": [
    "# 3.3 LSTM Network\n",
    "LSTMs are a special kind of recurrent neural network which works, for many tasks, much better than the standard RNNs.<br>\n",
    "These nets are capable of learning long-term dependencies (they are explicitly designed to avoid the long-term dependency problem); remembering information for long periods of time is practically their default behavior.<br><br>\n",
    "\n",
    "<img src=\"https://drive.google.com/uc?id=1CQ0RkQrnIkr1dFqSU1qHfPh5sJe_A6pQ\" width=\"650px\"><br>\n",
    "\n",
    "RNNs have a very simple structure, such as a single $tanh$ layer.<br>\n",
    "LSTMs also have a chain like structure, but the repeating module has a different structure: instead of having a single neural network layer, there are four, interacting in a very special way"
   ]
  },
  {
   "cell_type": "code",
   "execution_count": 15,
   "metadata": {
    "id": "UHHK5rjIq0-x"
   },
   "outputs": [],
   "source": [
    "from tensorflow.keras.callbacks import ModelCheckpoint, EarlyStopping\n",
    "import os\n",
    "# early stopping https://keras.io/callbacks/\n",
    "es_callback = EarlyStopping(monitor='val_loss', mode='min', verbose=1, patience=5)\n",
    "\n",
    "# Create checkpoint callback that will save the best model observed during training for later use\n",
    "checkpoint_path = \"output/cp.ckpt\"\n",
    "checkpoint_dir = os.path.dirname(checkpoint_path)\n",
    "cp_callback = ModelCheckpoint(checkpoint_path,monitor='val_loss',save_weights_only=True,verbose=1)"
   ]
  },
  {
   "cell_type": "markdown",
   "metadata": {
    "id": "x0KJgSymaIeR"
   },
   "source": [
    "#### Create LSTM model in TensorFlow"
   ]
  },
  {
   "cell_type": "code",
   "execution_count": 16,
   "metadata": {
    "colab": {
     "base_uri": "https://localhost:8080/"
    },
    "id": "d15KAMKpaIeR",
    "outputId": "a3797a53-114f-4d26-8053-3160801e480d"
   },
   "outputs": [
    {
     "name": "stdout",
     "output_type": "stream",
     "text": [
      "Model: \"sequential_2\"\n",
      "_________________________________________________________________\n",
      "Layer (type)                 Output Shape              Param #   \n",
      "=================================================================\n",
      "layer1 (Embedding)           (None, None, 16)          160000    \n",
      "_________________________________________________________________\n",
      "layer2 (LSTM)                (None, 16)                2112      \n",
      "_________________________________________________________________\n",
      "layer3 (Dense)               (None, 1)                 17        \n",
      "=================================================================\n",
      "Total params: 162,129\n",
      "Trainable params: 162,129\n",
      "Non-trainable params: 0\n",
      "_________________________________________________________________\n"
     ]
    }
   ],
   "source": [
    "\n",
    "# Build the model. It should be made by at least:\n",
    "model = tf.keras.Sequential()\n",
    "# 1 Embedding layer\n",
    "model.add(tf.keras.layers.Embedding(max_features, 16, name = \"layer1\")) \n",
    "# 1 LSTM layer\n",
    "model.add(layers.LSTM(16, name=\"layer2\")) \n",
    "# 1 Dense layer callbacks=cp_callback\n",
    "model.add(layers.Dense(1, activation='sigmoid', name=\"layer3\"))\n",
    "\n",
    "\n",
    "model.compile(optimizer='rmsprop', loss='binary_crossentropy',metrics=['acc'])\n",
    "\n",
    "model.summary()"
   ]
  },
  {
   "cell_type": "markdown",
   "metadata": {
    "id": "JPz5KvjAaIeV"
   },
   "source": [
    "#### Train the model"
   ]
  },
  {
   "cell_type": "code",
   "execution_count": 17,
   "metadata": {
    "colab": {
     "base_uri": "https://localhost:8080/"
    },
    "id": "u6QTdfzZaIeW",
    "outputId": "9e0cb274-b098-4163-813f-c50da00607d6"
   },
   "outputs": [
    {
     "name": "stdout",
     "output_type": "stream",
     "text": [
      "Epoch 1/20\n",
      "128/128 [==============================] - 6s 31ms/step - loss: 0.6682 - acc: 0.5894 - val_loss: 0.5267 - val_acc: 0.7541\n",
      "\n",
      "Epoch 00001: saving model to output/cp.ckpt\n",
      "Epoch 2/20\n",
      "128/128 [==============================] - 3s 27ms/step - loss: 0.4600 - acc: 0.8010 - val_loss: 0.4421 - val_acc: 0.7937\n",
      "\n",
      "Epoch 00002: saving model to output/cp.ckpt\n",
      "Epoch 3/20\n",
      "128/128 [==============================] - 4s 28ms/step - loss: 0.3459 - acc: 0.8546 - val_loss: 0.4335 - val_acc: 0.8004\n",
      "\n",
      "Epoch 00003: saving model to output/cp.ckpt\n",
      "Epoch 4/20\n",
      "128/128 [==============================] - 4s 28ms/step - loss: 0.2787 - acc: 0.8889 - val_loss: 0.4444 - val_acc: 0.8017\n",
      "\n",
      "Epoch 00004: saving model to output/cp.ckpt\n",
      "Epoch 5/20\n",
      "128/128 [==============================] - 4s 28ms/step - loss: 0.2399 - acc: 0.9056 - val_loss: 0.4793 - val_acc: 0.7985\n",
      "\n",
      "Epoch 00005: saving model to output/cp.ckpt\n",
      "Epoch 6/20\n",
      "128/128 [==============================] - 4s 28ms/step - loss: 0.2178 - acc: 0.9164 - val_loss: 0.4787 - val_acc: 0.7931\n",
      "\n",
      "Epoch 00006: saving model to output/cp.ckpt\n",
      "Epoch 7/20\n",
      "128/128 [==============================] - 4s 28ms/step - loss: 0.1947 - acc: 0.9274 - val_loss: 0.5074 - val_acc: 0.7931\n",
      "\n",
      "Epoch 00007: saving model to output/cp.ckpt\n",
      "Epoch 8/20\n",
      "128/128 [==============================] - 4s 28ms/step - loss: 0.1798 - acc: 0.9337 - val_loss: 0.6134 - val_acc: 0.7859\n",
      "\n",
      "Epoch 00008: saving model to output/cp.ckpt\n",
      "Epoch 9/20\n",
      "128/128 [==============================] - 4s 27ms/step - loss: 0.1513 - acc: 0.9456 - val_loss: 0.5443 - val_acc: 0.7901\n",
      "\n",
      "Epoch 00009: saving model to output/cp.ckpt\n",
      "Epoch 10/20\n",
      "128/128 [==============================] - 4s 28ms/step - loss: 0.1382 - acc: 0.9496 - val_loss: 0.5903 - val_acc: 0.7817\n",
      "\n",
      "Epoch 00010: saving model to output/cp.ckpt\n",
      "Epoch 11/20\n",
      "128/128 [==============================] - 4s 28ms/step - loss: 0.1235 - acc: 0.9552 - val_loss: 0.7145 - val_acc: 0.7747\n",
      "\n",
      "Epoch 00011: saving model to output/cp.ckpt\n",
      "Epoch 12/20\n",
      "128/128 [==============================] - 4s 27ms/step - loss: 0.1242 - acc: 0.9559 - val_loss: 0.7263 - val_acc: 0.7661\n",
      "\n",
      "Epoch 00012: saving model to output/cp.ckpt\n",
      "Epoch 13/20\n",
      "128/128 [==============================] - 4s 27ms/step - loss: 0.1135 - acc: 0.9591 - val_loss: 0.6553 - val_acc: 0.7783\n",
      "\n",
      "Epoch 00013: saving model to output/cp.ckpt\n",
      "Epoch 14/20\n",
      "128/128 [==============================] - 4s 28ms/step - loss: 0.0981 - acc: 0.9667 - val_loss: 0.6967 - val_acc: 0.7760\n",
      "\n",
      "Epoch 00014: saving model to output/cp.ckpt\n",
      "Epoch 15/20\n",
      "128/128 [==============================] - 4s 28ms/step - loss: 0.0923 - acc: 0.9673 - val_loss: 0.7288 - val_acc: 0.7764\n",
      "\n",
      "Epoch 00015: saving model to output/cp.ckpt\n",
      "Epoch 16/20\n",
      "128/128 [==============================] - 3s 27ms/step - loss: 0.0822 - acc: 0.9730 - val_loss: 0.9757 - val_acc: 0.7552\n",
      "\n",
      "Epoch 00016: saving model to output/cp.ckpt\n",
      "Epoch 17/20\n",
      "128/128 [==============================] - 4s 28ms/step - loss: 0.0787 - acc: 0.9723 - val_loss: 0.8576 - val_acc: 0.7650\n",
      "\n",
      "Epoch 00017: saving model to output/cp.ckpt\n",
      "Epoch 18/20\n",
      "128/128 [==============================] - 4s 28ms/step - loss: 0.0719 - acc: 0.9771 - val_loss: 0.8831 - val_acc: 0.7621\n",
      "\n",
      "Epoch 00018: saving model to output/cp.ckpt\n",
      "Epoch 19/20\n",
      "128/128 [==============================] - 4s 28ms/step - loss: 0.0711 - acc: 0.9747 - val_loss: 0.9242 - val_acc: 0.7632\n",
      "\n",
      "Epoch 00019: saving model to output/cp.ckpt\n",
      "Epoch 20/20\n",
      "128/128 [==============================] - 4s 28ms/step - loss: 0.0591 - acc: 0.9785 - val_loss: 0.9738 - val_acc: 0.7619\n",
      "\n",
      "Epoch 00020: saving model to output/cp.ckpt\n"
     ]
    }
   ],
   "source": [
    "# Train your model here\n",
    "history = model.fit(x_train, y_train, epochs=20, batch_size=96, validation_data=(x_val,y_val),callbacks=cp_callback)"
   ]
  },
  {
   "cell_type": "code",
   "execution_count": 18,
   "metadata": {
    "colab": {
     "base_uri": "https://localhost:8080/",
     "height": 573
    },
    "id": "XELeM5_KaIef",
    "outputId": "a67c0fcc-a13f-4d5a-aed3-98cb12c82c72"
   },
   "outputs": [
    {
     "data": {
      "image/png": "[encoded data removed]",
      "text/plain": [
       "<Figure size 432x288 with 1 Axes>"
      ]
     },
     "metadata": {
      "needs_background": "light",
      "tags": []
     },
     "output_type": "display_data"
    },
    {
     "data": {
      "image/png": "[encoded data removed]",
      "text/plain": [
       "<Figure size 432x288 with 1 Axes>"
      ]
     },
     "metadata": {
      "needs_background": "light",
      "tags": []
     },
     "output_type": "display_data"
    }
   ],
   "source": [
    "plot_history(history)"
   ]
  },
  {
   "cell_type": "code",
   "execution_count": 19,
   "metadata": {
    "colab": {
     "base_uri": "https://localhost:8080/"
    },
    "id": "LOhFq9hvDzzP",
    "outputId": "103f2348-d141-44b8-fc0e-b2ab06540eef"
   },
   "outputs": [
    {
     "name": "stdout",
     "output_type": "stream",
     "text": [
      "383/383 [==============================] - 2s 5ms/step - loss: 0.0513 - acc: 0.9831\n",
      "782/782 [==============================] - 4s 5ms/step - loss: 0.9752 - acc: 0.7588\n",
      "Train: 0.983, Test: 0.759\n"
     ]
    }
   ],
   "source": [
    "checkpoint_path = \"output/cp.ckpt\"\n",
    "\n",
    "model.load_weights(checkpoint_path)\n",
    "\n",
    "_, train_acc = model.evaluate(x_train, y_train, verbose=1)\n",
    "_, test_acc = model.evaluate(x_test, y_test, verbose=1)\n",
    "print('Train: %.3f, Test: %.3f' % (train_acc, test_acc))"
   ]
  },
  {
   "cell_type": "markdown",
   "metadata": {
    "id": "WPSLRTciaIei"
   },
   "source": [
    "#### Evaluate the model"
   ]
  },
  {
   "cell_type": "code",
   "execution_count": 20,
   "metadata": {
    "colab": {
     "base_uri": "https://localhost:8080/"
    },
    "id": "ovW6sEhNaIej",
    "outputId": "0859d01f-3727-44e1-8e18-3bbd4aac56cc"
   },
   "outputs": [
    {
     "name": "stdout",
     "output_type": "stream",
     "text": [
      "782/782 [==============================] - 4s 5ms/step - loss: 0.9752 - acc: 0.7588\n",
      "Test accuracy: 0.759, Test loss: 0.975\n"
     ]
    }
   ],
   "source": [
    "test_loss, test_acc = model.evaluate(x_test, y_test, verbose=1)\n",
    "print('Test accuracy: %.3f, Test loss: %.3f' % (test_acc,test_loss))"
   ]
  },
  {
   "cell_type": "markdown",
   "metadata": {
    "id": "b9nY8rzCE3BV"
   },
   "source": [
    "# 3.4 Reuters newswire classification dataset"
   ]
  },
  {
   "cell_type": "markdown",
   "metadata": {
    "id": "hti_vR3uE3BW"
   },
   "source": [
    "The reuters newswire classification dataset is a dataset of 11,228 newswires from Reuters, labeled over 46 topics. More information about the dataset and how to use it can be found here:\n",
    "https://keras.io/api/datasets/reuters/\n",
    "\n",
    "Try to build a new model dealing with this new dataset.\n",
    "Try to use both the RNN and the LSTM approach, and select the best of them. What do you expect will be the best? Be carefull that this domain shift will imply some changes in your code as it is not a binary classification problem anymore!"
   ]
  },
  {
   "cell_type": "code",
   "execution_count": 21,
   "metadata": {
    "colab": {
     "base_uri": "https://localhost:8080/"
    },
    "id": "JOkh83WjE3BW",
    "outputId": "e9bdd07a-b508-4855-e7ca-8b0ca1e9eaeb"
   },
   "outputs": [
    {
     "name": "stdout",
     "output_type": "stream",
     "text": [
      "46\n"
     ]
    },
    {
     "name": "stderr",
     "output_type": "stream",
     "text": [
      "/usr/local/lib/python3.7/dist-packages/tensorflow/python/keras/datasets/reuters.py:148: VisibleDeprecationWarning: Creating an ndarray from ragged nested sequences (which is a list-or-tuple of lists-or-tuples-or ndarrays with different lengths or shapes) is deprecated. If you meant to do this, you must specify 'dtype=object' when creating the ndarray\n",
      "  x_train, y_train = np.array(xs[:idx]), np.array(labels[:idx])\n",
      "/usr/local/lib/python3.7/dist-packages/tensorflow/python/keras/datasets/reuters.py:149: VisibleDeprecationWarning: Creating an ndarray from ragged nested sequences (which is a list-or-tuple of lists-or-tuples-or ndarrays with different lengths or shapes) is deprecated. If you meant to do this, you must specify 'dtype=object' when creating the ndarray\n",
      "  x_test, y_test = np.array(xs[idx:]), np.array(labels[idx:])\n"
     ]
    }
   ],
   "source": [
    "imdb = tf.keras.datasets.imdb\n",
    "(x_train, y_train), (x_test, y_test) = tf.keras.datasets.reuters.load_data(num_words=max_features)\n",
    "\n",
    "num_classes = np.max(y_train) + 1\n",
    "print(num_classes)\n",
    "\n",
    "x_train = tf.keras.preprocessing.sequence.pad_sequences(x_train, maxlen=maxlen)\n",
    "x_test = tf.keras.preprocessing.sequence.pad_sequences(x_test, maxlen=maxlen)\n",
    "\n",
    "from keras.utils import to_categorical\n",
    "y_train = to_categorical(y_train)\n",
    "y_test = to_categorical(y_test)"
   ]
  },
  {
   "cell_type": "code",
   "execution_count": 22,
   "metadata": {
    "id": "EbN8UQpEFeUt"
   },
   "outputs": [],
   "source": [
    "x_train, x_val, y_train, y_val = train_test_split(x_train, y_train, test_size=0.3, random_state=42)"
   ]
  },
  {
   "cell_type": "markdown",
   "metadata": {
    "id": "sJQOjCdNE3BW"
   },
   "source": [
    "#### Create model"
   ]
  },
  {
   "cell_type": "code",
   "execution_count": 25,
   "metadata": {
    "colab": {
     "base_uri": "https://localhost:8080/"
    },
    "id": "415cLXTkE3BW",
    "outputId": "2fa3ddc7-9e91-4865-b6a4-0bdba7d62f8f"
   },
   "outputs": [
    {
     "name": "stdout",
     "output_type": "stream",
     "text": [
      "Model: \"sequential_5\"\n",
      "_________________________________________________________________\n",
      "Layer (type)                 Output Shape              Param #   \n",
      "=================================================================\n",
      "layer1 (Embedding)           (None, None, 100)         1000000   \n",
      "_________________________________________________________________\n",
      "layer2 (SimpleRNN)           (None, None, 32)          4256      \n",
      "_________________________________________________________________\n",
      "layer3 (SimpleRNN)           (None, 32)                2080      \n",
      "_________________________________________________________________\n",
      "layer4 (Dropout)             (None, 32)                0         \n",
      "_________________________________________________________________\n",
      "dense_1 (Dense)              (None, 46)                1518      \n",
      "=================================================================\n",
      "Total params: 1,007,854\n",
      "Trainable params: 1,007,854\n",
      "Non-trainable params: 0\n",
      "_________________________________________________________________\n"
     ]
    }
   ],
   "source": [
    "model = tf.keras.Sequential()\n",
    "model.add(tf.keras.layers.Embedding(max_features, 100, name = \"layer1\"))\n",
    "model.add(tf.keras.layers.SimpleRNN(32, return_sequences=True, name=\"layer2\"))\n",
    "model.add(tf.keras.layers.SimpleRNN(32, name=\"layer3\"))\n",
    "model.add(tf.keras.layers.Dropout(0.5, name= \"layer4\"))\n",
    "model.add(tf.keras.layers.Dense(num_classes, activation='softmax'))\n",
    "\n",
    "model.compile(optimizer='adam', loss='categorical_crossentropy', metrics=['acc'])  \n",
    "model.summary()"
   ]
  },
  {
   "cell_type": "markdown",
   "metadata": {
    "id": "9nTYHdjRE3BW"
   },
   "source": [
    "#### Train the model"
   ]
  },
  {
   "cell_type": "code",
   "execution_count": 26,
   "metadata": {
    "colab": {
     "base_uri": "https://localhost:8080/"
    },
    "id": "WQXlm9TqE3BW",
    "outputId": "20679baa-7f5b-490b-ba79-a09c1cc2c829"
   },
   "outputs": [
    {
     "name": "stdout",
     "output_type": "stream",
     "text": [
      "Epoch 1/30\n",
      "66/66 [==============================] - 5s 49ms/step - loss: 3.3234 - acc: 0.2107 - val_loss: 2.4554 - val_acc: 0.3525\n",
      "Epoch 2/30\n",
      "66/66 [==============================] - 3s 44ms/step - loss: 2.4684 - acc: 0.3654 - val_loss: 2.2011 - val_acc: 0.3859\n",
      "Epoch 3/30\n",
      "66/66 [==============================] - 3s 44ms/step - loss: 1.9263 - acc: 0.5044 - val_loss: 2.0745 - val_acc: 0.4126\n",
      "Epoch 4/30\n",
      "66/66 [==============================] - 3s 44ms/step - loss: 1.5201 - acc: 0.6399 - val_loss: 2.0850 - val_acc: 0.4160\n",
      "Epoch 5/30\n",
      "66/66 [==============================] - 3s 45ms/step - loss: 1.2319 - acc: 0.7188 - val_loss: 2.1520 - val_acc: 0.4200\n",
      "Epoch 6/30\n",
      "66/66 [==============================] - 3s 44ms/step - loss: 0.9870 - acc: 0.7761 - val_loss: 2.2491 - val_acc: 0.4174\n",
      "Epoch 7/30\n",
      "66/66 [==============================] - 3s 43ms/step - loss: 0.8182 - acc: 0.8185 - val_loss: 2.2908 - val_acc: 0.4204\n",
      "Epoch 8/30\n",
      "66/66 [==============================] - 3s 44ms/step - loss: 0.7627 - acc: 0.8360 - val_loss: 2.3685 - val_acc: 0.4263\n",
      "Epoch 9/30\n",
      "66/66 [==============================] - 3s 45ms/step - loss: 0.6363 - acc: 0.8645 - val_loss: 2.4324 - val_acc: 0.4182\n",
      "Epoch 10/30\n",
      "66/66 [==============================] - 3s 47ms/step - loss: 0.5675 - acc: 0.8745 - val_loss: 2.5089 - val_acc: 0.4119\n",
      "Epoch 11/30\n",
      "66/66 [==============================] - 3s 45ms/step - loss: 0.5263 - acc: 0.8845 - val_loss: 2.6246 - val_acc: 0.3989\n",
      "Epoch 12/30\n",
      "66/66 [==============================] - 3s 45ms/step - loss: 0.4750 - acc: 0.8950 - val_loss: 2.6535 - val_acc: 0.4037\n",
      "Epoch 13/30\n",
      "66/66 [==============================] - 3s 44ms/step - loss: 0.4222 - acc: 0.9056 - val_loss: 2.6672 - val_acc: 0.4104\n",
      "Epoch 14/30\n",
      "66/66 [==============================] - 3s 44ms/step - loss: 0.3910 - acc: 0.9178 - val_loss: 2.7379 - val_acc: 0.4007\n",
      "Epoch 15/30\n",
      "66/66 [==============================] - 3s 44ms/step - loss: 0.3765 - acc: 0.9200 - val_loss: 2.7904 - val_acc: 0.3970\n",
      "Epoch 16/30\n",
      "66/66 [==============================] - 3s 43ms/step - loss: 0.3408 - acc: 0.9271 - val_loss: 2.7706 - val_acc: 0.4119\n",
      "Epoch 17/30\n",
      "66/66 [==============================] - 3s 43ms/step - loss: 0.3075 - acc: 0.9423 - val_loss: 2.8105 - val_acc: 0.4174\n",
      "Epoch 18/30\n",
      "66/66 [==============================] - 3s 45ms/step - loss: 0.2871 - acc: 0.9340 - val_loss: 2.8830 - val_acc: 0.4037\n",
      "Epoch 19/30\n",
      "66/66 [==============================] - 3s 44ms/step - loss: 0.3018 - acc: 0.9312 - val_loss: 2.9321 - val_acc: 0.3993\n",
      "Epoch 20/30\n",
      "66/66 [==============================] - 3s 44ms/step - loss: 0.2718 - acc: 0.9451 - val_loss: 2.9483 - val_acc: 0.4037\n",
      "Epoch 21/30\n",
      "66/66 [==============================] - 3s 44ms/step - loss: 0.2692 - acc: 0.9460 - val_loss: 2.9531 - val_acc: 0.4063\n",
      "Epoch 22/30\n",
      "66/66 [==============================] - 3s 44ms/step - loss: 0.2405 - acc: 0.9537 - val_loss: 3.0252 - val_acc: 0.4033\n",
      "Epoch 23/30\n",
      "66/66 [==============================] - 3s 45ms/step - loss: 0.2487 - acc: 0.9434 - val_loss: 3.0271 - val_acc: 0.4148\n",
      "Epoch 24/30\n",
      "66/66 [==============================] - 3s 43ms/step - loss: 0.2351 - acc: 0.9498 - val_loss: 3.0847 - val_acc: 0.3959\n",
      "Epoch 25/30\n",
      "66/66 [==============================] - 3s 45ms/step - loss: 0.2171 - acc: 0.9497 - val_loss: 3.0707 - val_acc: 0.4104\n",
      "Epoch 26/30\n",
      "66/66 [==============================] - 3s 45ms/step - loss: 0.2059 - acc: 0.9519 - val_loss: 3.1089 - val_acc: 0.4048\n",
      "Epoch 27/30\n",
      "66/66 [==============================] - 3s 44ms/step - loss: 0.2100 - acc: 0.9562 - val_loss: 3.1527 - val_acc: 0.4019\n",
      "Epoch 28/30\n",
      "66/66 [==============================] - 3s 44ms/step - loss: 0.2161 - acc: 0.9530 - val_loss: 3.1387 - val_acc: 0.4045\n",
      "Epoch 29/30\n",
      "66/66 [==============================] - 3s 44ms/step - loss: 0.1966 - acc: 0.9570 - val_loss: 3.1357 - val_acc: 0.4104\n",
      "Epoch 30/30\n",
      "66/66 [==============================] - 3s 45ms/step - loss: 0.1849 - acc: 0.9612 - val_loss: 3.2062 - val_acc: 0.3967\n"
     ]
    }
   ],
   "source": [
    "historyr = model.fit(x_train, y_train,epochs=30,batch_size=96,validation_data=(x_val,y_val))"
   ]
  },
  {
   "cell_type": "code",
   "execution_count": 27,
   "metadata": {
    "colab": {
     "base_uri": "https://localhost:8080/",
     "height": 573
    },
    "id": "LKrAL4XpE3BW",
    "outputId": "ed764b27-7799-4cba-a7cd-29114d12675f"
   },
   "outputs": [
    {
     "data": {
      "image/png": "[encoded data removed]",
      "text/plain": [
       "<Figure size 432x288 with 1 Axes>"
      ]
     },
     "metadata": {
      "needs_background": "light",
      "tags": []
     },
     "output_type": "display_data"
    },
    {
     "data": {
      "image/png": "[encoded data removed]",
      "text/plain": [
       "<Figure size 432x288 with 1 Axes>"
      ]
     },
     "metadata": {
      "needs_background": "light",
      "tags": []
     },
     "output_type": "display_data"
    }
   ],
   "source": [
    "plot_history(historyr)"
   ]
  },
  {
   "cell_type": "markdown",
   "metadata": {
    "id": "P7iBB05xE3BX"
   },
   "source": [
    "#### Evaluate the model"
   ]
  },
  {
   "cell_type": "code",
   "execution_count": 28,
   "metadata": {
    "colab": {
     "base_uri": "https://localhost:8080/"
    },
    "id": "Z1guoI8XE3BX",
    "outputId": "285abb35-1c46-4691-e8ce-99d2c9e809e7"
   },
   "outputs": [
    {
     "name": "stdout",
     "output_type": "stream",
     "text": [
      "71/71 [==============================] - 0s 7ms/step - loss: 3.2321 - acc: 0.4096\n",
      "Test accuracy: 0.410, Test loss: 3.232\n"
     ]
    }
   ],
   "source": [
    "test_loss, test_acc = model.evaluate(x_test, y_test, verbose=1)\n",
    "print('Test accuracy: %.3f, Test loss: %.3f' % (test_acc,test_loss))"
   ]
  },
  {
   "cell_type": "code",
   "execution_count": 29,
   "metadata": {
    "colab": {
     "base_uri": "https://localhost:8080/"
    },
    "id": "L9X3OC_Oq95h",
    "outputId": "9ff31f8a-8a25-4c1c-d33a-5a804abea58f"
   },
   "outputs": [
    {
     "name": "stdout",
     "output_type": "stream",
     "text": [
      "197/197 [==============================] - 1s 6ms/step - loss: 0.0836 - acc: 0.9760\n",
      "71/71 [==============================] - 1s 7ms/step - loss: 3.2321 - acc: 0.4096\n",
      "Train: 0.976, Test: 0.410\n"
     ]
    }
   ],
   "source": [
    "_, train_acc = model.evaluate(x_train, y_train, verbose=1)\n",
    "_, test_acc = model.evaluate(x_test, y_test, verbose=1)\n",
    "print('Train: %.3f, Test: %.3f' % (train_acc, test_acc))"
   ]
  },
  {
   "cell_type": "code",
   "execution_count": 30,
   "metadata": {
    "id": "MWgRNYfkEkK3"
   },
   "outputs": [],
   "source": [
    "\n",
    "# early stopping https://keras.io/callbacks/\n",
    "es_callback = EarlyStopping(monitor='val_loss', mode='min', verbose=1, patience=5)\n",
    "\n",
    "# Create checkpoint callback that will save the best model observed during training for later use\n",
    "checkpoint_path = \"output/cp2.ckpt\"\n",
    "checkpoint_dir = os.path.dirname(checkpoint_path)\n",
    "cp_callback2 = ModelCheckpoint(checkpoint_path,monitor='val_loss',save_weights_only=True,verbose=1)"
   ]
  },
  {
   "cell_type": "code",
   "execution_count": 31,
   "metadata": {
    "colab": {
     "base_uri": "https://localhost:8080/"
    },
    "id": "3vzKfKcQrZ6E",
    "outputId": "827a707c-5415-4ff2-c1bc-e74be24ffcb1"
   },
   "outputs": [
    {
     "name": "stdout",
     "output_type": "stream",
     "text": [
      "Model: \"sequential_6\"\n",
      "_________________________________________________________________\n",
      "Layer (type)                 Output Shape              Param #   \n",
      "=================================================================\n",
      "layer1 (Embedding)           (None, None, 100)         1000000   \n",
      "_________________________________________________________________\n",
      "layer2 (LSTM)                (None, None, 64)          42240     \n",
      "_________________________________________________________________\n",
      "layer3 (LSTM)                (None, 32)                12416     \n",
      "_________________________________________________________________\n",
      "layer4 (Dropout)             (None, 32)                0         \n",
      "_________________________________________________________________\n",
      "dense_2 (Dense)              (None, 46)                1518      \n",
      "=================================================================\n",
      "Total params: 1,056,174\n",
      "Trainable params: 1,056,174\n",
      "Non-trainable params: 0\n",
      "_________________________________________________________________\n"
     ]
    }
   ],
   "source": [
    "# LSTM\n",
    "model = tf.keras.Sequential()\n",
    "model.add(tf.keras.layers.Embedding(max_features, 100, name= \"layer1\"))\n",
    "model.add(tf.keras.layers.LSTM(64, return_sequences=True, name= \"layer2\"))\n",
    "model.add(tf.keras.layers.LSTM(32, name= \"layer3\"))\n",
    "model.add(tf.keras.layers.Dropout(0.5, name=\"layer4\"))\n",
    "model.add(tf.keras.layers.Dense(num_classes, activation='softmax'))\n",
    "\n",
    "model.compile(optimizer='rmsprop', loss='categorical_crossentropy', metrics=['acc'])  \n",
    "model.summary()"
   ]
  },
  {
   "cell_type": "code",
   "execution_count": 33,
   "metadata": {
    "colab": {
     "base_uri": "https://localhost:8080/"
    },
    "id": "Y-6iRoMIryxM",
    "outputId": "c0bb928a-166e-46c5-8ddc-f50ee4e5d735"
   },
   "outputs": [
    {
     "name": "stdout",
     "output_type": "stream",
     "text": [
      "Epoch 1/30\n",
      "66/66 [==============================] - 7s 108ms/step - loss: 0.9679 - acc: 0.7530 - val_loss: 1.7766 - val_acc: 0.5955\n",
      "\n",
      "Epoch 00001: saving model to output/cp2.ckpt\n",
      "Epoch 2/30\n",
      "66/66 [==============================] - 7s 107ms/step - loss: 0.9118 - acc: 0.7719 - val_loss: 1.8110 - val_acc: 0.6030\n",
      "\n",
      "Epoch 00002: saving model to output/cp2.ckpt\n",
      "Epoch 3/30\n",
      "66/66 [==============================] - 7s 108ms/step - loss: 0.8668 - acc: 0.7846 - val_loss: 1.8171 - val_acc: 0.5900\n",
      "\n",
      "Epoch 00003: saving model to output/cp2.ckpt\n",
      "Epoch 4/30\n",
      "66/66 [==============================] - 7s 108ms/step - loss: 0.8282 - acc: 0.7970 - val_loss: 1.8011 - val_acc: 0.5981\n",
      "\n",
      "Epoch 00004: saving model to output/cp2.ckpt\n",
      "Epoch 5/30\n",
      "66/66 [==============================] - 7s 112ms/step - loss: 0.7897 - acc: 0.8091 - val_loss: 1.8866 - val_acc: 0.5937\n",
      "\n",
      "Epoch 00005: saving model to output/cp2.ckpt\n",
      "Epoch 6/30\n",
      "66/66 [==============================] - 7s 113ms/step - loss: 0.7550 - acc: 0.8199 - val_loss: 1.8762 - val_acc: 0.6082\n",
      "\n",
      "Epoch 00006: saving model to output/cp2.ckpt\n",
      "Epoch 7/30\n",
      "66/66 [==============================] - 8s 115ms/step - loss: 0.7350 - acc: 0.8266 - val_loss: 1.9000 - val_acc: 0.6115\n",
      "\n",
      "Epoch 00007: saving model to output/cp2.ckpt\n",
      "Epoch 8/30\n",
      "66/66 [==============================] - 7s 111ms/step - loss: 0.6975 - acc: 0.8354 - val_loss: 1.9521 - val_acc: 0.6063\n",
      "\n",
      "Epoch 00008: saving model to output/cp2.ckpt\n",
      "Epoch 9/30\n",
      "66/66 [==============================] - 7s 111ms/step - loss: 0.6842 - acc: 0.8411 - val_loss: 1.9575 - val_acc: 0.6078\n",
      "\n",
      "Epoch 00009: saving model to output/cp2.ckpt\n",
      "Epoch 10/30\n",
      "66/66 [==============================] - 7s 109ms/step - loss: 0.6540 - acc: 0.8462 - val_loss: 2.0054 - val_acc: 0.6089\n",
      "\n",
      "Epoch 00010: saving model to output/cp2.ckpt\n",
      "Epoch 11/30\n",
      "66/66 [==============================] - 7s 109ms/step - loss: 0.6324 - acc: 0.8508 - val_loss: 1.9625 - val_acc: 0.5967\n",
      "\n",
      "Epoch 00011: saving model to output/cp2.ckpt\n",
      "Epoch 12/30\n",
      "66/66 [==============================] - 7s 107ms/step - loss: 0.6226 - acc: 0.8557 - val_loss: 2.1189 - val_acc: 0.6015\n",
      "\n",
      "Epoch 00012: saving model to output/cp2.ckpt\n",
      "Epoch 13/30\n",
      "66/66 [==============================] - 7s 107ms/step - loss: 0.6034 - acc: 0.8589 - val_loss: 2.0069 - val_acc: 0.6108\n",
      "\n",
      "Epoch 00013: saving model to output/cp2.ckpt\n",
      "Epoch 14/30\n",
      "66/66 [==============================] - 7s 110ms/step - loss: 0.5861 - acc: 0.8615 - val_loss: 2.0018 - val_acc: 0.6007\n",
      "\n",
      "Epoch 00014: saving model to output/cp2.ckpt\n",
      "Epoch 15/30\n",
      "66/66 [==============================] - 7s 111ms/step - loss: 0.5676 - acc: 0.8670 - val_loss: 2.0350 - val_acc: 0.5941\n",
      "\n",
      "Epoch 00015: saving model to output/cp2.ckpt\n",
      "Epoch 16/30\n",
      "66/66 [==============================] - 7s 110ms/step - loss: 0.5589 - acc: 0.8669 - val_loss: 2.0330 - val_acc: 0.5993\n",
      "\n",
      "Epoch 00016: saving model to output/cp2.ckpt\n",
      "Epoch 17/30\n",
      "66/66 [==============================] - 7s 110ms/step - loss: 0.5491 - acc: 0.8667 - val_loss: 2.0255 - val_acc: 0.6096\n",
      "\n",
      "Epoch 00017: saving model to output/cp2.ckpt\n",
      "Epoch 18/30\n",
      "66/66 [==============================] - 7s 109ms/step - loss: 0.5188 - acc: 0.8782 - val_loss: 2.1039 - val_acc: 0.6067\n",
      "\n",
      "Epoch 00018: saving model to output/cp2.ckpt\n",
      "Epoch 19/30\n",
      "66/66 [==============================] - 7s 108ms/step - loss: 0.4985 - acc: 0.8790 - val_loss: 2.0514 - val_acc: 0.6115\n",
      "\n",
      "Epoch 00019: saving model to output/cp2.ckpt\n",
      "Epoch 20/30\n",
      "66/66 [==============================] - 7s 111ms/step - loss: 0.4848 - acc: 0.8879 - val_loss: 2.0086 - val_acc: 0.6163\n",
      "\n",
      "Epoch 00020: saving model to output/cp2.ckpt\n",
      "Epoch 21/30\n",
      "66/66 [==============================] - 7s 109ms/step - loss: 0.4759 - acc: 0.8842 - val_loss: 2.0523 - val_acc: 0.6189\n",
      "\n",
      "Epoch 00021: saving model to output/cp2.ckpt\n",
      "Epoch 22/30\n",
      "66/66 [==============================] - 8s 114ms/step - loss: 0.4625 - acc: 0.8888 - val_loss: 2.1492 - val_acc: 0.6004\n",
      "\n",
      "Epoch 00022: saving model to output/cp2.ckpt\n",
      "Epoch 23/30\n",
      "66/66 [==============================] - 7s 111ms/step - loss: 0.4546 - acc: 0.8930 - val_loss: 2.1294 - val_acc: 0.6122\n",
      "\n",
      "Epoch 00023: saving model to output/cp2.ckpt\n",
      "Epoch 24/30\n",
      "66/66 [==============================] - 7s 113ms/step - loss: 0.4311 - acc: 0.8918 - val_loss: 2.1599 - val_acc: 0.6067\n",
      "\n",
      "Epoch 00024: saving model to output/cp2.ckpt\n",
      "Epoch 25/30\n",
      "66/66 [==============================] - 7s 110ms/step - loss: 0.4267 - acc: 0.8969 - val_loss: 2.2128 - val_acc: 0.6078\n",
      "\n",
      "Epoch 00025: saving model to output/cp2.ckpt\n",
      "Epoch 26/30\n",
      "66/66 [==============================] - 7s 110ms/step - loss: 0.4220 - acc: 0.8949 - val_loss: 2.1805 - val_acc: 0.6071\n",
      "\n",
      "Epoch 00026: saving model to output/cp2.ckpt\n",
      "Epoch 27/30\n",
      "66/66 [==============================] - 7s 108ms/step - loss: 0.3934 - acc: 0.9030 - val_loss: 2.1647 - val_acc: 0.6160\n",
      "\n",
      "Epoch 00027: saving model to output/cp2.ckpt\n",
      "Epoch 28/30\n",
      "66/66 [==============================] - 7s 109ms/step - loss: 0.3875 - acc: 0.9052 - val_loss: 2.2226 - val_acc: 0.6067\n",
      "\n",
      "Epoch 00028: saving model to output/cp2.ckpt\n",
      "Epoch 29/30\n",
      "66/66 [==============================] - 7s 108ms/step - loss: 0.3831 - acc: 0.9074 - val_loss: 2.2298 - val_acc: 0.6085\n",
      "\n",
      "Epoch 00029: saving model to output/cp2.ckpt\n",
      "Epoch 30/30\n",
      "66/66 [==============================] - 7s 109ms/step - loss: 0.3907 - acc: 0.9039 - val_loss: 2.2500 - val_acc: 0.5970\n",
      "\n",
      "Epoch 00030: saving model to output/cp2.ckpt\n"
     ]
    }
   ],
   "source": [
    "historyl = model.fit(x_train, y_train,epochs=30,batch_size=96,validation_data=(x_val,y_val),callbacks=cp_callback2)\n",
    "# I used a callback to get the best model "
   ]
  },
  {
   "cell_type": "code",
   "execution_count": 34,
   "metadata": {
    "colab": {
     "base_uri": "https://localhost:8080/",
     "height": 573
    },
    "id": "SY6NSfgotcDb",
    "outputId": "7871136c-30b6-49f8-a10b-cf57e36a8bb9"
   },
   "outputs": [
    {
     "data": {
      "image/png": "[encoded data removed]",
      "text/plain": [
       "<Figure size 432x288 with 1 Axes>"
      ]
     },
     "metadata": {
      "needs_background": "light",
      "tags": []
     },
     "output_type": "display_data"
    },
    {
     "data": {
      "image/png": "[encoded data removed]",
      "text/plain": [
       "<Figure size 432x288 with 1 Axes>"
      ]
     },
     "metadata": {
      "needs_background": "light",
      "tags": []
     },
     "output_type": "display_data"
    }
   ],
   "source": [
    "plot_history(historyl)"
   ]
  },
  {
   "cell_type": "code",
   "execution_count": 35,
   "metadata": {
    "colab": {
     "base_uri": "https://localhost:8080/"
    },
    "id": "wuGgtbJUzEwh",
    "outputId": "3bd7d9d1-fada-420f-8cea-7ff189f4dba0"
   },
   "outputs": [
    {
     "name": "stdout",
     "output_type": "stream",
     "text": [
      "71/71 [==============================] - 1s 16ms/step - loss: 2.3069 - acc: 0.5975\n",
      "Test accuracy: 0.598, Test loss: 2.307\n"
     ]
    }
   ],
   "source": [
    "test_loss, test_acc = model.evaluate(x_test, y_test, verbose=1)\n",
    "print('Test accuracy: %.3f, Test loss: %.3f' % (test_acc,test_loss))"
   ]
  },
  {
   "cell_type": "code",
   "execution_count": 36,
   "metadata": {
    "colab": {
     "base_uri": "https://localhost:8080/"
    },
    "id": "TFQYHzLuzQnb",
    "outputId": "940d77c7-1547-4798-e8dc-7388081fcf50"
   },
   "outputs": [
    {
     "name": "stdout",
     "output_type": "stream",
     "text": [
      "197/197 [==============================] - 3s 15ms/step - loss: 0.2728 - acc: 0.9324\n",
      "71/71 [==============================] - 1s 15ms/step - loss: 2.3069 - acc: 0.5975\n",
      "Train: 0.932, Test: 0.598\n"
     ]
    }
   ],
   "source": [
    "_, train_acc = model.evaluate(x_train, y_train, verbose=1)\n",
    "_, test_acc = model.evaluate(x_test, y_test, verbose=1)\n",
    "print('Train: %.3f, Test: %.3f' % (train_acc, test_acc))"
   ]
  },
  {
   "cell_type": "code",
   "execution_count": 37,
   "metadata": {
    "colab": {
     "base_uri": "https://localhost:8080/"
    },
    "id": "MU7Ho0N26t5L",
    "outputId": "5eceb7a7-9bfc-4754-d488-cac0cf857e6b"
   },
   "outputs": [
    {
     "name": "stdout",
     "output_type": "stream",
     "text": [
      "197/197 [==============================] - 3s 16ms/step - loss: 0.2728 - acc: 0.9324\n",
      "71/71 [==============================] - 1s 16ms/step - loss: 2.3069 - acc: 0.5975\n",
      "Train: 0.932, Test: 0.598\n"
     ]
    }
   ],
   "source": [
    "checkpoint_path = \"output/cp2.ckpt\"\n",
    "\n",
    "model.load_weights(checkpoint_path)\n",
    "\n",
    "_, train_acc = model.evaluate(x_train, y_train, verbose=1)\n",
    "_, test_acc = model.evaluate(x_test, y_test, verbose=1)\n",
    "print('Train: %.3f, Test: %.3f' % (train_acc, test_acc))"
   ]
  },
  {
   "cell_type": "markdown",
   "metadata": {
    "id": "aFpkRx2mE3BX"
   },
   "source": [
    "**Are the results accordant to what you expected? Can you notice some differences between the RNN and the LSTM results? Why?**\n",
    "\n",
    "- As usual i expected a high training performance than the testing performance. Due the the fact that the model had already seen the data and memorised it for both cases that is RNN and LSTM. \n",
    "- But irrespective of the model the testing performance is pretty low. Though LSTM performed better than RNN. RNN is just having only a percentage accuracy of 41% compared to 60% of LSTM. With LSTM there are more control mechanisms that are introduced in terms of inputs as per trained weights. LSTM controls the outputs. The more control over the results the better the results. That is why LSTM is better than RNN."
   ]
  },
  {
   "cell_type": "markdown",
   "metadata": {
    "id": "8k6aDYkI7Sae"
   },
   "source": []
  }
 ],
 "metadata": {
  "colab": {
   "collapsed_sections": [],
   "name": "Lab5_RNN.ipynb",
   "provenance": []
  },
  "kernelspec": {
   "display_name": "Python 3",
   "language": "python",
   "name": "python3"
  },
  "language_info": {
   "codemirror_mode": {
    "name": "ipython",
    "version": 3
   },
   "file_extension": ".py",
   "mimetype": "text/x-python",
   "name": "python",
   "nbconvert_exporter": "python",
   "pygments_lexer": "ipython3",
   "version": "3.8.5"
  }
 },
 "nbformat": 4,
 "nbformat_minor": 1
}
